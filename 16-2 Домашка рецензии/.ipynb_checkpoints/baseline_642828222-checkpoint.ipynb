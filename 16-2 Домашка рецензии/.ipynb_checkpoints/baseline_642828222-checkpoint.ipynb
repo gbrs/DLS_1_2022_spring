{
 "cells": [
  {
   "cell_type": "markdown",
   "metadata": {
    "id": "TK7oX5qdEEYr"
   },
   "source": [
    "<p style=\"align: center;\"><img align=center src=\"https://s8.hostingkartinok.com/uploads/images/2018/08/308b49fcfbc619d629fe4604bceb67ac.jpg\" width=500 height=450/></p>\n",
    "\n",
    "<h3 style=\"text-align: center;\"><b>Школа глубокого обучения ФПМИ МФТИ</b></h3>\n",
    "\n",
    "<h3 style=\"text-align: center;\"><b>Домашнее задание. Продвинутый поток. Весна 2021</b></h3>\n",
    "\n",
    "Это домашнее задание будет посвящено полноценному решению задачи машинного обучения."
   ]
  },
  {
   "cell_type": "markdown",
   "metadata": {
    "id": "zlB-owfaEEYs"
   },
   "source": [
    "Есть две части этого домашнего задания: \n",
    "* Сделать полноценный отчет о вашей работе: как вы обработали данные, какие модели попробовали и какие результаты получились (максимум 10 баллов). За каждую выполненную часть будет начислено определенное количество баллов.\n",
    "* Лучшее решение отправить в соревнование на [kaggle](https://www.kaggle.com/c/advanced-dls-spring-2021/) (максимум 5 баллов). За прохождение определенного порогов будут начисляться баллы.\n",
    "\n",
    "\n",
    "**Обе части будут проверяться в формате peer-review. Т.е. вашу посылку на степик будут проверять несколько других студентов и аггрегация их оценок будет выставлена. В то же время вам тоже нужно будет проверить несколько других учеников.**\n",
    "\n",
    "**Пожалуйста, делайте свою работу чистой и понятной, чтобы облегчить проверку. Если у вас будут проблемы с решением или хочется совета, то пишите в наш чат в телеграме или в лс @runfme. Если вы захотите проаппелировать оценку, то пипшите в лс @runfme.**\n",
    "\n",
    "**Во всех пунктах указания это минимальный набор вещей, которые стоит сделать. Если вы можете сделать какой-то шаг лучше или добавить что-то свое - дерзайте!**"
   ]
  },
  {
   "cell_type": "markdown",
   "metadata": {
    "id": "Tu_JvqcBEN8Y"
   },
   "source": [
    "# Как проверять?\n",
    "\n",
    "Ставьте полный балл, если выполнены все рекомендации или сделано что-то более интересное и сложное. За каждый отсустствующий пункт из рекомендация снижайте 1 балл."
   ]
  },
  {
   "cell_type": "markdown",
   "metadata": {
    "id": "ninJ63mJEEYt"
   },
   "source": [
    "# Метрика\n",
    "\n",
    "Перед решением любой задачи важно понимать, как будет оцениваться ваше решение. В данном случае мы используем стандартную для задачи классификации метрику ROC-AUC. Ее можно вычислить используя только предсказанные вероятности и истинные классы без конкретного порога классификации + она раотает даже если классы в данных сильно несбалансированны (примеров одного класса в десятки раз больше примеров длугого). Именно поэтому она очень удобна для соревнований.\n",
    "\n",
    "Посчитать ее легко:\n"
   ]
  },
  {
   "cell_type": "markdown",
   "metadata": {
    "id": "IrDNNkNTEEYz"
   },
   "source": [
    "# Первая часть. Исследование"
   ]
  },
  {
   "cell_type": "code",
   "execution_count": 1,
   "metadata": {
    "id": "lzLqEeZKEEYz"
   },
   "outputs": [],
   "source": [
    "import pandas as pd\n",
    "import numpy as np\n",
    "from matplotlib import pyplot as plt\n",
    "\n",
    "from sklearn.metrics import roc_auc_score\n",
    "from sklearn.linear_model import LogisticRegression, LogisticRegressionCV\n",
    "from sklearn.model_selection import train_test_split, GridSearchCV\n",
    "from sklearn.preprocessing import StandardScaler, RobustScaler, LabelEncoder, OneHotEncoder\n",
    "from sklearn.pipeline import make_pipeline\n",
    "from sklearn.compose import ColumnTransformer"
   ]
  },
  {
   "cell_type": "markdown",
   "metadata": {
    "id": "LOlxdURSEEY3"
   },
   "source": [
    "## Загрузка данных (2 балла)\n",
    "\n",
    "1) Посмотрите на случайные строчки. \n",
    "\n",
    "2) Посмотрите, есть ли в датасете незаполненные значения (nan'ы) с помощью data.isna() или data.info() и, если нужно, замените их на что-то. Будет хорошо, если вы построите табличку с количеством nan в каждой колонке."
   ]
  },
  {
   "cell_type": "code",
   "execution_count": 2,
   "metadata": {
    "id": "pw-Brue9EEY3"
   },
   "outputs": [],
   "source": [
    "data = pd.read_csv('./train.csv')"
   ]
  },
  {
   "cell_type": "code",
   "execution_count": 3,
   "metadata": {
    "id": "sLoe4b_owOqK"
   },
   "outputs": [],
   "source": [
    "num_features = [\n",
    "    'ClientPeriod',\n",
    "    'MonthlySpending',\n",
    "    'TotalSpent'\n",
    "]\n",
    "\n",
    "cat_features = [\n",
    "    'Sex',\n",
    "    'IsSeniorCitizen',\n",
    "    'HasPartner',\n",
    "    'HasChild',\n",
    "    'HasPhoneService',\n",
    "    'HasMultiplePhoneNumbers',\n",
    "    'HasInternetService',\n",
    "    'HasOnlineSecurityService',\n",
    "    'HasOnlineBackup',\n",
    "    'HasDeviceProtection',\n",
    "    'HasTechSupportAccess',\n",
    "    'HasOnlineTV',\n",
    "    'HasMovieSubscription',\n",
    "    'HasContractPhone',\n",
    "    'IsBillingPaperless',\n",
    "    'PaymentMethod'\n",
    "]\n",
    "\n",
    "feature_cols = num_features + cat_features\n",
    "target_col = 'Churn'"
   ]
  },
  {
   "cell_type": "code",
   "execution_count": 4,
   "metadata": {
    "colab": {
     "base_uri": "https://localhost:8080/"
    },
    "id": "4dBsJjc3aCVv",
    "outputId": "15d84bc9-c589-4781-ca4e-975cf2d731e2"
   },
   "outputs": [
    {
     "name": "stdout",
     "output_type": "stream",
     "text": [
      "ClientPeriod                0\n",
      "MonthlySpending             0\n",
      "TotalSpent                  9\n",
      "Sex                         0\n",
      "IsSeniorCitizen             0\n",
      "HasPartner                  0\n",
      "HasChild                    0\n",
      "HasPhoneService             0\n",
      "HasMultiplePhoneNumbers     0\n",
      "HasInternetService          0\n",
      "HasOnlineSecurityService    0\n",
      "HasOnlineBackup             0\n",
      "HasDeviceProtection         0\n",
      "HasTechSupportAccess        0\n",
      "HasOnlineTV                 0\n",
      "HasMovieSubscription        0\n",
      "HasContractPhone            0\n",
      "IsBillingPaperless          0\n",
      "PaymentMethod               0\n",
      "dtype: int64\n"
     ]
    }
   ],
   "source": [
    "print((data[feature_cols] == ' ').sum())"
   ]
  },
  {
   "cell_type": "code",
   "execution_count": 124,
   "metadata": {
    "id": "tHC6gWabEEZA"
   },
   "outputs": [],
   "source": [
    "def preprocessing(data):\n",
    "    data['TotalSpent'] = pd.to_numeric(data['TotalSpent'], errors='coerce') # Тип столбца TotalSpent = str,так как там есть пустые строки, поэтому кастую его к числовому\n",
    "    data = data.fillna(data['TotalSpent'].mean()) # Замена nan-значений средним значением в столбце TotalSpent\n",
    "    print(data.shape == data.dropna().shape) # Проверка отстуствия nan-значений\n",
    "\n",
    "    return data\n"
   ]
  },
  {
   "cell_type": "code",
   "execution_count": 125,
   "metadata": {
    "colab": {
     "base_uri": "https://localhost:8080/"
    },
    "id": "cc2TiYp-bDot",
    "outputId": "2de5564a-21bd-43e1-83e0-e9c906990a3f"
   },
   "outputs": [
    {
     "name": "stdout",
     "output_type": "stream",
     "text": [
      "True\n",
      "ClientPeriod                          11\n",
      "MonthlySpending                     54.6\n",
      "TotalSpent                        617.85\n",
      "Sex                               Female\n",
      "IsSeniorCitizen                        0\n",
      "HasPartner                            No\n",
      "HasChild                              No\n",
      "HasPhoneService                      Yes\n",
      "HasMultiplePhoneNumbers               No\n",
      "HasInternetService                   DSL\n",
      "HasOnlineSecurityService             Yes\n",
      "HasOnlineBackup                       No\n",
      "HasDeviceProtection                   No\n",
      "HasTechSupportAccess                 Yes\n",
      "HasOnlineTV                           No\n",
      "HasMovieSubscription                  No\n",
      "HasContractPhone                One year\n",
      "IsBillingPaperless                   Yes\n",
      "PaymentMethod               Mailed check\n",
      "Churn                                  0\n",
      "Name: 1238, dtype: object\n",
      "False    5282\n",
      "Name: ClientPeriod, dtype: int64\n",
      "False    5282\n",
      "Name: MonthlySpending, dtype: int64\n",
      "False    5282\n",
      "Name: TotalSpent, dtype: int64\n",
      "False    5282\n",
      "Name: Sex, dtype: int64\n",
      "False    5282\n",
      "Name: IsSeniorCitizen, dtype: int64\n",
      "False    5282\n",
      "Name: HasPartner, dtype: int64\n",
      "False    5282\n",
      "Name: HasChild, dtype: int64\n",
      "False    5282\n",
      "Name: HasPhoneService, dtype: int64\n",
      "False    5282\n",
      "Name: HasMultiplePhoneNumbers, dtype: int64\n",
      "False    5282\n",
      "Name: HasInternetService, dtype: int64\n",
      "False    5282\n",
      "Name: HasOnlineSecurityService, dtype: int64\n",
      "False    5282\n",
      "Name: HasOnlineBackup, dtype: int64\n",
      "False    5282\n",
      "Name: HasDeviceProtection, dtype: int64\n",
      "False    5282\n",
      "Name: HasTechSupportAccess, dtype: int64\n",
      "False    5282\n",
      "Name: HasOnlineTV, dtype: int64\n",
      "False    5282\n",
      "Name: HasMovieSubscription, dtype: int64\n",
      "False    5282\n",
      "Name: HasContractPhone, dtype: int64\n",
      "False    5282\n",
      "Name: IsBillingPaperless, dtype: int64\n",
      "False    5282\n",
      "Name: PaymentMethod, dtype: int64\n",
      "False    5282\n",
      "Name: Churn, dtype: int64\n"
     ]
    }
   ],
   "source": [
    "data = preprocessing(data)\n",
    "\n",
    "random_str = np.random.randint(0,data.shape[0]) # Вывод рандомной строки\n",
    "print(data.iloc[random_str,:])\n",
    "\n",
    "# Вывод количества всех НЕ nan значений в столбце\n",
    "for col in feature_cols:\n",
    "  print(data[col].isna().value_counts())\n",
    "print(data[target_col].isna().value_counts())"
   ]
  },
  {
   "cell_type": "markdown",
   "metadata": {
    "id": "dK370bPCEEZD"
   },
   "source": [
    "## Анализ данных (3 балла)\n",
    "\n",
    "1) Для численных призанков постройте гистограмму (*plt.hist(...)*) или boxplot (*plt.boxplot(...)*). Для категориальных посчитайте количество каждого значения для каждого признака. Для каждой колонки надо сделать *data.value_counts()* и построить bar диаграммы *plt.bar(...)* или круговые диаграммы *plt.pie(...)* (хорошо, елси вы сможете это сделать на одном гарфике с помощью *plt.subplots(...)*). \n",
    "\n",
    "2) Посмотрите на распределение целевой переменной и скажите, являются ли классы несбалансированными.\n",
    "\n",
    "3) (Если будет желание) Поиграйте с разными библиотеками для визуализации - *sns*, *pandas_visual_analysis*, etc.\n",
    "\n",
    "Второй пункт очень важен, потому что существуют задачи классификации с несбалансированными классами. Например, это может значить, что в датасете намного больше примеров 0 класса. В таких случаях нужно 1) не использовать accuracy как метрику 2) использовать методы борьбы с imbalanced dataset (обычно если датасет сильно несбалансирован, т.е. класса 1 в 20 раз меньше класса 0)."
   ]
  },
  {
   "cell_type": "code",
   "execution_count": 126,
   "metadata": {
    "colab": {
     "base_uri": "https://localhost:8080/",
     "height": 1000
    },
    "id": "NZkbgFJZEEZE",
    "outputId": "bf8c6717-2c9e-4dc6-93d7-8463b4349042"
   },
   "outputs": [
    {
     "name": "stdout",
     "output_type": "stream",
     "text": [
      "0    3898\n",
      "1    1384\n",
      "Name: Churn, dtype: int64\n"
     ]
    },
    {
     "data": {
      "image/png": "[encoded data removed]",
      "text/plain": [
       "<Figure size 432x288 with 4 Axes>"
      ]
     },
     "metadata": {
      "needs_background": "light"
     },
     "output_type": "display_data"
    },
    {
     "data": {
      "image/png": "[encoded data removed]",
      "text/plain": [
       "<Figure size 2160x2160 with 16 Axes>"
      ]
     },
     "metadata": {},
     "output_type": "display_data"
    },
    {
     "name": "stdout",
     "output_type": "stream",
     "text": [
      "0    0.737978\n",
      "1    0.262022\n",
      "Name: Churn, dtype: float64\n"
     ]
    },
    {
     "data": {
      "image/png": "[encoded data removed]",
      "text/plain": [
       "<Figure size 432x288 with 1 Axes>"
      ]
     },
     "metadata": {
      "needs_background": "light"
     },
     "output_type": "display_data"
    }
   ],
   "source": [
    "data.hist(column=num_features)\n",
    "\n",
    "fig, ax = plt.subplots(4,4, figsize=(30,30))\n",
    "\n",
    "for i in range(4):\n",
    "  for j in range(4):\n",
    "        ax[i,j].pie(data[cat_features[4*i + j]].value_counts(), labels = data[cat_features[4*i + j]].unique())\n",
    "\n",
    "print(data[target_col].value_counts())\n",
    "plt.show()\n",
    "\n",
    "data.hist(column=target_col)\n",
    "print(data[target_col].value_counts()/len(data)) # Классы несбалансированны"
   ]
  },
  {
   "cell_type": "markdown",
   "metadata": {
    "id": "zg60u3QDEEZH"
   },
   "source": [
    "(Дополнительно) Если вы нашли какие-то ошибки в данных или выбросы, то можете их убрать. Тут можно поэксперементировать с обработкой данных как угодно, но не за баллы."
   ]
  },
  {
   "cell_type": "markdown",
   "metadata": {
    "id": "DviiJd8REEZK"
   },
   "source": [
    "## Применение линейных моделей (3 балла)\n",
    "\n",
    "1) Обработайте данные для того, чтобы к ним можно было применить LogisticRegression. Т.е. отнормируйте числовые признаки, а категориальные закодируйте с помощью one-hot-encoding'а. \n",
    "\n",
    "2) С помощью кроссвалидации или разделения на train/valid выборку протестируйте разные значения гиперпараметра C и выберите лучший (можно тестировать С=100, 10, 1, 0.1, 0.01, 0.001) по метрике ROC-AUC. \n",
    "\n",
    "Если вы разделяете на train/valid, то используйте LogisticRegressionCV. Он сам при вызове .fit() подберет параметр С. (не забудьте передать scroing='roc_auc', чтобы при кроссвалидации сравнивались значения этой метрики, и refit=True, чтобы при потом модель обучилась на всем датасете с лучшим параметром C). \n",
    "\n",
    "\n",
    "(более сложный вариант) Если вы будете использовать кроссвалидацию, то преобразования данных и LogisticRegression нужно соединить в один Pipeline с помощью make_pipeline, как это делалось во втором семинаре. Потом pipeline надо передать в GridSearchCV. Для one-hot-encoding'a можно испльзовать комбинацию LabelEncoder + OneHotEncoder (сначала превращаем строчки в числа, а потом числа првращаем в one-hot вектора.)"
   ]
  },
  {
   "cell_type": "code",
   "execution_count": 129,
   "metadata": {
    "id": "XOMubWyjCMt-"
   },
   "outputs": [],
   "source": [
    "X = data[feature_cols]\n",
    "y = data[target_col]"
   ]
  },
  {
   "cell_type": "code",
   "execution_count": 130,
   "metadata": {
    "colab": {
     "base_uri": "https://localhost:8080/"
    },
    "id": "P2Yv3uYtEEZO",
    "outputId": "aadc80a1-1960-4f15-db16-b8b6a31b14d8"
   },
   "outputs": [
    {
     "name": "stdout",
     "output_type": "stream",
     "text": [
      "Fitting 5 folds for each of 90 candidates, totalling 450 fits\n"
     ]
    },
    {
     "name": "stderr",
     "output_type": "stream",
     "text": [
      "/usr/local/lib/python3.7/dist-packages/sklearn/linear_model/_sag.py:354: ConvergenceWarning: The max_iter was reached which means the coef_ did not converge\n",
      "  ConvergenceWarning,\n"
     ]
    },
    {
     "data": {
      "text/plain": [
       "GridSearchCV(cv=5,\n",
       "             estimator=Pipeline(steps=[('columntransformer',\n",
       "                                        ColumnTransformer(transformers=[('num_feature',\n",
       "                                                                         StandardScaler(),\n",
       "                                                                         ['ClientPeriod',\n",
       "                                                                          'MonthlySpending',\n",
       "                                                                          'TotalSpent']),\n",
       "                                                                        ('oh_cat_feature',\n",
       "                                                                         OneHotEncoder(),\n",
       "                                                                         ['Sex',\n",
       "                                                                          'IsSeniorCitizen',\n",
       "                                                                          'HasPartner',\n",
       "                                                                          'HasChild',\n",
       "                                                                          'HasPhoneService',\n",
       "                                                                          'HasMultiplePhoneNumbers',\n",
       "                                                                          'HasInternetService',\n",
       "                                                                          'HasOnlineSecurityServic...\n",
       "                                                                          'HasMovieSubscription',\n",
       "                                                                          'HasContractPhone',\n",
       "                                                                          'IsBillingPaperless',\n",
       "                                                                          'PaymentMethod'])])),\n",
       "                                       ('logisticregression',\n",
       "                                        LogisticRegression())]),\n",
       "             n_jobs=-1,\n",
       "             param_grid={'logisticregression__C': [100, 10, 1, 0.1, 0.01,\n",
       "                                                   0.001],\n",
       "                         'logisticregression__max_iter': [100, 300, 500],\n",
       "                         'logisticregression__solver': ['newton-cg', 'lbfgs',\n",
       "                                                        'liblinear', 'sag',\n",
       "                                                        'saga']},\n",
       "             scoring='roc_auc', verbose=10)"
      ]
     },
     "execution_count": 130,
     "metadata": {},
     "output_type": "execute_result"
    }
   ],
   "source": [
    "col_transformer = ColumnTransformer(transformers=[('num_feature', StandardScaler(), num_features),\n",
    "                                    ('oh_cat_feature', OneHotEncoder(), cat_features)])\n",
    "pipeline = make_pipeline(col_transformer, \n",
    "                    LogisticRegression())\n",
    "params = {\n",
    "    'logisticregression__max_iter': [100, 300, 500],\n",
    "    'logisticregression__C': [100, 10, 1, 0.1, 0.01, 0.001], \n",
    "    'logisticregression__solver': ['newton-cg', 'lbfgs', 'liblinear', 'sag', 'saga']\n",
    "}\n",
    "\n",
    "lin_model = GridSearchCV(estimator = pipeline,\n",
    "                        param_grid = params,\n",
    "                        cv=5,\n",
    "                        scoring='roc_auc',\n",
    "                        n_jobs=-1,\n",
    "                        verbose=10)\n",
    "\n",
    "lin_model.fit(X, y)"
   ]
  },
  {
   "cell_type": "code",
   "execution_count": 131,
   "metadata": {
    "colab": {
     "base_uri": "https://localhost:8080/"
    },
    "id": "xSLp5Z4u-mDL",
    "outputId": "b62bfcf6-01da-441a-e70f-8952695440b2"
   },
   "outputs": [
    {
     "name": "stdout",
     "output_type": "stream",
     "text": [
      "0.8488745339984637\n",
      "{'logisticregression__C': 100, 'logisticregression__max_iter': 100, 'logisticregression__solver': 'saga'}\n"
     ]
    }
   ],
   "source": [
    "y_predict = lin_model.predict_proba(X)[:, 1]\n",
    "\n",
    "res = roc_auc_score(y, y_predict)\n",
    "print(res)\n",
    "print(lin_model.best_params_)"
   ]
  },
  {
   "cell_type": "markdown",
   "metadata": {
    "id": "uVahy6JKEEZQ"
   },
   "source": [
    "Выпишите какое лучшее качество и с какими параметрами вам удалось получить"
   ]
  },
  {
   "cell_type": "markdown",
   "metadata": {
    "id": "36729TOQEEZR"
   },
   "source": []
  },
  {
   "cell_type": "markdown",
   "metadata": {
    "id": "BlTeVy7fEEZR"
   },
   "source": [
    "## Применение градиентного бустинга (2 балла)\n",
    "\n",
    "Если вы хотите получить баллы за точный ответ, то стоит попробовать градиентный бустинг. Часто градиентный бустинг с дефолтными параметрами даст вам 80% результата за 0% усилий.\n",
    "\n",
    "Мы будем использовать catboost, поэтому нам не надо кодировать категориальные признаки. catboost сделает это сам (в .fit() надо передать cat_features=cat_cols). А численные признаки нормировать для моделей, основанных на деревьях не нужно.\n",
    "\n",
    "1) Разделите выборку на train/valid. Протестируйте catboost cо стандартными параметрами.\n",
    "\n",
    "2) Протестируйте разные занчения параметроа количества деревьев и learning_rate'а и выберите лучшую по метрике ROC-AUC комбинацию. \n",
    "\n",
    "(Дополнительно) Есть некоторые сложности с тем, чтобы использовать CatBoostClassifier вместе с GridSearchCV, поэтому мы не просим использовать кроссвалидацию. Но можете попробовать)"
   ]
  },
  {
   "cell_type": "code",
   "execution_count": 36,
   "metadata": {
    "colab": {
     "base_uri": "https://localhost:8080/"
    },
    "id": "sKMetFnuYU5l",
    "outputId": "584db581-6fca-4120-9de7-8712cd09a971"
   },
   "outputs": [
    {
     "name": "stdout",
     "output_type": "stream",
     "text": [
      "Collecting catboost\n",
      "  Downloading catboost-1.0.5-cp37-none-manylinux1_x86_64.whl (76.6 MB)\n",
      "\u001b[K     |████████████████████████████████| 76.6 MB 1.4 MB/s \n",
      "\u001b[?25hRequirement already satisfied: pandas>=0.24.0 in /usr/local/lib/python3.7/dist-packages (from catboost) (1.3.5)\n",
      "Requirement already satisfied: six in /usr/local/lib/python3.7/dist-packages (from catboost) (1.15.0)\n",
      "Requirement already satisfied: numpy>=1.16.0 in /usr/local/lib/python3.7/dist-packages (from catboost) (1.21.5)\n",
      "Requirement already satisfied: plotly in /usr/local/lib/python3.7/dist-packages (from catboost) (5.5.0)\n",
      "Requirement already satisfied: matplotlib in /usr/local/lib/python3.7/dist-packages (from catboost) (3.2.2)\n",
      "Requirement already satisfied: graphviz in /usr/local/lib/python3.7/dist-packages (from catboost) (0.10.1)\n",
      "Requirement already satisfied: scipy in /usr/local/lib/python3.7/dist-packages (from catboost) (1.4.1)\n",
      "Requirement already satisfied: python-dateutil>=2.7.3 in /usr/local/lib/python3.7/dist-packages (from pandas>=0.24.0->catboost) (2.8.2)\n",
      "Requirement already satisfied: pytz>=2017.3 in /usr/local/lib/python3.7/dist-packages (from pandas>=0.24.0->catboost) (2018.9)\n",
      "Requirement already satisfied: cycler>=0.10 in /usr/local/lib/python3.7/dist-packages (from matplotlib->catboost) (0.11.0)\n",
      "Requirement already satisfied: kiwisolver>=1.0.1 in /usr/local/lib/python3.7/dist-packages (from matplotlib->catboost) (1.4.0)\n",
      "Requirement already satisfied: pyparsing!=2.0.4,!=2.1.2,!=2.1.6,>=2.0.1 in /usr/local/lib/python3.7/dist-packages (from matplotlib->catboost) (3.0.7)\n",
      "Requirement already satisfied: typing-extensions in /usr/local/lib/python3.7/dist-packages (from kiwisolver>=1.0.1->matplotlib->catboost) (3.10.0.2)\n",
      "Requirement already satisfied: tenacity>=6.2.0 in /usr/local/lib/python3.7/dist-packages (from plotly->catboost) (8.0.1)\n",
      "Installing collected packages: catboost\n",
      "Successfully installed catboost-1.0.5\n"
     ]
    }
   ],
   "source": [
    "!pip install catboost"
   ]
  },
  {
   "cell_type": "code",
   "execution_count": 37,
   "metadata": {
    "id": "Fioxxlp-EEZS"
   },
   "outputs": [],
   "source": [
    "import catboost\n",
    "from catboost.core import CatBoostClassifier"
   ]
  },
  {
   "cell_type": "code",
   "execution_count": 103,
   "metadata": {
    "colab": {
     "base_uri": "https://localhost:8080/"
    },
    "id": "8C9B-HgzYcVq",
    "outputId": "543e6a9f-a729-485c-c4b4-83136b25fc87"
   },
   "outputs": [
    {
     "name": "stdout",
     "output_type": "stream",
     "text": [
      "0:\tlearn: 0.6799193\ttotal: 66ms\tremaining: 23s\n",
      "1:\tlearn: 0.6663183\ttotal: 83.3ms\tremaining: 14.5s\n",
      "2:\tlearn: 0.6544109\ttotal: 102ms\tremaining: 11.8s\n",
      "3:\tlearn: 0.6424447\ttotal: 117ms\tremaining: 10.1s\n",
      "4:\tlearn: 0.6323037\ttotal: 138ms\tremaining: 9.55s\n",
      "5:\tlearn: 0.6216764\ttotal: 156ms\tremaining: 8.92s\n",
      "6:\tlearn: 0.6118555\ttotal: 170ms\tremaining: 8.33s\n",
      "7:\tlearn: 0.6029086\ttotal: 184ms\tremaining: 7.87s\n",
      "8:\tlearn: 0.5941286\ttotal: 206ms\tremaining: 7.82s\n",
      "9:\tlearn: 0.5857644\ttotal: 222ms\tremaining: 7.56s\n",
      "10:\tlearn: 0.5777639\ttotal: 237ms\tremaining: 7.31s\n",
      "11:\tlearn: 0.5700338\ttotal: 254ms\tremaining: 7.14s\n",
      "12:\tlearn: 0.5638706\ttotal: 272ms\tremaining: 7.06s\n",
      "13:\tlearn: 0.5569149\ttotal: 290ms\tremaining: 6.95s\n",
      "14:\tlearn: 0.5516327\ttotal: 299ms\tremaining: 6.68s\n",
      "15:\tlearn: 0.5456740\ttotal: 314ms\tremaining: 6.54s\n",
      "16:\tlearn: 0.5402341\ttotal: 329ms\tremaining: 6.43s\n",
      "17:\tlearn: 0.5348539\ttotal: 344ms\tremaining: 6.35s\n",
      "18:\tlearn: 0.5290933\ttotal: 361ms\tremaining: 6.28s\n",
      "19:\tlearn: 0.5235327\ttotal: 375ms\tremaining: 6.19s\n",
      "20:\tlearn: 0.5186946\ttotal: 393ms\tremaining: 6.15s\n",
      "21:\tlearn: 0.5141160\ttotal: 408ms\tremaining: 6.09s\n",
      "22:\tlearn: 0.5095909\ttotal: 423ms\tremaining: 6.01s\n",
      "23:\tlearn: 0.5054307\ttotal: 440ms\tremaining: 5.97s\n",
      "24:\tlearn: 0.5016873\ttotal: 453ms\tremaining: 5.89s\n",
      "25:\tlearn: 0.4981104\ttotal: 468ms\tremaining: 5.83s\n",
      "26:\tlearn: 0.4945133\ttotal: 494ms\tremaining: 5.9s\n",
      "27:\tlearn: 0.4906918\ttotal: 509ms\tremaining: 5.85s\n",
      "28:\tlearn: 0.4871601\ttotal: 529ms\tremaining: 5.86s\n",
      "29:\tlearn: 0.4843260\ttotal: 538ms\tremaining: 5.74s\n",
      "30:\tlearn: 0.4813444\ttotal: 550ms\tremaining: 5.66s\n",
      "31:\tlearn: 0.4785610\ttotal: 567ms\tremaining: 5.63s\n",
      "32:\tlearn: 0.4761592\ttotal: 575ms\tremaining: 5.52s\n",
      "33:\tlearn: 0.4730802\ttotal: 591ms\tremaining: 5.49s\n",
      "34:\tlearn: 0.4708768\ttotal: 599ms\tremaining: 5.39s\n",
      "35:\tlearn: 0.4682698\ttotal: 615ms\tremaining: 5.37s\n",
      "36:\tlearn: 0.4660133\ttotal: 632ms\tremaining: 5.34s\n",
      "37:\tlearn: 0.4638041\ttotal: 648ms\tremaining: 5.32s\n",
      "38:\tlearn: 0.4617434\ttotal: 663ms\tremaining: 5.29s\n",
      "39:\tlearn: 0.4596530\ttotal: 680ms\tremaining: 5.27s\n",
      "40:\tlearn: 0.4577314\ttotal: 689ms\tremaining: 5.2s\n",
      "41:\tlearn: 0.4559247\ttotal: 711ms\tremaining: 5.21s\n",
      "42:\tlearn: 0.4540860\ttotal: 726ms\tremaining: 5.18s\n",
      "43:\tlearn: 0.4521617\ttotal: 741ms\tremaining: 5.15s\n",
      "44:\tlearn: 0.4505112\ttotal: 757ms\tremaining: 5.13s\n",
      "45:\tlearn: 0.4492778\ttotal: 771ms\tremaining: 5.1s\n",
      "46:\tlearn: 0.4475312\ttotal: 790ms\tremaining: 5.09s\n",
      "47:\tlearn: 0.4458869\ttotal: 806ms\tremaining: 5.07s\n",
      "48:\tlearn: 0.4447803\ttotal: 814ms\tremaining: 5s\n",
      "49:\tlearn: 0.4436542\ttotal: 823ms\tremaining: 4.94s\n",
      "50:\tlearn: 0.4427724\ttotal: 829ms\tremaining: 4.86s\n",
      "51:\tlearn: 0.4416168\ttotal: 845ms\tremaining: 4.84s\n",
      "52:\tlearn: 0.4403910\ttotal: 861ms\tremaining: 4.82s\n",
      "53:\tlearn: 0.4389629\ttotal: 886ms\tremaining: 4.86s\n",
      "54:\tlearn: 0.4375963\ttotal: 901ms\tremaining: 4.83s\n",
      "55:\tlearn: 0.4362227\ttotal: 920ms\tremaining: 4.83s\n",
      "56:\tlearn: 0.4350279\ttotal: 934ms\tremaining: 4.8s\n",
      "57:\tlearn: 0.4339565\ttotal: 951ms\tremaining: 4.79s\n",
      "58:\tlearn: 0.4328826\ttotal: 965ms\tremaining: 4.76s\n",
      "59:\tlearn: 0.4322857\ttotal: 972ms\tremaining: 4.7s\n",
      "60:\tlearn: 0.4315190\ttotal: 986ms\tremaining: 4.67s\n",
      "61:\tlearn: 0.4305214\ttotal: 1000ms\tremaining: 4.64s\n",
      "62:\tlearn: 0.4296134\ttotal: 1.01s\tremaining: 4.62s\n",
      "63:\tlearn: 0.4288315\ttotal: 1.03s\tremaining: 4.6s\n",
      "64:\tlearn: 0.4279466\ttotal: 1.04s\tremaining: 4.58s\n",
      "65:\tlearn: 0.4275110\ttotal: 1.05s\tremaining: 4.52s\n",
      "66:\tlearn: 0.4265160\ttotal: 1.06s\tremaining: 4.49s\n",
      "67:\tlearn: 0.4256010\ttotal: 1.08s\tremaining: 4.47s\n",
      "68:\tlearn: 0.4251971\ttotal: 1.08s\tremaining: 4.42s\n",
      "69:\tlearn: 0.4244587\ttotal: 1.1s\tremaining: 4.4s\n",
      "70:\tlearn: 0.4235412\ttotal: 1.12s\tremaining: 4.41s\n",
      "71:\tlearn: 0.4226291\ttotal: 1.14s\tremaining: 4.39s\n",
      "72:\tlearn: 0.4218670\ttotal: 1.15s\tremaining: 4.37s\n",
      "73:\tlearn: 0.4214093\ttotal: 1.16s\tremaining: 4.33s\n",
      "74:\tlearn: 0.4206497\ttotal: 1.18s\tremaining: 4.32s\n",
      "75:\tlearn: 0.4199383\ttotal: 1.19s\tremaining: 4.3s\n",
      "76:\tlearn: 0.4192936\ttotal: 1.21s\tremaining: 4.27s\n",
      "77:\tlearn: 0.4185896\ttotal: 1.22s\tremaining: 4.26s\n",
      "78:\tlearn: 0.4180396\ttotal: 1.24s\tremaining: 4.24s\n",
      "79:\tlearn: 0.4175265\ttotal: 1.25s\tremaining: 4.22s\n",
      "80:\tlearn: 0.4171218\ttotal: 1.26s\tremaining: 4.2s\n",
      "81:\tlearn: 0.4166031\ttotal: 1.28s\tremaining: 4.18s\n",
      "82:\tlearn: 0.4164142\ttotal: 1.28s\tremaining: 4.13s\n",
      "83:\tlearn: 0.4156385\ttotal: 1.3s\tremaining: 4.12s\n",
      "84:\tlearn: 0.4152337\ttotal: 1.32s\tremaining: 4.1s\n",
      "85:\tlearn: 0.4146213\ttotal: 1.34s\tremaining: 4.1s\n",
      "86:\tlearn: 0.4142940\ttotal: 1.35s\tremaining: 4.08s\n",
      "87:\tlearn: 0.4138983\ttotal: 1.36s\tremaining: 4.06s\n",
      "88:\tlearn: 0.4133391\ttotal: 1.38s\tremaining: 4.04s\n",
      "89:\tlearn: 0.4129529\ttotal: 1.39s\tremaining: 4.02s\n",
      "90:\tlearn: 0.4127930\ttotal: 1.4s\tremaining: 3.98s\n",
      "91:\tlearn: 0.4122647\ttotal: 1.42s\tremaining: 3.97s\n",
      "92:\tlearn: 0.4121428\ttotal: 1.42s\tremaining: 3.93s\n",
      "93:\tlearn: 0.4115875\ttotal: 1.44s\tremaining: 3.91s\n",
      "94:\tlearn: 0.4112078\ttotal: 1.45s\tremaining: 3.89s\n",
      "95:\tlearn: 0.4107114\ttotal: 1.47s\tremaining: 3.88s\n",
      "96:\tlearn: 0.4102421\ttotal: 1.48s\tremaining: 3.86s\n",
      "97:\tlearn: 0.4097965\ttotal: 1.5s\tremaining: 3.85s\n",
      "98:\tlearn: 0.4093979\ttotal: 1.51s\tremaining: 3.83s\n",
      "99:\tlearn: 0.4090792\ttotal: 1.52s\tremaining: 3.81s\n",
      "100:\tlearn: 0.4090079\ttotal: 1.53s\tremaining: 3.78s\n",
      "101:\tlearn: 0.4085718\ttotal: 1.55s\tremaining: 3.78s\n",
      "102:\tlearn: 0.4084848\ttotal: 1.56s\tremaining: 3.74s\n",
      "103:\tlearn: 0.4082611\ttotal: 1.57s\tremaining: 3.71s\n",
      "104:\tlearn: 0.4077655\ttotal: 1.58s\tremaining: 3.69s\n",
      "105:\tlearn: 0.4075956\ttotal: 1.59s\tremaining: 3.67s\n",
      "106:\tlearn: 0.4073678\ttotal: 1.61s\tremaining: 3.65s\n",
      "107:\tlearn: 0.4071366\ttotal: 1.62s\tremaining: 3.63s\n",
      "108:\tlearn: 0.4068557\ttotal: 1.64s\tremaining: 3.62s\n",
      "109:\tlearn: 0.4066441\ttotal: 1.65s\tremaining: 3.6s\n",
      "110:\tlearn: 0.4064105\ttotal: 1.67s\tremaining: 3.59s\n",
      "111:\tlearn: 0.4060978\ttotal: 1.68s\tremaining: 3.57s\n",
      "112:\tlearn: 0.4057567\ttotal: 1.7s\tremaining: 3.56s\n",
      "113:\tlearn: 0.4052897\ttotal: 1.71s\tremaining: 3.54s\n",
      "114:\tlearn: 0.4049806\ttotal: 1.73s\tremaining: 3.53s\n",
      "115:\tlearn: 0.4048645\ttotal: 1.73s\tremaining: 3.5s\n",
      "116:\tlearn: 0.4047616\ttotal: 1.75s\tremaining: 3.48s\n",
      "117:\tlearn: 0.4043401\ttotal: 1.77s\tremaining: 3.47s\n",
      "118:\tlearn: 0.4040340\ttotal: 1.78s\tremaining: 3.46s\n",
      "119:\tlearn: 0.4039757\ttotal: 1.79s\tremaining: 3.43s\n",
      "120:\tlearn: 0.4036909\ttotal: 1.8s\tremaining: 3.41s\n",
      "121:\tlearn: 0.4035692\ttotal: 1.81s\tremaining: 3.38s\n",
      "122:\tlearn: 0.4035349\ttotal: 1.81s\tremaining: 3.35s\n",
      "123:\tlearn: 0.4032066\ttotal: 1.83s\tremaining: 3.33s\n",
      "124:\tlearn: 0.4028535\ttotal: 1.84s\tremaining: 3.32s\n",
      "125:\tlearn: 0.4027396\ttotal: 1.87s\tremaining: 3.33s\n",
      "126:\tlearn: 0.4025724\ttotal: 1.88s\tremaining: 3.3s\n",
      "127:\tlearn: 0.4024519\ttotal: 1.89s\tremaining: 3.28s\n",
      "128:\tlearn: 0.4022718\ttotal: 1.91s\tremaining: 3.27s\n",
      "129:\tlearn: 0.4020671\ttotal: 1.92s\tremaining: 3.25s\n",
      "130:\tlearn: 0.4018633\ttotal: 1.93s\tremaining: 3.23s\n",
      "131:\tlearn: 0.4016746\ttotal: 1.95s\tremaining: 3.21s\n",
      "132:\tlearn: 0.4014918\ttotal: 1.96s\tremaining: 3.19s\n",
      "133:\tlearn: 0.4012275\ttotal: 1.98s\tremaining: 3.19s\n",
      "134:\tlearn: 0.4009873\ttotal: 1.99s\tremaining: 3.17s\n",
      "135:\tlearn: 0.4009279\ttotal: 2.01s\tremaining: 3.16s\n",
      "136:\tlearn: 0.4008428\ttotal: 2.02s\tremaining: 3.14s\n",
      "137:\tlearn: 0.4005954\ttotal: 2.04s\tremaining: 3.13s\n",
      "138:\tlearn: 0.4003405\ttotal: 2.05s\tremaining: 3.11s\n",
      "139:\tlearn: 0.4001040\ttotal: 2.07s\tremaining: 3.1s\n",
      "140:\tlearn: 0.4000046\ttotal: 2.08s\tremaining: 3.08s\n",
      "141:\tlearn: 0.3996379\ttotal: 2.09s\tremaining: 3.06s\n",
      "142:\tlearn: 0.3993668\ttotal: 2.11s\tremaining: 3.06s\n",
      "143:\tlearn: 0.3991659\ttotal: 2.13s\tremaining: 3.04s\n",
      "144:\tlearn: 0.3990712\ttotal: 2.13s\tremaining: 3.02s\n",
      "145:\tlearn: 0.3990510\ttotal: 2.14s\tremaining: 2.99s\n",
      "146:\tlearn: 0.3990416\ttotal: 2.14s\tremaining: 2.96s\n",
      "147:\tlearn: 0.3986926\ttotal: 2.16s\tremaining: 2.94s\n",
      "148:\tlearn: 0.3984718\ttotal: 2.17s\tremaining: 2.93s\n",
      "149:\tlearn: 0.3982291\ttotal: 2.19s\tremaining: 2.92s\n",
      "150:\tlearn: 0.3979217\ttotal: 2.21s\tremaining: 2.91s\n",
      "151:\tlearn: 0.3977927\ttotal: 2.23s\tremaining: 2.91s\n",
      "152:\tlearn: 0.3977706\ttotal: 2.24s\tremaining: 2.89s\n",
      "153:\tlearn: 0.3976818\ttotal: 2.25s\tremaining: 2.87s\n",
      "154:\tlearn: 0.3974795\ttotal: 2.27s\tremaining: 2.86s\n",
      "155:\tlearn: 0.3973105\ttotal: 2.29s\tremaining: 2.84s\n",
      "156:\tlearn: 0.3970143\ttotal: 2.3s\tremaining: 2.83s\n",
      "157:\tlearn: 0.3969555\ttotal: 2.31s\tremaining: 2.81s\n",
      "158:\tlearn: 0.3967619\ttotal: 2.33s\tremaining: 2.79s\n",
      "159:\tlearn: 0.3966034\ttotal: 2.34s\tremaining: 2.78s\n",
      "160:\tlearn: 0.3964107\ttotal: 2.36s\tremaining: 2.77s\n",
      "161:\tlearn: 0.3962822\ttotal: 2.37s\tremaining: 2.75s\n",
      "162:\tlearn: 0.3961235\ttotal: 2.39s\tremaining: 2.74s\n",
      "163:\tlearn: 0.3959906\ttotal: 2.41s\tremaining: 2.73s\n",
      "164:\tlearn: 0.3958455\ttotal: 2.42s\tremaining: 2.71s\n",
      "165:\tlearn: 0.3955471\ttotal: 2.44s\tremaining: 2.71s\n",
      "166:\tlearn: 0.3953916\ttotal: 2.46s\tremaining: 2.69s\n",
      "167:\tlearn: 0.3951227\ttotal: 2.47s\tremaining: 2.68s\n",
      "168:\tlearn: 0.3949572\ttotal: 2.48s\tremaining: 2.66s\n",
      "169:\tlearn: 0.3948053\ttotal: 2.5s\tremaining: 2.65s\n",
      "170:\tlearn: 0.3947009\ttotal: 2.52s\tremaining: 2.63s\n",
      "171:\tlearn: 0.3946816\ttotal: 2.52s\tremaining: 2.61s\n",
      "172:\tlearn: 0.3944499\ttotal: 2.54s\tremaining: 2.6s\n",
      "173:\tlearn: 0.3942281\ttotal: 2.55s\tremaining: 2.58s\n",
      "174:\tlearn: 0.3942066\ttotal: 2.56s\tremaining: 2.56s\n",
      "175:\tlearn: 0.3941905\ttotal: 2.56s\tremaining: 2.53s\n",
      "176:\tlearn: 0.3941603\ttotal: 2.57s\tremaining: 2.51s\n",
      "177:\tlearn: 0.3939608\ttotal: 2.58s\tremaining: 2.5s\n",
      "178:\tlearn: 0.3938989\ttotal: 2.6s\tremaining: 2.48s\n",
      "179:\tlearn: 0.3937386\ttotal: 2.62s\tremaining: 2.47s\n",
      "180:\tlearn: 0.3935208\ttotal: 2.63s\tremaining: 2.46s\n",
      "181:\tlearn: 0.3934028\ttotal: 2.65s\tremaining: 2.44s\n",
      "182:\tlearn: 0.3932972\ttotal: 2.66s\tremaining: 2.43s\n",
      "183:\tlearn: 0.3932332\ttotal: 2.67s\tremaining: 2.41s\n",
      "184:\tlearn: 0.3930849\ttotal: 2.69s\tremaining: 2.4s\n",
      "185:\tlearn: 0.3929967\ttotal: 2.7s\tremaining: 2.38s\n",
      "186:\tlearn: 0.3928003\ttotal: 2.72s\tremaining: 2.37s\n",
      "187:\tlearn: 0.3926987\ttotal: 2.73s\tremaining: 2.36s\n",
      "188:\tlearn: 0.3926936\ttotal: 2.74s\tremaining: 2.33s\n",
      "189:\tlearn: 0.3925185\ttotal: 2.76s\tremaining: 2.32s\n",
      "190:\tlearn: 0.3924934\ttotal: 2.76s\tremaining: 2.3s\n",
      "191:\tlearn: 0.3923810\ttotal: 2.78s\tremaining: 2.29s\n",
      "192:\tlearn: 0.3921670\ttotal: 2.8s\tremaining: 2.27s\n",
      "193:\tlearn: 0.3919525\ttotal: 2.81s\tremaining: 2.26s\n",
      "194:\tlearn: 0.3918799\ttotal: 2.83s\tremaining: 2.25s\n",
      "195:\tlearn: 0.3917721\ttotal: 2.85s\tremaining: 2.23s\n",
      "196:\tlearn: 0.3915921\ttotal: 2.87s\tremaining: 2.23s\n",
      "197:\tlearn: 0.3915266\ttotal: 2.88s\tremaining: 2.21s\n",
      "198:\tlearn: 0.3914069\ttotal: 2.9s\tremaining: 2.2s\n",
      "199:\tlearn: 0.3913818\ttotal: 2.91s\tremaining: 2.18s\n",
      "200:\tlearn: 0.3912403\ttotal: 2.92s\tremaining: 2.17s\n",
      "201:\tlearn: 0.3910997\ttotal: 2.94s\tremaining: 2.15s\n",
      "202:\tlearn: 0.3908671\ttotal: 2.95s\tremaining: 2.14s\n",
      "203:\tlearn: 0.3907075\ttotal: 2.97s\tremaining: 2.12s\n",
      "204:\tlearn: 0.3906932\ttotal: 2.97s\tremaining: 2.1s\n",
      "205:\tlearn: 0.3906526\ttotal: 2.98s\tremaining: 2.08s\n",
      "206:\tlearn: 0.3905524\ttotal: 3s\tremaining: 2.07s\n",
      "207:\tlearn: 0.3904780\ttotal: 3.01s\tremaining: 2.06s\n",
      "208:\tlearn: 0.3904092\ttotal: 3.03s\tremaining: 2.04s\n",
      "209:\tlearn: 0.3904013\ttotal: 3.04s\tremaining: 2.03s\n",
      "210:\tlearn: 0.3902289\ttotal: 3.06s\tremaining: 2.01s\n",
      "211:\tlearn: 0.3901382\ttotal: 3.07s\tremaining: 2s\n",
      "212:\tlearn: 0.3901078\ttotal: 3.08s\tremaining: 1.98s\n",
      "213:\tlearn: 0.3899925\ttotal: 3.09s\tremaining: 1.97s\n",
      "214:\tlearn: 0.3899427\ttotal: 3.1s\tremaining: 1.95s\n",
      "215:\tlearn: 0.3898323\ttotal: 3.12s\tremaining: 1.94s\n",
      "216:\tlearn: 0.3898188\ttotal: 3.13s\tremaining: 1.92s\n",
      "217:\tlearn: 0.3897923\ttotal: 3.14s\tremaining: 1.9s\n",
      "218:\tlearn: 0.3897069\ttotal: 3.15s\tremaining: 1.89s\n",
      "219:\tlearn: 0.3896202\ttotal: 3.17s\tremaining: 1.87s\n",
      "220:\tlearn: 0.3895144\ttotal: 3.18s\tremaining: 1.86s\n",
      "221:\tlearn: 0.3895132\ttotal: 3.19s\tremaining: 1.84s\n",
      "222:\tlearn: 0.3895115\ttotal: 3.19s\tremaining: 1.82s\n",
      "223:\tlearn: 0.3893030\ttotal: 3.21s\tremaining: 1.8s\n",
      "224:\tlearn: 0.3892650\ttotal: 3.22s\tremaining: 1.79s\n",
      "225:\tlearn: 0.3891737\ttotal: 3.23s\tremaining: 1.77s\n",
      "226:\tlearn: 0.3891479\ttotal: 3.25s\tremaining: 1.76s\n",
      "227:\tlearn: 0.3891194\ttotal: 3.25s\tremaining: 1.74s\n",
      "228:\tlearn: 0.3890147\ttotal: 3.27s\tremaining: 1.73s\n",
      "229:\tlearn: 0.3889925\ttotal: 3.28s\tremaining: 1.71s\n",
      "230:\tlearn: 0.3888941\ttotal: 3.3s\tremaining: 1.7s\n",
      "231:\tlearn: 0.3888941\ttotal: 3.3s\tremaining: 1.68s\n",
      "232:\tlearn: 0.3888772\ttotal: 3.31s\tremaining: 1.66s\n",
      "233:\tlearn: 0.3888772\ttotal: 3.31s\tremaining: 1.64s\n",
      "234:\tlearn: 0.3888679\ttotal: 3.32s\tremaining: 1.62s\n",
      "235:\tlearn: 0.3887821\ttotal: 3.33s\tremaining: 1.61s\n",
      "236:\tlearn: 0.3886568\ttotal: 3.35s\tremaining: 1.59s\n",
      "237:\tlearn: 0.3886568\ttotal: 3.35s\tremaining: 1.58s\n",
      "238:\tlearn: 0.3886005\ttotal: 3.37s\tremaining: 1.56s\n",
      "239:\tlearn: 0.3885700\ttotal: 3.38s\tremaining: 1.55s\n",
      "240:\tlearn: 0.3885171\ttotal: 3.39s\tremaining: 1.53s\n",
      "241:\tlearn: 0.3884364\ttotal: 3.41s\tremaining: 1.52s\n",
      "242:\tlearn: 0.3884298\ttotal: 3.42s\tremaining: 1.5s\n",
      "243:\tlearn: 0.3883193\ttotal: 3.44s\tremaining: 1.49s\n",
      "244:\tlearn: 0.3882261\ttotal: 3.45s\tremaining: 1.48s\n",
      "245:\tlearn: 0.3881707\ttotal: 3.47s\tremaining: 1.47s\n",
      "246:\tlearn: 0.3880487\ttotal: 3.48s\tremaining: 1.45s\n",
      "247:\tlearn: 0.3879957\ttotal: 3.49s\tremaining: 1.44s\n",
      "248:\tlearn: 0.3879780\ttotal: 3.5s\tremaining: 1.42s\n",
      "249:\tlearn: 0.3879321\ttotal: 3.5s\tremaining: 1.4s\n",
      "250:\tlearn: 0.3878581\ttotal: 3.53s\tremaining: 1.39s\n",
      "251:\tlearn: 0.3878418\ttotal: 3.53s\tremaining: 1.37s\n",
      "252:\tlearn: 0.3877390\ttotal: 3.55s\tremaining: 1.36s\n",
      "253:\tlearn: 0.3877310\ttotal: 3.55s\tremaining: 1.34s\n",
      "254:\tlearn: 0.3877030\ttotal: 3.56s\tremaining: 1.33s\n",
      "255:\tlearn: 0.3876608\ttotal: 3.58s\tremaining: 1.31s\n",
      "256:\tlearn: 0.3874461\ttotal: 3.6s\tremaining: 1.3s\n",
      "257:\tlearn: 0.3873373\ttotal: 3.61s\tremaining: 1.29s\n",
      "258:\tlearn: 0.3873035\ttotal: 3.63s\tremaining: 1.27s\n",
      "259:\tlearn: 0.3872483\ttotal: 3.64s\tremaining: 1.26s\n",
      "260:\tlearn: 0.3870819\ttotal: 3.66s\tremaining: 1.25s\n",
      "261:\tlearn: 0.3870601\ttotal: 3.68s\tremaining: 1.24s\n",
      "262:\tlearn: 0.3870286\ttotal: 3.69s\tremaining: 1.22s\n",
      "263:\tlearn: 0.3869960\ttotal: 3.71s\tremaining: 1.21s\n",
      "264:\tlearn: 0.3869654\ttotal: 3.72s\tremaining: 1.19s\n",
      "265:\tlearn: 0.3868632\ttotal: 3.74s\tremaining: 1.18s\n",
      "266:\tlearn: 0.3867968\ttotal: 3.75s\tremaining: 1.17s\n",
      "267:\tlearn: 0.3867828\ttotal: 3.76s\tremaining: 1.15s\n",
      "268:\tlearn: 0.3866788\ttotal: 3.78s\tremaining: 1.14s\n",
      "269:\tlearn: 0.3866437\ttotal: 3.79s\tremaining: 1.12s\n",
      "270:\tlearn: 0.3865426\ttotal: 3.8s\tremaining: 1.11s\n",
      "271:\tlearn: 0.3862659\ttotal: 3.81s\tremaining: 1.09s\n",
      "272:\tlearn: 0.3862211\ttotal: 3.83s\tremaining: 1.08s\n",
      "273:\tlearn: 0.3860915\ttotal: 3.84s\tremaining: 1.07s\n",
      "274:\tlearn: 0.3859559\ttotal: 3.88s\tremaining: 1.06s\n",
      "275:\tlearn: 0.3859204\ttotal: 3.89s\tremaining: 1.04s\n",
      "276:\tlearn: 0.3857924\ttotal: 3.9s\tremaining: 1.03s\n",
      "277:\tlearn: 0.3857478\ttotal: 3.91s\tremaining: 1.01s\n",
      "278:\tlearn: 0.3856244\ttotal: 3.93s\tremaining: 999ms\n",
      "279:\tlearn: 0.3856093\ttotal: 3.93s\tremaining: 983ms\n",
      "280:\tlearn: 0.3854656\ttotal: 3.95s\tremaining: 970ms\n",
      "281:\tlearn: 0.3853981\ttotal: 3.96s\tremaining: 956ms\n",
      "282:\tlearn: 0.3852956\ttotal: 3.98s\tremaining: 942ms\n",
      "283:\tlearn: 0.3852109\ttotal: 3.99s\tremaining: 926ms\n",
      "284:\tlearn: 0.3851820\ttotal: 4s\tremaining: 914ms\n",
      "285:\tlearn: 0.3851751\ttotal: 4.01s\tremaining: 898ms\n",
      "286:\tlearn: 0.3851393\ttotal: 4.02s\tremaining: 883ms\n",
      "287:\tlearn: 0.3851005\ttotal: 4.04s\tremaining: 870ms\n",
      "288:\tlearn: 0.3849929\ttotal: 4.05s\tremaining: 855ms\n",
      "289:\tlearn: 0.3847981\ttotal: 4.07s\tremaining: 842ms\n",
      "290:\tlearn: 0.3847968\ttotal: 4.08s\tremaining: 828ms\n",
      "291:\tlearn: 0.3847967\ttotal: 4.09s\tremaining: 812ms\n",
      "292:\tlearn: 0.3847405\ttotal: 4.1s\tremaining: 798ms\n",
      "293:\tlearn: 0.3846334\ttotal: 4.12s\tremaining: 784ms\n",
      "294:\tlearn: 0.3845173\ttotal: 4.13s\tremaining: 771ms\n",
      "295:\tlearn: 0.3843403\ttotal: 4.15s\tremaining: 757ms\n",
      "296:\tlearn: 0.3842625\ttotal: 4.16s\tremaining: 743ms\n",
      "297:\tlearn: 0.3842540\ttotal: 4.17s\tremaining: 728ms\n",
      "298:\tlearn: 0.3841558\ttotal: 4.18s\tremaining: 714ms\n",
      "299:\tlearn: 0.3840676\ttotal: 4.2s\tremaining: 700ms\n",
      "300:\tlearn: 0.3840052\ttotal: 4.22s\tremaining: 686ms\n",
      "301:\tlearn: 0.3838181\ttotal: 4.23s\tremaining: 673ms\n",
      "302:\tlearn: 0.3836652\ttotal: 4.25s\tremaining: 659ms\n",
      "303:\tlearn: 0.3836374\ttotal: 4.26s\tremaining: 645ms\n",
      "304:\tlearn: 0.3835438\ttotal: 4.29s\tremaining: 632ms\n",
      "305:\tlearn: 0.3835412\ttotal: 4.29s\tremaining: 617ms\n",
      "306:\tlearn: 0.3834787\ttotal: 4.31s\tremaining: 604ms\n",
      "307:\tlearn: 0.3834264\ttotal: 4.32s\tremaining: 590ms\n",
      "308:\tlearn: 0.3833448\ttotal: 4.34s\tremaining: 576ms\n",
      "309:\tlearn: 0.3832870\ttotal: 4.36s\tremaining: 562ms\n",
      "310:\tlearn: 0.3832779\ttotal: 4.37s\tremaining: 548ms\n",
      "311:\tlearn: 0.3832215\ttotal: 4.38s\tremaining: 534ms\n",
      "312:\tlearn: 0.3831842\ttotal: 4.4s\tremaining: 520ms\n",
      "313:\tlearn: 0.3831281\ttotal: 4.41s\tremaining: 506ms\n",
      "314:\tlearn: 0.3830641\ttotal: 4.43s\tremaining: 492ms\n",
      "315:\tlearn: 0.3829900\ttotal: 4.44s\tremaining: 478ms\n",
      "316:\tlearn: 0.3829500\ttotal: 4.46s\tremaining: 464ms\n",
      "317:\tlearn: 0.3829499\ttotal: 4.46s\tremaining: 449ms\n",
      "318:\tlearn: 0.3829360\ttotal: 4.47s\tremaining: 434ms\n",
      "319:\tlearn: 0.3828974\ttotal: 4.49s\tremaining: 421ms\n",
      "320:\tlearn: 0.3828249\ttotal: 4.5s\tremaining: 407ms\n",
      "321:\tlearn: 0.3827738\ttotal: 4.52s\tremaining: 393ms\n",
      "322:\tlearn: 0.3826307\ttotal: 4.53s\tremaining: 379ms\n",
      "323:\tlearn: 0.3826022\ttotal: 4.55s\tremaining: 365ms\n",
      "324:\tlearn: 0.3825502\ttotal: 4.56s\tremaining: 351ms\n",
      "325:\tlearn: 0.3824926\ttotal: 4.58s\tremaining: 337ms\n",
      "326:\tlearn: 0.3823947\ttotal: 4.59s\tremaining: 323ms\n",
      "327:\tlearn: 0.3823008\ttotal: 4.62s\tremaining: 310ms\n",
      "328:\tlearn: 0.3821940\ttotal: 4.63s\tremaining: 296ms\n",
      "329:\tlearn: 0.3821518\ttotal: 4.64s\tremaining: 281ms\n",
      "330:\tlearn: 0.3821487\ttotal: 4.65s\tremaining: 267ms\n",
      "331:\tlearn: 0.3821478\ttotal: 4.66s\tremaining: 252ms\n",
      "332:\tlearn: 0.3820807\ttotal: 4.67s\tremaining: 238ms\n",
      "333:\tlearn: 0.3820144\ttotal: 4.68s\tremaining: 224ms\n",
      "334:\tlearn: 0.3818890\ttotal: 4.7s\tremaining: 211ms\n",
      "335:\tlearn: 0.3818805\ttotal: 4.71s\tremaining: 196ms\n",
      "336:\tlearn: 0.3818070\ttotal: 4.72s\tremaining: 182ms\n",
      "337:\tlearn: 0.3817433\ttotal: 4.74s\tremaining: 168ms\n",
      "338:\tlearn: 0.3816833\ttotal: 4.75s\tremaining: 154ms\n",
      "339:\tlearn: 0.3816386\ttotal: 4.77s\tremaining: 140ms\n",
      "340:\tlearn: 0.3815223\ttotal: 4.79s\tremaining: 126ms\n",
      "341:\tlearn: 0.3814375\ttotal: 4.8s\tremaining: 112ms\n",
      "342:\tlearn: 0.3813455\ttotal: 4.82s\tremaining: 98.4ms\n",
      "343:\tlearn: 0.3813157\ttotal: 4.84s\tremaining: 84.3ms\n",
      "344:\tlearn: 0.3812893\ttotal: 4.86s\tremaining: 70.5ms\n",
      "345:\tlearn: 0.3812287\ttotal: 4.88s\tremaining: 56.4ms\n",
      "346:\tlearn: 0.3812274\ttotal: 4.89s\tremaining: 42.2ms\n",
      "347:\tlearn: 0.3811993\ttotal: 4.9s\tremaining: 28.1ms\n",
      "348:\tlearn: 0.3811288\ttotal: 4.92s\tremaining: 14.1ms\n",
      "349:\tlearn: 0.3811110\ttotal: 4.94s\tremaining: 0us\n"
     ]
    },
    {
     "data": {
      "text/plain": [
       "GridSearchCV(cv=5,\n",
       "             estimator=<catboost.core.CatBoostClassifier object at 0x7fb83fc9ced0>,\n",
       "             n_jobs=-1,\n",
       "             param_grid={'learning_rate': [0.01, 0.02, 0.03, 0.04],\n",
       "                         'n_estimators': [50, 100, 150, 200, 250, 300, 350,\n",
       "                                          400]},\n",
       "             scoring='roc_auc')"
      ]
     },
     "execution_count": 103,
     "metadata": {},
     "output_type": "execute_result"
    }
   ],
   "source": [
    "boosting_model = CatBoostClassifier(cat_features=cat_features)\n",
    "\n",
    "params = {'learning_rate' : [0.01, 0.02, 0.03, 0.04],\n",
    "          'n_estimators' : [50, 100, 150, 200, 250, 300, 350, 400]\n",
    "          }\n",
    "\n",
    "CV_boosting_model = GridSearchCV(estimator=boosting_model,\n",
    "                                 param_grid=params,\n",
    "                                 cv=5,\n",
    "                                 scoring='roc_auc',\n",
    "                                 n_jobs=-1\n",
    "                                 )\n",
    "\n",
    "CV_boosting_model.fit(X, y)\n",
    "\n"
   ]
  },
  {
   "cell_type": "code",
   "execution_count": 109,
   "metadata": {
    "colab": {
     "base_uri": "https://localhost:8080/"
    },
    "id": "NzhUupIyadLZ",
    "outputId": "02e384a0-4923-4c5b-a87e-2be56bee4041"
   },
   "outputs": [
    {
     "name": "stdout",
     "output_type": "stream",
     "text": [
      "0.8669556345776847\n",
      "None\n"
     ]
    }
   ],
   "source": [
    "y_predicted = CV_boosting_model.predict_proba(X)[:, 1]\n",
    "\n",
    "print(roc_auc_score(y, y_predicted))\n",
    "print(boosting_model.tree_count_)"
   ]
  },
  {
   "cell_type": "markdown",
   "metadata": {
    "id": "rf4Kjt96EEZU"
   },
   "source": [
    "Выпишите какое лучшее качество и с какими параметрами вам удалось получить"
   ]
  },
  {
   "cell_type": "markdown",
   "metadata": {
    "id": "d2d9GolXEEZV"
   },
   "source": []
  },
  {
   "cell_type": "markdown",
   "metadata": {
    "id": "dDMXbvNZEEZV"
   },
   "source": [
    "# Предсказания"
   ]
  },
  {
   "cell_type": "code",
   "execution_count": 147,
   "metadata": {
    "id": "G_P4wFNaEEZW"
   },
   "outputs": [],
   "source": [
    "best_model = CV_boosting_model"
   ]
  },
  {
   "cell_type": "code",
   "execution_count": 148,
   "metadata": {
    "colab": {
     "base_uri": "https://localhost:8080/",
     "height": 224
    },
    "id": "FfSufx0CEEZZ",
    "outputId": "165db22c-f7d2-4508-fad0-95dbdb1780d9"
   },
   "outputs": [
    {
     "name": "stdout",
     "output_type": "stream",
     "text": [
      "True\n"
     ]
    },
    {
     "data": {
      "text/html": [
       "\n",
       "  <div id=\"df-8336daec-b6ea-462e-a5c7-cd649dcb73e6\">\n",
       "    <div class=\"colab-df-container\">\n",
       "      <div>\n",
       "<style scoped>\n",
       "    .dataframe tbody tr th:only-of-type {\n",
       "        vertical-align: middle;\n",
       "    }\n",
       "\n",
       "    .dataframe tbody tr th {\n",
       "        vertical-align: top;\n",
       "    }\n",
       "\n",
       "    .dataframe thead th {\n",
       "        text-align: right;\n",
       "    }\n",
       "</style>\n",
       "<table border=\"1\" class=\"dataframe\">\n",
       "  <thead>\n",
       "    <tr style=\"text-align: right;\">\n",
       "      <th></th>\n",
       "      <th>Id</th>\n",
       "      <th>Churn</th>\n",
       "    </tr>\n",
       "  </thead>\n",
       "  <tbody>\n",
       "    <tr>\n",
       "      <th>0</th>\n",
       "      <td>0</td>\n",
       "      <td>0.046296</td>\n",
       "    </tr>\n",
       "    <tr>\n",
       "      <th>1</th>\n",
       "      <td>1</td>\n",
       "      <td>0.658654</td>\n",
       "    </tr>\n",
       "    <tr>\n",
       "      <th>2</th>\n",
       "      <td>2</td>\n",
       "      <td>0.666279</td>\n",
       "    </tr>\n",
       "    <tr>\n",
       "      <th>3</th>\n",
       "      <td>3</td>\n",
       "      <td>0.015146</td>\n",
       "    </tr>\n",
       "    <tr>\n",
       "      <th>4</th>\n",
       "      <td>4</td>\n",
       "      <td>0.006606</td>\n",
       "    </tr>\n",
       "  </tbody>\n",
       "</table>\n",
       "</div>\n",
       "      <button class=\"colab-df-convert\" onclick=\"convertToInteractive('df-8336daec-b6ea-462e-a5c7-cd649dcb73e6')\"\n",
       "              title=\"Convert this dataframe to an interactive table.\"\n",
       "              style=\"display:none;\">\n",
       "        \n",
       "  <svg xmlns=\"http://www.w3.org/2000/svg\" height=\"24px\"viewBox=\"0 0 24 24\"\n",
       "       width=\"24px\">\n",
       "    <path d=\"M0 0h24v24H0V0z\" fill=\"none\"/>\n",
       "    <path d=\"M18.56 5.44l.94 2.06.94-2.06 2.06-.94-2.06-.94-.94-2.06-.94 2.06-2.06.94zm-11 1L8.5 8.5l.94-2.06 2.06-.94-2.06-.94L8.5 2.5l-.94 2.06-2.06.94zm10 10l.94 2.06.94-2.06 2.06-.94-2.06-.94-.94-2.06-.94 2.06-2.06.94z\"/><path d=\"M17.41 7.96l-1.37-1.37c-.4-.4-.92-.59-1.43-.59-.52 0-1.04.2-1.43.59L10.3 9.45l-7.72 7.72c-.78.78-.78 2.05 0 2.83L4 21.41c.39.39.9.59 1.41.59.51 0 1.02-.2 1.41-.59l7.78-7.78 2.81-2.81c.8-.78.8-2.07 0-2.86zM5.41 20L4 18.59l7.72-7.72 1.47 1.35L5.41 20z\"/>\n",
       "  </svg>\n",
       "      </button>\n",
       "      \n",
       "  <style>\n",
       "    .colab-df-container {\n",
       "      display:flex;\n",
       "      flex-wrap:wrap;\n",
       "      gap: 12px;\n",
       "    }\n",
       "\n",
       "    .colab-df-convert {\n",
       "      background-color: #E8F0FE;\n",
       "      border: none;\n",
       "      border-radius: 50%;\n",
       "      cursor: pointer;\n",
       "      display: none;\n",
       "      fill: #1967D2;\n",
       "      height: 32px;\n",
       "      padding: 0 0 0 0;\n",
       "      width: 32px;\n",
       "    }\n",
       "\n",
       "    .colab-df-convert:hover {\n",
       "      background-color: #E2EBFA;\n",
       "      box-shadow: 0px 1px 2px rgba(60, 64, 67, 0.3), 0px 1px 3px 1px rgba(60, 64, 67, 0.15);\n",
       "      fill: #174EA6;\n",
       "    }\n",
       "\n",
       "    [theme=dark] .colab-df-convert {\n",
       "      background-color: #3B4455;\n",
       "      fill: #D2E3FC;\n",
       "    }\n",
       "\n",
       "    [theme=dark] .colab-df-convert:hover {\n",
       "      background-color: #434B5C;\n",
       "      box-shadow: 0px 1px 3px 1px rgba(0, 0, 0, 0.15);\n",
       "      filter: drop-shadow(0px 1px 2px rgba(0, 0, 0, 0.3));\n",
       "      fill: #FFFFFF;\n",
       "    }\n",
       "  </style>\n",
       "\n",
       "      <script>\n",
       "        const buttonEl =\n",
       "          document.querySelector('#df-8336daec-b6ea-462e-a5c7-cd649dcb73e6 button.colab-df-convert');\n",
       "        buttonEl.style.display =\n",
       "          google.colab.kernel.accessAllowed ? 'block' : 'none';\n",
       "\n",
       "        async function convertToInteractive(key) {\n",
       "          const element = document.querySelector('#df-8336daec-b6ea-462e-a5c7-cd649dcb73e6');\n",
       "          const dataTable =\n",
       "            await google.colab.kernel.invokeFunction('convertToInteractive',\n",
       "                                                     [key], {});\n",
       "          if (!dataTable) return;\n",
       "\n",
       "          const docLinkHtml = 'Like what you see? Visit the ' +\n",
       "            '<a target=\"_blank\" href=https://colab.research.google.com/notebooks/data_table.ipynb>data table notebook</a>'\n",
       "            + ' to learn more about interactive tables.';\n",
       "          element.innerHTML = '';\n",
       "          dataTable['output_type'] = 'display_data';\n",
       "          await google.colab.output.renderOutput(dataTable, element);\n",
       "          const docLink = document.createElement('div');\n",
       "          docLink.innerHTML = docLinkHtml;\n",
       "          element.appendChild(docLink);\n",
       "        }\n",
       "      </script>\n",
       "    </div>\n",
       "  </div>\n",
       "  "
      ],
      "text/plain": [
       "   Id     Churn\n",
       "0   0  0.046296\n",
       "1   1  0.658654\n",
       "2   2  0.666279\n",
       "3   3  0.015146\n",
       "4   4  0.006606"
      ]
     },
     "execution_count": 148,
     "metadata": {},
     "output_type": "execute_result"
    }
   ],
   "source": [
    "X_test = pd.read_csv('./test.csv')\n",
    "X_test = preprocessing(X_test)\n",
    "submission = pd.read_csv('./submission.csv')\n",
    "\n",
    "submission['Churn'] = best_model.predict_proba(X_test)[:, 1]\n",
    "submission.to_csv('./my_submission.csv', index=False)\n",
    "submission.head()"
   ]
  },
  {
   "cell_type": "markdown",
   "metadata": {
    "id": "mkxjbGkVEEZc"
   },
   "source": [
    "# Kaggle (5 баллов)\n",
    "\n",
    "Как выставить баллы:\n",
    "\n",
    "1) 1 >= roc auc > 0.84 это 5 баллов\n",
    "\n",
    "2) 0.84 >= roc auc > 0.7 это 3 балла\n",
    "\n",
    "3) 0.7 >= roc auc > 0.6 это 1 балл\n",
    "\n",
    "4) 0.6 >= roc auc это 0 баллов\n",
    "\n",
    "\n",
    "Для выполнения задания необходимо выполнить следующие шаги.\n",
    "* Зарегистрироваться на платформе [kaggle.com](kaggle.com). Процесс выставления оценок будет проходить при подведении итогового рейтинга. Пожалуйста, укажите во вкладке Team -> Team name свои имя и фамилию в формате Имя_Фамилия (важно, чтобы имя и фамилия совпадали с данными на Stepik).\n",
    "* Обучить модель, получить файл с ответами в формате .csv и сдать его в конкурс. Пробуйте и экспериментируйте. Обратите внимание, что вы можете выполнять до 20 попыток сдачи на kaggle в день.\n",
    "* После окончания соревнования отправить в итоговый ноутбук с решением на степик. \n",
    "* После дедлайна проверьте посылки других участников по критериям. Для этого надо зайти на степик, скачать их ноутбук и проверить скор в соревновании."
   ]
  }
 ],
 "metadata": {
  "colab": {
   "collapsed_sections": [],
   "name": "Homework kaggle",
   "provenance": []
  },
  "kernelspec": {
   "display_name": "Python 3",
   "language": "python",
   "name": "python3"
  },
  "language_info": {
   "codemirror_mode": {
    "name": "ipython",
    "version": 3
   },
   "file_extension": ".py",
   "mimetype": "text/x-python",
   "name": "python",
   "nbconvert_exporter": "python",
   "pygments_lexer": "ipython3",
   "version": "3.8.8"
  }
 },
 "nbformat": 4,
 "nbformat_minor": 1
}
