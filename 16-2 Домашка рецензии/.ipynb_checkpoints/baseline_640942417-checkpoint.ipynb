{
 "cells": [
  {
   "cell_type": "markdown",
   "metadata": {
    "id": "TK7oX5qdEEYr"
   },
   "source": [
    "<p style=\"align: center;\"><img align=center src=\"https://s8.hostingkartinok.com/uploads/images/2018/08/308b49fcfbc619d629fe4604bceb67ac.jpg\" width=500 height=450/></p>\n",
    "\n",
    "<h3 style=\"text-align: center;\"><b>Школа глубокого обучения ФПМИ МФТИ</b></h3>\n",
    "\n",
    "<h3 style=\"text-align: center;\"><b>Домашнее задание. Продвинутый поток. Весна 2021</b></h3>\n",
    "\n",
    "Это домашнее задание будет посвящено полноценному решению задачи машинного обучения."
   ]
  },
  {
   "cell_type": "markdown",
   "metadata": {
    "id": "zlB-owfaEEYs"
   },
   "source": [
    "Есть две части этого домашнего задания: \n",
    "* Сделать полноценный отчет о вашей работе: как вы обработали данные, какие модели попробовали и какие результаты получились (максимум 10 баллов). За каждую выполненную часть будет начислено определенное количество баллов.\n",
    "* Лучшее решение отправить в соревнование на [kaggle](https://www.kaggle.com/c/advanced-dls-spring-2021/) (максимум 5 баллов). За прохождение определенного порогов будут начисляться баллы.\n",
    "\n",
    "\n",
    "**Обе части будут проверяться в формате peer-review. Т.е. вашу посылку на степик будут проверять несколько других студентов и аггрегация их оценок будет выставлена. В то же время вам тоже нужно будет проверить несколько других учеников.**\n",
    "\n",
    "**Пожалуйста, делайте свою работу чистой и понятной, чтобы облегчить проверку. Если у вас будут проблемы с решением или хочется совета, то пишите в наш чат в телеграме или в лс @runfme. Если вы захотите проаппелировать оценку, то пипшите в лс @runfme.**\n",
    "\n",
    "**Во всех пунктах указания это минимальный набор вещей, которые стоит сделать. Если вы можете сделать какой-то шаг лучше или добавить что-то свое - дерзайте!**"
   ]
  },
  {
   "cell_type": "markdown",
   "metadata": {
    "id": "Tu_JvqcBEN8Y"
   },
   "source": [
    "# Как проверять?\n",
    "\n",
    "Ставьте полный балл, если выполнены все рекомендации или сделано что-то более интересное и сложное. За каждый отсустствующий пункт из рекомендация снижайте 1 балл."
   ]
  },
  {
   "cell_type": "markdown",
   "metadata": {
    "id": "ninJ63mJEEYt"
   },
   "source": [
    "# Метрика\n",
    "\n",
    "Перед решением любой задачи важно понимать, как будет оцениваться ваше решение. В данном случае мы используем стандартную для задачи классификации метрику ROC-AUC. Ее можно вычислить используя только предсказанные вероятности и истинные классы без конкретного порога классификации + она раотает даже если классы в данных сильно несбалансированны (примеров одного класса в десятки раз больше примеров длугого). Именно поэтому она очень удобна для соревнований.\n",
    "\n",
    "Посчитать ее легко:\n"
   ]
  },
  {
   "cell_type": "code",
   "execution_count": 1,
   "metadata": {
    "colab": {
     "base_uri": "https://localhost:8080/"
    },
    "executionInfo": {
     "elapsed": 14,
     "status": "ok",
     "timestamp": 1649609260075,
     "user": {
      "displayName": "gbrs72",
      "userId": "03661157408959471997"
     },
     "user_tz": -180
    },
    "id": "SQIrka7yEEYu",
    "outputId": "254f320e-08a1-4dda-c69f-444cdf99a84d"
   },
   "outputs": [
    {
     "data": {
      "text/plain": [
       "0.8333333333333333"
      ]
     },
     "execution_count": 1,
     "metadata": {},
     "output_type": "execute_result"
    }
   ],
   "source": [
    "from sklearn.metrics import roc_auc_score\n",
    "\n",
    "y_true = [\n",
    "    0,\n",
    "    1,\n",
    "    1,\n",
    "    0,\n",
    "    1\n",
    "]\n",
    "\n",
    "y_predictions = [\n",
    "    0.1,\n",
    "    0.9,\n",
    "    0.4,\n",
    "    0.6,\n",
    "    0.61\n",
    "]\n",
    "\n",
    "roc_auc_score(y_true, y_predictions)"
   ]
  },
  {
   "cell_type": "markdown",
   "metadata": {
    "id": "IrDNNkNTEEYz"
   },
   "source": [
    "# Первая часть. Исследование"
   ]
  },
  {
   "cell_type": "code",
   "execution_count": 2,
   "metadata": {
    "executionInfo": {
     "elapsed": 458,
     "status": "ok",
     "timestamp": 1649609260524,
     "user": {
      "displayName": "gbrs72",
      "userId": "03661157408959471997"
     },
     "user_tz": -180
    },
    "id": "lzLqEeZKEEYz"
   },
   "outputs": [],
   "source": [
    "import pandas as pd\n",
    "import numpy as np\n",
    "from matplotlib import pyplot as plt"
   ]
  },
  {
   "cell_type": "markdown",
   "metadata": {
    "id": "LOlxdURSEEY3"
   },
   "source": [
    "## Загрузка данных (2 балла)\n",
    "\n",
    "1) Посмотрите на случайные строчки. \n",
    "\n",
    "2) Посмотрите, есть ли в датасете незаполненные значения (nan'ы) с помощью data.isna() или data.info() и, если нужно, замените их на что-то. Будет хорошо, если вы построите табличку с количеством nan в каждой колонке."
   ]
  },
  {
   "cell_type": "code",
   "execution_count": 3,
   "metadata": {
    "colab": {
     "base_uri": "https://localhost:8080/",
     "height": 329
    },
    "executionInfo": {
     "elapsed": 6985,
     "status": "error",
     "timestamp": 1649609274784,
     "user": {
      "displayName": "gbrs72",
      "userId": "03661157408959471997"
     },
     "user_tz": -180
    },
    "id": "IJSVYnlLXSN2",
    "outputId": "2a92dfd1-13c7-4118-e401-7ddad3b2784a"
   },
   "outputs": [
    {
     "ename": "MessageError",
     "evalue": "ignored",
     "output_type": "error",
     "traceback": [
      "\u001b[0;31m---------------------------------------------------------------------------\u001b[0m",
      "\u001b[0;31mMessageError\u001b[0m                              Traceback (most recent call last)",
      "\u001b[0;32m<ipython-input-3-d5df0069828e>\u001b[0m in \u001b[0;36m<module>\u001b[0;34m()\u001b[0m\n\u001b[1;32m      1\u001b[0m \u001b[0;32mfrom\u001b[0m \u001b[0mgoogle\u001b[0m\u001b[0;34m.\u001b[0m\u001b[0mcolab\u001b[0m \u001b[0;32mimport\u001b[0m \u001b[0mdrive\u001b[0m\u001b[0;34m\u001b[0m\u001b[0;34m\u001b[0m\u001b[0m\n\u001b[0;32m----> 2\u001b[0;31m \u001b[0mdrive\u001b[0m\u001b[0;34m.\u001b[0m\u001b[0mmount\u001b[0m\u001b[0;34m(\u001b[0m\u001b[0;34m'/content/drive'\u001b[0m\u001b[0;34m)\u001b[0m\u001b[0;34m\u001b[0m\u001b[0;34m\u001b[0m\u001b[0m\n\u001b[0m",
      "\u001b[0;32m/usr/local/lib/python3.7/dist-packages/google/colab/drive.py\u001b[0m in \u001b[0;36mmount\u001b[0;34m(mountpoint, force_remount, timeout_ms)\u001b[0m\n\u001b[1;32m    107\u001b[0m       \u001b[0mforce_remount\u001b[0m\u001b[0;34m=\u001b[0m\u001b[0mforce_remount\u001b[0m\u001b[0;34m,\u001b[0m\u001b[0;34m\u001b[0m\u001b[0;34m\u001b[0m\u001b[0m\n\u001b[1;32m    108\u001b[0m       \u001b[0mtimeout_ms\u001b[0m\u001b[0;34m=\u001b[0m\u001b[0mtimeout_ms\u001b[0m\u001b[0;34m,\u001b[0m\u001b[0;34m\u001b[0m\u001b[0;34m\u001b[0m\u001b[0m\n\u001b[0;32m--> 109\u001b[0;31m       ephemeral=True)\n\u001b[0m\u001b[1;32m    110\u001b[0m \u001b[0;34m\u001b[0m\u001b[0m\n\u001b[1;32m    111\u001b[0m \u001b[0;34m\u001b[0m\u001b[0m\n",
      "\u001b[0;32m/usr/local/lib/python3.7/dist-packages/google/colab/drive.py\u001b[0m in \u001b[0;36m_mount\u001b[0;34m(mountpoint, force_remount, timeout_ms, ephemeral)\u001b[0m\n\u001b[1;32m    126\u001b[0m   \u001b[0;32mif\u001b[0m \u001b[0mephemeral\u001b[0m\u001b[0;34m:\u001b[0m\u001b[0;34m\u001b[0m\u001b[0;34m\u001b[0m\u001b[0m\n\u001b[1;32m    127\u001b[0m     _message.blocking_request(\n\u001b[0;32m--> 128\u001b[0;31m         'request_auth', request={'authType': 'dfs_ephemeral'}, timeout_sec=None)\n\u001b[0m\u001b[1;32m    129\u001b[0m \u001b[0;34m\u001b[0m\u001b[0m\n\u001b[1;32m    130\u001b[0m   \u001b[0mmountpoint\u001b[0m \u001b[0;34m=\u001b[0m \u001b[0m_os\u001b[0m\u001b[0;34m.\u001b[0m\u001b[0mpath\u001b[0m\u001b[0;34m.\u001b[0m\u001b[0mexpanduser\u001b[0m\u001b[0;34m(\u001b[0m\u001b[0mmountpoint\u001b[0m\u001b[0;34m)\u001b[0m\u001b[0;34m\u001b[0m\u001b[0;34m\u001b[0m\u001b[0m\n",
      "\u001b[0;32m/usr/local/lib/python3.7/dist-packages/google/colab/_message.py\u001b[0m in \u001b[0;36mblocking_request\u001b[0;34m(request_type, request, timeout_sec, parent)\u001b[0m\n\u001b[1;32m    173\u001b[0m   request_id = send_request(\n\u001b[1;32m    174\u001b[0m       request_type, request, parent=parent, expect_reply=True)\n\u001b[0;32m--> 175\u001b[0;31m   \u001b[0;32mreturn\u001b[0m \u001b[0mread_reply_from_input\u001b[0m\u001b[0;34m(\u001b[0m\u001b[0mrequest_id\u001b[0m\u001b[0;34m,\u001b[0m \u001b[0mtimeout_sec\u001b[0m\u001b[0;34m)\u001b[0m\u001b[0;34m\u001b[0m\u001b[0;34m\u001b[0m\u001b[0m\n\u001b[0m",
      "\u001b[0;32m/usr/local/lib/python3.7/dist-packages/google/colab/_message.py\u001b[0m in \u001b[0;36mread_reply_from_input\u001b[0;34m(message_id, timeout_sec)\u001b[0m\n\u001b[1;32m    104\u001b[0m         reply.get('colab_msg_id') == message_id):\n\u001b[1;32m    105\u001b[0m       \u001b[0;32mif\u001b[0m \u001b[0;34m'error'\u001b[0m \u001b[0;32min\u001b[0m \u001b[0mreply\u001b[0m\u001b[0;34m:\u001b[0m\u001b[0;34m\u001b[0m\u001b[0;34m\u001b[0m\u001b[0m\n\u001b[0;32m--> 106\u001b[0;31m         \u001b[0;32mraise\u001b[0m \u001b[0mMessageError\u001b[0m\u001b[0;34m(\u001b[0m\u001b[0mreply\u001b[0m\u001b[0;34m[\u001b[0m\u001b[0;34m'error'\u001b[0m\u001b[0;34m]\u001b[0m\u001b[0;34m)\u001b[0m\u001b[0;34m\u001b[0m\u001b[0;34m\u001b[0m\u001b[0m\n\u001b[0m\u001b[1;32m    107\u001b[0m       \u001b[0;32mreturn\u001b[0m \u001b[0mreply\u001b[0m\u001b[0;34m.\u001b[0m\u001b[0mget\u001b[0m\u001b[0;34m(\u001b[0m\u001b[0;34m'data'\u001b[0m\u001b[0;34m,\u001b[0m \u001b[0;32mNone\u001b[0m\u001b[0;34m)\u001b[0m\u001b[0;34m\u001b[0m\u001b[0;34m\u001b[0m\u001b[0m\n\u001b[1;32m    108\u001b[0m \u001b[0;34m\u001b[0m\u001b[0m\n",
      "\u001b[0;31mMessageError\u001b[0m: Error: credential propagation was unsuccessful"
     ]
    }
   ],
   "source": [
    "from google.colab import drive\n",
    "drive.mount('/content/drive')"
   ]
  },
  {
   "cell_type": "code",
   "execution_count": 3,
   "metadata": {
    "id": "pw-Brue9EEY3"
   },
   "outputs": [],
   "source": [
    "data = pd.read_csv('./train.csv')\n",
    "data_backup = data"
   ]
  },
  {
   "cell_type": "code",
   "execution_count": 4,
   "metadata": {
    "id": "KgnkkF5bEEY9"
   },
   "outputs": [],
   "source": [
    "# Для вашего удобства списки с именами разных колонок\n",
    "\n",
    "# Числовые признаки\n",
    "num_cols = [\n",
    "    'ClientPeriod',\n",
    "    'MonthlySpending',\n",
    "    'TotalSpent'\n",
    "]\n",
    "\n",
    "# Категориальные признаки\n",
    "cat_cols = [\n",
    "    'Sex',\n",
    "    'IsSeniorCitizen',\n",
    "    'HasPartner',\n",
    "    'HasChild',\n",
    "    'HasPhoneService',\n",
    "    'HasMultiplePhoneNumbers',\n",
    "    'HasInternetService',\n",
    "    'HasOnlineSecurityService',\n",
    "    'HasOnlineBackup',\n",
    "    'HasDeviceProtection',\n",
    "    'HasTechSupportAccess',\n",
    "    'HasOnlineTV',\n",
    "    'HasMovieSubscription',\n",
    "    'HasContractPhone',\n",
    "    'IsBillingPaperless',\n",
    "    'PaymentMethod'\n",
    "]\n",
    "\n",
    "feature_cols = num_cols + cat_cols\n",
    "target_col = 'Churn'"
   ]
  },
  {
   "cell_type": "code",
   "execution_count": 7,
   "metadata": {
    "colab": {
     "base_uri": "https://localhost:8080/",
     "height": 357
    },
    "executionInfo": {
     "elapsed": 203,
     "status": "ok",
     "timestamp": 1649238725767,
     "user": {
      "displayName": "Иван Пикулин",
      "userId": "13514535674518997815"
     },
     "user_tz": -180
    },
    "id": "tHC6gWabEEZA",
    "outputId": "93fb4efe-ad50-4d22-a3f0-e61bc6617b94"
   },
   "outputs": [
    {
     "data": {
      "text/html": [
       "<div>\n",
       "<style scoped>\n",
       "    .dataframe tbody tr th:only-of-type {\n",
       "        vertical-align: middle;\n",
       "    }\n",
       "\n",
       "    .dataframe tbody tr th {\n",
       "        vertical-align: top;\n",
       "    }\n",
       "\n",
       "    .dataframe thead th {\n",
       "        text-align: right;\n",
       "    }\n",
       "</style>\n",
       "<table border=\"1\" class=\"dataframe\">\n",
       "  <thead>\n",
       "    <tr style=\"text-align: right;\">\n",
       "      <th></th>\n",
       "      <th>ClientPeriod</th>\n",
       "      <th>MonthlySpending</th>\n",
       "      <th>TotalSpent</th>\n",
       "      <th>Sex</th>\n",
       "      <th>IsSeniorCitizen</th>\n",
       "      <th>HasPartner</th>\n",
       "      <th>HasChild</th>\n",
       "      <th>HasPhoneService</th>\n",
       "      <th>HasMultiplePhoneNumbers</th>\n",
       "      <th>HasInternetService</th>\n",
       "      <th>HasOnlineSecurityService</th>\n",
       "      <th>HasOnlineBackup</th>\n",
       "      <th>HasDeviceProtection</th>\n",
       "      <th>HasTechSupportAccess</th>\n",
       "      <th>HasOnlineTV</th>\n",
       "      <th>HasMovieSubscription</th>\n",
       "      <th>HasContractPhone</th>\n",
       "      <th>IsBillingPaperless</th>\n",
       "      <th>PaymentMethod</th>\n",
       "      <th>Churn</th>\n",
       "    </tr>\n",
       "  </thead>\n",
       "  <tbody>\n",
       "    <tr>\n",
       "      <th>33</th>\n",
       "      <td>7</td>\n",
       "      <td>75.15</td>\n",
       "      <td>525</td>\n",
       "      <td>Female</td>\n",
       "      <td>0</td>\n",
       "      <td>No</td>\n",
       "      <td>No</td>\n",
       "      <td>Yes</td>\n",
       "      <td>No</td>\n",
       "      <td>Fiber optic</td>\n",
       "      <td>No</td>\n",
       "      <td>No</td>\n",
       "      <td>Yes</td>\n",
       "      <td>No</td>\n",
       "      <td>No</td>\n",
       "      <td>No</td>\n",
       "      <td>Month-to-month</td>\n",
       "      <td>Yes</td>\n",
       "      <td>Electronic check</td>\n",
       "      <td>0</td>\n",
       "    </tr>\n",
       "    <tr>\n",
       "      <th>3557</th>\n",
       "      <td>23</td>\n",
       "      <td>44.95</td>\n",
       "      <td>996.85</td>\n",
       "      <td>Female</td>\n",
       "      <td>0</td>\n",
       "      <td>No</td>\n",
       "      <td>No</td>\n",
       "      <td>No</td>\n",
       "      <td>No phone service</td>\n",
       "      <td>DSL</td>\n",
       "      <td>No</td>\n",
       "      <td>No</td>\n",
       "      <td>No</td>\n",
       "      <td>No</td>\n",
       "      <td>Yes</td>\n",
       "      <td>Yes</td>\n",
       "      <td>Month-to-month</td>\n",
       "      <td>Yes</td>\n",
       "      <td>Electronic check</td>\n",
       "      <td>0</td>\n",
       "    </tr>\n",
       "    <tr>\n",
       "      <th>4084</th>\n",
       "      <td>8</td>\n",
       "      <td>25.25</td>\n",
       "      <td>186.3</td>\n",
       "      <td>Male</td>\n",
       "      <td>0</td>\n",
       "      <td>No</td>\n",
       "      <td>No</td>\n",
       "      <td>No</td>\n",
       "      <td>No phone service</td>\n",
       "      <td>DSL</td>\n",
       "      <td>No</td>\n",
       "      <td>No</td>\n",
       "      <td>No</td>\n",
       "      <td>No</td>\n",
       "      <td>No</td>\n",
       "      <td>No</td>\n",
       "      <td>Month-to-month</td>\n",
       "      <td>Yes</td>\n",
       "      <td>Credit card (automatic)</td>\n",
       "      <td>0</td>\n",
       "    </tr>\n",
       "    <tr>\n",
       "      <th>5087</th>\n",
       "      <td>72</td>\n",
       "      <td>19.40</td>\n",
       "      <td>1496.45</td>\n",
       "      <td>Female</td>\n",
       "      <td>0</td>\n",
       "      <td>Yes</td>\n",
       "      <td>No</td>\n",
       "      <td>Yes</td>\n",
       "      <td>No</td>\n",
       "      <td>No</td>\n",
       "      <td>No internet service</td>\n",
       "      <td>No internet service</td>\n",
       "      <td>No internet service</td>\n",
       "      <td>No internet service</td>\n",
       "      <td>No internet service</td>\n",
       "      <td>No internet service</td>\n",
       "      <td>Two year</td>\n",
       "      <td>No</td>\n",
       "      <td>Bank transfer (automatic)</td>\n",
       "      <td>0</td>\n",
       "    </tr>\n",
       "    <tr>\n",
       "      <th>1927</th>\n",
       "      <td>4</td>\n",
       "      <td>29.65</td>\n",
       "      <td>118.5</td>\n",
       "      <td>Male</td>\n",
       "      <td>0</td>\n",
       "      <td>No</td>\n",
       "      <td>No</td>\n",
       "      <td>No</td>\n",
       "      <td>No phone service</td>\n",
       "      <td>DSL</td>\n",
       "      <td>No</td>\n",
       "      <td>No</td>\n",
       "      <td>Yes</td>\n",
       "      <td>No</td>\n",
       "      <td>No</td>\n",
       "      <td>No</td>\n",
       "      <td>Month-to-month</td>\n",
       "      <td>Yes</td>\n",
       "      <td>Electronic check</td>\n",
       "      <td>1</td>\n",
       "    </tr>\n",
       "  </tbody>\n",
       "</table>\n",
       "</div>"
      ],
      "text/plain": [
       "      ClientPeriod  MonthlySpending TotalSpent     Sex  IsSeniorCitizen  \\\n",
       "33               7            75.15        525  Female                0   \n",
       "3557            23            44.95     996.85  Female                0   \n",
       "4084             8            25.25      186.3    Male                0   \n",
       "5087            72            19.40    1496.45  Female                0   \n",
       "1927             4            29.65      118.5    Male                0   \n",
       "\n",
       "     HasPartner HasChild HasPhoneService HasMultiplePhoneNumbers  \\\n",
       "33           No       No             Yes                      No   \n",
       "3557         No       No              No        No phone service   \n",
       "4084         No       No              No        No phone service   \n",
       "5087        Yes       No             Yes                      No   \n",
       "1927         No       No              No        No phone service   \n",
       "\n",
       "     HasInternetService HasOnlineSecurityService      HasOnlineBackup  \\\n",
       "33          Fiber optic                       No                   No   \n",
       "3557                DSL                       No                   No   \n",
       "4084                DSL                       No                   No   \n",
       "5087                 No      No internet service  No internet service   \n",
       "1927                DSL                       No                   No   \n",
       "\n",
       "      HasDeviceProtection HasTechSupportAccess          HasOnlineTV  \\\n",
       "33                    Yes                   No                   No   \n",
       "3557                   No                   No                  Yes   \n",
       "4084                   No                   No                   No   \n",
       "5087  No internet service  No internet service  No internet service   \n",
       "1927                  Yes                   No                   No   \n",
       "\n",
       "     HasMovieSubscription HasContractPhone IsBillingPaperless  \\\n",
       "33                     No   Month-to-month                Yes   \n",
       "3557                  Yes   Month-to-month                Yes   \n",
       "4084                   No   Month-to-month                Yes   \n",
       "5087  No internet service         Two year                 No   \n",
       "1927                   No   Month-to-month                Yes   \n",
       "\n",
       "                  PaymentMethod  Churn  \n",
       "33             Electronic check      0  \n",
       "3557           Electronic check      0  \n",
       "4084    Credit card (automatic)      0  \n",
       "5087  Bank transfer (automatic)      0  \n",
       "1927           Electronic check      1  "
      ]
     },
     "execution_count": 7,
     "metadata": {},
     "output_type": "execute_result"
    }
   ],
   "source": [
    "data.sample(n = 5, random_state = 27)"
   ]
  },
  {
   "cell_type": "code",
   "execution_count": 8,
   "metadata": {
    "colab": {
     "base_uri": "https://localhost:8080/"
    },
    "executionInfo": {
     "elapsed": 396,
     "status": "ok",
     "timestamp": 1649241586909,
     "user": {
      "displayName": "Иван Пикулин",
      "userId": "13514535674518997815"
     },
     "user_tz": -180
    },
    "id": "U9IfAMUbaOLt",
    "outputId": "72755891-8e87-4c00-b0bf-d33c34e0bc3e",
    "scrolled": false
   },
   "outputs": [
    {
     "data": {
      "text/plain": [
       "ClientPeriod                0\n",
       "MonthlySpending             0\n",
       "TotalSpent                  0\n",
       "Sex                         0\n",
       "IsSeniorCitizen             0\n",
       "HasPartner                  0\n",
       "HasChild                    0\n",
       "HasPhoneService             0\n",
       "HasMultiplePhoneNumbers     0\n",
       "HasInternetService          0\n",
       "HasOnlineSecurityService    0\n",
       "HasOnlineBackup             0\n",
       "HasDeviceProtection         0\n",
       "HasTechSupportAccess        0\n",
       "HasOnlineTV                 0\n",
       "HasMovieSubscription        0\n",
       "HasContractPhone            0\n",
       "IsBillingPaperless          0\n",
       "PaymentMethod               0\n",
       "Churn                       0\n",
       "dtype: int64"
      ]
     },
     "execution_count": 8,
     "metadata": {},
     "output_type": "execute_result"
    }
   ],
   "source": [
    "data = data.replace(\" \", 0)\n",
    "data.isna().sum(axis=0) # Пропусков нет"
   ]
  },
  {
   "cell_type": "code",
   "execution_count": 9,
   "metadata": {},
   "outputs": [
    {
     "data": {
      "text/html": [
       "<div>\n",
       "<style scoped>\n",
       "    .dataframe tbody tr th:only-of-type {\n",
       "        vertical-align: middle;\n",
       "    }\n",
       "\n",
       "    .dataframe tbody tr th {\n",
       "        vertical-align: top;\n",
       "    }\n",
       "\n",
       "    .dataframe thead th {\n",
       "        text-align: right;\n",
       "    }\n",
       "</style>\n",
       "<table border=\"1\" class=\"dataframe\">\n",
       "  <thead>\n",
       "    <tr style=\"text-align: right;\">\n",
       "      <th></th>\n",
       "      <th>ClientPeriod</th>\n",
       "      <th>MonthlySpending</th>\n",
       "      <th>TotalSpent</th>\n",
       "      <th>Sex</th>\n",
       "      <th>IsSeniorCitizen</th>\n",
       "      <th>HasPartner</th>\n",
       "      <th>HasChild</th>\n",
       "      <th>HasPhoneService</th>\n",
       "      <th>HasMultiplePhoneNumbers</th>\n",
       "      <th>HasInternetService</th>\n",
       "      <th>HasOnlineSecurityService</th>\n",
       "      <th>HasOnlineBackup</th>\n",
       "      <th>HasDeviceProtection</th>\n",
       "      <th>HasTechSupportAccess</th>\n",
       "      <th>HasOnlineTV</th>\n",
       "      <th>HasMovieSubscription</th>\n",
       "      <th>HasContractPhone</th>\n",
       "      <th>IsBillingPaperless</th>\n",
       "      <th>PaymentMethod</th>\n",
       "      <th>Churn</th>\n",
       "    </tr>\n",
       "  </thead>\n",
       "  <tbody>\n",
       "    <tr>\n",
       "      <th>33</th>\n",
       "      <td>7</td>\n",
       "      <td>75.15</td>\n",
       "      <td>525</td>\n",
       "      <td>Female</td>\n",
       "      <td>0</td>\n",
       "      <td>No</td>\n",
       "      <td>No</td>\n",
       "      <td>Yes</td>\n",
       "      <td>No</td>\n",
       "      <td>Fiber optic</td>\n",
       "      <td>No</td>\n",
       "      <td>No</td>\n",
       "      <td>Yes</td>\n",
       "      <td>No</td>\n",
       "      <td>No</td>\n",
       "      <td>No</td>\n",
       "      <td>Month-to-month</td>\n",
       "      <td>Yes</td>\n",
       "      <td>Electronic check</td>\n",
       "      <td>0</td>\n",
       "    </tr>\n",
       "    <tr>\n",
       "      <th>3557</th>\n",
       "      <td>23</td>\n",
       "      <td>44.95</td>\n",
       "      <td>996.85</td>\n",
       "      <td>Female</td>\n",
       "      <td>0</td>\n",
       "      <td>No</td>\n",
       "      <td>No</td>\n",
       "      <td>No</td>\n",
       "      <td>No phone service</td>\n",
       "      <td>DSL</td>\n",
       "      <td>No</td>\n",
       "      <td>No</td>\n",
       "      <td>No</td>\n",
       "      <td>No</td>\n",
       "      <td>Yes</td>\n",
       "      <td>Yes</td>\n",
       "      <td>Month-to-month</td>\n",
       "      <td>Yes</td>\n",
       "      <td>Electronic check</td>\n",
       "      <td>0</td>\n",
       "    </tr>\n",
       "    <tr>\n",
       "      <th>4084</th>\n",
       "      <td>8</td>\n",
       "      <td>25.25</td>\n",
       "      <td>186.3</td>\n",
       "      <td>Male</td>\n",
       "      <td>0</td>\n",
       "      <td>No</td>\n",
       "      <td>No</td>\n",
       "      <td>No</td>\n",
       "      <td>No phone service</td>\n",
       "      <td>DSL</td>\n",
       "      <td>No</td>\n",
       "      <td>No</td>\n",
       "      <td>No</td>\n",
       "      <td>No</td>\n",
       "      <td>No</td>\n",
       "      <td>No</td>\n",
       "      <td>Month-to-month</td>\n",
       "      <td>Yes</td>\n",
       "      <td>Credit card (automatic)</td>\n",
       "      <td>0</td>\n",
       "    </tr>\n",
       "    <tr>\n",
       "      <th>5087</th>\n",
       "      <td>72</td>\n",
       "      <td>19.40</td>\n",
       "      <td>1496.45</td>\n",
       "      <td>Female</td>\n",
       "      <td>0</td>\n",
       "      <td>Yes</td>\n",
       "      <td>No</td>\n",
       "      <td>Yes</td>\n",
       "      <td>No</td>\n",
       "      <td>No</td>\n",
       "      <td>No internet service</td>\n",
       "      <td>No internet service</td>\n",
       "      <td>No internet service</td>\n",
       "      <td>No internet service</td>\n",
       "      <td>No internet service</td>\n",
       "      <td>No internet service</td>\n",
       "      <td>Two year</td>\n",
       "      <td>No</td>\n",
       "      <td>Bank transfer (automatic)</td>\n",
       "      <td>0</td>\n",
       "    </tr>\n",
       "    <tr>\n",
       "      <th>1927</th>\n",
       "      <td>4</td>\n",
       "      <td>29.65</td>\n",
       "      <td>118.5</td>\n",
       "      <td>Male</td>\n",
       "      <td>0</td>\n",
       "      <td>No</td>\n",
       "      <td>No</td>\n",
       "      <td>No</td>\n",
       "      <td>No phone service</td>\n",
       "      <td>DSL</td>\n",
       "      <td>No</td>\n",
       "      <td>No</td>\n",
       "      <td>Yes</td>\n",
       "      <td>No</td>\n",
       "      <td>No</td>\n",
       "      <td>No</td>\n",
       "      <td>Month-to-month</td>\n",
       "      <td>Yes</td>\n",
       "      <td>Electronic check</td>\n",
       "      <td>1</td>\n",
       "    </tr>\n",
       "  </tbody>\n",
       "</table>\n",
       "</div>"
      ],
      "text/plain": [
       "      ClientPeriod  MonthlySpending TotalSpent     Sex  IsSeniorCitizen  \\\n",
       "33               7            75.15        525  Female                0   \n",
       "3557            23            44.95     996.85  Female                0   \n",
       "4084             8            25.25      186.3    Male                0   \n",
       "5087            72            19.40    1496.45  Female                0   \n",
       "1927             4            29.65      118.5    Male                0   \n",
       "\n",
       "     HasPartner HasChild HasPhoneService HasMultiplePhoneNumbers  \\\n",
       "33           No       No             Yes                      No   \n",
       "3557         No       No              No        No phone service   \n",
       "4084         No       No              No        No phone service   \n",
       "5087        Yes       No             Yes                      No   \n",
       "1927         No       No              No        No phone service   \n",
       "\n",
       "     HasInternetService HasOnlineSecurityService      HasOnlineBackup  \\\n",
       "33          Fiber optic                       No                   No   \n",
       "3557                DSL                       No                   No   \n",
       "4084                DSL                       No                   No   \n",
       "5087                 No      No internet service  No internet service   \n",
       "1927                DSL                       No                   No   \n",
       "\n",
       "      HasDeviceProtection HasTechSupportAccess          HasOnlineTV  \\\n",
       "33                    Yes                   No                   No   \n",
       "3557                   No                   No                  Yes   \n",
       "4084                   No                   No                   No   \n",
       "5087  No internet service  No internet service  No internet service   \n",
       "1927                  Yes                   No                   No   \n",
       "\n",
       "     HasMovieSubscription HasContractPhone IsBillingPaperless  \\\n",
       "33                     No   Month-to-month                Yes   \n",
       "3557                  Yes   Month-to-month                Yes   \n",
       "4084                   No   Month-to-month                Yes   \n",
       "5087  No internet service         Two year                 No   \n",
       "1927                   No   Month-to-month                Yes   \n",
       "\n",
       "                  PaymentMethod  Churn  \n",
       "33             Electronic check      0  \n",
       "3557           Electronic check      0  \n",
       "4084    Credit card (automatic)      0  \n",
       "5087  Bank transfer (automatic)      0  \n",
       "1927           Electronic check      1  "
      ]
     },
     "execution_count": 9,
     "metadata": {},
     "output_type": "execute_result"
    }
   ],
   "source": [
    "# юб\n",
    "data.sample(n = 5, random_state = 27)"
   ]
  },
  {
   "cell_type": "code",
   "execution_count": 10,
   "metadata": {
    "scrolled": true
   },
   "outputs": [
    {
     "data": {
      "text/plain": [
       "array(['1026.35', '1872.2', '75.9', ..., '55.05', '2215.25', '1375.6'],\n",
       "      dtype=object)"
      ]
     },
     "execution_count": 10,
     "metadata": {},
     "output_type": "execute_result"
    }
   ],
   "source": [
    "# юб\n",
    "data['TotalSpent'].unique()"
   ]
  },
  {
   "cell_type": "code",
   "execution_count": 11,
   "metadata": {
    "colab": {
     "base_uri": "https://localhost:8080/"
    },
    "executionInfo": {
     "elapsed": 209,
     "status": "ok",
     "timestamp": 1649241690987,
     "user": {
      "displayName": "Иван Пикулин",
      "userId": "13514535674518997815"
     },
     "user_tz": -180
    },
    "id": "0DzeLugLcLD1",
    "outputId": "4587caaa-52ae-4758-85c8-c3bd1324da73"
   },
   "outputs": [
    {
     "data": {
      "text/plain": [
       "dtype('float64')"
      ]
     },
     "execution_count": 11,
     "metadata": {},
     "output_type": "execute_result"
    }
   ],
   "source": [
    "# в столбце TotalSpent тип данных Object, заменим на float64\n",
    "\n",
    "data[\"TotalSpent\"] = data['TotalSpent'].astype(\"str\").replace(' ', 0).astype(float)\n",
    "data[\"TotalSpent\"].dtypes"
   ]
  },
  {
   "cell_type": "markdown",
   "metadata": {
    "id": "dK370bPCEEZD"
   },
   "source": [
    "## Анализ данных (3 балла)\n",
    "\n",
    "1) Для численных призанков постройте гистограмму (*plt.hist(...)*) или boxplot (*plt.boxplot(...)*). Для категориальных посчитайте количество каждого значения для каждого признака. Для каждой колонки надо сделать *data.value_counts()* и построить bar диаграммы *plt.bar(...)* или круговые диаграммы *plt.pie(...)* (хорошо, елси вы сможете это сделать на одном гарфике с помощью *plt.subplots(...)*). \n",
    "\n",
    "2) Посмотрите на распределение целевой переменной и скажите, являются ли классы несбалансированными.\n",
    "\n",
    "3) (Если будет желание) Поиграйте с разными библиотеками для визуализации - *sns*, *pandas_visual_analysis*, etc.\n",
    "\n",
    "Второй пункт очень важен, потому что существуют задачи классификации с несбалансированными классами. Например, это может значить, что в датасете намного больше примеров 0 класса. В таких случаях нужно 1) не использовать accuracy как метрику 2) использовать методы борьбы с imbalanced dataset (обычно если датасет сильно несбалансирован, т.е. класса 1 в 20 раз меньше класса 0)."
   ]
  },
  {
   "cell_type": "code",
   "execution_count": 12,
   "metadata": {
    "colab": {
     "base_uri": "https://localhost:8080/",
     "height": 390
    },
    "executionInfo": {
     "elapsed": 696,
     "status": "ok",
     "timestamp": 1649238726459,
     "user": {
      "displayName": "Иван Пикулин",
      "userId": "13514535674518997815"
     },
     "user_tz": -180
    },
    "id": "NZkbgFJZEEZE",
    "outputId": "87fe4c12-8bd6-4a2d-f7e7-ca3453149014"
   },
   "outputs": [
    {
     "data": {
      "image/png": "[encoded data removed]",
      "text/plain": [
       "<Figure size 1296x432 with 3 Axes>"
      ]
     },
     "metadata": {
      "needs_background": "light"
     },
     "output_type": "display_data"
    }
   ],
   "source": [
    "fig, ax = plt.subplots(1, 3, figsize=(18,6))\n",
    "ax = ax.ravel()\n",
    "\n",
    "for i, num_col in enumerate(num_cols):\n",
    "    ax[i].set_title(num_col)\n",
    "    ax[i].hist(data[num_col])"
   ]
  },
  {
   "cell_type": "code",
   "execution_count": 36,
   "metadata": {
    "colab": {
     "base_uri": "https://localhost:8080/",
     "height": 1000
    },
    "executionInfo": {
     "elapsed": 1511,
     "status": "ok",
     "timestamp": 1649238727966,
     "user": {
      "displayName": "Иван Пикулин",
      "userId": "13514535674518997815"
     },
     "user_tz": -180
    },
    "id": "5GrIzJXhd251",
    "outputId": "4c03849a-c2c7-41f1-d16c-9222fe990c00",
    "scrolled": true
   },
   "outputs": [
    {
     "data": {
      "image/png": "[encoded data removed]",
      "text/plain": [
       "<Figure size 1728x1728 with 16 Axes>"
      ]
     },
     "metadata": {},
     "output_type": "display_data"
    }
   ],
   "source": [
    "fig, ax = plt.subplots(4, 4, figsize=(24,24))\n",
    "ax = ax.ravel()\n",
    "\n",
    "for i, cat_col in enumerate(cat_cols):\n",
    "    ax[i].set_title(cat_col)\n",
    "    ax[i].pie(x=data[cat_col].value_counts().tolist(),\n",
    "              labels=data[cat_col].value_counts().index.tolist())"
   ]
  },
  {
   "cell_type": "code",
   "execution_count": 15,
   "metadata": {
    "colab": {
     "base_uri": "https://localhost:8080/",
     "height": 265
    },
    "executionInfo": {
     "elapsed": 9,
     "status": "ok",
     "timestamp": 1649238727967,
     "user": {
      "displayName": "Иван Пикулин",
      "userId": "13514535674518997815"
     },
     "user_tz": -180
    },
    "id": "sD3YS6eOek3_",
    "outputId": "ff560d9a-0aa5-43a1-b659-47cf0c0e914a"
   },
   "outputs": [
    {
     "data": {
      "text/plain": [
       "<matplotlib.axes._subplots.AxesSubplot at 0x1d508735308>"
      ]
     },
     "execution_count": 15,
     "metadata": {},
     "output_type": "execute_result"
    },
    {
     "data": {
      "image/png": "[encoded data removed]",
      "text/plain": [
       "<Figure size 432x288 with 1 Axes>"
      ]
     },
     "metadata": {},
     "output_type": "display_data"
    }
   ],
   "source": [
    "data[target_col].value_counts().plot(kind=\"pie\")"
   ]
  },
  {
   "cell_type": "markdown",
   "metadata": {
    "id": "9ydDo2uXlROA"
   },
   "source": [
    "**Классы не являются идеально сбалансированными: примеров класса 1 приблизительно в 3 раза меньше, чем пирмеров класса 0.**\n",
    "**Однако, различие не критично и позволяет проводить дальнейшее обучение без особых ограничений.**"
   ]
  },
  {
   "cell_type": "markdown",
   "metadata": {
    "id": "zg60u3QDEEZH"
   },
   "source": [
    "(Дополнительно) Если вы нашли какие-то ошибки в данных или выбросы, то можете их убрать. Тут можно поэксперементировать с обработкой данных как угодно, но не за баллы."
   ]
  },
  {
   "cell_type": "code",
   "execution_count": null,
   "metadata": {
    "id": "fwfksF1gEEZI"
   },
   "outputs": [],
   "source": [
    "# YOUR CODE"
   ]
  },
  {
   "cell_type": "markdown",
   "metadata": {
    "id": "DviiJd8REEZK"
   },
   "source": [
    "## Применение линейных моделей (3 балла)\n",
    "\n",
    "1) Обработайте данные для того, чтобы к ним можно было применить LogisticRegression. Т.е. отнормируйте числовые признаки, а категориальные закодируйте с помощью one-hot-encoding'а. \n",
    "\n",
    "2) С помощью кроссвалидации или разделения на train/valid выборку протестируйте разные значения гиперпараметра C и выберите лучший (можно тестировать С=100, 10, 1, 0.1, 0.01, 0.001) по метрике ROC-AUC. \n",
    "\n",
    "Если вы разделяете на train/valid, то используйте LogisticRegressionCV. Он сам при вызове .fit() подберет параметр С. (не забудьте передать scroing='roc_auc', чтобы при кроссвалидации сравнивались значения этой метрики, и refit=True, чтобы при потом модель обучилась на всем датасете с лучшим параметром C). \n",
    "\n",
    "\n",
    "(более сложный вариант) Если вы будете использовать кроссвалидацию, то преобразования данных и LogisticRegression нужно соединить в один Pipeline с помощью make_pipeline, как это делалось во втором семинаре. Потом pipeline надо передать в GridSearchCV. Для one-hot-encoding'a можно испльзовать комбинацию LabelEncoder + OneHotEncoder (сначала превращаем строчки в числа, а потом числа првращаем в one-hot вектора.)"
   ]
  },
  {
   "cell_type": "code",
   "execution_count": 16,
   "metadata": {
    "id": "xHCLDmwqEEZL"
   },
   "outputs": [],
   "source": [
    "from sklearn.linear_model import LogisticRegression, LogisticRegressionCV\n",
    "from sklearn.model_selection import train_test_split, GridSearchCV\n",
    "from sklearn.preprocessing import StandardScaler, RobustScaler, LabelEncoder, OneHotEncoder\n",
    "from sklearn.pipeline import make_pipeline\n",
    "from sklearn.compose import make_column_transformer"
   ]
  },
  {
   "cell_type": "code",
   "execution_count": 18,
   "metadata": {
    "id": "P2Yv3uYtEEZO"
   },
   "outputs": [],
   "source": [
    "# Применяем One-Hot-Encoding\n",
    "dummy_features = pd.get_dummies(data[cat_cols])\n",
    "\n",
    "# Разбиваем на фичи/таргеты\n",
    "y = data[target_col]\n",
    "X = pd.concat([data[num_cols], dummy_features], axis=1)\n",
    "\n",
    "# Нормируем числовые признаки\n",
    "scaler = StandardScaler()\n",
    "X = scaler.fit_transform(X)"
   ]
  },
  {
   "cell_type": "code",
   "execution_count": 19,
   "metadata": {
    "id": "Uv921KNfjh0x"
   },
   "outputs": [],
   "source": [
    "X_train, X_test, y_train, y_test = train_test_split(X, y, train_size=0.8, random_state=1)"
   ]
  },
  {
   "cell_type": "code",
   "execution_count": 20,
   "metadata": {
    "colab": {
     "base_uri": "https://localhost:8080/"
    },
    "executionInfo": {
     "elapsed": 3186,
     "status": "ok",
     "timestamp": 1649240879546,
     "user": {
      "displayName": "Иван Пикулин",
      "userId": "13514535674518997815"
     },
     "user_tz": -180
    },
    "id": "pPdCjewnmx3X",
    "outputId": "804f04f7-9503-4ac8-920a-16d2fb08980a"
   },
   "outputs": [
    {
     "data": {
      "text/plain": [
       "GridSearchCV(cv=5, error_score=nan,\n",
       "             estimator=LogisticRegression(C=1.0, class_weight=None, dual=False,\n",
       "                                          fit_intercept=True,\n",
       "                                          intercept_scaling=1, l1_ratio=None,\n",
       "                                          max_iter=100, multi_class='auto',\n",
       "                                          n_jobs=None, penalty='l2',\n",
       "                                          random_state=None, solver='lbfgs',\n",
       "                                          tol=0.0001, verbose=0,\n",
       "                                          warm_start=False),\n",
       "             iid='deprecated', n_jobs=None,\n",
       "             param_grid=[{'C': [100, 10, 1, 0.1, 0.01, 0.001]}],\n",
       "             pre_dispatch='2*n_jobs', refit=True, return_train_score=False,\n",
       "             scoring='roc_auc', verbose=0)"
      ]
     },
     "execution_count": 20,
     "metadata": {},
     "output_type": "execute_result"
    }
   ],
   "source": [
    "clf = GridSearchCV(LogisticRegression(), \n",
    "                   [{'C': [100, 10, 1, 0.1, 0.01, 0.001]}],\n",
    "                   cv=5,\n",
    "                   scoring='roc_auc',\n",
    "                   refit=True)\n",
    "clf.fit(X_train, y_train)"
   ]
  },
  {
   "cell_type": "code",
   "execution_count": 21,
   "metadata": {
    "colab": {
     "base_uri": "https://localhost:8080/"
    },
    "executionInfo": {
     "elapsed": 204,
     "status": "ok",
     "timestamp": 1649240931981,
     "user": {
      "displayName": "Иван Пикулин",
      "userId": "13514535674518997815"
     },
     "user_tz": -180
    },
    "id": "t4EUbOII6myN",
    "outputId": "ba1af16d-2186-4698-ed9b-dc31e3d9acf5"
   },
   "outputs": [
    {
     "name": "stdout",
     "output_type": "stream",
     "text": [
      "{'C': 10}\n"
     ]
    }
   ],
   "source": [
    "print(clf.best_params_)"
   ]
  },
  {
   "cell_type": "code",
   "execution_count": 22,
   "metadata": {
    "colab": {
     "base_uri": "https://localhost:8080/"
    },
    "executionInfo": {
     "elapsed": 249,
     "status": "ok",
     "timestamp": 1649240996378,
     "user": {
      "displayName": "Иван Пикулин",
      "userId": "13514535674518997815"
     },
     "user_tz": -180
    },
    "id": "6XLOxEb2a3uG",
    "outputId": "b6498a68-1ba6-4cb5-e1ac-2d7e379ce5bb"
   },
   "outputs": [
    {
     "data": {
      "text/plain": [
       "0.8538746542573072"
      ]
     },
     "execution_count": 22,
     "metadata": {},
     "output_type": "execute_result"
    }
   ],
   "source": [
    "y_test_pred = clf.predict_proba(X_test)[:, 1]\n",
    "roc_auc_score(y_test, y_test_pred)"
   ]
  },
  {
   "cell_type": "markdown",
   "metadata": {
    "id": "uVahy6JKEEZQ"
   },
   "source": [
    "Выпишите какое лучшее качество и с какими параметрами вам удалось получить"
   ]
  },
  {
   "cell_type": "markdown",
   "metadata": {
    "id": "3toFD6Aq6hGn"
   },
   "source": [
    "**Получено качество 0.853 при C = 10**"
   ]
  },
  {
   "cell_type": "markdown",
   "metadata": {
    "id": "BlTeVy7fEEZR"
   },
   "source": [
    "## Применение градиентного бустинга (2 балла)\n",
    "\n",
    "Если вы хотите получить баллы за точный ответ, то стоит попробовать градиентный бустинг. Часто градиентный бустинг с дефолтными параметрами даст вам 80% результата за 0% усилий.\n",
    "\n",
    "Мы будем использовать catboost, поэтому нам не надо кодировать категориальные признаки. catboost сделает это сам (в .fit() надо передать cat_features=cat_cols). А численные признаки нормировать для моделей, основанных на деревьях не нужно.\n",
    "\n",
    "1) Разделите выборку на train/valid. Протестируйте catboost cо стандартными параметрами.\n",
    "\n",
    "2) Протестируйте разные занчения параметроа количества деревьев и learning_rate'а и выберите лучшую по метрике ROC-AUC комбинацию. \n",
    "\n",
    "(Дополнительно) Есть некоторые сложности с тем, чтобы использовать CatBoostClassifier вместе с GridSearchCV, поэтому мы не просим использовать кроссвалидацию. Но можете попробовать)"
   ]
  },
  {
   "cell_type": "code",
   "execution_count": 37,
   "metadata": {
    "id": "Fioxxlp-EEZS"
   },
   "outputs": [],
   "source": [
    "X = pd.concat([data[num_cols], data[cat_cols]], axis=1)\n",
    "y = data[target_col]\n",
    "X_train, X_test, y_train, y_test = train_test_split(X, y, train_size=0.8, random_state=2)"
   ]
  },
  {
   "cell_type": "code",
   "execution_count": 38,
   "metadata": {},
   "outputs": [
    {
     "data": {
      "text/html": [
       "<div>\n",
       "<style scoped>\n",
       "    .dataframe tbody tr th:only-of-type {\n",
       "        vertical-align: middle;\n",
       "    }\n",
       "\n",
       "    .dataframe tbody tr th {\n",
       "        vertical-align: top;\n",
       "    }\n",
       "\n",
       "    .dataframe thead th {\n",
       "        text-align: right;\n",
       "    }\n",
       "</style>\n",
       "<table border=\"1\" class=\"dataframe\">\n",
       "  <thead>\n",
       "    <tr style=\"text-align: right;\">\n",
       "      <th></th>\n",
       "      <th>ClientPeriod</th>\n",
       "      <th>MonthlySpending</th>\n",
       "      <th>TotalSpent</th>\n",
       "      <th>Sex</th>\n",
       "      <th>IsSeniorCitizen</th>\n",
       "      <th>HasPartner</th>\n",
       "      <th>HasChild</th>\n",
       "      <th>HasPhoneService</th>\n",
       "      <th>HasMultiplePhoneNumbers</th>\n",
       "      <th>HasInternetService</th>\n",
       "      <th>HasOnlineSecurityService</th>\n",
       "      <th>HasOnlineBackup</th>\n",
       "      <th>HasDeviceProtection</th>\n",
       "      <th>HasTechSupportAccess</th>\n",
       "      <th>HasOnlineTV</th>\n",
       "      <th>HasMovieSubscription</th>\n",
       "      <th>HasContractPhone</th>\n",
       "      <th>IsBillingPaperless</th>\n",
       "      <th>PaymentMethod</th>\n",
       "    </tr>\n",
       "  </thead>\n",
       "  <tbody>\n",
       "    <tr>\n",
       "      <th>0</th>\n",
       "      <td>55</td>\n",
       "      <td>19.50</td>\n",
       "      <td>1026.35</td>\n",
       "      <td>Male</td>\n",
       "      <td>0</td>\n",
       "      <td>Yes</td>\n",
       "      <td>Yes</td>\n",
       "      <td>Yes</td>\n",
       "      <td>No</td>\n",
       "      <td>No</td>\n",
       "      <td>No internet service</td>\n",
       "      <td>No internet service</td>\n",
       "      <td>No internet service</td>\n",
       "      <td>No internet service</td>\n",
       "      <td>No internet service</td>\n",
       "      <td>No internet service</td>\n",
       "      <td>One year</td>\n",
       "      <td>No</td>\n",
       "      <td>Mailed check</td>\n",
       "    </tr>\n",
       "    <tr>\n",
       "      <th>1</th>\n",
       "      <td>72</td>\n",
       "      <td>25.85</td>\n",
       "      <td>1872.20</td>\n",
       "      <td>Male</td>\n",
       "      <td>0</td>\n",
       "      <td>Yes</td>\n",
       "      <td>No</td>\n",
       "      <td>Yes</td>\n",
       "      <td>Yes</td>\n",
       "      <td>No</td>\n",
       "      <td>No internet service</td>\n",
       "      <td>No internet service</td>\n",
       "      <td>No internet service</td>\n",
       "      <td>No internet service</td>\n",
       "      <td>No internet service</td>\n",
       "      <td>No internet service</td>\n",
       "      <td>Two year</td>\n",
       "      <td>No</td>\n",
       "      <td>Credit card (automatic)</td>\n",
       "    </tr>\n",
       "    <tr>\n",
       "      <th>2</th>\n",
       "      <td>1</td>\n",
       "      <td>75.90</td>\n",
       "      <td>75.90</td>\n",
       "      <td>Male</td>\n",
       "      <td>0</td>\n",
       "      <td>No</td>\n",
       "      <td>No</td>\n",
       "      <td>Yes</td>\n",
       "      <td>No</td>\n",
       "      <td>Fiber optic</td>\n",
       "      <td>No</td>\n",
       "      <td>No</td>\n",
       "      <td>No</td>\n",
       "      <td>Yes</td>\n",
       "      <td>No</td>\n",
       "      <td>No</td>\n",
       "      <td>Month-to-month</td>\n",
       "      <td>Yes</td>\n",
       "      <td>Electronic check</td>\n",
       "    </tr>\n",
       "    <tr>\n",
       "      <th>3</th>\n",
       "      <td>32</td>\n",
       "      <td>79.30</td>\n",
       "      <td>2570.00</td>\n",
       "      <td>Female</td>\n",
       "      <td>1</td>\n",
       "      <td>Yes</td>\n",
       "      <td>No</td>\n",
       "      <td>Yes</td>\n",
       "      <td>Yes</td>\n",
       "      <td>Fiber optic</td>\n",
       "      <td>No</td>\n",
       "      <td>No</td>\n",
       "      <td>Yes</td>\n",
       "      <td>No</td>\n",
       "      <td>No</td>\n",
       "      <td>No</td>\n",
       "      <td>Month-to-month</td>\n",
       "      <td>No</td>\n",
       "      <td>Mailed check</td>\n",
       "    </tr>\n",
       "    <tr>\n",
       "      <th>4</th>\n",
       "      <td>60</td>\n",
       "      <td>115.25</td>\n",
       "      <td>6758.45</td>\n",
       "      <td>Female</td>\n",
       "      <td>0</td>\n",
       "      <td>Yes</td>\n",
       "      <td>Yes</td>\n",
       "      <td>Yes</td>\n",
       "      <td>Yes</td>\n",
       "      <td>Fiber optic</td>\n",
       "      <td>Yes</td>\n",
       "      <td>Yes</td>\n",
       "      <td>Yes</td>\n",
       "      <td>Yes</td>\n",
       "      <td>Yes</td>\n",
       "      <td>Yes</td>\n",
       "      <td>Two year</td>\n",
       "      <td>No</td>\n",
       "      <td>Credit card (automatic)</td>\n",
       "    </tr>\n",
       "  </tbody>\n",
       "</table>\n",
       "</div>"
      ],
      "text/plain": [
       "   ClientPeriod  MonthlySpending  TotalSpent     Sex  IsSeniorCitizen  \\\n",
       "0            55            19.50     1026.35    Male                0   \n",
       "1            72            25.85     1872.20    Male                0   \n",
       "2             1            75.90       75.90    Male                0   \n",
       "3            32            79.30     2570.00  Female                1   \n",
       "4            60           115.25     6758.45  Female                0   \n",
       "\n",
       "  HasPartner HasChild HasPhoneService HasMultiplePhoneNumbers  \\\n",
       "0        Yes      Yes             Yes                      No   \n",
       "1        Yes       No             Yes                     Yes   \n",
       "2         No       No             Yes                      No   \n",
       "3        Yes       No             Yes                     Yes   \n",
       "4        Yes      Yes             Yes                     Yes   \n",
       "\n",
       "  HasInternetService HasOnlineSecurityService      HasOnlineBackup  \\\n",
       "0                 No      No internet service  No internet service   \n",
       "1                 No      No internet service  No internet service   \n",
       "2        Fiber optic                       No                   No   \n",
       "3        Fiber optic                       No                   No   \n",
       "4        Fiber optic                      Yes                  Yes   \n",
       "\n",
       "   HasDeviceProtection HasTechSupportAccess          HasOnlineTV  \\\n",
       "0  No internet service  No internet service  No internet service   \n",
       "1  No internet service  No internet service  No internet service   \n",
       "2                   No                  Yes                   No   \n",
       "3                  Yes                   No                   No   \n",
       "4                  Yes                  Yes                  Yes   \n",
       "\n",
       "  HasMovieSubscription HasContractPhone IsBillingPaperless  \\\n",
       "0  No internet service         One year                 No   \n",
       "1  No internet service         Two year                 No   \n",
       "2                   No   Month-to-month                Yes   \n",
       "3                   No   Month-to-month                 No   \n",
       "4                  Yes         Two year                 No   \n",
       "\n",
       "             PaymentMethod  \n",
       "0             Mailed check  \n",
       "1  Credit card (automatic)  \n",
       "2         Electronic check  \n",
       "3             Mailed check  \n",
       "4  Credit card (automatic)  "
      ]
     },
     "execution_count": 38,
     "metadata": {},
     "output_type": "execute_result"
    }
   ],
   "source": [
    "X.head()"
   ]
  },
  {
   "cell_type": "code",
   "execution_count": 39,
   "metadata": {
    "id": "Hg_0Ib6g7kSJ"
   },
   "outputs": [],
   "source": [
    "#%pip install catboost\n",
    "import catboost"
   ]
  },
  {
   "cell_type": "code",
   "execution_count": 27,
   "metadata": {
    "colab": {
     "base_uri": "https://localhost:8080/"
    },
    "executionInfo": {
     "elapsed": 35453,
     "status": "ok",
     "timestamp": 1649238800587,
     "user": {
      "displayName": "Иван Пикулин",
      "userId": "13514535674518997815"
     },
     "user_tz": -180
    },
    "id": "7NTfR0oz7zwa",
    "outputId": "1f1e5fdf-ff7c-42d9-ba71-54479f8005a9"
   },
   "outputs": [
    {
     "name": "stdout",
     "output_type": "stream",
     "text": [
      "Learning rate set to 0.019062\n",
      "0:\tlearn: 0.6808001\ttotal: 204ms\tremaining: 3m 24s\n",
      "1:\tlearn: 0.6694015\ttotal: 251ms\tremaining: 2m 5s\n",
      "2:\tlearn: 0.6582985\ttotal: 310ms\tremaining: 1m 42s\n",
      "3:\tlearn: 0.6473096\ttotal: 382ms\tremaining: 1m 35s\n",
      "4:\tlearn: 0.6367572\ttotal: 452ms\tremaining: 1m 29s\n",
      "5:\tlearn: 0.6270450\ttotal: 505ms\tremaining: 1m 23s\n",
      "6:\tlearn: 0.6176994\ttotal: 585ms\tremaining: 1m 22s\n",
      "7:\tlearn: 0.6099360\ttotal: 611ms\tremaining: 1m 15s\n",
      "8:\tlearn: 0.6012847\ttotal: 702ms\tremaining: 1m 17s\n",
      "9:\tlearn: 0.5943431\ttotal: 740ms\tremaining: 1m 13s\n",
      "10:\tlearn: 0.5874735\ttotal: 800ms\tremaining: 1m 11s\n",
      "11:\tlearn: 0.5795372\ttotal: 857ms\tremaining: 1m 10s\n",
      "12:\tlearn: 0.5728374\ttotal: 942ms\tremaining: 1m 11s\n",
      "13:\tlearn: 0.5660346\ttotal: 989ms\tremaining: 1m 9s\n",
      "14:\tlearn: 0.5606966\ttotal: 1.03s\tremaining: 1m 7s\n",
      "15:\tlearn: 0.5552100\ttotal: 1.09s\tremaining: 1m 7s\n",
      "16:\tlearn: 0.5489805\ttotal: 1.18s\tremaining: 1m 8s\n",
      "17:\tlearn: 0.5433063\ttotal: 1.27s\tremaining: 1m 9s\n",
      "18:\tlearn: 0.5383344\ttotal: 1.32s\tremaining: 1m 8s\n",
      "19:\tlearn: 0.5333990\ttotal: 1.41s\tremaining: 1m 9s\n",
      "20:\tlearn: 0.5287265\ttotal: 1.46s\tremaining: 1m 8s\n",
      "21:\tlearn: 0.5241021\ttotal: 1.57s\tremaining: 1m 9s\n",
      "22:\tlearn: 0.5195809\ttotal: 1.66s\tremaining: 1m 10s\n",
      "23:\tlearn: 0.5156435\ttotal: 1.71s\tremaining: 1m 9s\n",
      "24:\tlearn: 0.5129159\ttotal: 1.77s\tremaining: 1m 8s\n",
      "25:\tlearn: 0.5090996\ttotal: 1.83s\tremaining: 1m 8s\n",
      "26:\tlearn: 0.5051858\ttotal: 1.89s\tremaining: 1m 8s\n",
      "27:\tlearn: 0.5012390\ttotal: 1.95s\tremaining: 1m 7s\n",
      "28:\tlearn: 0.4978237\ttotal: 2.03s\tremaining: 1m 8s\n",
      "29:\tlearn: 0.4947143\ttotal: 2.11s\tremaining: 1m 8s\n",
      "30:\tlearn: 0.4915626\ttotal: 2.18s\tremaining: 1m 8s\n",
      "31:\tlearn: 0.4881524\ttotal: 2.28s\tremaining: 1m 8s\n",
      "32:\tlearn: 0.4853109\ttotal: 2.34s\tremaining: 1m 8s\n",
      "33:\tlearn: 0.4825089\ttotal: 2.4s\tremaining: 1m 8s\n",
      "34:\tlearn: 0.4798791\ttotal: 2.46s\tremaining: 1m 7s\n",
      "35:\tlearn: 0.4774769\ttotal: 2.55s\tremaining: 1m 8s\n",
      "36:\tlearn: 0.4751079\ttotal: 2.66s\tremaining: 1m 9s\n",
      "37:\tlearn: 0.4727584\ttotal: 2.77s\tremaining: 1m 10s\n",
      "38:\tlearn: 0.4710338\ttotal: 2.9s\tremaining: 1m 11s\n",
      "39:\tlearn: 0.4697044\ttotal: 2.95s\tremaining: 1m 10s\n",
      "40:\tlearn: 0.4676054\ttotal: 3.02s\tremaining: 1m 10s\n",
      "41:\tlearn: 0.4655482\ttotal: 3.08s\tremaining: 1m 10s\n",
      "42:\tlearn: 0.4640758\ttotal: 3.11s\tremaining: 1m 9s\n",
      "43:\tlearn: 0.4623291\ttotal: 3.16s\tremaining: 1m 8s\n",
      "44:\tlearn: 0.4603416\ttotal: 3.21s\tremaining: 1m 8s\n",
      "45:\tlearn: 0.4582535\ttotal: 3.26s\tremaining: 1m 7s\n",
      "46:\tlearn: 0.4565585\ttotal: 3.31s\tremaining: 1m 7s\n",
      "47:\tlearn: 0.4551831\ttotal: 3.36s\tremaining: 1m 6s\n",
      "48:\tlearn: 0.4533918\ttotal: 3.42s\tremaining: 1m 6s\n",
      "49:\tlearn: 0.4519397\ttotal: 3.48s\tremaining: 1m 6s\n",
      "50:\tlearn: 0.4505407\ttotal: 3.53s\tremaining: 1m 5s\n",
      "51:\tlearn: 0.4490599\ttotal: 3.59s\tremaining: 1m 5s\n",
      "52:\tlearn: 0.4478149\ttotal: 3.64s\tremaining: 1m 5s\n",
      "53:\tlearn: 0.4465344\ttotal: 3.69s\tremaining: 1m 4s\n",
      "54:\tlearn: 0.4452056\ttotal: 3.73s\tremaining: 1m 4s\n",
      "55:\tlearn: 0.4443135\ttotal: 3.77s\tremaining: 1m 3s\n",
      "56:\tlearn: 0.4430395\ttotal: 3.82s\tremaining: 1m 3s\n",
      "57:\tlearn: 0.4423072\ttotal: 3.85s\tremaining: 1m 2s\n",
      "58:\tlearn: 0.4413612\ttotal: 3.9s\tremaining: 1m 2s\n",
      "59:\tlearn: 0.4408791\ttotal: 3.93s\tremaining: 1m 1s\n",
      "60:\tlearn: 0.4398047\ttotal: 3.98s\tremaining: 1m 1s\n",
      "61:\tlearn: 0.4388084\ttotal: 4.03s\tremaining: 1m 1s\n",
      "62:\tlearn: 0.4384165\ttotal: 4.06s\tremaining: 1m\n",
      "63:\tlearn: 0.4378380\ttotal: 4.13s\tremaining: 1m\n",
      "64:\tlearn: 0.4370617\ttotal: 4.2s\tremaining: 1m\n",
      "65:\tlearn: 0.4362802\ttotal: 4.25s\tremaining: 1m\n",
      "66:\tlearn: 0.4351922\ttotal: 4.33s\tremaining: 1m\n",
      "67:\tlearn: 0.4342962\ttotal: 4.39s\tremaining: 1m\n",
      "68:\tlearn: 0.4333544\ttotal: 4.45s\tremaining: 1m\n",
      "69:\tlearn: 0.4325298\ttotal: 4.5s\tremaining: 59.9s\n",
      "70:\tlearn: 0.4315350\ttotal: 4.56s\tremaining: 59.6s\n",
      "71:\tlearn: 0.4306497\ttotal: 4.62s\tremaining: 59.6s\n",
      "72:\tlearn: 0.4298301\ttotal: 4.7s\tremaining: 59.7s\n",
      "73:\tlearn: 0.4292432\ttotal: 4.75s\tremaining: 59.5s\n",
      "74:\tlearn: 0.4285251\ttotal: 4.83s\tremaining: 59.5s\n",
      "75:\tlearn: 0.4277669\ttotal: 4.89s\tremaining: 59.4s\n",
      "76:\tlearn: 0.4271252\ttotal: 4.97s\tremaining: 59.6s\n",
      "77:\tlearn: 0.4269147\ttotal: 4.99s\tremaining: 59s\n",
      "78:\tlearn: 0.4260952\ttotal: 5.05s\tremaining: 58.9s\n",
      "79:\tlearn: 0.4252813\ttotal: 5.11s\tremaining: 58.8s\n",
      "80:\tlearn: 0.4249783\ttotal: 5.15s\tremaining: 58.4s\n",
      "81:\tlearn: 0.4244249\ttotal: 5.2s\tremaining: 58.3s\n",
      "82:\tlearn: 0.4238053\ttotal: 5.28s\tremaining: 58.3s\n",
      "83:\tlearn: 0.4231960\ttotal: 5.36s\tremaining: 58.4s\n",
      "84:\tlearn: 0.4226970\ttotal: 5.41s\tremaining: 58.2s\n",
      "85:\tlearn: 0.4224072\ttotal: 5.44s\tremaining: 57.8s\n",
      "86:\tlearn: 0.4217842\ttotal: 5.51s\tremaining: 57.8s\n",
      "87:\tlearn: 0.4210227\ttotal: 5.56s\tremaining: 57.6s\n",
      "88:\tlearn: 0.4204841\ttotal: 5.62s\tremaining: 57.6s\n",
      "89:\tlearn: 0.4202641\ttotal: 5.67s\tremaining: 57.3s\n",
      "90:\tlearn: 0.4198004\ttotal: 5.74s\tremaining: 57.3s\n",
      "91:\tlearn: 0.4192807\ttotal: 5.79s\tremaining: 57.1s\n",
      "92:\tlearn: 0.4188396\ttotal: 5.84s\tremaining: 56.9s\n",
      "93:\tlearn: 0.4183572\ttotal: 5.9s\tremaining: 56.8s\n",
      "94:\tlearn: 0.4178388\ttotal: 5.95s\tremaining: 56.7s\n",
      "95:\tlearn: 0.4174911\ttotal: 6.04s\tremaining: 56.8s\n",
      "96:\tlearn: 0.4169004\ttotal: 6.11s\tremaining: 56.9s\n",
      "97:\tlearn: 0.4163409\ttotal: 6.17s\tremaining: 56.8s\n",
      "98:\tlearn: 0.4158865\ttotal: 6.24s\tremaining: 56.8s\n",
      "99:\tlearn: 0.4154944\ttotal: 6.31s\tremaining: 56.8s\n",
      "100:\tlearn: 0.4149603\ttotal: 6.37s\tremaining: 56.7s\n",
      "101:\tlearn: 0.4145278\ttotal: 6.44s\tremaining: 56.7s\n",
      "102:\tlearn: 0.4141045\ttotal: 6.51s\tremaining: 56.7s\n",
      "103:\tlearn: 0.4139537\ttotal: 6.54s\tremaining: 56.4s\n",
      "104:\tlearn: 0.4137121\ttotal: 6.61s\tremaining: 56.3s\n",
      "105:\tlearn: 0.4133272\ttotal: 6.67s\tremaining: 56.3s\n",
      "106:\tlearn: 0.4131782\ttotal: 6.74s\tremaining: 56.2s\n",
      "107:\tlearn: 0.4128991\ttotal: 6.79s\tremaining: 56.1s\n",
      "108:\tlearn: 0.4125460\ttotal: 6.86s\tremaining: 56.1s\n",
      "109:\tlearn: 0.4120350\ttotal: 6.94s\tremaining: 56.2s\n",
      "110:\tlearn: 0.4116327\ttotal: 7.02s\tremaining: 56.2s\n",
      "111:\tlearn: 0.4112134\ttotal: 7.07s\tremaining: 56.1s\n",
      "112:\tlearn: 0.4108317\ttotal: 7.15s\tremaining: 56.2s\n",
      "113:\tlearn: 0.4105299\ttotal: 7.21s\tremaining: 56s\n",
      "114:\tlearn: 0.4104720\ttotal: 7.22s\tremaining: 55.6s\n",
      "115:\tlearn: 0.4101572\ttotal: 7.32s\tremaining: 55.8s\n",
      "116:\tlearn: 0.4097954\ttotal: 7.4s\tremaining: 55.8s\n",
      "117:\tlearn: 0.4095170\ttotal: 7.45s\tremaining: 55.7s\n",
      "118:\tlearn: 0.4091901\ttotal: 7.51s\tremaining: 55.6s\n",
      "119:\tlearn: 0.4086698\ttotal: 7.56s\tremaining: 55.4s\n",
      "120:\tlearn: 0.4084116\ttotal: 7.62s\tremaining: 55.4s\n",
      "121:\tlearn: 0.4082701\ttotal: 7.67s\tremaining: 55.2s\n",
      "122:\tlearn: 0.4080043\ttotal: 7.73s\tremaining: 55.1s\n",
      "123:\tlearn: 0.4078631\ttotal: 7.81s\tremaining: 55.2s\n",
      "124:\tlearn: 0.4076840\ttotal: 7.87s\tremaining: 55.1s\n",
      "125:\tlearn: 0.4074652\ttotal: 7.99s\tremaining: 55.4s\n",
      "126:\tlearn: 0.4073131\ttotal: 8.06s\tremaining: 55.4s\n",
      "127:\tlearn: 0.4070227\ttotal: 8.14s\tremaining: 55.4s\n",
      "128:\tlearn: 0.4068099\ttotal: 8.22s\tremaining: 55.5s\n",
      "129:\tlearn: 0.4065317\ttotal: 8.31s\tremaining: 55.6s\n",
      "130:\tlearn: 0.4063003\ttotal: 8.39s\tremaining: 55.7s\n",
      "131:\tlearn: 0.4058953\ttotal: 8.45s\tremaining: 55.6s\n",
      "132:\tlearn: 0.4055409\ttotal: 8.54s\tremaining: 55.7s\n",
      "133:\tlearn: 0.4053883\ttotal: 8.59s\tremaining: 55.5s\n",
      "134:\tlearn: 0.4051054\ttotal: 8.65s\tremaining: 55.4s\n",
      "135:\tlearn: 0.4048443\ttotal: 8.74s\tremaining: 55.6s\n",
      "136:\tlearn: 0.4046713\ttotal: 8.8s\tremaining: 55.4s\n",
      "137:\tlearn: 0.4045145\ttotal: 8.86s\tremaining: 55.3s\n",
      "138:\tlearn: 0.4043614\ttotal: 8.91s\tremaining: 55.2s\n",
      "139:\tlearn: 0.4043133\ttotal: 8.96s\tremaining: 55.1s\n",
      "140:\tlearn: 0.4040919\ttotal: 9.05s\tremaining: 55.1s\n",
      "141:\tlearn: 0.4037834\ttotal: 9.14s\tremaining: 55.2s\n",
      "142:\tlearn: 0.4033863\ttotal: 9.2s\tremaining: 55.1s\n",
      "143:\tlearn: 0.4031895\ttotal: 9.25s\tremaining: 55s\n",
      "144:\tlearn: 0.4028644\ttotal: 9.31s\tremaining: 54.9s\n",
      "145:\tlearn: 0.4028474\ttotal: 9.36s\tremaining: 54.8s\n",
      "146:\tlearn: 0.4026523\ttotal: 9.43s\tremaining: 54.7s\n",
      "147:\tlearn: 0.4023276\ttotal: 9.5s\tremaining: 54.7s\n",
      "148:\tlearn: 0.4021838\ttotal: 9.57s\tremaining: 54.6s\n",
      "149:\tlearn: 0.4020348\ttotal: 9.61s\tremaining: 54.5s\n",
      "150:\tlearn: 0.4019027\ttotal: 9.66s\tremaining: 54.3s\n",
      "151:\tlearn: 0.4017726\ttotal: 9.72s\tremaining: 54.2s\n",
      "152:\tlearn: 0.4013305\ttotal: 9.77s\tremaining: 54.1s\n",
      "153:\tlearn: 0.4011229\ttotal: 9.82s\tremaining: 54s\n",
      "154:\tlearn: 0.4009548\ttotal: 9.87s\tremaining: 53.8s\n",
      "155:\tlearn: 0.4006511\ttotal: 9.96s\tremaining: 53.9s\n",
      "156:\tlearn: 0.4004488\ttotal: 10s\tremaining: 53.8s\n",
      "157:\tlearn: 0.4002916\ttotal: 10.1s\tremaining: 53.6s\n",
      "158:\tlearn: 0.4002635\ttotal: 10.1s\tremaining: 53.3s\n",
      "159:\tlearn: 0.3999705\ttotal: 10.2s\tremaining: 53.3s\n",
      "160:\tlearn: 0.3998532\ttotal: 10.2s\tremaining: 53.2s\n"
     ]
    },
    {
     "name": "stdout",
     "output_type": "stream",
     "text": [
      "161:\tlearn: 0.3997360\ttotal: 10.3s\tremaining: 53.1s\n",
      "162:\tlearn: 0.3994528\ttotal: 10.3s\tremaining: 53s\n",
      "163:\tlearn: 0.3993183\ttotal: 10.4s\tremaining: 52.9s\n",
      "164:\tlearn: 0.3992212\ttotal: 10.4s\tremaining: 52.7s\n",
      "165:\tlearn: 0.3990249\ttotal: 10.5s\tremaining: 52.6s\n",
      "166:\tlearn: 0.3987592\ttotal: 10.5s\tremaining: 52.5s\n",
      "167:\tlearn: 0.3987014\ttotal: 10.6s\tremaining: 52.3s\n",
      "168:\tlearn: 0.3984983\ttotal: 10.6s\tremaining: 52.2s\n",
      "169:\tlearn: 0.3983887\ttotal: 10.7s\tremaining: 52.1s\n",
      "170:\tlearn: 0.3982285\ttotal: 10.7s\tremaining: 52s\n",
      "171:\tlearn: 0.3981047\ttotal: 10.8s\tremaining: 52.1s\n",
      "172:\tlearn: 0.3978516\ttotal: 10.9s\tremaining: 52s\n",
      "173:\tlearn: 0.3977473\ttotal: 10.9s\tremaining: 51.9s\n",
      "174:\tlearn: 0.3977211\ttotal: 11s\tremaining: 51.9s\n",
      "175:\tlearn: 0.3976598\ttotal: 11.1s\tremaining: 51.9s\n",
      "176:\tlearn: 0.3976258\ttotal: 11.1s\tremaining: 51.7s\n",
      "177:\tlearn: 0.3974502\ttotal: 11.2s\tremaining: 51.6s\n",
      "178:\tlearn: 0.3973642\ttotal: 11.2s\tremaining: 51.5s\n",
      "179:\tlearn: 0.3973638\ttotal: 11.2s\tremaining: 51.2s\n",
      "180:\tlearn: 0.3971187\ttotal: 11.3s\tremaining: 51.2s\n",
      "181:\tlearn: 0.3969661\ttotal: 11.4s\tremaining: 51s\n",
      "182:\tlearn: 0.3968251\ttotal: 11.4s\tremaining: 51s\n",
      "183:\tlearn: 0.3968102\ttotal: 11.5s\tremaining: 50.8s\n",
      "184:\tlearn: 0.3967060\ttotal: 11.5s\tremaining: 50.7s\n",
      "185:\tlearn: 0.3966444\ttotal: 11.5s\tremaining: 50.4s\n",
      "186:\tlearn: 0.3966375\ttotal: 11.6s\tremaining: 50.3s\n",
      "187:\tlearn: 0.3965207\ttotal: 11.6s\tremaining: 50.1s\n",
      "188:\tlearn: 0.3962547\ttotal: 11.7s\tremaining: 50s\n",
      "189:\tlearn: 0.3961911\ttotal: 11.7s\tremaining: 50s\n",
      "190:\tlearn: 0.3959461\ttotal: 11.8s\tremaining: 49.9s\n",
      "191:\tlearn: 0.3957091\ttotal: 11.8s\tremaining: 49.7s\n",
      "192:\tlearn: 0.3954749\ttotal: 11.9s\tremaining: 49.7s\n",
      "193:\tlearn: 0.3952395\ttotal: 11.9s\tremaining: 49.6s\n",
      "194:\tlearn: 0.3950896\ttotal: 12s\tremaining: 49.5s\n",
      "195:\tlearn: 0.3949253\ttotal: 12.1s\tremaining: 49.4s\n",
      "196:\tlearn: 0.3948844\ttotal: 12.1s\tremaining: 49.5s\n",
      "197:\tlearn: 0.3946924\ttotal: 12.2s\tremaining: 49.4s\n",
      "198:\tlearn: 0.3946573\ttotal: 12.2s\tremaining: 49.3s\n",
      "199:\tlearn: 0.3945876\ttotal: 12.3s\tremaining: 49.2s\n",
      "200:\tlearn: 0.3944176\ttotal: 12.3s\tremaining: 49.1s\n",
      "201:\tlearn: 0.3943462\ttotal: 12.4s\tremaining: 49.1s\n",
      "202:\tlearn: 0.3941564\ttotal: 12.5s\tremaining: 49s\n",
      "203:\tlearn: 0.3940725\ttotal: 12.5s\tremaining: 49s\n",
      "204:\tlearn: 0.3940288\ttotal: 12.6s\tremaining: 48.9s\n",
      "205:\tlearn: 0.3938097\ttotal: 12.7s\tremaining: 48.8s\n",
      "206:\tlearn: 0.3937329\ttotal: 12.7s\tremaining: 48.7s\n",
      "207:\tlearn: 0.3936859\ttotal: 12.7s\tremaining: 48.5s\n",
      "208:\tlearn: 0.3936786\ttotal: 12.8s\tremaining: 48.4s\n",
      "209:\tlearn: 0.3935251\ttotal: 12.8s\tremaining: 48.3s\n",
      "210:\tlearn: 0.3934718\ttotal: 12.9s\tremaining: 48.2s\n",
      "211:\tlearn: 0.3934003\ttotal: 12.9s\tremaining: 48.1s\n",
      "212:\tlearn: 0.3932271\ttotal: 13s\tremaining: 48s\n",
      "213:\tlearn: 0.3930197\ttotal: 13.1s\tremaining: 48s\n",
      "214:\tlearn: 0.3927984\ttotal: 13.2s\tremaining: 48.1s\n",
      "215:\tlearn: 0.3925692\ttotal: 13.2s\tremaining: 48s\n",
      "216:\tlearn: 0.3923449\ttotal: 13.3s\tremaining: 48s\n",
      "217:\tlearn: 0.3923088\ttotal: 13.4s\tremaining: 47.9s\n",
      "218:\tlearn: 0.3922767\ttotal: 13.4s\tremaining: 47.9s\n",
      "219:\tlearn: 0.3922341\ttotal: 13.4s\tremaining: 47.7s\n",
      "220:\tlearn: 0.3921757\ttotal: 13.5s\tremaining: 47.5s\n",
      "221:\tlearn: 0.3920779\ttotal: 13.5s\tremaining: 47.5s\n",
      "222:\tlearn: 0.3920661\ttotal: 13.6s\tremaining: 47.3s\n",
      "223:\tlearn: 0.3918313\ttotal: 13.6s\tremaining: 47.2s\n",
      "224:\tlearn: 0.3917542\ttotal: 13.7s\tremaining: 47.1s\n",
      "225:\tlearn: 0.3917288\ttotal: 13.7s\tremaining: 47.1s\n",
      "226:\tlearn: 0.3915438\ttotal: 13.8s\tremaining: 47.1s\n",
      "227:\tlearn: 0.3913255\ttotal: 13.9s\tremaining: 47s\n",
      "228:\tlearn: 0.3911315\ttotal: 14s\tremaining: 47s\n",
      "229:\tlearn: 0.3911148\ttotal: 14s\tremaining: 46.9s\n",
      "230:\tlearn: 0.3910457\ttotal: 14.1s\tremaining: 46.8s\n",
      "231:\tlearn: 0.3909343\ttotal: 14.1s\tremaining: 46.7s\n",
      "232:\tlearn: 0.3907319\ttotal: 14.2s\tremaining: 46.7s\n",
      "233:\tlearn: 0.3906488\ttotal: 14.3s\tremaining: 46.7s\n",
      "234:\tlearn: 0.3906318\ttotal: 14.3s\tremaining: 46.5s\n",
      "235:\tlearn: 0.3906179\ttotal: 14.3s\tremaining: 46.5s\n",
      "236:\tlearn: 0.3904746\ttotal: 14.5s\tremaining: 46.6s\n",
      "237:\tlearn: 0.3901712\ttotal: 14.5s\tremaining: 46.5s\n",
      "238:\tlearn: 0.3900082\ttotal: 14.6s\tremaining: 46.5s\n",
      "239:\tlearn: 0.3898691\ttotal: 14.7s\tremaining: 46.4s\n",
      "240:\tlearn: 0.3897259\ttotal: 14.7s\tremaining: 46.4s\n",
      "241:\tlearn: 0.3896947\ttotal: 14.8s\tremaining: 46.3s\n",
      "242:\tlearn: 0.3896103\ttotal: 14.9s\tremaining: 46.3s\n",
      "243:\tlearn: 0.3894706\ttotal: 14.9s\tremaining: 46.2s\n",
      "244:\tlearn: 0.3892864\ttotal: 15s\tremaining: 46.2s\n",
      "245:\tlearn: 0.3892353\ttotal: 15s\tremaining: 46.1s\n",
      "246:\tlearn: 0.3891284\ttotal: 15.1s\tremaining: 46.1s\n",
      "247:\tlearn: 0.3891098\ttotal: 15.2s\tremaining: 46s\n",
      "248:\tlearn: 0.3889481\ttotal: 15.3s\tremaining: 46.1s\n",
      "249:\tlearn: 0.3888478\ttotal: 15.3s\tremaining: 46s\n",
      "250:\tlearn: 0.3885927\ttotal: 15.4s\tremaining: 46s\n",
      "251:\tlearn: 0.3883373\ttotal: 15.5s\tremaining: 46s\n",
      "252:\tlearn: 0.3882879\ttotal: 15.6s\tremaining: 45.9s\n",
      "253:\tlearn: 0.3881414\ttotal: 15.6s\tremaining: 46s\n",
      "254:\tlearn: 0.3881333\ttotal: 15.7s\tremaining: 45.9s\n",
      "255:\tlearn: 0.3880189\ttotal: 15.8s\tremaining: 45.8s\n",
      "256:\tlearn: 0.3878947\ttotal: 15.9s\tremaining: 45.9s\n",
      "257:\tlearn: 0.3877156\ttotal: 15.9s\tremaining: 45.8s\n",
      "258:\tlearn: 0.3877116\ttotal: 16s\tremaining: 45.7s\n",
      "259:\tlearn: 0.3874635\ttotal: 16s\tremaining: 45.6s\n",
      "260:\tlearn: 0.3874582\ttotal: 16.1s\tremaining: 45.5s\n",
      "261:\tlearn: 0.3873893\ttotal: 16.1s\tremaining: 45.4s\n",
      "262:\tlearn: 0.3873564\ttotal: 16.2s\tremaining: 45.3s\n",
      "263:\tlearn: 0.3871874\ttotal: 16.2s\tremaining: 45.2s\n",
      "264:\tlearn: 0.3871461\ttotal: 16.3s\tremaining: 45.1s\n",
      "265:\tlearn: 0.3870893\ttotal: 16.3s\tremaining: 45s\n",
      "266:\tlearn: 0.3870291\ttotal: 16.4s\tremaining: 44.9s\n",
      "267:\tlearn: 0.3868138\ttotal: 16.4s\tremaining: 44.8s\n",
      "268:\tlearn: 0.3867100\ttotal: 16.5s\tremaining: 44.8s\n",
      "269:\tlearn: 0.3866322\ttotal: 16.5s\tremaining: 44.7s\n",
      "270:\tlearn: 0.3866130\ttotal: 16.6s\tremaining: 44.6s\n",
      "271:\tlearn: 0.3864414\ttotal: 16.6s\tremaining: 44.5s\n",
      "272:\tlearn: 0.3863389\ttotal: 16.7s\tremaining: 44.4s\n",
      "273:\tlearn: 0.3861378\ttotal: 16.7s\tremaining: 44.3s\n",
      "274:\tlearn: 0.3859447\ttotal: 16.8s\tremaining: 44.2s\n",
      "275:\tlearn: 0.3858584\ttotal: 16.8s\tremaining: 44.2s\n",
      "276:\tlearn: 0.3857529\ttotal: 16.9s\tremaining: 44.2s\n",
      "277:\tlearn: 0.3856078\ttotal: 17s\tremaining: 44.1s\n",
      "278:\tlearn: 0.3855840\ttotal: 17s\tremaining: 44s\n",
      "279:\tlearn: 0.3854847\ttotal: 17.1s\tremaining: 44s\n",
      "280:\tlearn: 0.3854847\ttotal: 17.1s\tremaining: 43.8s\n",
      "281:\tlearn: 0.3853888\ttotal: 17.2s\tremaining: 43.7s\n",
      "282:\tlearn: 0.3852694\ttotal: 17.2s\tremaining: 43.6s\n",
      "283:\tlearn: 0.3852201\ttotal: 17.3s\tremaining: 43.6s\n",
      "284:\tlearn: 0.3852063\ttotal: 17.3s\tremaining: 43.4s\n",
      "285:\tlearn: 0.3851468\ttotal: 17.4s\tremaining: 43.4s\n",
      "286:\tlearn: 0.3850622\ttotal: 17.5s\tremaining: 43.4s\n",
      "287:\tlearn: 0.3849494\ttotal: 17.5s\tremaining: 43.2s\n",
      "288:\tlearn: 0.3848667\ttotal: 17.5s\tremaining: 43.2s\n",
      "289:\tlearn: 0.3848475\ttotal: 17.6s\tremaining: 43s\n",
      "290:\tlearn: 0.3848365\ttotal: 17.6s\tremaining: 42.9s\n",
      "291:\tlearn: 0.3848143\ttotal: 17.7s\tremaining: 42.9s\n",
      "292:\tlearn: 0.3845338\ttotal: 17.8s\tremaining: 42.9s\n",
      "293:\tlearn: 0.3844541\ttotal: 17.8s\tremaining: 42.8s\n",
      "294:\tlearn: 0.3841720\ttotal: 17.9s\tremaining: 42.7s\n",
      "295:\tlearn: 0.3838988\ttotal: 17.9s\tremaining: 42.7s\n",
      "296:\tlearn: 0.3838219\ttotal: 18s\tremaining: 42.6s\n",
      "297:\tlearn: 0.3837821\ttotal: 18.1s\tremaining: 42.6s\n",
      "298:\tlearn: 0.3837277\ttotal: 18.1s\tremaining: 42.6s\n",
      "299:\tlearn: 0.3837123\ttotal: 18.2s\tremaining: 42.5s\n",
      "300:\tlearn: 0.3836490\ttotal: 18.3s\tremaining: 42.4s\n",
      "301:\tlearn: 0.3835821\ttotal: 18.4s\tremaining: 42.4s\n",
      "302:\tlearn: 0.3834935\ttotal: 18.4s\tremaining: 42.4s\n",
      "303:\tlearn: 0.3834042\ttotal: 18.5s\tremaining: 42.4s\n",
      "304:\tlearn: 0.3832399\ttotal: 18.6s\tremaining: 42.4s\n",
      "305:\tlearn: 0.3831584\ttotal: 18.7s\tremaining: 42.3s\n",
      "306:\tlearn: 0.3830443\ttotal: 18.7s\tremaining: 42.2s\n",
      "307:\tlearn: 0.3830108\ttotal: 18.8s\tremaining: 42.1s\n",
      "308:\tlearn: 0.3828784\ttotal: 18.8s\tremaining: 42s\n",
      "309:\tlearn: 0.3828665\ttotal: 18.9s\tremaining: 42.1s\n",
      "310:\tlearn: 0.3827682\ttotal: 19s\tremaining: 42s\n",
      "311:\tlearn: 0.3827612\ttotal: 19s\tremaining: 41.8s\n",
      "312:\tlearn: 0.3826530\ttotal: 19.1s\tremaining: 41.8s\n",
      "313:\tlearn: 0.3826360\ttotal: 19.1s\tremaining: 41.7s\n",
      "314:\tlearn: 0.3825482\ttotal: 19.2s\tremaining: 41.7s\n",
      "315:\tlearn: 0.3825401\ttotal: 19.2s\tremaining: 41.6s\n",
      "316:\tlearn: 0.3825047\ttotal: 19.3s\tremaining: 41.5s\n",
      "317:\tlearn: 0.3825025\ttotal: 19.3s\tremaining: 41.4s\n",
      "318:\tlearn: 0.3822943\ttotal: 19.4s\tremaining: 41.3s\n",
      "319:\tlearn: 0.3822453\ttotal: 19.4s\tremaining: 41.3s\n",
      "320:\tlearn: 0.3822428\ttotal: 19.5s\tremaining: 41.2s\n"
     ]
    },
    {
     "name": "stdout",
     "output_type": "stream",
     "text": [
      "321:\tlearn: 0.3821201\ttotal: 19.5s\tremaining: 41.1s\n",
      "322:\tlearn: 0.3821200\ttotal: 19.6s\tremaining: 41s\n",
      "323:\tlearn: 0.3821125\ttotal: 19.6s\tremaining: 40.9s\n",
      "324:\tlearn: 0.3820475\ttotal: 19.7s\tremaining: 40.9s\n",
      "325:\tlearn: 0.3820325\ttotal: 19.7s\tremaining: 40.8s\n",
      "326:\tlearn: 0.3819890\ttotal: 19.8s\tremaining: 40.7s\n",
      "327:\tlearn: 0.3819848\ttotal: 19.8s\tremaining: 40.7s\n",
      "328:\tlearn: 0.3819578\ttotal: 19.9s\tremaining: 40.6s\n",
      "329:\tlearn: 0.3818937\ttotal: 19.9s\tremaining: 40.5s\n",
      "330:\tlearn: 0.3818936\ttotal: 20s\tremaining: 40.4s\n",
      "331:\tlearn: 0.3817035\ttotal: 20s\tremaining: 40.3s\n",
      "332:\tlearn: 0.3816923\ttotal: 20.1s\tremaining: 40.2s\n",
      "333:\tlearn: 0.3815372\ttotal: 20.1s\tremaining: 40.1s\n",
      "334:\tlearn: 0.3814635\ttotal: 20.2s\tremaining: 40.1s\n",
      "335:\tlearn: 0.3814628\ttotal: 20.2s\tremaining: 40s\n",
      "336:\tlearn: 0.3814482\ttotal: 20.3s\tremaining: 39.9s\n",
      "337:\tlearn: 0.3814257\ttotal: 20.3s\tremaining: 39.8s\n",
      "338:\tlearn: 0.3813057\ttotal: 20.4s\tremaining: 39.7s\n",
      "339:\tlearn: 0.3813042\ttotal: 20.4s\tremaining: 39.6s\n",
      "340:\tlearn: 0.3812096\ttotal: 20.4s\tremaining: 39.5s\n",
      "341:\tlearn: 0.3811485\ttotal: 20.5s\tremaining: 39.4s\n",
      "342:\tlearn: 0.3811485\ttotal: 20.5s\tremaining: 39.3s\n",
      "343:\tlearn: 0.3809412\ttotal: 20.6s\tremaining: 39.2s\n",
      "344:\tlearn: 0.3809021\ttotal: 20.6s\tremaining: 39.2s\n",
      "345:\tlearn: 0.3807765\ttotal: 20.7s\tremaining: 39.1s\n",
      "346:\tlearn: 0.3807225\ttotal: 20.7s\tremaining: 39s\n",
      "347:\tlearn: 0.3807170\ttotal: 20.8s\tremaining: 39s\n",
      "348:\tlearn: 0.3807168\ttotal: 20.8s\tremaining: 38.8s\n",
      "349:\tlearn: 0.3807089\ttotal: 20.9s\tremaining: 38.8s\n",
      "350:\tlearn: 0.3806786\ttotal: 20.9s\tremaining: 38.7s\n",
      "351:\tlearn: 0.3805741\ttotal: 21s\tremaining: 38.7s\n",
      "352:\tlearn: 0.3804476\ttotal: 21.1s\tremaining: 38.6s\n",
      "353:\tlearn: 0.3802616\ttotal: 21.1s\tremaining: 38.5s\n",
      "354:\tlearn: 0.3802571\ttotal: 21.2s\tremaining: 38.5s\n",
      "355:\tlearn: 0.3802567\ttotal: 21.2s\tremaining: 38.3s\n",
      "356:\tlearn: 0.3801634\ttotal: 21.2s\tremaining: 38.2s\n",
      "357:\tlearn: 0.3801560\ttotal: 21.3s\tremaining: 38.2s\n",
      "358:\tlearn: 0.3801560\ttotal: 21.3s\tremaining: 38s\n",
      "359:\tlearn: 0.3801047\ttotal: 21.3s\tremaining: 37.9s\n",
      "360:\tlearn: 0.3800900\ttotal: 21.4s\tremaining: 37.9s\n",
      "361:\tlearn: 0.3799830\ttotal: 21.4s\tremaining: 37.8s\n",
      "362:\tlearn: 0.3799830\ttotal: 21.5s\tremaining: 37.7s\n",
      "363:\tlearn: 0.3799647\ttotal: 21.5s\tremaining: 37.6s\n",
      "364:\tlearn: 0.3799442\ttotal: 21.6s\tremaining: 37.5s\n",
      "365:\tlearn: 0.3796043\ttotal: 21.6s\tremaining: 37.5s\n",
      "366:\tlearn: 0.3796043\ttotal: 21.7s\tremaining: 37.4s\n",
      "367:\tlearn: 0.3795514\ttotal: 21.7s\tremaining: 37.3s\n",
      "368:\tlearn: 0.3793405\ttotal: 21.8s\tremaining: 37.2s\n",
      "369:\tlearn: 0.3791506\ttotal: 21.8s\tremaining: 37.2s\n",
      "370:\tlearn: 0.3790964\ttotal: 21.9s\tremaining: 37.2s\n",
      "371:\tlearn: 0.3789195\ttotal: 22s\tremaining: 37.1s\n",
      "372:\tlearn: 0.3788030\ttotal: 22s\tremaining: 37.1s\n",
      "373:\tlearn: 0.3787592\ttotal: 22.1s\tremaining: 37s\n",
      "374:\tlearn: 0.3786769\ttotal: 22.2s\tremaining: 36.9s\n",
      "375:\tlearn: 0.3786017\ttotal: 22.2s\tremaining: 36.9s\n",
      "376:\tlearn: 0.3785967\ttotal: 22.3s\tremaining: 36.8s\n",
      "377:\tlearn: 0.3785951\ttotal: 22.3s\tremaining: 36.7s\n",
      "378:\tlearn: 0.3784557\ttotal: 22.4s\tremaining: 36.7s\n",
      "379:\tlearn: 0.3783572\ttotal: 22.4s\tremaining: 36.6s\n",
      "380:\tlearn: 0.3783438\ttotal: 22.5s\tremaining: 36.5s\n",
      "381:\tlearn: 0.3783384\ttotal: 22.5s\tremaining: 36.5s\n",
      "382:\tlearn: 0.3783056\ttotal: 22.6s\tremaining: 36.4s\n",
      "383:\tlearn: 0.3782770\ttotal: 22.6s\tremaining: 36.3s\n",
      "384:\tlearn: 0.3781447\ttotal: 22.7s\tremaining: 36.2s\n",
      "385:\tlearn: 0.3780803\ttotal: 22.7s\tremaining: 36.2s\n",
      "386:\tlearn: 0.3780309\ttotal: 22.8s\tremaining: 36.1s\n",
      "387:\tlearn: 0.3778622\ttotal: 22.9s\tremaining: 36.1s\n",
      "388:\tlearn: 0.3777926\ttotal: 22.9s\tremaining: 36s\n",
      "389:\tlearn: 0.3775427\ttotal: 23s\tremaining: 36s\n",
      "390:\tlearn: 0.3775311\ttotal: 23s\tremaining: 35.9s\n",
      "391:\tlearn: 0.3775114\ttotal: 23.1s\tremaining: 35.9s\n",
      "392:\tlearn: 0.3774636\ttotal: 23.2s\tremaining: 35.8s\n",
      "393:\tlearn: 0.3773482\ttotal: 23.2s\tremaining: 35.7s\n",
      "394:\tlearn: 0.3772444\ttotal: 23.3s\tremaining: 35.7s\n",
      "395:\tlearn: 0.3771782\ttotal: 23.4s\tremaining: 35.7s\n",
      "396:\tlearn: 0.3769657\ttotal: 23.4s\tremaining: 35.6s\n",
      "397:\tlearn: 0.3769581\ttotal: 23.5s\tremaining: 35.5s\n",
      "398:\tlearn: 0.3769069\ttotal: 23.6s\tremaining: 35.5s\n",
      "399:\tlearn: 0.3768250\ttotal: 23.6s\tremaining: 35.5s\n",
      "400:\tlearn: 0.3766387\ttotal: 23.7s\tremaining: 35.4s\n",
      "401:\tlearn: 0.3766023\ttotal: 23.8s\tremaining: 35.4s\n",
      "402:\tlearn: 0.3765683\ttotal: 23.8s\tremaining: 35.3s\n",
      "403:\tlearn: 0.3764465\ttotal: 23.9s\tremaining: 35.2s\n",
      "404:\tlearn: 0.3763695\ttotal: 23.9s\tremaining: 35.2s\n",
      "405:\tlearn: 0.3762821\ttotal: 24s\tremaining: 35.1s\n",
      "406:\tlearn: 0.3762367\ttotal: 24s\tremaining: 35s\n",
      "407:\tlearn: 0.3761854\ttotal: 24.1s\tremaining: 34.9s\n",
      "408:\tlearn: 0.3760536\ttotal: 24.1s\tremaining: 34.9s\n",
      "409:\tlearn: 0.3760536\ttotal: 24.1s\tremaining: 34.7s\n",
      "410:\tlearn: 0.3759679\ttotal: 24.2s\tremaining: 34.7s\n",
      "411:\tlearn: 0.3758835\ttotal: 24.3s\tremaining: 34.7s\n",
      "412:\tlearn: 0.3758799\ttotal: 24.4s\tremaining: 34.6s\n",
      "413:\tlearn: 0.3758785\ttotal: 24.4s\tremaining: 34.6s\n",
      "414:\tlearn: 0.3757046\ttotal: 24.5s\tremaining: 34.5s\n",
      "415:\tlearn: 0.3756454\ttotal: 24.6s\tremaining: 34.6s\n",
      "416:\tlearn: 0.3753904\ttotal: 24.7s\tremaining: 34.5s\n",
      "417:\tlearn: 0.3753497\ttotal: 24.8s\tremaining: 34.5s\n",
      "418:\tlearn: 0.3751991\ttotal: 24.8s\tremaining: 34.4s\n",
      "419:\tlearn: 0.3750748\ttotal: 24.9s\tremaining: 34.3s\n",
      "420:\tlearn: 0.3749243\ttotal: 24.9s\tremaining: 34.3s\n",
      "421:\tlearn: 0.3748094\ttotal: 25s\tremaining: 34.2s\n",
      "422:\tlearn: 0.3747263\ttotal: 25s\tremaining: 34.1s\n",
      "423:\tlearn: 0.3747077\ttotal: 25.1s\tremaining: 34.1s\n",
      "424:\tlearn: 0.3746643\ttotal: 25.1s\tremaining: 34s\n",
      "425:\tlearn: 0.3746462\ttotal: 25.2s\tremaining: 33.9s\n",
      "426:\tlearn: 0.3745679\ttotal: 25.2s\tremaining: 33.9s\n",
      "427:\tlearn: 0.3745495\ttotal: 25.3s\tremaining: 33.8s\n",
      "428:\tlearn: 0.3744401\ttotal: 25.3s\tremaining: 33.7s\n",
      "429:\tlearn: 0.3742326\ttotal: 25.4s\tremaining: 33.7s\n",
      "430:\tlearn: 0.3740904\ttotal: 25.4s\tremaining: 33.6s\n",
      "431:\tlearn: 0.3740820\ttotal: 25.5s\tremaining: 33.5s\n",
      "432:\tlearn: 0.3739740\ttotal: 25.6s\tremaining: 33.5s\n",
      "433:\tlearn: 0.3739559\ttotal: 25.6s\tremaining: 33.4s\n",
      "434:\tlearn: 0.3739172\ttotal: 25.7s\tremaining: 33.3s\n",
      "435:\tlearn: 0.3738135\ttotal: 25.7s\tremaining: 33.3s\n",
      "436:\tlearn: 0.3737028\ttotal: 25.8s\tremaining: 33.2s\n",
      "437:\tlearn: 0.3736195\ttotal: 25.9s\tremaining: 33.3s\n",
      "438:\tlearn: 0.3734893\ttotal: 26s\tremaining: 33.2s\n",
      "439:\tlearn: 0.3732033\ttotal: 26.1s\tremaining: 33.2s\n",
      "440:\tlearn: 0.3730915\ttotal: 26.1s\tremaining: 33.1s\n",
      "441:\tlearn: 0.3729864\ttotal: 26.2s\tremaining: 33.1s\n",
      "442:\tlearn: 0.3729469\ttotal: 26.2s\tremaining: 33s\n",
      "443:\tlearn: 0.3729380\ttotal: 26.3s\tremaining: 32.9s\n",
      "444:\tlearn: 0.3728760\ttotal: 26.3s\tremaining: 32.8s\n",
      "445:\tlearn: 0.3727550\ttotal: 26.4s\tremaining: 32.8s\n",
      "446:\tlearn: 0.3724629\ttotal: 26.5s\tremaining: 32.7s\n",
      "447:\tlearn: 0.3724335\ttotal: 26.5s\tremaining: 32.7s\n",
      "448:\tlearn: 0.3723422\ttotal: 26.6s\tremaining: 32.6s\n",
      "449:\tlearn: 0.3722280\ttotal: 26.6s\tremaining: 32.6s\n",
      "450:\tlearn: 0.3721667\ttotal: 26.7s\tremaining: 32.5s\n",
      "451:\tlearn: 0.3721611\ttotal: 26.7s\tremaining: 32.4s\n",
      "452:\tlearn: 0.3721483\ttotal: 26.8s\tremaining: 32.4s\n",
      "453:\tlearn: 0.3721262\ttotal: 26.9s\tremaining: 32.3s\n",
      "454:\tlearn: 0.3720984\ttotal: 26.9s\tremaining: 32.2s\n",
      "455:\tlearn: 0.3720573\ttotal: 27s\tremaining: 32.2s\n",
      "456:\tlearn: 0.3720465\ttotal: 27s\tremaining: 32.1s\n",
      "457:\tlearn: 0.3718587\ttotal: 27.1s\tremaining: 32s\n",
      "458:\tlearn: 0.3718202\ttotal: 27.1s\tremaining: 32s\n",
      "459:\tlearn: 0.3717523\ttotal: 27.2s\tremaining: 31.9s\n",
      "460:\tlearn: 0.3716044\ttotal: 27.2s\tremaining: 31.8s\n",
      "461:\tlearn: 0.3715276\ttotal: 27.3s\tremaining: 31.8s\n",
      "462:\tlearn: 0.3714582\ttotal: 27.3s\tremaining: 31.7s\n",
      "463:\tlearn: 0.3713986\ttotal: 27.4s\tremaining: 31.7s\n",
      "464:\tlearn: 0.3713046\ttotal: 27.5s\tremaining: 31.6s\n",
      "465:\tlearn: 0.3712765\ttotal: 27.5s\tremaining: 31.5s\n",
      "466:\tlearn: 0.3710502\ttotal: 27.6s\tremaining: 31.5s\n",
      "467:\tlearn: 0.3709001\ttotal: 27.6s\tremaining: 31.4s\n",
      "468:\tlearn: 0.3707721\ttotal: 27.7s\tremaining: 31.4s\n",
      "469:\tlearn: 0.3706859\ttotal: 27.8s\tremaining: 31.3s\n",
      "470:\tlearn: 0.3705531\ttotal: 27.8s\tremaining: 31.3s\n",
      "471:\tlearn: 0.3704344\ttotal: 27.9s\tremaining: 31.2s\n",
      "472:\tlearn: 0.3702731\ttotal: 28s\tremaining: 31.2s\n",
      "473:\tlearn: 0.3702557\ttotal: 28s\tremaining: 31.1s\n",
      "474:\tlearn: 0.3700155\ttotal: 28.1s\tremaining: 31s\n",
      "475:\tlearn: 0.3699920\ttotal: 28.2s\tremaining: 31s\n",
      "476:\tlearn: 0.3699770\ttotal: 28.2s\tremaining: 30.9s\n",
      "477:\tlearn: 0.3699748\ttotal: 28.3s\tremaining: 30.9s\n",
      "478:\tlearn: 0.3699039\ttotal: 28.3s\tremaining: 30.8s\n",
      "479:\tlearn: 0.3698388\ttotal: 28.4s\tremaining: 30.8s\n",
      "480:\tlearn: 0.3697518\ttotal: 28.4s\tremaining: 30.7s\n",
      "481:\tlearn: 0.3696224\ttotal: 28.5s\tremaining: 30.6s\n"
     ]
    },
    {
     "name": "stdout",
     "output_type": "stream",
     "text": [
      "482:\tlearn: 0.3694841\ttotal: 28.5s\tremaining: 30.6s\n",
      "483:\tlearn: 0.3694408\ttotal: 28.6s\tremaining: 30.5s\n",
      "484:\tlearn: 0.3693272\ttotal: 28.7s\tremaining: 30.4s\n",
      "485:\tlearn: 0.3692454\ttotal: 28.9s\tremaining: 30.5s\n",
      "486:\tlearn: 0.3691599\ttotal: 28.9s\tremaining: 30.5s\n",
      "487:\tlearn: 0.3690508\ttotal: 29s\tremaining: 30.4s\n",
      "488:\tlearn: 0.3689505\ttotal: 29.1s\tremaining: 30.4s\n",
      "489:\tlearn: 0.3688593\ttotal: 29.2s\tremaining: 30.4s\n",
      "490:\tlearn: 0.3686977\ttotal: 29.2s\tremaining: 30.3s\n",
      "491:\tlearn: 0.3685860\ttotal: 29.3s\tremaining: 30.3s\n",
      "492:\tlearn: 0.3684510\ttotal: 29.4s\tremaining: 30.3s\n",
      "493:\tlearn: 0.3684144\ttotal: 29.5s\tremaining: 30.2s\n",
      "494:\tlearn: 0.3682563\ttotal: 29.6s\tremaining: 30.2s\n",
      "495:\tlearn: 0.3681647\ttotal: 29.6s\tremaining: 30.1s\n",
      "496:\tlearn: 0.3679971\ttotal: 29.7s\tremaining: 30s\n",
      "497:\tlearn: 0.3679044\ttotal: 29.8s\tremaining: 30s\n",
      "498:\tlearn: 0.3678991\ttotal: 29.9s\tremaining: 30s\n",
      "499:\tlearn: 0.3677369\ttotal: 30s\tremaining: 30s\n",
      "500:\tlearn: 0.3675520\ttotal: 30s\tremaining: 29.9s\n",
      "501:\tlearn: 0.3675280\ttotal: 30.1s\tremaining: 29.9s\n",
      "502:\tlearn: 0.3674961\ttotal: 30.2s\tremaining: 29.8s\n",
      "503:\tlearn: 0.3674415\ttotal: 30.2s\tremaining: 29.7s\n",
      "504:\tlearn: 0.3672767\ttotal: 30.4s\tremaining: 29.8s\n",
      "505:\tlearn: 0.3672531\ttotal: 30.4s\tremaining: 29.7s\n",
      "506:\tlearn: 0.3671496\ttotal: 30.5s\tremaining: 29.7s\n",
      "507:\tlearn: 0.3669288\ttotal: 30.6s\tremaining: 29.6s\n",
      "508:\tlearn: 0.3669023\ttotal: 30.6s\tremaining: 29.6s\n",
      "509:\tlearn: 0.3667937\ttotal: 30.7s\tremaining: 29.5s\n",
      "510:\tlearn: 0.3666630\ttotal: 30.8s\tremaining: 29.5s\n",
      "511:\tlearn: 0.3665313\ttotal: 30.9s\tremaining: 29.4s\n",
      "512:\tlearn: 0.3664629\ttotal: 30.9s\tremaining: 29.4s\n",
      "513:\tlearn: 0.3663382\ttotal: 31s\tremaining: 29.3s\n",
      "514:\tlearn: 0.3662730\ttotal: 31.1s\tremaining: 29.3s\n",
      "515:\tlearn: 0.3660516\ttotal: 31.2s\tremaining: 29.2s\n",
      "516:\tlearn: 0.3658008\ttotal: 31.3s\tremaining: 29.2s\n",
      "517:\tlearn: 0.3657138\ttotal: 31.3s\tremaining: 29.1s\n",
      "518:\tlearn: 0.3656353\ttotal: 31.4s\tremaining: 29.1s\n",
      "519:\tlearn: 0.3654614\ttotal: 31.5s\tremaining: 29s\n",
      "520:\tlearn: 0.3653932\ttotal: 31.5s\tremaining: 29s\n",
      "521:\tlearn: 0.3652413\ttotal: 31.6s\tremaining: 28.9s\n",
      "522:\tlearn: 0.3652105\ttotal: 31.7s\tremaining: 28.9s\n",
      "523:\tlearn: 0.3651752\ttotal: 31.8s\tremaining: 28.8s\n",
      "524:\tlearn: 0.3651272\ttotal: 31.8s\tremaining: 28.8s\n",
      "525:\tlearn: 0.3649898\ttotal: 31.9s\tremaining: 28.7s\n",
      "526:\tlearn: 0.3648967\ttotal: 32s\tremaining: 28.7s\n",
      "527:\tlearn: 0.3648949\ttotal: 32s\tremaining: 28.6s\n",
      "528:\tlearn: 0.3647655\ttotal: 32.1s\tremaining: 28.6s\n",
      "529:\tlearn: 0.3645833\ttotal: 32.2s\tremaining: 28.5s\n",
      "530:\tlearn: 0.3645159\ttotal: 32.2s\tremaining: 28.5s\n",
      "531:\tlearn: 0.3643161\ttotal: 32.3s\tremaining: 28.4s\n",
      "532:\tlearn: 0.3642422\ttotal: 32.3s\tremaining: 28.3s\n",
      "533:\tlearn: 0.3642041\ttotal: 32.4s\tremaining: 28.3s\n",
      "534:\tlearn: 0.3641141\ttotal: 32.4s\tremaining: 28.2s\n",
      "535:\tlearn: 0.3640777\ttotal: 32.5s\tremaining: 28.1s\n",
      "536:\tlearn: 0.3640591\ttotal: 32.5s\tremaining: 28.1s\n",
      "537:\tlearn: 0.3640261\ttotal: 32.6s\tremaining: 28s\n",
      "538:\tlearn: 0.3639913\ttotal: 32.6s\tremaining: 27.9s\n",
      "539:\tlearn: 0.3639263\ttotal: 32.7s\tremaining: 27.9s\n",
      "540:\tlearn: 0.3638128\ttotal: 32.8s\tremaining: 27.8s\n",
      "541:\tlearn: 0.3636997\ttotal: 32.8s\tremaining: 27.7s\n",
      "542:\tlearn: 0.3636436\ttotal: 32.9s\tremaining: 27.7s\n",
      "543:\tlearn: 0.3635379\ttotal: 32.9s\tremaining: 27.6s\n",
      "544:\tlearn: 0.3634288\ttotal: 33s\tremaining: 27.5s\n",
      "545:\tlearn: 0.3632486\ttotal: 33s\tremaining: 27.4s\n",
      "546:\tlearn: 0.3630950\ttotal: 33.1s\tremaining: 27.4s\n",
      "547:\tlearn: 0.3630741\ttotal: 33.1s\tremaining: 27.3s\n",
      "548:\tlearn: 0.3629875\ttotal: 33.2s\tremaining: 27.2s\n",
      "549:\tlearn: 0.3629569\ttotal: 33.2s\tremaining: 27.2s\n",
      "550:\tlearn: 0.3628639\ttotal: 33.3s\tremaining: 27.1s\n",
      "551:\tlearn: 0.3627846\ttotal: 33.3s\tremaining: 27s\n",
      "552:\tlearn: 0.3626734\ttotal: 33.4s\tremaining: 27s\n",
      "553:\tlearn: 0.3625408\ttotal: 33.4s\tremaining: 26.9s\n",
      "554:\tlearn: 0.3625217\ttotal: 33.5s\tremaining: 26.8s\n",
      "555:\tlearn: 0.3624290\ttotal: 33.5s\tremaining: 26.8s\n",
      "556:\tlearn: 0.3623120\ttotal: 33.6s\tremaining: 26.7s\n",
      "557:\tlearn: 0.3621724\ttotal: 33.6s\tremaining: 26.6s\n",
      "558:\tlearn: 0.3621074\ttotal: 33.7s\tremaining: 26.6s\n",
      "559:\tlearn: 0.3619986\ttotal: 33.8s\tremaining: 26.6s\n",
      "560:\tlearn: 0.3618076\ttotal: 33.9s\tremaining: 26.5s\n",
      "561:\tlearn: 0.3617502\ttotal: 34s\tremaining: 26.5s\n",
      "562:\tlearn: 0.3617052\ttotal: 34.1s\tremaining: 26.4s\n",
      "563:\tlearn: 0.3616403\ttotal: 34.1s\tremaining: 26.4s\n",
      "564:\tlearn: 0.3615648\ttotal: 34.2s\tremaining: 26.3s\n",
      "565:\tlearn: 0.3615087\ttotal: 34.3s\tremaining: 26.3s\n",
      "566:\tlearn: 0.3614233\ttotal: 34.4s\tremaining: 26.2s\n",
      "567:\tlearn: 0.3614201\ttotal: 34.4s\tremaining: 26.2s\n",
      "568:\tlearn: 0.3613398\ttotal: 34.4s\tremaining: 26.1s\n",
      "569:\tlearn: 0.3612859\ttotal: 34.5s\tremaining: 26s\n",
      "570:\tlearn: 0.3611652\ttotal: 34.6s\tremaining: 26s\n",
      "571:\tlearn: 0.3611101\ttotal: 34.6s\tremaining: 25.9s\n",
      "572:\tlearn: 0.3610416\ttotal: 34.7s\tremaining: 25.8s\n",
      "573:\tlearn: 0.3610335\ttotal: 34.7s\tremaining: 25.8s\n",
      "574:\tlearn: 0.3609525\ttotal: 34.8s\tremaining: 25.7s\n",
      "575:\tlearn: 0.3609007\ttotal: 34.8s\tremaining: 25.6s\n",
      "576:\tlearn: 0.3607958\ttotal: 34.9s\tremaining: 25.6s\n",
      "577:\tlearn: 0.3606797\ttotal: 34.9s\tremaining: 25.5s\n",
      "578:\tlearn: 0.3605889\ttotal: 35s\tremaining: 25.4s\n",
      "579:\tlearn: 0.3605232\ttotal: 35s\tremaining: 25.4s\n",
      "580:\tlearn: 0.3603533\ttotal: 35.1s\tremaining: 25.3s\n",
      "581:\tlearn: 0.3602798\ttotal: 35.1s\tremaining: 25.2s\n",
      "582:\tlearn: 0.3601426\ttotal: 35.2s\tremaining: 25.2s\n",
      "583:\tlearn: 0.3600694\ttotal: 35.3s\tremaining: 25.1s\n",
      "584:\tlearn: 0.3599166\ttotal: 35.3s\tremaining: 25.1s\n",
      "585:\tlearn: 0.3598916\ttotal: 35.4s\tremaining: 25s\n",
      "586:\tlearn: 0.3598027\ttotal: 35.5s\tremaining: 25s\n",
      "587:\tlearn: 0.3596573\ttotal: 35.6s\tremaining: 24.9s\n",
      "588:\tlearn: 0.3595265\ttotal: 35.6s\tremaining: 24.9s\n",
      "589:\tlearn: 0.3594122\ttotal: 35.7s\tremaining: 24.8s\n",
      "590:\tlearn: 0.3593789\ttotal: 35.8s\tremaining: 24.7s\n",
      "591:\tlearn: 0.3593039\ttotal: 35.8s\tremaining: 24.7s\n",
      "592:\tlearn: 0.3591232\ttotal: 35.9s\tremaining: 24.6s\n",
      "593:\tlearn: 0.3589917\ttotal: 35.9s\tremaining: 24.6s\n",
      "594:\tlearn: 0.3588853\ttotal: 36s\tremaining: 24.5s\n",
      "595:\tlearn: 0.3588826\ttotal: 36s\tremaining: 24.4s\n",
      "596:\tlearn: 0.3587452\ttotal: 36.1s\tremaining: 24.4s\n",
      "597:\tlearn: 0.3586588\ttotal: 36.1s\tremaining: 24.3s\n",
      "598:\tlearn: 0.3585505\ttotal: 36.2s\tremaining: 24.2s\n",
      "599:\tlearn: 0.3584787\ttotal: 36.2s\tremaining: 24.2s\n",
      "600:\tlearn: 0.3583740\ttotal: 36.3s\tremaining: 24.1s\n",
      "601:\tlearn: 0.3582910\ttotal: 36.3s\tremaining: 24s\n",
      "602:\tlearn: 0.3582352\ttotal: 36.4s\tremaining: 24s\n",
      "603:\tlearn: 0.3581153\ttotal: 36.5s\tremaining: 23.9s\n",
      "604:\tlearn: 0.3580713\ttotal: 36.6s\tremaining: 23.9s\n",
      "605:\tlearn: 0.3579317\ttotal: 36.7s\tremaining: 23.9s\n",
      "606:\tlearn: 0.3578572\ttotal: 36.7s\tremaining: 23.8s\n",
      "607:\tlearn: 0.3577237\ttotal: 36.8s\tremaining: 23.7s\n",
      "608:\tlearn: 0.3576754\ttotal: 36.9s\tremaining: 23.7s\n",
      "609:\tlearn: 0.3575964\ttotal: 36.9s\tremaining: 23.6s\n",
      "610:\tlearn: 0.3575442\ttotal: 37s\tremaining: 23.5s\n",
      "611:\tlearn: 0.3574647\ttotal: 37s\tremaining: 23.5s\n",
      "612:\tlearn: 0.3574476\ttotal: 37.1s\tremaining: 23.4s\n",
      "613:\tlearn: 0.3573523\ttotal: 37.2s\tremaining: 23.4s\n",
      "614:\tlearn: 0.3572074\ttotal: 37.3s\tremaining: 23.3s\n",
      "615:\tlearn: 0.3571723\ttotal: 37.4s\tremaining: 23.3s\n",
      "616:\tlearn: 0.3571298\ttotal: 37.4s\tremaining: 23.2s\n",
      "617:\tlearn: 0.3570299\ttotal: 37.5s\tremaining: 23.2s\n",
      "618:\tlearn: 0.3569566\ttotal: 37.5s\tremaining: 23.1s\n",
      "619:\tlearn: 0.3567905\ttotal: 37.6s\tremaining: 23.1s\n",
      "620:\tlearn: 0.3566947\ttotal: 37.7s\tremaining: 23s\n",
      "621:\tlearn: 0.3566868\ttotal: 37.7s\tremaining: 22.9s\n",
      "622:\tlearn: 0.3566091\ttotal: 37.8s\tremaining: 22.9s\n",
      "623:\tlearn: 0.3564791\ttotal: 37.8s\tremaining: 22.8s\n",
      "624:\tlearn: 0.3563797\ttotal: 37.9s\tremaining: 22.7s\n",
      "625:\tlearn: 0.3562537\ttotal: 37.9s\tremaining: 22.7s\n",
      "626:\tlearn: 0.3561316\ttotal: 38s\tremaining: 22.6s\n",
      "627:\tlearn: 0.3560249\ttotal: 38s\tremaining: 22.5s\n",
      "628:\tlearn: 0.3560094\ttotal: 38.1s\tremaining: 22.5s\n",
      "629:\tlearn: 0.3559006\ttotal: 38.1s\tremaining: 22.4s\n",
      "630:\tlearn: 0.3558351\ttotal: 38.2s\tremaining: 22.3s\n",
      "631:\tlearn: 0.3557435\ttotal: 38.2s\tremaining: 22.3s\n",
      "632:\tlearn: 0.3557013\ttotal: 38.3s\tremaining: 22.2s\n",
      "633:\tlearn: 0.3556502\ttotal: 38.4s\tremaining: 22.1s\n",
      "634:\tlearn: 0.3555794\ttotal: 38.4s\tremaining: 22.1s\n",
      "635:\tlearn: 0.3555060\ttotal: 38.4s\tremaining: 22s\n",
      "636:\tlearn: 0.3553667\ttotal: 38.5s\tremaining: 21.9s\n",
      "637:\tlearn: 0.3552642\ttotal: 38.6s\tremaining: 21.9s\n",
      "638:\tlearn: 0.3552295\ttotal: 38.7s\tremaining: 21.9s\n",
      "639:\tlearn: 0.3550104\ttotal: 38.7s\tremaining: 21.8s\n",
      "640:\tlearn: 0.3550015\ttotal: 38.8s\tremaining: 21.7s\n",
      "641:\tlearn: 0.3549321\ttotal: 38.8s\tremaining: 21.7s\n"
     ]
    },
    {
     "name": "stdout",
     "output_type": "stream",
     "text": [
      "642:\tlearn: 0.3547755\ttotal: 38.9s\tremaining: 21.6s\n",
      "643:\tlearn: 0.3545724\ttotal: 39s\tremaining: 21.5s\n",
      "644:\tlearn: 0.3544761\ttotal: 39.1s\tremaining: 21.5s\n",
      "645:\tlearn: 0.3544742\ttotal: 39.1s\tremaining: 21.4s\n",
      "646:\tlearn: 0.3544291\ttotal: 39.2s\tremaining: 21.4s\n",
      "647:\tlearn: 0.3543060\ttotal: 39.3s\tremaining: 21.3s\n",
      "648:\tlearn: 0.3540742\ttotal: 39.3s\tremaining: 21.3s\n",
      "649:\tlearn: 0.3540716\ttotal: 39.4s\tremaining: 21.2s\n",
      "650:\tlearn: 0.3540635\ttotal: 39.5s\tremaining: 21.2s\n",
      "651:\tlearn: 0.3539615\ttotal: 39.5s\tremaining: 21.1s\n",
      "652:\tlearn: 0.3538848\ttotal: 39.6s\tremaining: 21s\n",
      "653:\tlearn: 0.3538706\ttotal: 39.6s\tremaining: 21s\n",
      "654:\tlearn: 0.3538097\ttotal: 39.7s\tremaining: 20.9s\n",
      "655:\tlearn: 0.3538018\ttotal: 39.8s\tremaining: 20.9s\n",
      "656:\tlearn: 0.3537368\ttotal: 39.9s\tremaining: 20.8s\n",
      "657:\tlearn: 0.3536318\ttotal: 39.9s\tremaining: 20.8s\n",
      "658:\tlearn: 0.3533455\ttotal: 40s\tremaining: 20.7s\n",
      "659:\tlearn: 0.3532640\ttotal: 40.1s\tremaining: 20.6s\n",
      "660:\tlearn: 0.3532218\ttotal: 40.2s\tremaining: 20.6s\n",
      "661:\tlearn: 0.3531606\ttotal: 40.2s\tremaining: 20.5s\n",
      "662:\tlearn: 0.3531407\ttotal: 40.3s\tremaining: 20.5s\n",
      "663:\tlearn: 0.3530044\ttotal: 40.3s\tremaining: 20.4s\n",
      "664:\tlearn: 0.3529937\ttotal: 40.4s\tremaining: 20.4s\n",
      "665:\tlearn: 0.3528849\ttotal: 40.4s\tremaining: 20.3s\n",
      "666:\tlearn: 0.3528333\ttotal: 40.5s\tremaining: 20.2s\n",
      "667:\tlearn: 0.3527723\ttotal: 40.6s\tremaining: 20.2s\n",
      "668:\tlearn: 0.3526822\ttotal: 40.6s\tremaining: 20.1s\n",
      "669:\tlearn: 0.3524072\ttotal: 40.7s\tremaining: 20s\n",
      "670:\tlearn: 0.3523975\ttotal: 40.7s\tremaining: 20s\n",
      "671:\tlearn: 0.3523646\ttotal: 40.8s\tremaining: 19.9s\n",
      "672:\tlearn: 0.3523474\ttotal: 40.8s\tremaining: 19.8s\n",
      "673:\tlearn: 0.3523453\ttotal: 40.9s\tremaining: 19.8s\n",
      "674:\tlearn: 0.3521689\ttotal: 40.9s\tremaining: 19.7s\n",
      "675:\tlearn: 0.3521231\ttotal: 41s\tremaining: 19.6s\n",
      "676:\tlearn: 0.3521106\ttotal: 41s\tremaining: 19.6s\n",
      "677:\tlearn: 0.3519963\ttotal: 41.1s\tremaining: 19.5s\n",
      "678:\tlearn: 0.3518451\ttotal: 41.1s\tremaining: 19.4s\n",
      "679:\tlearn: 0.3517773\ttotal: 41.2s\tremaining: 19.4s\n",
      "680:\tlearn: 0.3517215\ttotal: 41.2s\tremaining: 19.3s\n",
      "681:\tlearn: 0.3516740\ttotal: 41.3s\tremaining: 19.2s\n",
      "682:\tlearn: 0.3515070\ttotal: 41.3s\tremaining: 19.2s\n",
      "683:\tlearn: 0.3514349\ttotal: 41.4s\tremaining: 19.1s\n",
      "684:\tlearn: 0.3514028\ttotal: 41.5s\tremaining: 19.1s\n",
      "685:\tlearn: 0.3512955\ttotal: 41.5s\tremaining: 19s\n",
      "686:\tlearn: 0.3512364\ttotal: 41.6s\tremaining: 18.9s\n",
      "687:\tlearn: 0.3511119\ttotal: 41.6s\tremaining: 18.9s\n",
      "688:\tlearn: 0.3510387\ttotal: 41.7s\tremaining: 18.8s\n",
      "689:\tlearn: 0.3509424\ttotal: 41.7s\tremaining: 18.7s\n",
      "690:\tlearn: 0.3508768\ttotal: 41.8s\tremaining: 18.7s\n",
      "691:\tlearn: 0.3507851\ttotal: 41.8s\tremaining: 18.6s\n",
      "692:\tlearn: 0.3507198\ttotal: 41.9s\tremaining: 18.6s\n",
      "693:\tlearn: 0.3507122\ttotal: 41.9s\tremaining: 18.5s\n",
      "694:\tlearn: 0.3505913\ttotal: 42s\tremaining: 18.4s\n",
      "695:\tlearn: 0.3503820\ttotal: 42s\tremaining: 18.4s\n",
      "696:\tlearn: 0.3503424\ttotal: 42.1s\tremaining: 18.3s\n",
      "697:\tlearn: 0.3503407\ttotal: 42.1s\tremaining: 18.2s\n",
      "698:\tlearn: 0.3503398\ttotal: 42.2s\tremaining: 18.2s\n",
      "699:\tlearn: 0.3501775\ttotal: 42.3s\tremaining: 18.1s\n",
      "700:\tlearn: 0.3501149\ttotal: 42.3s\tremaining: 18.1s\n",
      "701:\tlearn: 0.3500825\ttotal: 42.4s\tremaining: 18s\n",
      "702:\tlearn: 0.3499635\ttotal: 42.4s\tremaining: 17.9s\n",
      "703:\tlearn: 0.3499630\ttotal: 42.5s\tremaining: 17.9s\n",
      "704:\tlearn: 0.3499574\ttotal: 42.5s\tremaining: 17.8s\n",
      "705:\tlearn: 0.3498932\ttotal: 42.6s\tremaining: 17.7s\n",
      "706:\tlearn: 0.3498619\ttotal: 42.7s\tremaining: 17.7s\n",
      "707:\tlearn: 0.3497879\ttotal: 42.7s\tremaining: 17.6s\n",
      "708:\tlearn: 0.3497867\ttotal: 42.9s\tremaining: 17.6s\n",
      "709:\tlearn: 0.3497835\ttotal: 43s\tremaining: 17.6s\n",
      "710:\tlearn: 0.3497216\ttotal: 43.1s\tremaining: 17.5s\n",
      "711:\tlearn: 0.3496797\ttotal: 43.2s\tremaining: 17.5s\n",
      "712:\tlearn: 0.3496781\ttotal: 43.3s\tremaining: 17.4s\n",
      "713:\tlearn: 0.3496108\ttotal: 43.4s\tremaining: 17.4s\n",
      "714:\tlearn: 0.3494667\ttotal: 43.4s\tremaining: 17.3s\n",
      "715:\tlearn: 0.3493829\ttotal: 43.5s\tremaining: 17.3s\n",
      "716:\tlearn: 0.3493056\ttotal: 43.8s\tremaining: 17.3s\n",
      "717:\tlearn: 0.3492230\ttotal: 43.9s\tremaining: 17.2s\n",
      "718:\tlearn: 0.3492159\ttotal: 44s\tremaining: 17.2s\n",
      "719:\tlearn: 0.3491077\ttotal: 44.1s\tremaining: 17.1s\n",
      "720:\tlearn: 0.3490071\ttotal: 44.1s\tremaining: 17.1s\n",
      "721:\tlearn: 0.3488782\ttotal: 44.2s\tremaining: 17s\n",
      "722:\tlearn: 0.3487826\ttotal: 44.3s\tremaining: 17s\n",
      "723:\tlearn: 0.3487229\ttotal: 44.4s\tremaining: 16.9s\n",
      "724:\tlearn: 0.3486598\ttotal: 44.5s\tremaining: 16.9s\n",
      "725:\tlearn: 0.3485553\ttotal: 44.6s\tremaining: 16.8s\n",
      "726:\tlearn: 0.3484553\ttotal: 44.9s\tremaining: 16.9s\n",
      "727:\tlearn: 0.3484301\ttotal: 45s\tremaining: 16.8s\n",
      "728:\tlearn: 0.3483608\ttotal: 45.2s\tremaining: 16.8s\n",
      "729:\tlearn: 0.3483142\ttotal: 45.3s\tremaining: 16.8s\n",
      "730:\tlearn: 0.3483049\ttotal: 45.4s\tremaining: 16.7s\n",
      "731:\tlearn: 0.3481741\ttotal: 45.5s\tremaining: 16.7s\n",
      "732:\tlearn: 0.3480240\ttotal: 45.6s\tremaining: 16.6s\n",
      "733:\tlearn: 0.3480239\ttotal: 45.7s\tremaining: 16.5s\n",
      "734:\tlearn: 0.3479792\ttotal: 45.7s\tremaining: 16.5s\n",
      "735:\tlearn: 0.3479265\ttotal: 45.8s\tremaining: 16.4s\n",
      "736:\tlearn: 0.3479177\ttotal: 45.8s\tremaining: 16.4s\n",
      "737:\tlearn: 0.3476558\ttotal: 45.9s\tremaining: 16.3s\n",
      "738:\tlearn: 0.3475948\ttotal: 45.9s\tremaining: 16.2s\n",
      "739:\tlearn: 0.3475320\ttotal: 46s\tremaining: 16.2s\n",
      "740:\tlearn: 0.3473978\ttotal: 46s\tremaining: 16.1s\n",
      "741:\tlearn: 0.3472431\ttotal: 46.1s\tremaining: 16s\n",
      "742:\tlearn: 0.3471250\ttotal: 46.2s\tremaining: 16s\n",
      "743:\tlearn: 0.3470868\ttotal: 46.3s\tremaining: 15.9s\n",
      "744:\tlearn: 0.3469940\ttotal: 46.3s\tremaining: 15.9s\n",
      "745:\tlearn: 0.3468940\ttotal: 46.4s\tremaining: 15.8s\n",
      "746:\tlearn: 0.3467715\ttotal: 46.5s\tremaining: 15.7s\n",
      "747:\tlearn: 0.3467469\ttotal: 46.6s\tremaining: 15.7s\n",
      "748:\tlearn: 0.3466715\ttotal: 46.7s\tremaining: 15.6s\n",
      "749:\tlearn: 0.3465575\ttotal: 46.7s\tremaining: 15.6s\n",
      "750:\tlearn: 0.3464260\ttotal: 46.8s\tremaining: 15.5s\n",
      "751:\tlearn: 0.3463686\ttotal: 46.9s\tremaining: 15.5s\n",
      "752:\tlearn: 0.3462192\ttotal: 47s\tremaining: 15.4s\n",
      "753:\tlearn: 0.3461183\ttotal: 47.1s\tremaining: 15.4s\n",
      "754:\tlearn: 0.3460946\ttotal: 47.2s\tremaining: 15.3s\n",
      "755:\tlearn: 0.3460466\ttotal: 47.3s\tremaining: 15.3s\n",
      "756:\tlearn: 0.3459153\ttotal: 47.3s\tremaining: 15.2s\n",
      "757:\tlearn: 0.3457703\ttotal: 47.4s\tremaining: 15.1s\n",
      "758:\tlearn: 0.3456673\ttotal: 47.5s\tremaining: 15.1s\n",
      "759:\tlearn: 0.3456523\ttotal: 47.6s\tremaining: 15s\n",
      "760:\tlearn: 0.3455591\ttotal: 47.7s\tremaining: 15s\n",
      "761:\tlearn: 0.3453681\ttotal: 47.8s\tremaining: 14.9s\n",
      "762:\tlearn: 0.3453145\ttotal: 47.8s\tremaining: 14.9s\n",
      "763:\tlearn: 0.3451915\ttotal: 47.9s\tremaining: 14.8s\n",
      "764:\tlearn: 0.3451164\ttotal: 48s\tremaining: 14.7s\n",
      "765:\tlearn: 0.3450158\ttotal: 48s\tremaining: 14.7s\n",
      "766:\tlearn: 0.3449707\ttotal: 48.1s\tremaining: 14.6s\n",
      "767:\tlearn: 0.3447988\ttotal: 48.2s\tremaining: 14.6s\n",
      "768:\tlearn: 0.3447658\ttotal: 48.3s\tremaining: 14.5s\n",
      "769:\tlearn: 0.3445782\ttotal: 48.4s\tremaining: 14.4s\n",
      "770:\tlearn: 0.3445524\ttotal: 48.4s\tremaining: 14.4s\n",
      "771:\tlearn: 0.3444710\ttotal: 48.5s\tremaining: 14.3s\n",
      "772:\tlearn: 0.3444709\ttotal: 48.6s\tremaining: 14.3s\n",
      "773:\tlearn: 0.3444204\ttotal: 48.6s\tremaining: 14.2s\n",
      "774:\tlearn: 0.3443249\ttotal: 48.7s\tremaining: 14.1s\n",
      "775:\tlearn: 0.3442129\ttotal: 48.8s\tremaining: 14.1s\n",
      "776:\tlearn: 0.3442101\ttotal: 48.9s\tremaining: 14s\n",
      "777:\tlearn: 0.3441910\ttotal: 49s\tremaining: 14s\n",
      "778:\tlearn: 0.3441659\ttotal: 49s\tremaining: 13.9s\n",
      "779:\tlearn: 0.3440761\ttotal: 49.1s\tremaining: 13.9s\n",
      "780:\tlearn: 0.3440451\ttotal: 49.2s\tremaining: 13.8s\n",
      "781:\tlearn: 0.3440133\ttotal: 49.2s\tremaining: 13.7s\n",
      "782:\tlearn: 0.3438866\ttotal: 49.3s\tremaining: 13.7s\n",
      "783:\tlearn: 0.3438225\ttotal: 49.4s\tremaining: 13.6s\n",
      "784:\tlearn: 0.3437366\ttotal: 49.5s\tremaining: 13.6s\n",
      "785:\tlearn: 0.3436373\ttotal: 49.6s\tremaining: 13.5s\n",
      "786:\tlearn: 0.3434105\ttotal: 49.7s\tremaining: 13.4s\n",
      "787:\tlearn: 0.3432998\ttotal: 49.7s\tremaining: 13.4s\n",
      "788:\tlearn: 0.3431455\ttotal: 49.8s\tremaining: 13.3s\n",
      "789:\tlearn: 0.3431044\ttotal: 49.9s\tremaining: 13.3s\n",
      "790:\tlearn: 0.3430026\ttotal: 49.9s\tremaining: 13.2s\n",
      "791:\tlearn: 0.3429348\ttotal: 50s\tremaining: 13.1s\n",
      "792:\tlearn: 0.3428209\ttotal: 50.1s\tremaining: 13.1s\n",
      "793:\tlearn: 0.3426122\ttotal: 50.1s\tremaining: 13s\n",
      "794:\tlearn: 0.3425800\ttotal: 50.2s\tremaining: 12.9s\n",
      "795:\tlearn: 0.3424438\ttotal: 50.3s\tremaining: 12.9s\n",
      "796:\tlearn: 0.3424170\ttotal: 50.3s\tremaining: 12.8s\n",
      "797:\tlearn: 0.3423454\ttotal: 50.4s\tremaining: 12.8s\n",
      "798:\tlearn: 0.3423257\ttotal: 50.4s\tremaining: 12.7s\n",
      "799:\tlearn: 0.3423160\ttotal: 50.5s\tremaining: 12.6s\n",
      "800:\tlearn: 0.3422344\ttotal: 50.6s\tremaining: 12.6s\n"
     ]
    },
    {
     "name": "stdout",
     "output_type": "stream",
     "text": [
      "801:\tlearn: 0.3420773\ttotal: 50.6s\tremaining: 12.5s\n",
      "802:\tlearn: 0.3419964\ttotal: 50.7s\tremaining: 12.4s\n",
      "803:\tlearn: 0.3418476\ttotal: 50.7s\tremaining: 12.4s\n",
      "804:\tlearn: 0.3417571\ttotal: 50.8s\tremaining: 12.3s\n",
      "805:\tlearn: 0.3416678\ttotal: 50.9s\tremaining: 12.2s\n",
      "806:\tlearn: 0.3416402\ttotal: 50.9s\tremaining: 12.2s\n",
      "807:\tlearn: 0.3415387\ttotal: 51.1s\tremaining: 12.1s\n",
      "808:\tlearn: 0.3414729\ttotal: 51.1s\tremaining: 12.1s\n",
      "809:\tlearn: 0.3413937\ttotal: 51.2s\tremaining: 12s\n",
      "810:\tlearn: 0.3413850\ttotal: 51.3s\tremaining: 12s\n",
      "811:\tlearn: 0.3413338\ttotal: 51.4s\tremaining: 11.9s\n",
      "812:\tlearn: 0.3412363\ttotal: 51.4s\tremaining: 11.8s\n",
      "813:\tlearn: 0.3410647\ttotal: 51.5s\tremaining: 11.8s\n",
      "814:\tlearn: 0.3409316\ttotal: 51.6s\tremaining: 11.7s\n",
      "815:\tlearn: 0.3407363\ttotal: 51.6s\tremaining: 11.6s\n",
      "816:\tlearn: 0.3406428\ttotal: 51.7s\tremaining: 11.6s\n",
      "817:\tlearn: 0.3404695\ttotal: 51.8s\tremaining: 11.5s\n",
      "818:\tlearn: 0.3403391\ttotal: 51.8s\tremaining: 11.5s\n",
      "819:\tlearn: 0.3402430\ttotal: 51.9s\tremaining: 11.4s\n",
      "820:\tlearn: 0.3402163\ttotal: 52s\tremaining: 11.3s\n",
      "821:\tlearn: 0.3401026\ttotal: 52.1s\tremaining: 11.3s\n",
      "822:\tlearn: 0.3400802\ttotal: 52.2s\tremaining: 11.2s\n",
      "823:\tlearn: 0.3399495\ttotal: 52.3s\tremaining: 11.2s\n",
      "824:\tlearn: 0.3399058\ttotal: 52.4s\tremaining: 11.1s\n",
      "825:\tlearn: 0.3397889\ttotal: 52.5s\tremaining: 11.1s\n",
      "826:\tlearn: 0.3396870\ttotal: 52.5s\tremaining: 11s\n",
      "827:\tlearn: 0.3396794\ttotal: 52.6s\tremaining: 10.9s\n",
      "828:\tlearn: 0.3395921\ttotal: 52.7s\tremaining: 10.9s\n",
      "829:\tlearn: 0.3395146\ttotal: 52.7s\tremaining: 10.8s\n",
      "830:\tlearn: 0.3394443\ttotal: 52.8s\tremaining: 10.7s\n",
      "831:\tlearn: 0.3393655\ttotal: 52.9s\tremaining: 10.7s\n",
      "832:\tlearn: 0.3392602\ttotal: 53s\tremaining: 10.6s\n",
      "833:\tlearn: 0.3391434\ttotal: 53.1s\tremaining: 10.6s\n",
      "834:\tlearn: 0.3390401\ttotal: 53.2s\tremaining: 10.5s\n",
      "835:\tlearn: 0.3389692\ttotal: 53.3s\tremaining: 10.5s\n",
      "836:\tlearn: 0.3389643\ttotal: 53.3s\tremaining: 10.4s\n",
      "837:\tlearn: 0.3388799\ttotal: 53.4s\tremaining: 10.3s\n",
      "838:\tlearn: 0.3388790\ttotal: 53.5s\tremaining: 10.3s\n",
      "839:\tlearn: 0.3387936\ttotal: 53.5s\tremaining: 10.2s\n",
      "840:\tlearn: 0.3387339\ttotal: 53.6s\tremaining: 10.1s\n",
      "841:\tlearn: 0.3386529\ttotal: 53.8s\tremaining: 10.1s\n",
      "842:\tlearn: 0.3385347\ttotal: 53.8s\tremaining: 10s\n",
      "843:\tlearn: 0.3385195\ttotal: 53.9s\tremaining: 9.96s\n",
      "844:\tlearn: 0.3382963\ttotal: 54s\tremaining: 9.91s\n",
      "845:\tlearn: 0.3382108\ttotal: 54.1s\tremaining: 9.84s\n",
      "846:\tlearn: 0.3381413\ttotal: 54.1s\tremaining: 9.78s\n",
      "847:\tlearn: 0.3380269\ttotal: 54.2s\tremaining: 9.72s\n",
      "848:\tlearn: 0.3379974\ttotal: 54.3s\tremaining: 9.66s\n",
      "849:\tlearn: 0.3379866\ttotal: 54.4s\tremaining: 9.59s\n",
      "850:\tlearn: 0.3379044\ttotal: 54.5s\tremaining: 9.53s\n",
      "851:\tlearn: 0.3379035\ttotal: 54.5s\tremaining: 9.47s\n",
      "852:\tlearn: 0.3378390\ttotal: 54.6s\tremaining: 9.41s\n",
      "853:\tlearn: 0.3377221\ttotal: 54.7s\tremaining: 9.35s\n",
      "854:\tlearn: 0.3376839\ttotal: 54.8s\tremaining: 9.29s\n",
      "855:\tlearn: 0.3376669\ttotal: 54.9s\tremaining: 9.23s\n",
      "856:\tlearn: 0.3376460\ttotal: 54.9s\tremaining: 9.17s\n",
      "857:\tlearn: 0.3376081\ttotal: 55s\tremaining: 9.11s\n",
      "858:\tlearn: 0.3375407\ttotal: 55.1s\tremaining: 9.04s\n",
      "859:\tlearn: 0.3375228\ttotal: 55.1s\tremaining: 8.98s\n",
      "860:\tlearn: 0.3373127\ttotal: 55.2s\tremaining: 8.92s\n",
      "861:\tlearn: 0.3371619\ttotal: 55.3s\tremaining: 8.85s\n",
      "862:\tlearn: 0.3371486\ttotal: 55.4s\tremaining: 8.79s\n",
      "863:\tlearn: 0.3371164\ttotal: 55.4s\tremaining: 8.72s\n",
      "864:\tlearn: 0.3370306\ttotal: 55.5s\tremaining: 8.66s\n",
      "865:\tlearn: 0.3368773\ttotal: 55.6s\tremaining: 8.6s\n",
      "866:\tlearn: 0.3367381\ttotal: 55.7s\tremaining: 8.54s\n",
      "867:\tlearn: 0.3366747\ttotal: 55.7s\tremaining: 8.47s\n",
      "868:\tlearn: 0.3365921\ttotal: 55.9s\tremaining: 8.42s\n",
      "869:\tlearn: 0.3365610\ttotal: 56s\tremaining: 8.36s\n",
      "870:\tlearn: 0.3364381\ttotal: 56.1s\tremaining: 8.3s\n",
      "871:\tlearn: 0.3364227\ttotal: 56.2s\tremaining: 8.24s\n",
      "872:\tlearn: 0.3363610\ttotal: 56.2s\tremaining: 8.18s\n",
      "873:\tlearn: 0.3362184\ttotal: 56.3s\tremaining: 8.12s\n",
      "874:\tlearn: 0.3360878\ttotal: 56.5s\tremaining: 8.07s\n",
      "875:\tlearn: 0.3359142\ttotal: 56.5s\tremaining: 8s\n",
      "876:\tlearn: 0.3357423\ttotal: 56.6s\tremaining: 7.94s\n",
      "877:\tlearn: 0.3355683\ttotal: 56.7s\tremaining: 7.88s\n",
      "878:\tlearn: 0.3355119\ttotal: 56.8s\tremaining: 7.81s\n",
      "879:\tlearn: 0.3354502\ttotal: 56.8s\tremaining: 7.75s\n",
      "880:\tlearn: 0.3353942\ttotal: 56.9s\tremaining: 7.69s\n",
      "881:\tlearn: 0.3353168\ttotal: 57s\tremaining: 7.63s\n",
      "882:\tlearn: 0.3352888\ttotal: 57.1s\tremaining: 7.57s\n",
      "883:\tlearn: 0.3352618\ttotal: 57.3s\tremaining: 7.51s\n",
      "884:\tlearn: 0.3352106\ttotal: 57.3s\tremaining: 7.45s\n",
      "885:\tlearn: 0.3351515\ttotal: 57.4s\tremaining: 7.39s\n",
      "886:\tlearn: 0.3350874\ttotal: 57.5s\tremaining: 7.33s\n",
      "887:\tlearn: 0.3350426\ttotal: 57.6s\tremaining: 7.26s\n",
      "888:\tlearn: 0.3349123\ttotal: 57.7s\tremaining: 7.2s\n",
      "889:\tlearn: 0.3348435\ttotal: 57.7s\tremaining: 7.13s\n",
      "890:\tlearn: 0.3348289\ttotal: 57.8s\tremaining: 7.07s\n",
      "891:\tlearn: 0.3346759\ttotal: 57.9s\tremaining: 7.01s\n",
      "892:\tlearn: 0.3346565\ttotal: 58s\tremaining: 6.95s\n",
      "893:\tlearn: 0.3345943\ttotal: 58.1s\tremaining: 6.89s\n",
      "894:\tlearn: 0.3345080\ttotal: 58.2s\tremaining: 6.82s\n",
      "895:\tlearn: 0.3343354\ttotal: 58.2s\tremaining: 6.76s\n",
      "896:\tlearn: 0.3342555\ttotal: 58.3s\tremaining: 6.7s\n",
      "897:\tlearn: 0.3342511\ttotal: 58.4s\tremaining: 6.64s\n",
      "898:\tlearn: 0.3342506\ttotal: 58.5s\tremaining: 6.57s\n",
      "899:\tlearn: 0.3342331\ttotal: 58.6s\tremaining: 6.51s\n",
      "900:\tlearn: 0.3341997\ttotal: 58.7s\tremaining: 6.45s\n",
      "901:\tlearn: 0.3341207\ttotal: 58.8s\tremaining: 6.39s\n",
      "902:\tlearn: 0.3340508\ttotal: 58.9s\tremaining: 6.32s\n",
      "903:\tlearn: 0.3339767\ttotal: 58.9s\tremaining: 6.26s\n",
      "904:\tlearn: 0.3338849\ttotal: 59s\tremaining: 6.19s\n",
      "905:\tlearn: 0.3337273\ttotal: 59.1s\tremaining: 6.13s\n",
      "906:\tlearn: 0.3336505\ttotal: 59.2s\tremaining: 6.07s\n",
      "907:\tlearn: 0.3335715\ttotal: 59.3s\tremaining: 6s\n",
      "908:\tlearn: 0.3333427\ttotal: 59.3s\tremaining: 5.94s\n",
      "909:\tlearn: 0.3332735\ttotal: 59.4s\tremaining: 5.87s\n",
      "910:\tlearn: 0.3332674\ttotal: 59.5s\tremaining: 5.81s\n",
      "911:\tlearn: 0.3331420\ttotal: 59.6s\tremaining: 5.75s\n",
      "912:\tlearn: 0.3329599\ttotal: 59.7s\tremaining: 5.68s\n",
      "913:\tlearn: 0.3328940\ttotal: 59.8s\tremaining: 5.62s\n",
      "914:\tlearn: 0.3328206\ttotal: 59.9s\tremaining: 5.56s\n",
      "915:\tlearn: 0.3327835\ttotal: 59.9s\tremaining: 5.5s\n",
      "916:\tlearn: 0.3327648\ttotal: 1m\tremaining: 5.43s\n",
      "917:\tlearn: 0.3326302\ttotal: 1m\tremaining: 5.37s\n",
      "918:\tlearn: 0.3326072\ttotal: 1m\tremaining: 5.3s\n",
      "919:\tlearn: 0.3326063\ttotal: 1m\tremaining: 5.24s\n",
      "920:\tlearn: 0.3325356\ttotal: 1m\tremaining: 5.18s\n",
      "921:\tlearn: 0.3324078\ttotal: 1m\tremaining: 5.13s\n",
      "922:\tlearn: 0.3323296\ttotal: 1m\tremaining: 5.06s\n",
      "923:\tlearn: 0.3322544\ttotal: 1m\tremaining: 5s\n",
      "924:\tlearn: 0.3321655\ttotal: 1m\tremaining: 4.94s\n",
      "925:\tlearn: 0.3320699\ttotal: 1m\tremaining: 4.87s\n",
      "926:\tlearn: 0.3320112\ttotal: 1m 1s\tremaining: 4.81s\n",
      "927:\tlearn: 0.3319431\ttotal: 1m 1s\tremaining: 4.74s\n",
      "928:\tlearn: 0.3317834\ttotal: 1m 1s\tremaining: 4.68s\n",
      "929:\tlearn: 0.3317833\ttotal: 1m 1s\tremaining: 4.62s\n",
      "930:\tlearn: 0.3316644\ttotal: 1m 1s\tremaining: 4.55s\n",
      "931:\tlearn: 0.3315907\ttotal: 1m 1s\tremaining: 4.48s\n",
      "932:\tlearn: 0.3314521\ttotal: 1m 1s\tremaining: 4.42s\n",
      "933:\tlearn: 0.3314400\ttotal: 1m 1s\tremaining: 4.36s\n",
      "934:\tlearn: 0.3313964\ttotal: 1m 1s\tremaining: 4.29s\n",
      "935:\tlearn: 0.3312866\ttotal: 1m 1s\tremaining: 4.22s\n",
      "936:\tlearn: 0.3312657\ttotal: 1m 1s\tremaining: 4.16s\n",
      "937:\tlearn: 0.3312265\ttotal: 1m 1s\tremaining: 4.09s\n",
      "938:\tlearn: 0.3312126\ttotal: 1m 2s\tremaining: 4.03s\n",
      "939:\tlearn: 0.3310945\ttotal: 1m 2s\tremaining: 3.96s\n",
      "940:\tlearn: 0.3310491\ttotal: 1m 2s\tremaining: 3.9s\n",
      "941:\tlearn: 0.3309775\ttotal: 1m 2s\tremaining: 3.84s\n",
      "942:\tlearn: 0.3308588\ttotal: 1m 2s\tremaining: 3.77s\n",
      "943:\tlearn: 0.3307814\ttotal: 1m 2s\tremaining: 3.71s\n",
      "944:\tlearn: 0.3306823\ttotal: 1m 2s\tremaining: 3.64s\n",
      "945:\tlearn: 0.3305649\ttotal: 1m 2s\tremaining: 3.58s\n",
      "946:\tlearn: 0.3303862\ttotal: 1m 2s\tremaining: 3.51s\n",
      "947:\tlearn: 0.3303155\ttotal: 1m 2s\tremaining: 3.44s\n",
      "948:\tlearn: 0.3302707\ttotal: 1m 2s\tremaining: 3.38s\n",
      "949:\tlearn: 0.3302249\ttotal: 1m 2s\tremaining: 3.31s\n",
      "950:\tlearn: 0.3301392\ttotal: 1m 3s\tremaining: 3.25s\n",
      "951:\tlearn: 0.3300527\ttotal: 1m 3s\tremaining: 3.19s\n",
      "952:\tlearn: 0.3299872\ttotal: 1m 3s\tremaining: 3.12s\n",
      "953:\tlearn: 0.3299084\ttotal: 1m 3s\tremaining: 3.06s\n",
      "954:\tlearn: 0.3298353\ttotal: 1m 3s\tremaining: 2.99s\n",
      "955:\tlearn: 0.3296911\ttotal: 1m 3s\tremaining: 2.93s\n",
      "956:\tlearn: 0.3295892\ttotal: 1m 3s\tremaining: 2.86s\n",
      "957:\tlearn: 0.3295342\ttotal: 1m 3s\tremaining: 2.8s\n",
      "958:\tlearn: 0.3294898\ttotal: 1m 3s\tremaining: 2.73s\n",
      "959:\tlearn: 0.3294136\ttotal: 1m 3s\tremaining: 2.67s\n"
     ]
    },
    {
     "name": "stdout",
     "output_type": "stream",
     "text": [
      "960:\tlearn: 0.3293420\ttotal: 1m 4s\tremaining: 2.6s\n",
      "961:\tlearn: 0.3292773\ttotal: 1m 4s\tremaining: 2.53s\n",
      "962:\tlearn: 0.3291954\ttotal: 1m 4s\tremaining: 2.47s\n",
      "963:\tlearn: 0.3290208\ttotal: 1m 4s\tremaining: 2.4s\n",
      "964:\tlearn: 0.3288505\ttotal: 1m 4s\tremaining: 2.34s\n",
      "965:\tlearn: 0.3287936\ttotal: 1m 4s\tremaining: 2.27s\n",
      "966:\tlearn: 0.3286298\ttotal: 1m 4s\tremaining: 2.2s\n",
      "967:\tlearn: 0.3285837\ttotal: 1m 4s\tremaining: 2.14s\n",
      "968:\tlearn: 0.3284836\ttotal: 1m 4s\tremaining: 2.07s\n",
      "969:\tlearn: 0.3284097\ttotal: 1m 4s\tremaining: 2.01s\n",
      "970:\tlearn: 0.3284093\ttotal: 1m 4s\tremaining: 1.94s\n",
      "971:\tlearn: 0.3283265\ttotal: 1m 5s\tremaining: 1.87s\n",
      "972:\tlearn: 0.3281392\ttotal: 1m 5s\tremaining: 1.81s\n",
      "973:\tlearn: 0.3280668\ttotal: 1m 5s\tremaining: 1.74s\n",
      "974:\tlearn: 0.3280043\ttotal: 1m 5s\tremaining: 1.68s\n",
      "975:\tlearn: 0.3279081\ttotal: 1m 5s\tremaining: 1.61s\n",
      "976:\tlearn: 0.3277672\ttotal: 1m 5s\tremaining: 1.54s\n",
      "977:\tlearn: 0.3276943\ttotal: 1m 5s\tremaining: 1.48s\n",
      "978:\tlearn: 0.3275982\ttotal: 1m 5s\tremaining: 1.41s\n",
      "979:\tlearn: 0.3275775\ttotal: 1m 5s\tremaining: 1.34s\n",
      "980:\tlearn: 0.3274716\ttotal: 1m 5s\tremaining: 1.28s\n",
      "981:\tlearn: 0.3274068\ttotal: 1m 5s\tremaining: 1.21s\n",
      "982:\tlearn: 0.3272475\ttotal: 1m 6s\tremaining: 1.14s\n",
      "983:\tlearn: 0.3271901\ttotal: 1m 6s\tremaining: 1.08s\n",
      "984:\tlearn: 0.3271258\ttotal: 1m 6s\tremaining: 1.01s\n",
      "985:\tlearn: 0.3269318\ttotal: 1m 6s\tremaining: 942ms\n",
      "986:\tlearn: 0.3268991\ttotal: 1m 6s\tremaining: 875ms\n",
      "987:\tlearn: 0.3268250\ttotal: 1m 6s\tremaining: 808ms\n",
      "988:\tlearn: 0.3267431\ttotal: 1m 6s\tremaining: 741ms\n",
      "989:\tlearn: 0.3266862\ttotal: 1m 6s\tremaining: 674ms\n",
      "990:\tlearn: 0.3266304\ttotal: 1m 6s\tremaining: 607ms\n",
      "991:\tlearn: 0.3265841\ttotal: 1m 6s\tremaining: 540ms\n",
      "992:\tlearn: 0.3265486\ttotal: 1m 7s\tremaining: 473ms\n",
      "993:\tlearn: 0.3264841\ttotal: 1m 7s\tremaining: 405ms\n",
      "994:\tlearn: 0.3264736\ttotal: 1m 7s\tremaining: 338ms\n",
      "995:\tlearn: 0.3264457\ttotal: 1m 7s\tremaining: 270ms\n",
      "996:\tlearn: 0.3263699\ttotal: 1m 7s\tremaining: 203ms\n",
      "997:\tlearn: 0.3262825\ttotal: 1m 7s\tremaining: 135ms\n",
      "998:\tlearn: 0.3262416\ttotal: 1m 7s\tremaining: 67.6ms\n",
      "999:\tlearn: 0.3261476\ttotal: 1m 7s\tremaining: 0us\n"
     ]
    },
    {
     "data": {
      "text/plain": [
       "<catboost.core.CatBoostClassifier at 0x1d5093a4a88>"
      ]
     },
     "execution_count": 27,
     "metadata": {},
     "output_type": "execute_result"
    }
   ],
   "source": [
    "standart_boosting_model = catboost.CatBoostClassifier(cat_features=cat_cols)\n",
    "standart_boosting_model.fit(X_train, y_train)"
   ]
  },
  {
   "cell_type": "code",
   "execution_count": 28,
   "metadata": {
    "colab": {
     "base_uri": "https://localhost:8080/"
    },
    "executionInfo": {
     "elapsed": 38,
     "status": "ok",
     "timestamp": 1649238800587,
     "user": {
      "displayName": "Иван Пикулин",
      "userId": "13514535674518997815"
     },
     "user_tz": -180
    },
    "id": "Cs4fuZaAHFiD",
    "outputId": "a8ed9337-bfa7-4c86-adea-78a1765df12e"
   },
   "outputs": [
    {
     "data": {
      "text/plain": [
       "0.8538696048778146"
      ]
     },
     "execution_count": 28,
     "metadata": {},
     "output_type": "execute_result"
    }
   ],
   "source": [
    "roc_auc_score(y_test, standart_boosting_model.predict_proba(X_test)[:,1])"
   ]
  },
  {
   "cell_type": "code",
   "execution_count": 34,
   "metadata": {
    "colab": {
     "base_uri": "https://localhost:8080/",
     "height": 1000,
     "referenced_widgets": [
      "34ff108f3dbe4af1adcee21e8bf72dff"
     ]
    },
    "executionInfo": {
     "elapsed": 142840,
     "status": "ok",
     "timestamp": 1649238943412,
     "user": {
      "displayName": "Иван Пикулин",
      "userId": "13514535674518997815"
     },
     "user_tz": -180
    },
    "id": "Wq-bQN2s8Ath",
    "outputId": "5a72287e-9f96-43a3-ed24-008be136b9cc"
   },
   "outputs": [
    {
     "data": {
      "application/vnd.jupyter.widget-view+json": {
       "model_id": "2f99107e0c6f4515a55edc4e94d9cdb1",
       "version_major": 2,
       "version_minor": 0
      },
      "text/plain": [
       "MetricVisualizer(layout=Layout(align_self='stretch', height='500px'))"
      ]
     },
     "metadata": {},
     "output_type": "display_data"
    },
    {
     "name": "stdout",
     "output_type": "stream",
     "text": [
      "0:\ttest: 0.7529464\tbest: 0.7529464 (0)\ttotal: 50.5ms\tremaining: 4.49s\n",
      "1:\ttest: 0.7961441\tbest: 0.7961441 (1)\ttotal: 167ms\tremaining: 7.35s\n",
      "2:\ttest: 0.8015234\tbest: 0.8015234 (2)\ttotal: 210ms\tremaining: 6.1s\n",
      "3:\ttest: 0.8063388\tbest: 0.8063388 (3)\ttotal: 284ms\tremaining: 6.11s\n",
      "4:\ttest: 0.8094081\tbest: 0.8094081 (4)\ttotal: 361ms\tremaining: 6.13s\n",
      "5:\ttest: 0.8143898\tbest: 0.8143898 (5)\ttotal: 437ms\tremaining: 6.12s\n",
      "6:\ttest: 0.8142199\tbest: 0.8143898 (5)\ttotal: 511ms\tremaining: 6.06s\n",
      "7:\ttest: 0.8149466\tbest: 0.8149466 (7)\ttotal: 560ms\tremaining: 5.74s\n",
      "8:\ttest: 0.8169241\tbest: 0.8169241 (8)\ttotal: 599ms\tremaining: 5.39s\n",
      "9:\ttest: 0.8175170\tbest: 0.8175170 (9)\ttotal: 647ms\tremaining: 5.18s\n",
      "10:\ttest: 0.8154563\tbest: 0.8175170 (9)\ttotal: 691ms\tremaining: 4.96s\n",
      "11:\ttest: 0.8153551\tbest: 0.8175170 (9)\ttotal: 739ms\tremaining: 4.8s\n",
      "12:\ttest: 0.8181315\tbest: 0.8181315 (12)\ttotal: 800ms\tremaining: 4.74s\n",
      "13:\ttest: 0.8184497\tbest: 0.8184497 (13)\ttotal: 844ms\tremaining: 4.58s\n",
      "14:\ttest: 0.8194258\tbest: 0.8194258 (14)\ttotal: 916ms\tremaining: 4.58s\n",
      "15:\ttest: 0.8202247\tbest: 0.8202247 (15)\ttotal: 976ms\tremaining: 4.51s\n",
      "16:\ttest: 0.8226758\tbest: 0.8226758 (16)\ttotal: 1.03s\tremaining: 4.41s\n",
      "17:\ttest: 0.8233374\tbest: 0.8233374 (17)\ttotal: 1.07s\tremaining: 4.27s\n",
      "18:\ttest: 0.8265404\tbest: 0.8265404 (18)\ttotal: 1.11s\tremaining: 4.14s\n",
      "19:\ttest: 0.8286481\tbest: 0.8286481 (19)\ttotal: 1.16s\tremaining: 4.07s\n",
      "20:\ttest: 0.8301628\tbest: 0.8301628 (20)\ttotal: 1.2s\tremaining: 3.94s\n",
      "21:\ttest: 0.8313341\tbest: 0.8313341 (21)\ttotal: 1.24s\tremaining: 3.83s\n",
      "22:\ttest: 0.8325633\tbest: 0.8325633 (22)\ttotal: 1.28s\tremaining: 3.73s\n",
      "23:\ttest: 0.8329574\tbest: 0.8329574 (23)\ttotal: 1.32s\tremaining: 3.64s\n",
      "24:\ttest: 0.8338503\tbest: 0.8338503 (24)\ttotal: 1.37s\tremaining: 3.57s\n",
      "25:\ttest: 0.8340564\tbest: 0.8340564 (25)\ttotal: 1.42s\tremaining: 3.49s\n",
      "26:\ttest: 0.8344793\tbest: 0.8344793 (26)\ttotal: 1.44s\tremaining: 3.35s\n",
      "27:\ttest: 0.8347613\tbest: 0.8347613 (27)\ttotal: 1.48s\tremaining: 3.27s\n",
      "28:\ttest: 0.8350867\tbest: 0.8350867 (28)\ttotal: 1.53s\tremaining: 3.21s\n",
      "29:\ttest: 0.8356037\tbest: 0.8356037 (29)\ttotal: 1.58s\tremaining: 3.16s\n",
      "30:\ttest: 0.8352060\tbest: 0.8356037 (29)\ttotal: 1.61s\tremaining: 3.07s\n",
      "31:\ttest: 0.8351988\tbest: 0.8356037 (29)\ttotal: 1.64s\tremaining: 2.97s\n",
      "32:\ttest: 0.8348806\tbest: 0.8356037 (29)\ttotal: 1.67s\tremaining: 2.88s\n",
      "33:\ttest: 0.8349095\tbest: 0.8356037 (29)\ttotal: 1.69s\tremaining: 2.78s\n",
      "34:\ttest: 0.8347866\tbest: 0.8356037 (29)\ttotal: 1.72s\tremaining: 2.71s\n",
      "35:\ttest: 0.8348734\tbest: 0.8356037 (29)\ttotal: 1.76s\tremaining: 2.64s\n",
      "36:\ttest: 0.8345697\tbest: 0.8356037 (29)\ttotal: 1.79s\tremaining: 2.56s\n",
      "37:\ttest: 0.8347649\tbest: 0.8356037 (29)\ttotal: 1.83s\tremaining: 2.5s\n",
      "38:\ttest: 0.8346059\tbest: 0.8356037 (29)\ttotal: 1.87s\tremaining: 2.45s\n",
      "39:\ttest: 0.8347830\tbest: 0.8356037 (29)\ttotal: 1.91s\tremaining: 2.39s\n",
      "40:\ttest: 0.8346456\tbest: 0.8356037 (29)\ttotal: 1.95s\tremaining: 2.33s\n",
      "41:\ttest: 0.8350072\tbest: 0.8356037 (29)\ttotal: 2s\tremaining: 2.29s\n",
      "42:\ttest: 0.8348589\tbest: 0.8356037 (29)\ttotal: 2.05s\tremaining: 2.24s\n",
      "43:\ttest: 0.8347830\tbest: 0.8356037 (29)\ttotal: 2.08s\tremaining: 2.18s\n",
      "44:\ttest: 0.8350505\tbest: 0.8356037 (29)\ttotal: 2.13s\tremaining: 2.13s\n",
      "45:\ttest: 0.8351951\tbest: 0.8356037 (29)\ttotal: 2.16s\tremaining: 2.06s\n",
      "46:\ttest: 0.8350939\tbest: 0.8356037 (29)\ttotal: 2.2s\tremaining: 2.02s\n",
      "47:\ttest: 0.8349710\tbest: 0.8356037 (29)\ttotal: 2.22s\tremaining: 1.94s\n",
      "48:\ttest: 0.8351951\tbest: 0.8356037 (29)\ttotal: 2.26s\tremaining: 1.89s\n",
      "49:\ttest: 0.8349565\tbest: 0.8356037 (29)\ttotal: 2.28s\tremaining: 1.82s\n",
      "50:\ttest: 0.8349710\tbest: 0.8356037 (29)\ttotal: 2.3s\tremaining: 1.76s\n",
      "51:\ttest: 0.8348047\tbest: 0.8356037 (29)\ttotal: 2.35s\tremaining: 1.72s\n",
      "52:\ttest: 0.8345733\tbest: 0.8356037 (29)\ttotal: 2.39s\tremaining: 1.67s\n",
      "53:\ttest: 0.8343058\tbest: 0.8356037 (29)\ttotal: 2.44s\tremaining: 1.62s\n",
      "54:\ttest: 0.8343420\tbest: 0.8356037 (29)\ttotal: 2.47s\tremaining: 1.57s\n",
      "55:\ttest: 0.8342444\tbest: 0.8356037 (29)\ttotal: 2.52s\tremaining: 1.53s\n",
      "56:\ttest: 0.8340925\tbest: 0.8356037 (29)\ttotal: 2.58s\tremaining: 1.49s\n",
      "57:\ttest: 0.8340672\tbest: 0.8356037 (29)\ttotal: 2.63s\tremaining: 1.45s\n",
      "58:\ttest: 0.8342480\tbest: 0.8356037 (29)\ttotal: 2.68s\tremaining: 1.41s\n",
      "59:\ttest: 0.8340961\tbest: 0.8356037 (29)\ttotal: 2.7s\tremaining: 1.35s\n",
      "60:\ttest: 0.8344107\tbest: 0.8356037 (29)\ttotal: 2.75s\tremaining: 1.31s\n",
      "61:\ttest: 0.8347577\tbest: 0.8356037 (29)\ttotal: 2.81s\tremaining: 1.27s\n",
      "62:\ttest: 0.8347433\tbest: 0.8356037 (29)\ttotal: 2.88s\tremaining: 1.23s\n",
      "63:\ttest: 0.8349963\tbest: 0.8356037 (29)\ttotal: 2.93s\tremaining: 1.19s\n",
      "64:\ttest: 0.8350252\tbest: 0.8356037 (29)\ttotal: 2.96s\tremaining: 1.14s\n",
      "65:\ttest: 0.8349529\tbest: 0.8356037 (29)\ttotal: 3.03s\tremaining: 1.1s\n",
      "66:\ttest: 0.8352132\tbest: 0.8356037 (29)\ttotal: 3.08s\tremaining: 1.05s\n",
      "67:\ttest: 0.8353506\tbest: 0.8356037 (29)\ttotal: 3.15s\tremaining: 1.02s\n",
      "68:\ttest: 0.8352928\tbest: 0.8356037 (29)\ttotal: 3.19s\tremaining: 972ms\n",
      "69:\ttest: 0.8352277\tbest: 0.8356037 (29)\ttotal: 3.21s\tremaining: 916ms\n",
      "70:\ttest: 0.8355458\tbest: 0.8356037 (29)\ttotal: 3.25s\tremaining: 870ms\n",
      "71:\ttest: 0.8357121\tbest: 0.8357121 (71)\ttotal: 3.29s\tremaining: 823ms\n",
      "72:\ttest: 0.8358856\tbest: 0.8358856 (72)\ttotal: 3.34s\tremaining: 778ms\n",
      "73:\ttest: 0.8358133\tbest: 0.8358856 (72)\ttotal: 3.38s\tremaining: 732ms\n",
      "74:\ttest: 0.8358495\tbest: 0.8358856 (72)\ttotal: 3.44s\tremaining: 689ms\n",
      "75:\ttest: 0.8355603\tbest: 0.8358856 (72)\ttotal: 3.5s\tremaining: 644ms\n",
      "76:\ttest: 0.8355458\tbest: 0.8358856 (72)\ttotal: 3.55s\tremaining: 599ms\n",
      "77:\ttest: 0.8352928\tbest: 0.8358856 (72)\ttotal: 3.66s\tremaining: 563ms\n",
      "78:\ttest: 0.8354374\tbest: 0.8358856 (72)\ttotal: 3.73s\tremaining: 519ms\n",
      "79:\ttest: 0.8353651\tbest: 0.8358856 (72)\ttotal: 3.78s\tremaining: 472ms\n",
      "80:\ttest: 0.8352132\tbest: 0.8358856 (72)\ttotal: 3.82s\tremaining: 424ms\n",
      "81:\ttest: 0.8353723\tbest: 0.8358856 (72)\ttotal: 3.87s\tremaining: 378ms\n",
      "82:\ttest: 0.8355061\tbest: 0.8358856 (72)\ttotal: 3.92s\tremaining: 331ms\n",
      "83:\ttest: 0.8352458\tbest: 0.8358856 (72)\ttotal: 3.96s\tremaining: 283ms\n",
      "84:\ttest: 0.8351951\tbest: 0.8358856 (72)\ttotal: 4.01s\tremaining: 236ms\n",
      "85:\ttest: 0.8353759\tbest: 0.8358856 (72)\ttotal: 4.05s\tremaining: 188ms\n",
      "86:\ttest: 0.8353325\tbest: 0.8358856 (72)\ttotal: 4.12s\tremaining: 142ms\n",
      "87:\ttest: 0.8349276\tbest: 0.8358856 (72)\ttotal: 4.18s\tremaining: 95ms\n",
      "88:\ttest: 0.8352385\tbest: 0.8358856 (72)\ttotal: 4.26s\tremaining: 47.8ms\n",
      "89:\ttest: 0.8350867\tbest: 0.8358856 (72)\ttotal: 4.31s\tremaining: 0us\n",
      "\n",
      "bestTest = 0.8358856449\n",
      "bestIteration = 72\n",
      "\n",
      "Metric AUC is not calculated on train by default. To calculate this metric on train, add hints=skip_train~false to metric parameters.\n",
      "0:\tloss: 0.8358856\tbest: 0.8358856 (0)\ttotal: 4.44s\tremaining: 22.2s\n",
      "0:\ttest: 0.7529464\tbest: 0.7529464 (0)\ttotal: 44.4ms\tremaining: 3.95s\n",
      "1:\ttest: 0.7957753\tbest: 0.7957753 (1)\ttotal: 80.6ms\tremaining: 3.55s\n",
      "2:\ttest: 0.8046397\tbest: 0.8046397 (2)\ttotal: 147ms\tremaining: 4.25s\n",
      "3:\ttest: 0.8130811\tbest: 0.8130811 (3)\ttotal: 221ms\tremaining: 4.76s\n",
      "4:\ttest: 0.8234675\tbest: 0.8234675 (4)\ttotal: 275ms\tremaining: 4.68s\n",
      "5:\ttest: 0.8310883\tbest: 0.8310883 (5)\ttotal: 327ms\tremaining: 4.58s\n",
      "6:\ttest: 0.8334056\tbest: 0.8334056 (6)\ttotal: 411ms\tremaining: 4.87s\n",
      "7:\ttest: 0.8360483\tbest: 0.8360483 (7)\ttotal: 427ms\tremaining: 4.38s\n",
      "8:\ttest: 0.8371365\tbest: 0.8371365 (8)\ttotal: 473ms\tremaining: 4.26s\n",
      "9:\ttest: 0.8367641\tbest: 0.8371365 (8)\ttotal: 518ms\tremaining: 4.14s\n",
      "10:\ttest: 0.8366412\tbest: 0.8371365 (8)\ttotal: 598ms\tremaining: 4.3s\n",
      "11:\ttest: 0.8360339\tbest: 0.8371365 (8)\ttotal: 647ms\tremaining: 4.21s\n",
      "12:\ttest: 0.8358025\tbest: 0.8371365 (8)\ttotal: 692ms\tremaining: 4.1s\n",
      "13:\ttest: 0.8370931\tbest: 0.8371365 (8)\ttotal: 753ms\tremaining: 4.09s\n",
      "14:\ttest: 0.8362689\tbest: 0.8371365 (8)\ttotal: 824ms\tremaining: 4.12s\n",
      "15:\ttest: 0.8371510\tbest: 0.8371510 (15)\ttotal: 870ms\tremaining: 4.02s\n",
      "16:\ttest: 0.8357880\tbest: 0.8371510 (15)\ttotal: 925ms\tremaining: 3.97s\n",
      "17:\ttest: 0.8350072\tbest: 0.8371510 (15)\ttotal: 974ms\tremaining: 3.9s\n",
      "18:\ttest: 0.8343926\tbest: 0.8371510 (15)\ttotal: 1.02s\tremaining: 3.83s\n",
      "19:\ttest: 0.8331128\tbest: 0.8371510 (15)\ttotal: 1.08s\tremaining: 3.77s\n",
      "20:\ttest: 0.8325741\tbest: 0.8371510 (15)\ttotal: 1.12s\tremaining: 3.69s\n",
      "21:\ttest: 0.8311208\tbest: 0.8371510 (15)\ttotal: 1.17s\tremaining: 3.62s\n",
      "22:\ttest: 0.8313088\tbest: 0.8371510 (15)\ttotal: 1.22s\tremaining: 3.55s\n"
     ]
    },
    {
     "name": "stdout",
     "output_type": "stream",
     "text": [
      "23:\ttest: 0.8313161\tbest: 0.8371510 (15)\ttotal: 1.28s\tremaining: 3.52s\n",
      "24:\ttest: 0.8306147\tbest: 0.8371510 (15)\ttotal: 1.32s\tremaining: 3.42s\n",
      "25:\ttest: 0.8312763\tbest: 0.8371510 (15)\ttotal: 1.39s\tremaining: 3.43s\n",
      "26:\ttest: 0.8313775\tbest: 0.8371510 (15)\ttotal: 1.45s\tremaining: 3.37s\n",
      "27:\ttest: 0.8307196\tbest: 0.8371510 (15)\ttotal: 1.5s\tremaining: 3.32s\n",
      "28:\ttest: 0.8306834\tbest: 0.8371510 (15)\ttotal: 1.54s\tremaining: 3.25s\n",
      "29:\ttest: 0.8308136\tbest: 0.8371510 (15)\ttotal: 1.59s\tremaining: 3.17s\n",
      "30:\ttest: 0.8309726\tbest: 0.8371510 (15)\ttotal: 1.65s\tremaining: 3.14s\n",
      "31:\ttest: 0.8309220\tbest: 0.8371510 (15)\ttotal: 1.71s\tremaining: 3.09s\n",
      "32:\ttest: 0.8309220\tbest: 0.8371510 (15)\ttotal: 1.72s\tremaining: 2.98s\n",
      "33:\ttest: 0.8306979\tbest: 0.8371510 (15)\ttotal: 1.78s\tremaining: 2.93s\n",
      "34:\ttest: 0.8306400\tbest: 0.8371510 (15)\ttotal: 1.82s\tremaining: 2.87s\n",
      "35:\ttest: 0.8306328\tbest: 0.8371510 (15)\ttotal: 1.86s\tremaining: 2.79s\n",
      "36:\ttest: 0.8307304\tbest: 0.8371510 (15)\ttotal: 1.92s\tremaining: 2.75s\n",
      "37:\ttest: 0.8313233\tbest: 0.8371510 (15)\ttotal: 2s\tremaining: 2.73s\n",
      "38:\ttest: 0.8314390\tbest: 0.8371510 (15)\ttotal: 2.07s\tremaining: 2.71s\n",
      "39:\ttest: 0.8312908\tbest: 0.8371510 (15)\ttotal: 2.14s\tremaining: 2.68s\n",
      "40:\ttest: 0.8310955\tbest: 0.8371510 (15)\ttotal: 2.21s\tremaining: 2.64s\n",
      "41:\ttest: 0.8316089\tbest: 0.8371510 (15)\ttotal: 2.26s\tremaining: 2.58s\n",
      "42:\ttest: 0.8315149\tbest: 0.8371510 (15)\ttotal: 2.32s\tremaining: 2.54s\n",
      "43:\ttest: 0.8312618\tbest: 0.8371510 (15)\ttotal: 2.37s\tremaining: 2.48s\n",
      "44:\ttest: 0.8312618\tbest: 0.8371510 (15)\ttotal: 2.39s\tremaining: 2.39s\n",
      "45:\ttest: 0.8311172\tbest: 0.8371510 (15)\ttotal: 2.46s\tremaining: 2.35s\n",
      "46:\ttest: 0.8309220\tbest: 0.8371510 (15)\ttotal: 2.53s\tremaining: 2.32s\n",
      "47:\ttest: 0.8303870\tbest: 0.8371510 (15)\ttotal: 2.62s\tremaining: 2.29s\n",
      "48:\ttest: 0.8306834\tbest: 0.8371510 (15)\ttotal: 2.7s\tremaining: 2.26s\n",
      "49:\ttest: 0.8306617\tbest: 0.8371510 (15)\ttotal: 2.77s\tremaining: 2.21s\n",
      "50:\ttest: 0.8305750\tbest: 0.8371510 (15)\ttotal: 2.84s\tremaining: 2.17s\n",
      "51:\ttest: 0.8307304\tbest: 0.8371510 (15)\ttotal: 2.9s\tremaining: 2.12s\n",
      "52:\ttest: 0.8308822\tbest: 0.8371510 (15)\ttotal: 2.97s\tremaining: 2.08s\n",
      "53:\ttest: 0.8308750\tbest: 0.8371510 (15)\ttotal: 3.06s\tremaining: 2.04s\n",
      "54:\ttest: 0.8307738\tbest: 0.8371510 (15)\ttotal: 3.11s\tremaining: 1.98s\n",
      "55:\ttest: 0.8308533\tbest: 0.8371510 (15)\ttotal: 3.16s\tremaining: 1.92s\n",
      "56:\ttest: 0.8313956\tbest: 0.8371510 (15)\ttotal: 3.25s\tremaining: 1.88s\n",
      "57:\ttest: 0.8311498\tbest: 0.8371510 (15)\ttotal: 3.3s\tremaining: 1.82s\n",
      "58:\ttest: 0.8313667\tbest: 0.8371510 (15)\ttotal: 3.37s\tremaining: 1.77s\n",
      "59:\ttest: 0.8317535\tbest: 0.8371510 (15)\ttotal: 3.42s\tremaining: 1.71s\n",
      "60:\ttest: 0.8318113\tbest: 0.8371510 (15)\ttotal: 3.48s\tremaining: 1.65s\n",
      "61:\ttest: 0.8315655\tbest: 0.8371510 (15)\ttotal: 3.52s\tremaining: 1.59s\n",
      "62:\ttest: 0.8321584\tbest: 0.8371510 (15)\ttotal: 3.56s\tremaining: 1.53s\n",
      "63:\ttest: 0.8321946\tbest: 0.8371510 (15)\ttotal: 3.63s\tremaining: 1.47s\n",
      "64:\ttest: 0.8319668\tbest: 0.8371510 (15)\ttotal: 3.71s\tremaining: 1.43s\n",
      "65:\ttest: 0.8307883\tbest: 0.8371510 (15)\ttotal: 3.77s\tremaining: 1.37s\n",
      "66:\ttest: 0.8307738\tbest: 0.8371510 (15)\ttotal: 3.85s\tremaining: 1.32s\n",
      "67:\ttest: 0.8300580\tbest: 0.8371510 (15)\ttotal: 3.93s\tremaining: 1.27s\n",
      "68:\ttest: 0.8301158\tbest: 0.8371510 (15)\ttotal: 3.99s\tremaining: 1.22s\n",
      "69:\ttest: 0.8297109\tbest: 0.8371510 (15)\ttotal: 4.05s\tremaining: 1.16s\n",
      "70:\ttest: 0.8298628\tbest: 0.8371510 (15)\ttotal: 4.1s\tremaining: 1.1s\n",
      "71:\ttest: 0.8298266\tbest: 0.8371510 (15)\ttotal: 4.17s\tremaining: 1.04s\n",
      "72:\ttest: 0.8299134\tbest: 0.8371510 (15)\ttotal: 4.24s\tremaining: 987ms\n",
      "73:\ttest: 0.8292916\tbest: 0.8371510 (15)\ttotal: 4.3s\tremaining: 931ms\n",
      "74:\ttest: 0.8295374\tbest: 0.8371510 (15)\ttotal: 4.36s\tremaining: 872ms\n",
      "75:\ttest: 0.8295736\tbest: 0.8371510 (15)\ttotal: 4.42s\tremaining: 814ms\n",
      "76:\ttest: 0.8293205\tbest: 0.8371510 (15)\ttotal: 4.48s\tremaining: 757ms\n",
      "77:\ttest: 0.8295880\tbest: 0.8371510 (15)\ttotal: 4.52s\tremaining: 695ms\n",
      "78:\ttest: 0.8289481\tbest: 0.8371510 (15)\ttotal: 4.57s\tremaining: 636ms\n",
      "79:\ttest: 0.8288252\tbest: 0.8371510 (15)\ttotal: 4.62s\tremaining: 577ms\n",
      "80:\ttest: 0.8287457\tbest: 0.8371510 (15)\ttotal: 4.66s\tremaining: 518ms\n",
      "81:\ttest: 0.8283842\tbest: 0.8371510 (15)\ttotal: 4.71s\tremaining: 460ms\n",
      "82:\ttest: 0.8276575\tbest: 0.8371510 (15)\ttotal: 4.75s\tremaining: 401ms\n",
      "83:\ttest: 0.8282432\tbest: 0.8371510 (15)\ttotal: 4.8s\tremaining: 343ms\n",
      "84:\ttest: 0.8284601\tbest: 0.8371510 (15)\ttotal: 4.87s\tremaining: 287ms\n",
      "85:\ttest: 0.8285902\tbest: 0.8371510 (15)\ttotal: 4.94s\tremaining: 230ms\n",
      "86:\ttest: 0.8287854\tbest: 0.8371510 (15)\ttotal: 5s\tremaining: 172ms\n",
      "87:\ttest: 0.8281926\tbest: 0.8371510 (15)\ttotal: 5.04s\tremaining: 115ms\n",
      "88:\ttest: 0.8287276\tbest: 0.8371510 (15)\ttotal: 5.08s\tremaining: 57.1ms\n",
      "89:\ttest: 0.8286915\tbest: 0.8371510 (15)\ttotal: 5.12s\tremaining: 0us\n",
      "\n",
      "bestTest = 0.8371509551\n",
      "bestIteration = 15\n",
      "\n",
      "Metric AUC is not calculated on train by default. To calculate this metric on train, add hints=skip_train~false to metric parameters.\n",
      "1:\tloss: 0.8371510\tbest: 0.8371510 (1)\ttotal: 9.63s\tremaining: 19.3s\n",
      "0:\ttest: 0.7529464\tbest: 0.7529464 (0)\ttotal: 44ms\tremaining: 3.92s\n",
      "1:\ttest: 0.7905152\tbest: 0.7905152 (1)\ttotal: 96.1ms\tremaining: 4.23s\n",
      "2:\ttest: 0.8169132\tbest: 0.8169132 (2)\ttotal: 159ms\tremaining: 4.62s\n",
      "3:\ttest: 0.8263127\tbest: 0.8263127 (3)\ttotal: 225ms\tremaining: 4.83s\n",
      "4:\ttest: 0.8318836\tbest: 0.8318836 (4)\ttotal: 305ms\tremaining: 5.19s\n",
      "5:\ttest: 0.8347179\tbest: 0.8347179 (5)\ttotal: 374ms\tremaining: 5.23s\n",
      "6:\ttest: 0.8366557\tbest: 0.8366557 (6)\ttotal: 436ms\tremaining: 5.17s\n",
      "7:\ttest: 0.8369304\tbest: 0.8369304 (7)\ttotal: 456ms\tremaining: 4.67s\n",
      "8:\ttest: 0.8365834\tbest: 0.8369304 (7)\ttotal: 500ms\tremaining: 4.5s\n",
      "9:\ttest: 0.8356362\tbest: 0.8369304 (7)\ttotal: 570ms\tremaining: 4.56s\n",
      "10:\ttest: 0.8346059\tbest: 0.8369304 (7)\ttotal: 630ms\tremaining: 4.52s\n",
      "11:\ttest: 0.8346709\tbest: 0.8369304 (7)\ttotal: 671ms\tremaining: 4.36s\n",
      "12:\ttest: 0.8336587\tbest: 0.8369304 (7)\ttotal: 720ms\tremaining: 4.26s\n",
      "13:\ttest: 0.8337888\tbest: 0.8369304 (7)\ttotal: 755ms\tremaining: 4.1s\n",
      "14:\ttest: 0.8356470\tbest: 0.8369304 (7)\ttotal: 802ms\tremaining: 4.01s\n",
      "15:\ttest: 0.8352349\tbest: 0.8369304 (7)\ttotal: 876ms\tremaining: 4.05s\n",
      "16:\ttest: 0.8347505\tbest: 0.8369304 (7)\ttotal: 932ms\tremaining: 4s\n",
      "17:\ttest: 0.8354952\tbest: 0.8369304 (7)\ttotal: 986ms\tremaining: 3.94s\n",
      "18:\ttest: 0.8355458\tbest: 0.8369304 (7)\ttotal: 1.01s\tremaining: 3.79s\n",
      "19:\ttest: 0.8354916\tbest: 0.8369304 (7)\ttotal: 1.06s\tremaining: 3.71s\n",
      "20:\ttest: 0.8344793\tbest: 0.8369304 (7)\ttotal: 1.11s\tremaining: 3.66s\n",
      "21:\ttest: 0.8345842\tbest: 0.8369304 (7)\ttotal: 1.16s\tremaining: 3.6s\n",
      "22:\ttest: 0.8313233\tbest: 0.8369304 (7)\ttotal: 1.23s\tremaining: 3.59s\n",
      "23:\ttest: 0.8309003\tbest: 0.8369304 (7)\ttotal: 1.31s\tremaining: 3.6s\n",
      "24:\ttest: 0.8304304\tbest: 0.8369304 (7)\ttotal: 1.35s\tremaining: 3.52s\n",
      "25:\ttest: 0.8310377\tbest: 0.8369304 (7)\ttotal: 1.4s\tremaining: 3.44s\n",
      "26:\ttest: 0.8317643\tbest: 0.8369304 (7)\ttotal: 1.44s\tremaining: 3.36s\n",
      "27:\ttest: 0.8318583\tbest: 0.8369304 (7)\ttotal: 1.47s\tremaining: 3.26s\n",
      "28:\ttest: 0.8321692\tbest: 0.8369304 (7)\ttotal: 1.53s\tremaining: 3.22s\n",
      "29:\ttest: 0.8325416\tbest: 0.8369304 (7)\ttotal: 1.58s\tremaining: 3.16s\n",
      "30:\ttest: 0.8322596\tbest: 0.8369304 (7)\ttotal: 1.67s\tremaining: 3.17s\n",
      "31:\ttest: 0.8317246\tbest: 0.8369304 (7)\ttotal: 1.75s\tremaining: 3.16s\n",
      "32:\ttest: 0.8314390\tbest: 0.8369304 (7)\ttotal: 1.79s\tremaining: 3.09s\n",
      "33:\ttest: 0.8313305\tbest: 0.8369304 (7)\ttotal: 1.83s\tremaining: 3.02s\n",
      "34:\ttest: 0.8312004\tbest: 0.8369304 (7)\ttotal: 1.88s\tremaining: 2.95s\n",
      "35:\ttest: 0.8315474\tbest: 0.8369304 (7)\ttotal: 1.92s\tremaining: 2.88s\n",
      "36:\ttest: 0.8315113\tbest: 0.8369304 (7)\ttotal: 1.98s\tremaining: 2.83s\n",
      "37:\ttest: 0.8316993\tbest: 0.8369304 (7)\ttotal: 2.03s\tremaining: 2.78s\n",
      "38:\ttest: 0.8310413\tbest: 0.8369304 (7)\ttotal: 2.07s\tremaining: 2.71s\n",
      "39:\ttest: 0.8315764\tbest: 0.8369304 (7)\ttotal: 2.11s\tremaining: 2.64s\n",
      "40:\ttest: 0.8305027\tbest: 0.8369304 (7)\ttotal: 2.16s\tremaining: 2.58s\n",
      "41:\ttest: 0.8303797\tbest: 0.8369304 (7)\ttotal: 2.23s\tremaining: 2.55s\n",
      "42:\ttest: 0.8318692\tbest: 0.8369304 (7)\ttotal: 2.27s\tremaining: 2.48s\n",
      "43:\ttest: 0.8317318\tbest: 0.8369304 (7)\ttotal: 2.33s\tremaining: 2.44s\n",
      "44:\ttest: 0.8301556\tbest: 0.8369304 (7)\ttotal: 2.41s\tremaining: 2.41s\n",
      "45:\ttest: 0.8296133\tbest: 0.8369304 (7)\ttotal: 2.46s\tremaining: 2.35s\n",
      "46:\ttest: 0.8291217\tbest: 0.8369304 (7)\ttotal: 2.51s\tremaining: 2.29s\n",
      "47:\ttest: 0.8294253\tbest: 0.8369304 (7)\ttotal: 2.54s\tremaining: 2.23s\n",
      "48:\ttest: 0.8294759\tbest: 0.8369304 (7)\ttotal: 2.59s\tremaining: 2.17s\n",
      "49:\ttest: 0.8305460\tbest: 0.8369304 (7)\ttotal: 2.63s\tremaining: 2.1s\n"
     ]
    },
    {
     "name": "stdout",
     "output_type": "stream",
     "text": [
      "50:\ttest: 0.8305460\tbest: 0.8369304 (7)\ttotal: 2.69s\tremaining: 2.06s\n",
      "51:\ttest: 0.8295699\tbest: 0.8369304 (7)\ttotal: 2.74s\tremaining: 2s\n",
      "52:\ttest: 0.8293530\tbest: 0.8369304 (7)\ttotal: 2.8s\tremaining: 1.95s\n",
      "53:\ttest: 0.8282468\tbest: 0.8369304 (7)\ttotal: 2.91s\tremaining: 1.94s\n",
      "54:\ttest: 0.8259765\tbest: 0.8369304 (7)\ttotal: 2.96s\tremaining: 1.88s\n",
      "55:\ttest: 0.8260777\tbest: 0.8369304 (7)\ttotal: 3.03s\tremaining: 1.84s\n",
      "56:\ttest: 0.8250510\tbest: 0.8369304 (7)\ttotal: 3.07s\tremaining: 1.78s\n",
      "57:\ttest: 0.8252823\tbest: 0.8369304 (7)\ttotal: 3.15s\tremaining: 1.74s\n",
      "58:\ttest: 0.8257595\tbest: 0.8369304 (7)\ttotal: 3.21s\tremaining: 1.69s\n",
      "59:\ttest: 0.8260126\tbest: 0.8369304 (7)\ttotal: 3.32s\tremaining: 1.66s\n",
      "60:\ttest: 0.8251884\tbest: 0.8369304 (7)\ttotal: 3.39s\tremaining: 1.61s\n",
      "61:\ttest: 0.8256656\tbest: 0.8369304 (7)\ttotal: 3.47s\tremaining: 1.57s\n",
      "62:\ttest: 0.8253402\tbest: 0.8369304 (7)\ttotal: 3.57s\tremaining: 1.53s\n",
      "63:\ttest: 0.8247835\tbest: 0.8369304 (7)\ttotal: 3.63s\tremaining: 1.47s\n",
      "64:\ttest: 0.8228891\tbest: 0.8369304 (7)\ttotal: 3.72s\tremaining: 1.43s\n",
      "65:\ttest: 0.8210743\tbest: 0.8369304 (7)\ttotal: 3.83s\tremaining: 1.39s\n",
      "66:\ttest: 0.8207345\tbest: 0.8369304 (7)\ttotal: 3.87s\tremaining: 1.33s\n",
      "67:\ttest: 0.8214286\tbest: 0.8369304 (7)\ttotal: 3.97s\tremaining: 1.28s\n",
      "68:\ttest: 0.8204236\tbest: 0.8369304 (7)\ttotal: 4.04s\tremaining: 1.23s\n",
      "69:\ttest: 0.8208501\tbest: 0.8369304 (7)\ttotal: 4.09s\tremaining: 1.17s\n",
      "70:\ttest: 0.8211972\tbest: 0.8369304 (7)\ttotal: 4.18s\tremaining: 1.12s\n",
      "71:\ttest: 0.8219708\tbest: 0.8369304 (7)\ttotal: 4.24s\tremaining: 1.06s\n",
      "72:\ttest: 0.8226324\tbest: 0.8369304 (7)\ttotal: 4.29s\tremaining: 998ms\n",
      "73:\ttest: 0.8209911\tbest: 0.8369304 (7)\ttotal: 4.33s\tremaining: 937ms\n",
      "74:\ttest: 0.8210056\tbest: 0.8369304 (7)\ttotal: 4.38s\tremaining: 876ms\n",
      "75:\ttest: 0.8208465\tbest: 0.8369304 (7)\ttotal: 4.43s\tremaining: 817ms\n",
      "76:\ttest: 0.8202609\tbest: 0.8369304 (7)\ttotal: 4.5s\tremaining: 760ms\n",
      "77:\ttest: 0.8196824\tbest: 0.8369304 (7)\ttotal: 4.58s\tremaining: 705ms\n",
      "78:\ttest: 0.8171880\tbest: 0.8369304 (7)\ttotal: 4.63s\tremaining: 644ms\n",
      "79:\ttest: 0.8164432\tbest: 0.8369304 (7)\ttotal: 4.69s\tremaining: 586ms\n",
      "80:\ttest: 0.8165879\tbest: 0.8369304 (7)\ttotal: 4.74s\tremaining: 527ms\n",
      "81:\ttest: 0.8162263\tbest: 0.8369304 (7)\ttotal: 4.8s\tremaining: 468ms\n",
      "82:\ttest: 0.8162553\tbest: 0.8369304 (7)\ttotal: 4.84s\tremaining: 408ms\n",
      "83:\ttest: 0.8165011\tbest: 0.8369304 (7)\ttotal: 4.89s\tremaining: 349ms\n",
      "84:\ttest: 0.8163854\tbest: 0.8369304 (7)\ttotal: 4.95s\tremaining: 291ms\n",
      "85:\ttest: 0.8164866\tbest: 0.8369304 (7)\ttotal: 5s\tremaining: 232ms\n",
      "86:\ttest: 0.8165372\tbest: 0.8369304 (7)\ttotal: 5.06s\tremaining: 175ms\n",
      "87:\ttest: 0.8165156\tbest: 0.8369304 (7)\ttotal: 5.12s\tremaining: 116ms\n",
      "88:\ttest: 0.8166819\tbest: 0.8369304 (7)\ttotal: 5.17s\tremaining: 58.1ms\n",
      "89:\ttest: 0.8148092\tbest: 0.8369304 (7)\ttotal: 5.23s\tremaining: 0us\n",
      "\n",
      "bestTest = 0.8369304296\n",
      "bestIteration = 7\n",
      "\n",
      "Metric AUC is not calculated on train by default. To calculate this metric on train, add hints=skip_train~false to metric parameters.\n",
      "2:\tloss: 0.8369304\tbest: 0.8371510 (1)\ttotal: 14.9s\tremaining: 14.9s\n",
      "0:\ttest: 0.7529464\tbest: 0.7529464 (0)\ttotal: 53.2ms\tremaining: 5.26s\n",
      "1:\ttest: 0.7961441\tbest: 0.7961441 (1)\ttotal: 94.7ms\tremaining: 4.64s\n",
      "2:\ttest: 0.8015234\tbest: 0.8015234 (2)\ttotal: 154ms\tremaining: 4.99s\n",
      "3:\ttest: 0.8063388\tbest: 0.8063388 (3)\ttotal: 204ms\tremaining: 4.91s\n",
      "4:\ttest: 0.8094081\tbest: 0.8094081 (4)\ttotal: 254ms\tremaining: 4.83s\n",
      "5:\ttest: 0.8143898\tbest: 0.8143898 (5)\ttotal: 307ms\tremaining: 4.81s\n",
      "6:\ttest: 0.8142199\tbest: 0.8143898 (5)\ttotal: 347ms\tremaining: 4.61s\n",
      "7:\ttest: 0.8149466\tbest: 0.8149466 (7)\ttotal: 386ms\tremaining: 4.44s\n",
      "8:\ttest: 0.8169241\tbest: 0.8169241 (8)\ttotal: 429ms\tremaining: 4.34s\n",
      "9:\ttest: 0.8175170\tbest: 0.8175170 (9)\ttotal: 482ms\tremaining: 4.34s\n",
      "10:\ttest: 0.8154563\tbest: 0.8175170 (9)\ttotal: 537ms\tremaining: 4.35s\n",
      "11:\ttest: 0.8153551\tbest: 0.8175170 (9)\ttotal: 598ms\tremaining: 4.39s\n",
      "12:\ttest: 0.8181315\tbest: 0.8181315 (12)\ttotal: 655ms\tremaining: 4.38s\n",
      "13:\ttest: 0.8184497\tbest: 0.8184497 (13)\ttotal: 702ms\tremaining: 4.31s\n",
      "14:\ttest: 0.8194258\tbest: 0.8194258 (14)\ttotal: 751ms\tremaining: 4.25s\n",
      "15:\ttest: 0.8202247\tbest: 0.8202247 (15)\ttotal: 818ms\tremaining: 4.29s\n",
      "16:\ttest: 0.8226758\tbest: 0.8226758 (16)\ttotal: 896ms\tremaining: 4.38s\n",
      "17:\ttest: 0.8233374\tbest: 0.8233374 (17)\ttotal: 966ms\tremaining: 4.4s\n",
      "18:\ttest: 0.8265404\tbest: 0.8265404 (18)\ttotal: 1.04s\tremaining: 4.45s\n",
      "19:\ttest: 0.8286481\tbest: 0.8286481 (19)\ttotal: 1.11s\tremaining: 4.46s\n",
      "20:\ttest: 0.8301628\tbest: 0.8301628 (20)\ttotal: 1.15s\tremaining: 4.34s\n",
      "21:\ttest: 0.8313341\tbest: 0.8313341 (21)\ttotal: 1.23s\tremaining: 4.36s\n",
      "22:\ttest: 0.8325633\tbest: 0.8325633 (22)\ttotal: 1.29s\tremaining: 4.32s\n",
      "23:\ttest: 0.8329574\tbest: 0.8329574 (23)\ttotal: 1.34s\tremaining: 4.24s\n",
      "24:\ttest: 0.8338503\tbest: 0.8338503 (24)\ttotal: 1.38s\tremaining: 4.14s\n",
      "25:\ttest: 0.8340564\tbest: 0.8340564 (25)\ttotal: 1.44s\tremaining: 4.11s\n",
      "26:\ttest: 0.8344793\tbest: 0.8344793 (26)\ttotal: 1.47s\tremaining: 3.97s\n",
      "27:\ttest: 0.8347613\tbest: 0.8347613 (27)\ttotal: 1.53s\tremaining: 3.93s\n",
      "28:\ttest: 0.8350867\tbest: 0.8350867 (28)\ttotal: 1.58s\tremaining: 3.87s\n",
      "29:\ttest: 0.8356037\tbest: 0.8356037 (29)\ttotal: 1.66s\tremaining: 3.87s\n",
      "30:\ttest: 0.8352060\tbest: 0.8356037 (29)\ttotal: 1.73s\tremaining: 3.85s\n",
      "31:\ttest: 0.8351988\tbest: 0.8356037 (29)\ttotal: 1.76s\tremaining: 3.75s\n",
      "32:\ttest: 0.8348806\tbest: 0.8356037 (29)\ttotal: 1.79s\tremaining: 3.63s\n",
      "33:\ttest: 0.8349095\tbest: 0.8356037 (29)\ttotal: 1.82s\tremaining: 3.54s\n",
      "34:\ttest: 0.8347866\tbest: 0.8356037 (29)\ttotal: 1.88s\tremaining: 3.5s\n",
      "35:\ttest: 0.8348734\tbest: 0.8356037 (29)\ttotal: 1.92s\tremaining: 3.42s\n",
      "36:\ttest: 0.8345697\tbest: 0.8356037 (29)\ttotal: 1.95s\tremaining: 3.33s\n",
      "37:\ttest: 0.8347649\tbest: 0.8356037 (29)\ttotal: 2.04s\tremaining: 3.32s\n",
      "38:\ttest: 0.8346059\tbest: 0.8356037 (29)\ttotal: 2.1s\tremaining: 3.28s\n",
      "39:\ttest: 0.8347830\tbest: 0.8356037 (29)\ttotal: 2.16s\tremaining: 3.24s\n",
      "40:\ttest: 0.8346456\tbest: 0.8356037 (29)\ttotal: 2.23s\tremaining: 3.22s\n",
      "41:\ttest: 0.8350072\tbest: 0.8356037 (29)\ttotal: 2.34s\tremaining: 3.23s\n",
      "42:\ttest: 0.8348589\tbest: 0.8356037 (29)\ttotal: 2.4s\tremaining: 3.17s\n",
      "43:\ttest: 0.8347830\tbest: 0.8356037 (29)\ttotal: 2.45s\tremaining: 3.12s\n",
      "44:\ttest: 0.8350505\tbest: 0.8356037 (29)\ttotal: 2.53s\tremaining: 3.09s\n",
      "45:\ttest: 0.8351951\tbest: 0.8356037 (29)\ttotal: 2.6s\tremaining: 3.05s\n",
      "46:\ttest: 0.8350939\tbest: 0.8356037 (29)\ttotal: 2.66s\tremaining: 3s\n",
      "47:\ttest: 0.8349710\tbest: 0.8356037 (29)\ttotal: 2.68s\tremaining: 2.9s\n",
      "48:\ttest: 0.8351951\tbest: 0.8356037 (29)\ttotal: 2.76s\tremaining: 2.88s\n",
      "49:\ttest: 0.8349565\tbest: 0.8356037 (29)\ttotal: 2.81s\tremaining: 2.81s\n",
      "50:\ttest: 0.8349710\tbest: 0.8356037 (29)\ttotal: 2.83s\tremaining: 2.72s\n",
      "51:\ttest: 0.8348047\tbest: 0.8356037 (29)\ttotal: 2.88s\tremaining: 2.66s\n",
      "52:\ttest: 0.8345733\tbest: 0.8356037 (29)\ttotal: 2.95s\tremaining: 2.61s\n",
      "53:\ttest: 0.8343058\tbest: 0.8356037 (29)\ttotal: 3.03s\tremaining: 2.58s\n",
      "54:\ttest: 0.8343420\tbest: 0.8356037 (29)\ttotal: 3.09s\tremaining: 2.53s\n",
      "55:\ttest: 0.8342444\tbest: 0.8356037 (29)\ttotal: 3.17s\tremaining: 2.49s\n",
      "56:\ttest: 0.8340925\tbest: 0.8356037 (29)\ttotal: 3.25s\tremaining: 2.45s\n",
      "57:\ttest: 0.8340672\tbest: 0.8356037 (29)\ttotal: 3.29s\tremaining: 2.38s\n",
      "58:\ttest: 0.8342480\tbest: 0.8356037 (29)\ttotal: 3.38s\tremaining: 2.35s\n",
      "59:\ttest: 0.8340961\tbest: 0.8356037 (29)\ttotal: 3.44s\tremaining: 2.29s\n",
      "60:\ttest: 0.8344107\tbest: 0.8356037 (29)\ttotal: 3.5s\tremaining: 2.24s\n",
      "61:\ttest: 0.8347577\tbest: 0.8356037 (29)\ttotal: 3.54s\tremaining: 2.17s\n",
      "62:\ttest: 0.8347433\tbest: 0.8356037 (29)\ttotal: 3.62s\tremaining: 2.13s\n",
      "63:\ttest: 0.8349963\tbest: 0.8356037 (29)\ttotal: 3.73s\tremaining: 2.1s\n",
      "64:\ttest: 0.8350252\tbest: 0.8356037 (29)\ttotal: 3.76s\tremaining: 2.03s\n",
      "65:\ttest: 0.8349529\tbest: 0.8356037 (29)\ttotal: 3.81s\tremaining: 1.96s\n",
      "66:\ttest: 0.8352132\tbest: 0.8356037 (29)\ttotal: 3.88s\tremaining: 1.91s\n",
      "67:\ttest: 0.8353506\tbest: 0.8356037 (29)\ttotal: 3.96s\tremaining: 1.86s\n",
      "68:\ttest: 0.8352928\tbest: 0.8356037 (29)\ttotal: 4s\tremaining: 1.8s\n",
      "69:\ttest: 0.8352277\tbest: 0.8356037 (29)\ttotal: 4.05s\tremaining: 1.73s\n",
      "70:\ttest: 0.8355458\tbest: 0.8356037 (29)\ttotal: 4.12s\tremaining: 1.68s\n",
      "71:\ttest: 0.8357121\tbest: 0.8357121 (71)\ttotal: 4.19s\tremaining: 1.63s\n",
      "72:\ttest: 0.8358856\tbest: 0.8358856 (72)\ttotal: 4.24s\tremaining: 1.57s\n",
      "73:\ttest: 0.8358133\tbest: 0.8358856 (72)\ttotal: 4.32s\tremaining: 1.52s\n"
     ]
    },
    {
     "name": "stdout",
     "output_type": "stream",
     "text": [
      "74:\ttest: 0.8358495\tbest: 0.8358856 (72)\ttotal: 4.41s\tremaining: 1.47s\n",
      "75:\ttest: 0.8355603\tbest: 0.8358856 (72)\ttotal: 4.45s\tremaining: 1.41s\n",
      "76:\ttest: 0.8355458\tbest: 0.8358856 (72)\ttotal: 4.53s\tremaining: 1.35s\n",
      "77:\ttest: 0.8352928\tbest: 0.8358856 (72)\ttotal: 4.61s\tremaining: 1.3s\n",
      "78:\ttest: 0.8354374\tbest: 0.8358856 (72)\ttotal: 4.65s\tremaining: 1.24s\n",
      "79:\ttest: 0.8353651\tbest: 0.8358856 (72)\ttotal: 4.75s\tremaining: 1.19s\n",
      "80:\ttest: 0.8352132\tbest: 0.8358856 (72)\ttotal: 4.82s\tremaining: 1.13s\n",
      "81:\ttest: 0.8353723\tbest: 0.8358856 (72)\ttotal: 4.88s\tremaining: 1.07s\n",
      "82:\ttest: 0.8355061\tbest: 0.8358856 (72)\ttotal: 4.97s\tremaining: 1.02s\n",
      "83:\ttest: 0.8352458\tbest: 0.8358856 (72)\ttotal: 5.05s\tremaining: 962ms\n",
      "84:\ttest: 0.8351951\tbest: 0.8358856 (72)\ttotal: 5.1s\tremaining: 899ms\n",
      "85:\ttest: 0.8353759\tbest: 0.8358856 (72)\ttotal: 5.17s\tremaining: 841ms\n",
      "86:\ttest: 0.8353325\tbest: 0.8358856 (72)\ttotal: 5.25s\tremaining: 785ms\n",
      "87:\ttest: 0.8349276\tbest: 0.8358856 (72)\ttotal: 5.3s\tremaining: 722ms\n",
      "88:\ttest: 0.8352385\tbest: 0.8358856 (72)\ttotal: 5.37s\tremaining: 664ms\n",
      "89:\ttest: 0.8350867\tbest: 0.8358856 (72)\ttotal: 5.45s\tremaining: 606ms\n",
      "90:\ttest: 0.8351445\tbest: 0.8358856 (72)\ttotal: 5.5s\tremaining: 544ms\n",
      "91:\ttest: 0.8351879\tbest: 0.8358856 (72)\ttotal: 5.56s\tremaining: 484ms\n",
      "92:\ttest: 0.8352096\tbest: 0.8358856 (72)\ttotal: 5.63s\tremaining: 424ms\n",
      "93:\ttest: 0.8350722\tbest: 0.8358856 (72)\ttotal: 5.7s\tremaining: 364ms\n",
      "94:\ttest: 0.8346601\tbest: 0.8358856 (72)\ttotal: 5.75s\tremaining: 303ms\n",
      "95:\ttest: 0.8345516\tbest: 0.8358856 (72)\ttotal: 5.84s\tremaining: 243ms\n",
      "96:\ttest: 0.8343275\tbest: 0.8358856 (72)\ttotal: 5.92s\tremaining: 183ms\n",
      "97:\ttest: 0.8340817\tbest: 0.8358856 (72)\ttotal: 5.97s\tremaining: 122ms\n",
      "98:\ttest: 0.8339949\tbest: 0.8358856 (72)\ttotal: 6.07s\tremaining: 61.3ms\n",
      "99:\ttest: 0.8338286\tbest: 0.8358856 (72)\ttotal: 6.15s\tremaining: 0us\n",
      "\n",
      "bestTest = 0.8358856449\n",
      "bestIteration = 72\n",
      "\n",
      "Metric AUC is not calculated on train by default. To calculate this metric on train, add hints=skip_train~false to metric parameters.\n",
      "3:\tloss: 0.8358856\tbest: 0.8371510 (1)\ttotal: 21.1s\tremaining: 10.6s\n",
      "0:\ttest: 0.7529464\tbest: 0.7529464 (0)\ttotal: 43.5ms\tremaining: 4.31s\n",
      "1:\ttest: 0.7957753\tbest: 0.7957753 (1)\ttotal: 127ms\tremaining: 6.21s\n",
      "2:\ttest: 0.8046397\tbest: 0.8046397 (2)\ttotal: 205ms\tremaining: 6.61s\n",
      "3:\ttest: 0.8130811\tbest: 0.8130811 (3)\ttotal: 246ms\tremaining: 5.9s\n",
      "4:\ttest: 0.8234675\tbest: 0.8234675 (4)\ttotal: 327ms\tremaining: 6.21s\n",
      "5:\ttest: 0.8310883\tbest: 0.8310883 (5)\ttotal: 388ms\tremaining: 6.08s\n",
      "6:\ttest: 0.8334056\tbest: 0.8334056 (6)\ttotal: 434ms\tremaining: 5.76s\n",
      "7:\ttest: 0.8360483\tbest: 0.8360483 (7)\ttotal: 451ms\tremaining: 5.18s\n",
      "8:\ttest: 0.8371365\tbest: 0.8371365 (8)\ttotal: 539ms\tremaining: 5.45s\n",
      "9:\ttest: 0.8367641\tbest: 0.8371365 (8)\ttotal: 613ms\tremaining: 5.52s\n",
      "10:\ttest: 0.8366412\tbest: 0.8371365 (8)\ttotal: 659ms\tremaining: 5.33s\n",
      "11:\ttest: 0.8360339\tbest: 0.8371365 (8)\ttotal: 737ms\tremaining: 5.4s\n",
      "12:\ttest: 0.8358025\tbest: 0.8371365 (8)\ttotal: 799ms\tremaining: 5.34s\n",
      "13:\ttest: 0.8370931\tbest: 0.8371365 (8)\ttotal: 864ms\tremaining: 5.31s\n",
      "14:\ttest: 0.8362689\tbest: 0.8371365 (8)\ttotal: 922ms\tremaining: 5.22s\n",
      "15:\ttest: 0.8371510\tbest: 0.8371510 (15)\ttotal: 987ms\tremaining: 5.18s\n",
      "16:\ttest: 0.8357880\tbest: 0.8371510 (15)\ttotal: 1.08s\tremaining: 5.29s\n",
      "17:\ttest: 0.8350072\tbest: 0.8371510 (15)\ttotal: 1.13s\tremaining: 5.13s\n",
      "18:\ttest: 0.8343926\tbest: 0.8371510 (15)\ttotal: 1.2s\tremaining: 5.12s\n",
      "19:\ttest: 0.8331128\tbest: 0.8371510 (15)\ttotal: 1.25s\tremaining: 4.99s\n",
      "20:\ttest: 0.8325741\tbest: 0.8371510 (15)\ttotal: 1.31s\tremaining: 4.91s\n",
      "21:\ttest: 0.8311208\tbest: 0.8371510 (15)\ttotal: 1.35s\tremaining: 4.8s\n",
      "22:\ttest: 0.8313088\tbest: 0.8371510 (15)\ttotal: 1.43s\tremaining: 4.77s\n",
      "23:\ttest: 0.8313161\tbest: 0.8371510 (15)\ttotal: 1.47s\tremaining: 4.66s\n",
      "24:\ttest: 0.8306147\tbest: 0.8371510 (15)\ttotal: 1.53s\tremaining: 4.58s\n",
      "25:\ttest: 0.8312763\tbest: 0.8371510 (15)\ttotal: 1.6s\tremaining: 4.56s\n",
      "26:\ttest: 0.8313775\tbest: 0.8371510 (15)\ttotal: 1.68s\tremaining: 4.53s\n",
      "27:\ttest: 0.8307196\tbest: 0.8371510 (15)\ttotal: 1.76s\tremaining: 4.53s\n",
      "28:\ttest: 0.8306834\tbest: 0.8371510 (15)\ttotal: 1.83s\tremaining: 4.48s\n",
      "29:\ttest: 0.8308136\tbest: 0.8371510 (15)\ttotal: 1.91s\tremaining: 4.46s\n",
      "30:\ttest: 0.8309726\tbest: 0.8371510 (15)\ttotal: 1.98s\tremaining: 4.41s\n",
      "31:\ttest: 0.8309220\tbest: 0.8371510 (15)\ttotal: 2.03s\tremaining: 4.31s\n",
      "32:\ttest: 0.8309220\tbest: 0.8371510 (15)\ttotal: 2.07s\tremaining: 4.2s\n",
      "33:\ttest: 0.8306979\tbest: 0.8371510 (15)\ttotal: 2.12s\tremaining: 4.12s\n",
      "34:\ttest: 0.8306400\tbest: 0.8371510 (15)\ttotal: 2.19s\tremaining: 4.06s\n",
      "35:\ttest: 0.8306328\tbest: 0.8371510 (15)\ttotal: 2.21s\tremaining: 3.92s\n",
      "36:\ttest: 0.8307304\tbest: 0.8371510 (15)\ttotal: 2.25s\tremaining: 3.83s\n",
      "37:\ttest: 0.8313233\tbest: 0.8371510 (15)\ttotal: 2.32s\tremaining: 3.79s\n",
      "38:\ttest: 0.8314390\tbest: 0.8371510 (15)\ttotal: 2.39s\tremaining: 3.73s\n",
      "39:\ttest: 0.8312908\tbest: 0.8371510 (15)\ttotal: 2.44s\tremaining: 3.65s\n",
      "40:\ttest: 0.8310955\tbest: 0.8371510 (15)\ttotal: 2.49s\tremaining: 3.58s\n",
      "41:\ttest: 0.8316089\tbest: 0.8371510 (15)\ttotal: 2.57s\tremaining: 3.54s\n",
      "42:\ttest: 0.8315149\tbest: 0.8371510 (15)\ttotal: 2.63s\tremaining: 3.49s\n",
      "43:\ttest: 0.8312618\tbest: 0.8371510 (15)\ttotal: 2.71s\tremaining: 3.45s\n",
      "44:\ttest: 0.8312618\tbest: 0.8371510 (15)\ttotal: 2.72s\tremaining: 3.33s\n",
      "45:\ttest: 0.8311172\tbest: 0.8371510 (15)\ttotal: 2.78s\tremaining: 3.26s\n",
      "46:\ttest: 0.8309220\tbest: 0.8371510 (15)\ttotal: 2.86s\tremaining: 3.22s\n",
      "47:\ttest: 0.8303870\tbest: 0.8371510 (15)\ttotal: 2.9s\tremaining: 3.14s\n",
      "48:\ttest: 0.8306834\tbest: 0.8371510 (15)\ttotal: 2.98s\tremaining: 3.1s\n",
      "49:\ttest: 0.8306617\tbest: 0.8371510 (15)\ttotal: 3.08s\tremaining: 3.08s\n",
      "50:\ttest: 0.8305750\tbest: 0.8371510 (15)\ttotal: 3.12s\tremaining: 3s\n",
      "51:\ttest: 0.8307304\tbest: 0.8371510 (15)\ttotal: 3.2s\tremaining: 2.95s\n",
      "52:\ttest: 0.8308822\tbest: 0.8371510 (15)\ttotal: 3.26s\tremaining: 2.89s\n",
      "53:\ttest: 0.8308750\tbest: 0.8371510 (15)\ttotal: 3.32s\tremaining: 2.83s\n",
      "54:\ttest: 0.8307738\tbest: 0.8371510 (15)\ttotal: 3.38s\tremaining: 2.77s\n",
      "55:\ttest: 0.8308533\tbest: 0.8371510 (15)\ttotal: 3.46s\tremaining: 2.72s\n",
      "56:\ttest: 0.8313956\tbest: 0.8371510 (15)\ttotal: 3.55s\tremaining: 2.68s\n",
      "57:\ttest: 0.8311498\tbest: 0.8371510 (15)\ttotal: 3.6s\tremaining: 2.61s\n",
      "58:\ttest: 0.8313667\tbest: 0.8371510 (15)\ttotal: 3.68s\tremaining: 2.56s\n",
      "59:\ttest: 0.8317535\tbest: 0.8371510 (15)\ttotal: 3.75s\tremaining: 2.5s\n",
      "60:\ttest: 0.8318113\tbest: 0.8371510 (15)\ttotal: 3.8s\tremaining: 2.43s\n",
      "61:\ttest: 0.8315655\tbest: 0.8371510 (15)\ttotal: 3.86s\tremaining: 2.37s\n",
      "62:\ttest: 0.8321584\tbest: 0.8371510 (15)\ttotal: 3.97s\tremaining: 2.33s\n",
      "63:\ttest: 0.8321946\tbest: 0.8371510 (15)\ttotal: 4.02s\tremaining: 2.26s\n",
      "64:\ttest: 0.8319668\tbest: 0.8371510 (15)\ttotal: 4.12s\tremaining: 2.22s\n",
      "65:\ttest: 0.8307883\tbest: 0.8371510 (15)\ttotal: 4.2s\tremaining: 2.16s\n",
      "66:\ttest: 0.8307738\tbest: 0.8371510 (15)\ttotal: 4.24s\tremaining: 2.09s\n",
      "67:\ttest: 0.8300580\tbest: 0.8371510 (15)\ttotal: 4.31s\tremaining: 2.03s\n",
      "68:\ttest: 0.8301158\tbest: 0.8371510 (15)\ttotal: 4.43s\tremaining: 1.99s\n",
      "69:\ttest: 0.8297109\tbest: 0.8371510 (15)\ttotal: 4.48s\tremaining: 1.92s\n",
      "70:\ttest: 0.8298628\tbest: 0.8371510 (15)\ttotal: 4.55s\tremaining: 1.86s\n",
      "71:\ttest: 0.8298266\tbest: 0.8371510 (15)\ttotal: 4.65s\tremaining: 1.81s\n",
      "72:\ttest: 0.8299134\tbest: 0.8371510 (15)\ttotal: 4.72s\tremaining: 1.75s\n",
      "73:\ttest: 0.8292916\tbest: 0.8371510 (15)\ttotal: 4.8s\tremaining: 1.69s\n",
      "74:\ttest: 0.8295374\tbest: 0.8371510 (15)\ttotal: 4.88s\tremaining: 1.63s\n",
      "75:\ttest: 0.8295736\tbest: 0.8371510 (15)\ttotal: 4.92s\tremaining: 1.55s\n",
      "76:\ttest: 0.8293205\tbest: 0.8371510 (15)\ttotal: 5s\tremaining: 1.49s\n",
      "77:\ttest: 0.8295880\tbest: 0.8371510 (15)\ttotal: 5.06s\tremaining: 1.43s\n",
      "78:\ttest: 0.8289481\tbest: 0.8371510 (15)\ttotal: 5.13s\tremaining: 1.36s\n",
      "79:\ttest: 0.8288252\tbest: 0.8371510 (15)\ttotal: 5.17s\tremaining: 1.29s\n",
      "80:\ttest: 0.8287457\tbest: 0.8371510 (15)\ttotal: 5.25s\tremaining: 1.23s\n",
      "81:\ttest: 0.8283842\tbest: 0.8371510 (15)\ttotal: 5.32s\tremaining: 1.17s\n",
      "82:\ttest: 0.8276575\tbest: 0.8371510 (15)\ttotal: 5.37s\tremaining: 1.1s\n",
      "83:\ttest: 0.8282432\tbest: 0.8371510 (15)\ttotal: 5.45s\tremaining: 1.04s\n",
      "84:\ttest: 0.8284601\tbest: 0.8371510 (15)\ttotal: 5.54s\tremaining: 978ms\n",
      "85:\ttest: 0.8285902\tbest: 0.8371510 (15)\ttotal: 5.6s\tremaining: 911ms\n",
      "86:\ttest: 0.8287854\tbest: 0.8371510 (15)\ttotal: 5.68s\tremaining: 848ms\n"
     ]
    },
    {
     "name": "stdout",
     "output_type": "stream",
     "text": [
      "87:\ttest: 0.8281926\tbest: 0.8371510 (15)\ttotal: 5.77s\tremaining: 786ms\n",
      "88:\ttest: 0.8287276\tbest: 0.8371510 (15)\ttotal: 5.83s\tremaining: 721ms\n",
      "89:\ttest: 0.8286915\tbest: 0.8371510 (15)\ttotal: 5.91s\tremaining: 656ms\n",
      "90:\ttest: 0.8288794\tbest: 0.8371510 (15)\ttotal: 6s\tremaining: 593ms\n",
      "91:\ttest: 0.8285396\tbest: 0.8371510 (15)\ttotal: 6.06s\tremaining: 527ms\n",
      "92:\ttest: 0.8286119\tbest: 0.8371510 (15)\ttotal: 6.15s\tremaining: 463ms\n",
      "93:\ttest: 0.8279467\tbest: 0.8371510 (15)\ttotal: 6.23s\tremaining: 397ms\n",
      "94:\ttest: 0.8276792\tbest: 0.8371510 (15)\ttotal: 6.28s\tremaining: 330ms\n",
      "95:\ttest: 0.8277370\tbest: 0.8371510 (15)\ttotal: 6.34s\tremaining: 264ms\n",
      "96:\ttest: 0.8278166\tbest: 0.8371510 (15)\ttotal: 6.44s\tremaining: 199ms\n",
      "97:\ttest: 0.8278166\tbest: 0.8371510 (15)\ttotal: 6.5s\tremaining: 133ms\n",
      "98:\ttest: 0.8278166\tbest: 0.8371510 (15)\ttotal: 6.57s\tremaining: 66.4ms\n",
      "99:\ttest: 0.8266091\tbest: 0.8371510 (15)\ttotal: 6.65s\tremaining: 0us\n",
      "\n",
      "bestTest = 0.8371509551\n",
      "bestIteration = 15\n",
      "\n",
      "Metric AUC is not calculated on train by default. To calculate this metric on train, add hints=skip_train~false to metric parameters.\n",
      "4:\tloss: 0.8371510\tbest: 0.8371510 (1)\ttotal: 27.9s\tremaining: 5.57s\n",
      "0:\ttest: 0.7529464\tbest: 0.7529464 (0)\ttotal: 77.2ms\tremaining: 7.64s\n",
      "1:\ttest: 0.7905152\tbest: 0.7905152 (1)\ttotal: 115ms\tremaining: 5.61s\n",
      "2:\ttest: 0.8169132\tbest: 0.8169132 (2)\ttotal: 193ms\tremaining: 6.22s\n",
      "3:\ttest: 0.8263127\tbest: 0.8263127 (3)\ttotal: 239ms\tremaining: 5.75s\n",
      "4:\ttest: 0.8318836\tbest: 0.8318836 (4)\ttotal: 329ms\tremaining: 6.26s\n",
      "5:\ttest: 0.8347179\tbest: 0.8347179 (5)\ttotal: 410ms\tremaining: 6.43s\n",
      "6:\ttest: 0.8366557\tbest: 0.8366557 (6)\ttotal: 458ms\tremaining: 6.08s\n",
      "7:\ttest: 0.8369304\tbest: 0.8369304 (7)\ttotal: 491ms\tremaining: 5.64s\n",
      "8:\ttest: 0.8365834\tbest: 0.8369304 (7)\ttotal: 568ms\tremaining: 5.74s\n",
      "9:\ttest: 0.8356362\tbest: 0.8369304 (7)\ttotal: 644ms\tremaining: 5.8s\n",
      "10:\ttest: 0.8346059\tbest: 0.8369304 (7)\ttotal: 689ms\tremaining: 5.57s\n",
      "11:\ttest: 0.8346709\tbest: 0.8369304 (7)\ttotal: 755ms\tremaining: 5.54s\n",
      "12:\ttest: 0.8336587\tbest: 0.8369304 (7)\ttotal: 801ms\tremaining: 5.36s\n",
      "13:\ttest: 0.8337888\tbest: 0.8369304 (7)\ttotal: 856ms\tremaining: 5.26s\n",
      "14:\ttest: 0.8356470\tbest: 0.8369304 (7)\ttotal: 907ms\tremaining: 5.14s\n",
      "15:\ttest: 0.8352349\tbest: 0.8369304 (7)\ttotal: 975ms\tremaining: 5.12s\n",
      "16:\ttest: 0.8347505\tbest: 0.8369304 (7)\ttotal: 1.05s\tremaining: 5.13s\n",
      "17:\ttest: 0.8354952\tbest: 0.8369304 (7)\ttotal: 1.13s\tremaining: 5.13s\n",
      "18:\ttest: 0.8355458\tbest: 0.8369304 (7)\ttotal: 1.17s\tremaining: 5s\n",
      "19:\ttest: 0.8354916\tbest: 0.8369304 (7)\ttotal: 1.22s\tremaining: 4.86s\n",
      "20:\ttest: 0.8344793\tbest: 0.8369304 (7)\ttotal: 1.28s\tremaining: 4.82s\n",
      "21:\ttest: 0.8345842\tbest: 0.8369304 (7)\ttotal: 1.32s\tremaining: 4.69s\n",
      "22:\ttest: 0.8313233\tbest: 0.8369304 (7)\ttotal: 1.4s\tremaining: 4.69s\n",
      "23:\ttest: 0.8309003\tbest: 0.8369304 (7)\ttotal: 1.48s\tremaining: 4.68s\n",
      "24:\ttest: 0.8304304\tbest: 0.8369304 (7)\ttotal: 1.53s\tremaining: 4.58s\n",
      "25:\ttest: 0.8310377\tbest: 0.8369304 (7)\ttotal: 1.6s\tremaining: 4.56s\n",
      "26:\ttest: 0.8317643\tbest: 0.8369304 (7)\ttotal: 1.69s\tremaining: 4.58s\n",
      "27:\ttest: 0.8318583\tbest: 0.8369304 (7)\ttotal: 1.74s\tremaining: 4.47s\n",
      "28:\ttest: 0.8321692\tbest: 0.8369304 (7)\ttotal: 1.84s\tremaining: 4.5s\n",
      "29:\ttest: 0.8325416\tbest: 0.8369304 (7)\ttotal: 1.91s\tremaining: 4.46s\n",
      "30:\ttest: 0.8322596\tbest: 0.8369304 (7)\ttotal: 1.96s\tremaining: 4.36s\n",
      "31:\ttest: 0.8317246\tbest: 0.8369304 (7)\ttotal: 2.05s\tremaining: 4.35s\n",
      "32:\ttest: 0.8314390\tbest: 0.8369304 (7)\ttotal: 2.12s\tremaining: 4.31s\n",
      "33:\ttest: 0.8313305\tbest: 0.8369304 (7)\ttotal: 2.17s\tremaining: 4.22s\n",
      "34:\ttest: 0.8312004\tbest: 0.8369304 (7)\ttotal: 2.23s\tremaining: 4.14s\n",
      "35:\ttest: 0.8315474\tbest: 0.8369304 (7)\ttotal: 2.32s\tremaining: 4.13s\n",
      "36:\ttest: 0.8315113\tbest: 0.8369304 (7)\ttotal: 2.38s\tremaining: 4.05s\n",
      "37:\ttest: 0.8316993\tbest: 0.8369304 (7)\ttotal: 2.47s\tremaining: 4.04s\n",
      "38:\ttest: 0.8310413\tbest: 0.8369304 (7)\ttotal: 2.55s\tremaining: 3.98s\n",
      "39:\ttest: 0.8315764\tbest: 0.8369304 (7)\ttotal: 2.59s\tremaining: 3.89s\n",
      "40:\ttest: 0.8305027\tbest: 0.8369304 (7)\ttotal: 2.66s\tremaining: 3.83s\n",
      "41:\ttest: 0.8303797\tbest: 0.8369304 (7)\ttotal: 2.74s\tremaining: 3.78s\n",
      "42:\ttest: 0.8318692\tbest: 0.8369304 (7)\ttotal: 2.8s\tremaining: 3.71s\n",
      "43:\ttest: 0.8317318\tbest: 0.8369304 (7)\ttotal: 2.86s\tremaining: 3.64s\n",
      "44:\ttest: 0.8301556\tbest: 0.8369304 (7)\ttotal: 2.9s\tremaining: 3.55s\n",
      "45:\ttest: 0.8296133\tbest: 0.8369304 (7)\ttotal: 2.98s\tremaining: 3.5s\n",
      "46:\ttest: 0.8291217\tbest: 0.8369304 (7)\ttotal: 3.05s\tremaining: 3.44s\n",
      "47:\ttest: 0.8294253\tbest: 0.8369304 (7)\ttotal: 3.15s\tremaining: 3.41s\n",
      "48:\ttest: 0.8294759\tbest: 0.8369304 (7)\ttotal: 3.25s\tremaining: 3.38s\n",
      "49:\ttest: 0.8305460\tbest: 0.8369304 (7)\ttotal: 3.3s\tremaining: 3.3s\n",
      "50:\ttest: 0.8305460\tbest: 0.8369304 (7)\ttotal: 3.35s\tremaining: 3.22s\n",
      "51:\ttest: 0.8295699\tbest: 0.8369304 (7)\ttotal: 3.45s\tremaining: 3.18s\n",
      "52:\ttest: 0.8293530\tbest: 0.8369304 (7)\ttotal: 3.5s\tremaining: 3.1s\n",
      "53:\ttest: 0.8282468\tbest: 0.8369304 (7)\ttotal: 3.57s\tremaining: 3.04s\n",
      "54:\ttest: 0.8259765\tbest: 0.8369304 (7)\ttotal: 3.63s\tremaining: 2.97s\n",
      "55:\ttest: 0.8260777\tbest: 0.8369304 (7)\ttotal: 3.69s\tremaining: 2.9s\n",
      "56:\ttest: 0.8250510\tbest: 0.8369304 (7)\ttotal: 3.74s\tremaining: 2.82s\n",
      "57:\ttest: 0.8252823\tbest: 0.8369304 (7)\ttotal: 3.84s\tremaining: 2.78s\n",
      "58:\ttest: 0.8257595\tbest: 0.8369304 (7)\ttotal: 3.91s\tremaining: 2.72s\n",
      "59:\ttest: 0.8260126\tbest: 0.8369304 (7)\ttotal: 3.95s\tremaining: 2.63s\n",
      "60:\ttest: 0.8251884\tbest: 0.8369304 (7)\ttotal: 4.05s\tremaining: 2.59s\n",
      "61:\ttest: 0.8256656\tbest: 0.8369304 (7)\ttotal: 4.14s\tremaining: 2.54s\n",
      "62:\ttest: 0.8253402\tbest: 0.8369304 (7)\ttotal: 4.2s\tremaining: 2.47s\n",
      "63:\ttest: 0.8247835\tbest: 0.8369304 (7)\ttotal: 4.3s\tremaining: 2.42s\n",
      "64:\ttest: 0.8228891\tbest: 0.8369304 (7)\ttotal: 4.38s\tremaining: 2.36s\n",
      "65:\ttest: 0.8210743\tbest: 0.8369304 (7)\ttotal: 4.45s\tremaining: 2.29s\n",
      "66:\ttest: 0.8207345\tbest: 0.8369304 (7)\ttotal: 4.54s\tremaining: 2.23s\n",
      "67:\ttest: 0.8214286\tbest: 0.8369304 (7)\ttotal: 4.61s\tremaining: 2.17s\n",
      "68:\ttest: 0.8204236\tbest: 0.8369304 (7)\ttotal: 4.66s\tremaining: 2.09s\n",
      "69:\ttest: 0.8208501\tbest: 0.8369304 (7)\ttotal: 4.75s\tremaining: 2.04s\n",
      "70:\ttest: 0.8211972\tbest: 0.8369304 (7)\ttotal: 4.83s\tremaining: 1.98s\n",
      "71:\ttest: 0.8219708\tbest: 0.8369304 (7)\ttotal: 4.88s\tremaining: 1.9s\n",
      "72:\ttest: 0.8226324\tbest: 0.8369304 (7)\ttotal: 4.96s\tremaining: 1.83s\n",
      "73:\ttest: 0.8209911\tbest: 0.8369304 (7)\ttotal: 5.02s\tremaining: 1.76s\n",
      "74:\ttest: 0.8210056\tbest: 0.8369304 (7)\ttotal: 5.09s\tremaining: 1.7s\n",
      "75:\ttest: 0.8208465\tbest: 0.8369304 (7)\ttotal: 5.17s\tremaining: 1.63s\n",
      "76:\ttest: 0.8202609\tbest: 0.8369304 (7)\ttotal: 5.23s\tremaining: 1.56s\n",
      "77:\ttest: 0.8196824\tbest: 0.8369304 (7)\ttotal: 5.31s\tremaining: 1.5s\n",
      "78:\ttest: 0.8171880\tbest: 0.8369304 (7)\ttotal: 5.36s\tremaining: 1.42s\n",
      "79:\ttest: 0.8164432\tbest: 0.8369304 (7)\ttotal: 5.44s\tremaining: 1.36s\n",
      "80:\ttest: 0.8165879\tbest: 0.8369304 (7)\ttotal: 5.51s\tremaining: 1.29s\n",
      "81:\ttest: 0.8162263\tbest: 0.8369304 (7)\ttotal: 5.56s\tremaining: 1.22s\n",
      "82:\ttest: 0.8162553\tbest: 0.8369304 (7)\ttotal: 5.62s\tremaining: 1.15s\n",
      "83:\ttest: 0.8165011\tbest: 0.8369304 (7)\ttotal: 5.7s\tremaining: 1.08s\n",
      "84:\ttest: 0.8163854\tbest: 0.8369304 (7)\ttotal: 5.74s\tremaining: 1.01s\n",
      "85:\ttest: 0.8164866\tbest: 0.8369304 (7)\ttotal: 5.8s\tremaining: 945ms\n",
      "86:\ttest: 0.8165372\tbest: 0.8369304 (7)\ttotal: 5.92s\tremaining: 885ms\n",
      "87:\ttest: 0.8165156\tbest: 0.8369304 (7)\ttotal: 5.97s\tremaining: 814ms\n",
      "88:\ttest: 0.8166819\tbest: 0.8369304 (7)\ttotal: 6.07s\tremaining: 750ms\n",
      "89:\ttest: 0.8148092\tbest: 0.8369304 (7)\ttotal: 6.14s\tremaining: 682ms\n",
      "90:\ttest: 0.8145200\tbest: 0.8369304 (7)\ttotal: 6.19s\tremaining: 612ms\n",
      "91:\ttest: 0.8151562\tbest: 0.8369304 (7)\ttotal: 6.28s\tremaining: 546ms\n",
      "92:\ttest: 0.8150550\tbest: 0.8369304 (7)\ttotal: 6.36s\tremaining: 479ms\n",
      "93:\ttest: 0.8144332\tbest: 0.8369304 (7)\ttotal: 6.41s\tremaining: 409ms\n",
      "94:\ttest: 0.8143103\tbest: 0.8369304 (7)\ttotal: 6.47s\tremaining: 340ms\n",
      "95:\ttest: 0.8127558\tbest: 0.8369304 (7)\ttotal: 6.57s\tremaining: 274ms\n",
      "96:\ttest: 0.8125099\tbest: 0.8369304 (7)\ttotal: 6.62s\tremaining: 205ms\n",
      "97:\ttest: 0.8126329\tbest: 0.8369304 (7)\ttotal: 6.68s\tremaining: 136ms\n",
      "98:\ttest: 0.8131860\tbest: 0.8369304 (7)\ttotal: 6.77s\tremaining: 68.4ms\n",
      "99:\ttest: 0.8126437\tbest: 0.8369304 (7)\ttotal: 6.82s\tremaining: 0us\n",
      "\n",
      "bestTest = 0.8369304296\n",
      "bestIteration = 7\n",
      "\n",
      "Metric AUC is not calculated on train by default. To calculate this metric on train, add hints=skip_train~false to metric parameters.\n",
      "5:\tloss: 0.8369304\tbest: 0.8371510 (1)\ttotal: 34.7s\tremaining: 0us\n",
      "Estimating final quality...\n",
      "Training on fold [0/3]\n"
     ]
    },
    {
     "name": "stdout",
     "output_type": "stream",
     "text": [
      "0:\ttest: 0.7601514\tbest: 0.7601514 (0)\ttotal: 47.5ms\tremaining: 4.23s\n",
      "1:\ttest: 0.7835439\tbest: 0.7835439 (1)\ttotal: 120ms\tremaining: 5.28s\n",
      "2:\ttest: 0.7861802\tbest: 0.7861802 (2)\ttotal: 197ms\tremaining: 5.72s\n",
      "3:\ttest: 0.7932470\tbest: 0.7932470 (3)\ttotal: 243ms\tremaining: 5.23s\n",
      "4:\ttest: 0.7954688\tbest: 0.7954688 (4)\ttotal: 289ms\tremaining: 4.91s\n",
      "5:\ttest: 0.8070410\tbest: 0.8070410 (5)\ttotal: 363ms\tremaining: 5.08s\n",
      "6:\ttest: 0.8126573\tbest: 0.8126573 (6)\ttotal: 432ms\tremaining: 5.12s\n",
      "7:\ttest: 0.8182412\tbest: 0.8182412 (7)\ttotal: 477ms\tremaining: 4.88s\n",
      "8:\ttest: 0.8209124\tbest: 0.8209124 (8)\ttotal: 524ms\tremaining: 4.71s\n",
      "9:\ttest: 0.8227221\tbest: 0.8227221 (9)\ttotal: 597ms\tremaining: 4.77s\n",
      "10:\ttest: 0.8238252\tbest: 0.8238252 (10)\ttotal: 654ms\tremaining: 4.69s\n",
      "11:\ttest: 0.8242760\tbest: 0.8242760 (11)\ttotal: 703ms\tremaining: 4.57s\n",
      "12:\ttest: 0.8259165\tbest: 0.8259165 (12)\ttotal: 725ms\tremaining: 4.29s\n",
      "13:\ttest: 0.8272508\tbest: 0.8272508 (13)\ttotal: 755ms\tremaining: 4.1s\n",
      "14:\ttest: 0.8291392\tbest: 0.8291392 (14)\ttotal: 789ms\tremaining: 3.94s\n",
      "15:\ttest: 0.8300047\tbest: 0.8300047 (15)\ttotal: 862ms\tremaining: 3.98s\n",
      "16:\ttest: 0.8303547\tbest: 0.8303547 (16)\ttotal: 909ms\tremaining: 3.9s\n",
      "17:\ttest: 0.8303444\tbest: 0.8303547 (16)\ttotal: 948ms\tremaining: 3.79s\n",
      "18:\ttest: 0.8308791\tbest: 0.8308791 (18)\ttotal: 1.01s\tremaining: 3.77s\n",
      "19:\ttest: 0.8325648\tbest: 0.8325648 (19)\ttotal: 1.07s\tremaining: 3.73s\n",
      "20:\ttest: 0.8327805\tbest: 0.8327805 (20)\ttotal: 1.11s\tremaining: 3.65s\n",
      "21:\ttest: 0.8330982\tbest: 0.8330982 (21)\ttotal: 1.18s\tremaining: 3.63s\n",
      "22:\ttest: 0.8336098\tbest: 0.8336098 (22)\ttotal: 1.27s\tremaining: 3.71s\n",
      "23:\ttest: 0.8342194\tbest: 0.8342194 (23)\ttotal: 1.32s\tremaining: 3.63s\n",
      "24:\ttest: 0.8345139\tbest: 0.8345139 (24)\ttotal: 1.35s\tremaining: 3.52s\n",
      "25:\ttest: 0.8345088\tbest: 0.8345139 (24)\ttotal: 1.41s\tremaining: 3.46s\n",
      "26:\ttest: 0.8352295\tbest: 0.8352295 (26)\ttotal: 1.47s\tremaining: 3.42s\n",
      "27:\ttest: 0.8356222\tbest: 0.8356222 (27)\ttotal: 1.53s\tremaining: 3.39s\n",
      "28:\ttest: 0.8356222\tbest: 0.8356222 (27)\ttotal: 1.55s\tremaining: 3.25s\n",
      "29:\ttest: 0.8354052\tbest: 0.8356222 (27)\ttotal: 1.62s\tremaining: 3.24s\n",
      "30:\ttest: 0.8352308\tbest: 0.8356222 (27)\ttotal: 1.7s\tremaining: 3.23s\n",
      "31:\ttest: 0.8355098\tbest: 0.8356222 (27)\ttotal: 1.77s\tremaining: 3.21s\n",
      "32:\ttest: 0.8358741\tbest: 0.8358741 (32)\ttotal: 1.84s\tremaining: 3.17s\n",
      "33:\ttest: 0.8358457\tbest: 0.8358741 (32)\ttotal: 1.9s\tremaining: 3.14s\n",
      "34:\ttest: 0.8360226\tbest: 0.8360226 (34)\ttotal: 1.96s\tremaining: 3.08s\n",
      "35:\ttest: 0.8361828\tbest: 0.8361828 (35)\ttotal: 2.03s\tremaining: 3.05s\n",
      "36:\ttest: 0.8363197\tbest: 0.8363197 (36)\ttotal: 2.1s\tremaining: 3.01s\n",
      "37:\ttest: 0.8359012\tbest: 0.8363197 (36)\ttotal: 2.18s\tremaining: 2.98s\n",
      "38:\ttest: 0.8354065\tbest: 0.8363197 (36)\ttotal: 2.25s\tremaining: 2.94s\n",
      "39:\ttest: 0.8354091\tbest: 0.8363197 (36)\ttotal: 2.29s\tremaining: 2.86s\n",
      "40:\ttest: 0.8355796\tbest: 0.8363197 (36)\ttotal: 2.36s\tremaining: 2.83s\n",
      "41:\ttest: 0.8357837\tbest: 0.8363197 (36)\ttotal: 2.44s\tremaining: 2.79s\n",
      "42:\ttest: 0.8355072\tbest: 0.8363197 (36)\ttotal: 2.49s\tremaining: 2.72s\n",
      "43:\ttest: 0.8358650\tbest: 0.8363197 (36)\ttotal: 2.55s\tremaining: 2.66s\n",
      "44:\ttest: 0.8354440\tbest: 0.8363197 (36)\ttotal: 2.64s\tremaining: 2.64s\n",
      "45:\ttest: 0.8354336\tbest: 0.8363197 (36)\ttotal: 2.69s\tremaining: 2.57s\n",
      "46:\ttest: 0.8354285\tbest: 0.8363197 (36)\ttotal: 2.75s\tremaining: 2.52s\n",
      "47:\ttest: 0.8354440\tbest: 0.8363197 (36)\ttotal: 2.81s\tremaining: 2.46s\n",
      "48:\ttest: 0.8350926\tbest: 0.8363197 (36)\ttotal: 2.87s\tremaining: 2.4s\n",
      "49:\ttest: 0.8347361\tbest: 0.8363197 (36)\ttotal: 2.91s\tremaining: 2.33s\n",
      "50:\ttest: 0.8347852\tbest: 0.8363197 (36)\ttotal: 2.99s\tremaining: 2.29s\n",
      "51:\ttest: 0.8349815\tbest: 0.8363197 (36)\ttotal: 3.09s\tremaining: 2.26s\n",
      "52:\ttest: 0.8349944\tbest: 0.8363197 (36)\ttotal: 3.14s\tremaining: 2.19s\n",
      "53:\ttest: 0.8346612\tbest: 0.8363197 (36)\ttotal: 3.21s\tremaining: 2.14s\n",
      "54:\ttest: 0.8346444\tbest: 0.8363197 (36)\ttotal: 3.28s\tremaining: 2.09s\n",
      "55:\ttest: 0.8346883\tbest: 0.8363197 (36)\ttotal: 3.33s\tremaining: 2.02s\n",
      "56:\ttest: 0.8342052\tbest: 0.8363197 (36)\ttotal: 3.39s\tremaining: 1.96s\n",
      "57:\ttest: 0.8344481\tbest: 0.8363197 (36)\ttotal: 3.48s\tremaining: 1.92s\n",
      "58:\ttest: 0.8342698\tbest: 0.8363197 (36)\ttotal: 3.53s\tremaining: 1.85s\n",
      "59:\ttest: 0.8342750\tbest: 0.8363197 (36)\ttotal: 3.59s\tremaining: 1.79s\n",
      "60:\ttest: 0.8337350\tbest: 0.8363197 (36)\ttotal: 3.66s\tremaining: 1.74s\n",
      "61:\ttest: 0.8336679\tbest: 0.8363197 (36)\ttotal: 3.72s\tremaining: 1.68s\n",
      "62:\ttest: 0.8333320\tbest: 0.8363197 (36)\ttotal: 3.79s\tremaining: 1.62s\n",
      "63:\ttest: 0.8332855\tbest: 0.8363197 (36)\ttotal: 3.88s\tremaining: 1.57s\n",
      "64:\ttest: 0.8332532\tbest: 0.8363197 (36)\ttotal: 3.96s\tremaining: 1.52s\n",
      "65:\ttest: 0.8333204\tbest: 0.8363197 (36)\ttotal: 4.03s\tremaining: 1.47s\n",
      "66:\ttest: 0.8337363\tbest: 0.8363197 (36)\ttotal: 4.14s\tremaining: 1.42s\n",
      "67:\ttest: 0.8338242\tbest: 0.8363197 (36)\ttotal: 4.21s\tremaining: 1.36s\n",
      "68:\ttest: 0.8337131\tbest: 0.8363197 (36)\ttotal: 4.28s\tremaining: 1.3s\n",
      "69:\ttest: 0.8340696\tbest: 0.8363197 (36)\ttotal: 4.36s\tremaining: 1.25s\n",
      "70:\ttest: 0.8346018\tbest: 0.8363197 (36)\ttotal: 4.42s\tremaining: 1.18s\n",
      "71:\ttest: 0.8347206\tbest: 0.8363197 (36)\ttotal: 4.47s\tremaining: 1.12s\n",
      "72:\ttest: 0.8343512\tbest: 0.8363197 (36)\ttotal: 4.52s\tremaining: 1.05s\n",
      "73:\ttest: 0.8335684\tbest: 0.8363197 (36)\ttotal: 4.58s\tremaining: 990ms\n",
      "74:\ttest: 0.8337234\tbest: 0.8363197 (36)\ttotal: 4.64s\tremaining: 929ms\n",
      "75:\ttest: 0.8338526\tbest: 0.8363197 (36)\ttotal: 4.7s\tremaining: 865ms\n",
      "76:\ttest: 0.8340618\tbest: 0.8363197 (36)\ttotal: 4.76s\tremaining: 804ms\n",
      "77:\ttest: 0.8339895\tbest: 0.8363197 (36)\ttotal: 4.82s\tremaining: 742ms\n",
      "78:\ttest: 0.8341122\tbest: 0.8363197 (36)\ttotal: 4.88s\tremaining: 679ms\n",
      "79:\ttest: 0.8336420\tbest: 0.8363197 (36)\ttotal: 4.92s\tremaining: 615ms\n",
      "80:\ttest: 0.8334819\tbest: 0.8363197 (36)\ttotal: 5s\tremaining: 555ms\n",
      "81:\ttest: 0.8330892\tbest: 0.8363197 (36)\ttotal: 5.08s\tremaining: 496ms\n",
      "82:\ttest: 0.8323555\tbest: 0.8363197 (36)\ttotal: 5.13s\tremaining: 433ms\n",
      "83:\ttest: 0.8311103\tbest: 0.8363197 (36)\ttotal: 5.19s\tremaining: 371ms\n",
      "84:\ttest: 0.8307564\tbest: 0.8363197 (36)\ttotal: 5.27s\tremaining: 310ms\n",
      "85:\ttest: 0.8305058\tbest: 0.8363197 (36)\ttotal: 5.32s\tremaining: 248ms\n",
      "86:\ttest: 0.8301028\tbest: 0.8363197 (36)\ttotal: 5.41s\tremaining: 186ms\n",
      "87:\ttest: 0.8298832\tbest: 0.8363197 (36)\ttotal: 5.48s\tremaining: 125ms\n",
      "88:\ttest: 0.8298600\tbest: 0.8363197 (36)\ttotal: 5.52s\tremaining: 62ms\n",
      "89:\ttest: 0.8295345\tbest: 0.8363197 (36)\ttotal: 5.6s\tremaining: 0us\n",
      "\n",
      "bestTest = 0.8363197189\n",
      "bestIteration = 36\n",
      "\n",
      "Training on fold [1/3]\n",
      "0:\ttest: 0.7898716\tbest: 0.7898716 (0)\ttotal: 73.3ms\tremaining: 6.52s\n",
      "1:\ttest: 0.8083296\tbest: 0.8083296 (1)\ttotal: 119ms\tremaining: 5.23s\n",
      "2:\ttest: 0.8128846\tbest: 0.8128846 (2)\ttotal: 185ms\tremaining: 5.36s\n",
      "3:\ttest: 0.8167298\tbest: 0.8167298 (3)\ttotal: 262ms\tremaining: 5.64s\n",
      "4:\ttest: 0.8261812\tbest: 0.8261812 (4)\ttotal: 309ms\tremaining: 5.25s\n",
      "5:\ttest: 0.8321456\tbest: 0.8321456 (5)\ttotal: 373ms\tremaining: 5.22s\n",
      "6:\ttest: 0.8354128\tbest: 0.8354128 (6)\ttotal: 480ms\tremaining: 5.69s\n",
      "7:\ttest: 0.8367652\tbest: 0.8367652 (7)\ttotal: 544ms\tremaining: 5.58s\n",
      "8:\ttest: 0.8380530\tbest: 0.8380530 (8)\ttotal: 573ms\tremaining: 5.16s\n",
      "9:\ttest: 0.8399846\tbest: 0.8399846 (9)\ttotal: 632ms\tremaining: 5.05s\n",
      "10:\ttest: 0.8405820\tbest: 0.8405820 (10)\ttotal: 683ms\tremaining: 4.91s\n",
      "11:\ttest: 0.8411780\tbest: 0.8411780 (11)\ttotal: 741ms\tremaining: 4.81s\n",
      "12:\ttest: 0.8419396\tbest: 0.8419396 (12)\ttotal: 807ms\tremaining: 4.78s\n",
      "13:\ttest: 0.8430644\tbest: 0.8430644 (13)\ttotal: 880ms\tremaining: 4.78s\n",
      "14:\ttest: 0.8448875\tbest: 0.8448875 (14)\ttotal: 948ms\tremaining: 4.74s\n",
      "15:\ttest: 0.8460615\tbest: 0.8460615 (15)\ttotal: 1s\tremaining: 4.65s\n",
      "16:\ttest: 0.8466187\tbest: 0.8466187 (16)\ttotal: 1.07s\tremaining: 4.61s\n",
      "17:\ttest: 0.8472522\tbest: 0.8472522 (17)\ttotal: 1.14s\tremaining: 4.55s\n",
      "18:\ttest: 0.8478573\tbest: 0.8478573 (18)\ttotal: 1.17s\tremaining: 4.37s\n",
      "19:\ttest: 0.8479763\tbest: 0.8479763 (19)\ttotal: 1.21s\tremaining: 4.24s\n",
      "20:\ttest: 0.8482258\tbest: 0.8482258 (20)\ttotal: 1.26s\tremaining: 4.13s\n",
      "21:\ttest: 0.8483965\tbest: 0.8483965 (21)\ttotal: 1.35s\tremaining: 4.18s\n",
      "22:\ttest: 0.8487960\tbest: 0.8487960 (22)\ttotal: 1.41s\tremaining: 4.11s\n",
      "23:\ttest: 0.8487702\tbest: 0.8487960 (22)\ttotal: 1.47s\tremaining: 4.04s\n",
      "24:\ttest: 0.8493649\tbest: 0.8493649 (24)\ttotal: 1.52s\tremaining: 3.95s\n",
      "25:\ttest: 0.8494683\tbest: 0.8494683 (25)\ttotal: 1.56s\tremaining: 3.85s\n",
      "26:\ttest: 0.8496649\tbest: 0.8496649 (26)\ttotal: 1.61s\tremaining: 3.77s\n",
      "27:\ttest: 0.8498304\tbest: 0.8498304 (27)\ttotal: 1.66s\tremaining: 3.67s\n"
     ]
    },
    {
     "name": "stdout",
     "output_type": "stream",
     "text": [
      "28:\ttest: 0.8498459\tbest: 0.8498459 (28)\ttotal: 1.68s\tremaining: 3.54s\n",
      "29:\ttest: 0.8497153\tbest: 0.8498459 (28)\ttotal: 1.73s\tremaining: 3.46s\n",
      "30:\ttest: 0.8497373\tbest: 0.8498459 (28)\ttotal: 1.81s\tremaining: 3.45s\n",
      "31:\ttest: 0.8496416\tbest: 0.8498459 (28)\ttotal: 1.89s\tremaining: 3.43s\n",
      "32:\ttest: 0.8498795\tbest: 0.8498795 (32)\ttotal: 1.93s\tremaining: 3.34s\n",
      "33:\ttest: 0.8500165\tbest: 0.8500165 (33)\ttotal: 1.99s\tremaining: 3.28s\n",
      "34:\ttest: 0.8501614\tbest: 0.8501614 (34)\ttotal: 2.1s\tremaining: 3.31s\n",
      "35:\ttest: 0.8501614\tbest: 0.8501614 (34)\ttotal: 2.13s\tremaining: 3.19s\n",
      "36:\ttest: 0.8499002\tbest: 0.8501614 (34)\ttotal: 2.18s\tremaining: 3.12s\n",
      "37:\ttest: 0.8502260\tbest: 0.8502260 (37)\ttotal: 2.22s\tremaining: 3.04s\n",
      "38:\ttest: 0.8499855\tbest: 0.8502260 (37)\ttotal: 2.29s\tremaining: 2.99s\n",
      "39:\ttest: 0.8499726\tbest: 0.8502260 (37)\ttotal: 2.33s\tremaining: 2.92s\n",
      "40:\ttest: 0.8500838\tbest: 0.8502260 (37)\ttotal: 2.38s\tremaining: 2.84s\n",
      "41:\ttest: 0.8501071\tbest: 0.8502260 (37)\ttotal: 2.47s\tremaining: 2.82s\n",
      "42:\ttest: 0.8502441\tbest: 0.8502441 (42)\ttotal: 2.55s\tremaining: 2.79s\n",
      "43:\ttest: 0.8503346\tbest: 0.8503346 (43)\ttotal: 2.64s\tremaining: 2.76s\n",
      "44:\ttest: 0.8503786\tbest: 0.8503786 (44)\ttotal: 2.68s\tremaining: 2.68s\n",
      "45:\ttest: 0.8503049\tbest: 0.8503786 (44)\ttotal: 2.75s\tremaining: 2.63s\n",
      "46:\ttest: 0.8502376\tbest: 0.8503786 (44)\ttotal: 2.79s\tremaining: 2.56s\n",
      "47:\ttest: 0.8502144\tbest: 0.8503786 (44)\ttotal: 2.86s\tremaining: 2.5s\n",
      "48:\ttest: 0.8503566\tbest: 0.8503786 (44)\ttotal: 2.96s\tremaining: 2.48s\n",
      "49:\ttest: 0.8502351\tbest: 0.8503786 (44)\ttotal: 3.02s\tremaining: 2.42s\n",
      "50:\ttest: 0.8506940\tbest: 0.8506940 (50)\ttotal: 3.1s\tremaining: 2.37s\n",
      "51:\ttest: 0.8501924\tbest: 0.8506940 (50)\ttotal: 3.16s\tremaining: 2.31s\n",
      "52:\ttest: 0.8498174\tbest: 0.8506940 (50)\ttotal: 3.22s\tremaining: 2.25s\n",
      "53:\ttest: 0.8498045\tbest: 0.8506940 (50)\ttotal: 3.27s\tremaining: 2.18s\n",
      "54:\ttest: 0.8499674\tbest: 0.8506940 (50)\ttotal: 3.32s\tremaining: 2.11s\n",
      "55:\ttest: 0.8502299\tbest: 0.8506940 (50)\ttotal: 3.37s\tremaining: 2.05s\n",
      "56:\ttest: 0.8497114\tbest: 0.8506940 (50)\ttotal: 3.42s\tremaining: 1.98s\n",
      "57:\ttest: 0.8494916\tbest: 0.8506940 (50)\ttotal: 3.46s\tremaining: 1.91s\n",
      "58:\ttest: 0.8497541\tbest: 0.8506940 (50)\ttotal: 3.5s\tremaining: 1.84s\n",
      "59:\ttest: 0.8497360\tbest: 0.8506940 (50)\ttotal: 3.55s\tremaining: 1.77s\n",
      "60:\ttest: 0.8495110\tbest: 0.8506940 (50)\ttotal: 3.59s\tremaining: 1.71s\n",
      "61:\ttest: 0.8494981\tbest: 0.8506940 (50)\ttotal: 3.63s\tremaining: 1.64s\n",
      "62:\ttest: 0.8494826\tbest: 0.8506940 (50)\ttotal: 3.68s\tremaining: 1.58s\n",
      "63:\ttest: 0.8493882\tbest: 0.8506940 (50)\ttotal: 3.72s\tremaining: 1.51s\n",
      "64:\ttest: 0.8494347\tbest: 0.8506940 (50)\ttotal: 3.77s\tremaining: 1.45s\n",
      "65:\ttest: 0.8494399\tbest: 0.8506940 (50)\ttotal: 3.82s\tremaining: 1.39s\n",
      "66:\ttest: 0.8486719\tbest: 0.8506940 (50)\ttotal: 3.88s\tremaining: 1.33s\n",
      "67:\ttest: 0.8486693\tbest: 0.8506940 (50)\ttotal: 3.93s\tremaining: 1.27s\n",
      "68:\ttest: 0.8486667\tbest: 0.8506940 (50)\ttotal: 3.98s\tremaining: 1.21s\n",
      "69:\ttest: 0.8483280\tbest: 0.8506940 (50)\ttotal: 4.05s\tremaining: 1.16s\n",
      "70:\ttest: 0.8482892\tbest: 0.8506940 (50)\ttotal: 4.1s\tremaining: 1.1s\n",
      "71:\ttest: 0.8482051\tbest: 0.8506940 (50)\ttotal: 4.14s\tremaining: 1.04s\n",
      "72:\ttest: 0.8484586\tbest: 0.8506940 (50)\ttotal: 4.19s\tremaining: 976ms\n",
      "73:\ttest: 0.8477461\tbest: 0.8506940 (50)\ttotal: 4.24s\tremaining: 917ms\n",
      "74:\ttest: 0.8480875\tbest: 0.8506940 (50)\ttotal: 4.3s\tremaining: 861ms\n",
      "75:\ttest: 0.8481987\tbest: 0.8506940 (50)\ttotal: 4.35s\tremaining: 802ms\n",
      "76:\ttest: 0.8481676\tbest: 0.8506940 (50)\ttotal: 4.39s\tremaining: 741ms\n",
      "77:\ttest: 0.8481521\tbest: 0.8506940 (50)\ttotal: 4.43s\tremaining: 682ms\n",
      "78:\ttest: 0.8474397\tbest: 0.8506940 (50)\ttotal: 4.48s\tremaining: 624ms\n",
      "79:\ttest: 0.8474462\tbest: 0.8506940 (50)\ttotal: 4.55s\tremaining: 569ms\n",
      "80:\ttest: 0.8471126\tbest: 0.8506940 (50)\ttotal: 4.61s\tremaining: 513ms\n",
      "81:\ttest: 0.8478030\tbest: 0.8506940 (50)\ttotal: 4.67s\tremaining: 455ms\n",
      "82:\ttest: 0.8479427\tbest: 0.8506940 (50)\ttotal: 4.72s\tremaining: 399ms\n",
      "83:\ttest: 0.8479556\tbest: 0.8506940 (50)\ttotal: 4.77s\tremaining: 340ms\n",
      "84:\ttest: 0.8482116\tbest: 0.8506940 (50)\ttotal: 4.81s\tremaining: 283ms\n",
      "85:\ttest: 0.8482556\tbest: 0.8506940 (50)\ttotal: 4.88s\tremaining: 227ms\n",
      "86:\ttest: 0.8480577\tbest: 0.8506940 (50)\ttotal: 4.92s\tremaining: 170ms\n",
      "87:\ttest: 0.8479259\tbest: 0.8506940 (50)\ttotal: 4.99s\tremaining: 113ms\n",
      "88:\ttest: 0.8480371\tbest: 0.8506940 (50)\ttotal: 5.03s\tremaining: 56.5ms\n",
      "89:\ttest: 0.8479905\tbest: 0.8506940 (50)\ttotal: 5.08s\tremaining: 0us\n",
      "\n",
      "bestTest = 0.8506940494\n",
      "bestIteration = 50\n",
      "\n",
      "Training on fold [2/3]\n",
      "0:\ttest: 0.7862915\tbest: 0.7862915 (0)\ttotal: 50.5ms\tremaining: 4.49s\n",
      "1:\ttest: 0.8014926\tbest: 0.8014926 (1)\ttotal: 97ms\tremaining: 4.27s\n",
      "2:\ttest: 0.8051736\tbest: 0.8051736 (2)\ttotal: 144ms\tremaining: 4.17s\n",
      "3:\ttest: 0.8073509\tbest: 0.8073509 (3)\ttotal: 214ms\tremaining: 4.6s\n",
      "4:\ttest: 0.8070768\tbest: 0.8073509 (3)\ttotal: 261ms\tremaining: 4.44s\n",
      "5:\ttest: 0.8156929\tbest: 0.8156929 (5)\ttotal: 303ms\tremaining: 4.24s\n",
      "6:\ttest: 0.8207199\tbest: 0.8207199 (6)\ttotal: 356ms\tremaining: 4.23s\n",
      "7:\ttest: 0.8241086\tbest: 0.8241086 (7)\ttotal: 407ms\tremaining: 4.17s\n",
      "8:\ttest: 0.8284413\tbest: 0.8284413 (8)\ttotal: 453ms\tremaining: 4.08s\n",
      "9:\ttest: 0.8308759\tbest: 0.8308759 (9)\ttotal: 487ms\tremaining: 3.9s\n",
      "10:\ttest: 0.8315159\tbest: 0.8315159 (10)\ttotal: 536ms\tremaining: 3.85s\n",
      "11:\ttest: 0.8323589\tbest: 0.8323589 (11)\ttotal: 574ms\tremaining: 3.73s\n",
      "12:\ttest: 0.8328942\tbest: 0.8328942 (12)\ttotal: 614ms\tremaining: 3.64s\n",
      "13:\ttest: 0.8338251\tbest: 0.8338251 (13)\ttotal: 663ms\tremaining: 3.6s\n",
      "14:\ttest: 0.8351684\tbest: 0.8351684 (14)\ttotal: 720ms\tremaining: 3.6s\n",
      "15:\ttest: 0.8353184\tbest: 0.8353184 (15)\ttotal: 805ms\tremaining: 3.72s\n",
      "16:\ttest: 0.8355925\tbest: 0.8355925 (16)\ttotal: 864ms\tremaining: 3.71s\n",
      "17:\ttest: 0.8356352\tbest: 0.8356352 (17)\ttotal: 919ms\tremaining: 3.67s\n",
      "18:\ttest: 0.8357102\tbest: 0.8357102 (18)\ttotal: 961ms\tremaining: 3.59s\n",
      "19:\ttest: 0.8365532\tbest: 0.8365532 (19)\ttotal: 1.01s\tremaining: 3.53s\n",
      "20:\ttest: 0.8366476\tbest: 0.8366476 (20)\ttotal: 1.06s\tremaining: 3.5s\n",
      "21:\ttest: 0.8373044\tbest: 0.8373044 (21)\ttotal: 1.11s\tremaining: 3.45s\n",
      "22:\ttest: 0.8368751\tbest: 0.8373044 (21)\ttotal: 1.21s\tremaining: 3.52s\n",
      "23:\ttest: 0.8369268\tbest: 0.8373044 (21)\ttotal: 1.25s\tremaining: 3.45s\n",
      "24:\ttest: 0.8366321\tbest: 0.8373044 (21)\ttotal: 1.31s\tremaining: 3.41s\n",
      "25:\ttest: 0.8366321\tbest: 0.8373044 (21)\ttotal: 1.33s\tremaining: 3.29s\n",
      "26:\ttest: 0.8360994\tbest: 0.8373044 (21)\ttotal: 1.42s\tremaining: 3.31s\n",
      "27:\ttest: 0.8354141\tbest: 0.8373044 (21)\ttotal: 1.47s\tremaining: 3.25s\n",
      "28:\ttest: 0.8353624\tbest: 0.8373044 (21)\ttotal: 1.54s\tremaining: 3.24s\n",
      "29:\ttest: 0.8352719\tbest: 0.8373044 (21)\ttotal: 1.62s\tremaining: 3.24s\n",
      "30:\ttest: 0.8352719\tbest: 0.8373044 (21)\ttotal: 1.63s\tremaining: 3.1s\n",
      "31:\ttest: 0.8348284\tbest: 0.8373044 (21)\ttotal: 1.68s\tremaining: 3.04s\n",
      "32:\ttest: 0.8344147\tbest: 0.8373044 (21)\ttotal: 1.76s\tremaining: 3.03s\n",
      "33:\ttest: 0.8340940\tbest: 0.8373044 (21)\ttotal: 1.82s\tremaining: 3.01s\n",
      "34:\ttest: 0.8340940\tbest: 0.8373044 (21)\ttotal: 1.84s\tremaining: 2.89s\n",
      "35:\ttest: 0.8341690\tbest: 0.8373044 (21)\ttotal: 1.9s\tremaining: 2.84s\n",
      "36:\ttest: 0.8343552\tbest: 0.8373044 (21)\ttotal: 2.01s\tremaining: 2.88s\n",
      "37:\ttest: 0.8339776\tbest: 0.8373044 (21)\ttotal: 2.06s\tremaining: 2.82s\n",
      "38:\ttest: 0.8340009\tbest: 0.8373044 (21)\ttotal: 2.14s\tremaining: 2.79s\n",
      "39:\ttest: 0.8338846\tbest: 0.8373044 (21)\ttotal: 2.22s\tremaining: 2.78s\n",
      "40:\ttest: 0.8341018\tbest: 0.8373044 (21)\ttotal: 2.27s\tremaining: 2.71s\n",
      "41:\ttest: 0.8341018\tbest: 0.8373044 (21)\ttotal: 2.31s\tremaining: 2.64s\n",
      "42:\ttest: 0.8341018\tbest: 0.8373044 (21)\ttotal: 2.38s\tremaining: 2.6s\n",
      "43:\ttest: 0.8340992\tbest: 0.8373044 (21)\ttotal: 2.46s\tremaining: 2.57s\n",
      "44:\ttest: 0.8339014\tbest: 0.8373044 (21)\ttotal: 2.52s\tremaining: 2.52s\n",
      "45:\ttest: 0.8333195\tbest: 0.8373044 (21)\ttotal: 2.58s\tremaining: 2.47s\n",
      "46:\ttest: 0.8335730\tbest: 0.8373044 (21)\ttotal: 2.65s\tremaining: 2.42s\n",
      "47:\ttest: 0.8339686\tbest: 0.8373044 (21)\ttotal: 2.7s\tremaining: 2.36s\n",
      "48:\ttest: 0.8338626\tbest: 0.8373044 (21)\ttotal: 2.75s\tremaining: 2.3s\n",
      "49:\ttest: 0.8338005\tbest: 0.8373044 (21)\ttotal: 2.83s\tremaining: 2.26s\n",
      "50:\ttest: 0.8338005\tbest: 0.8373044 (21)\ttotal: 2.84s\tremaining: 2.17s\n",
      "51:\ttest: 0.8339014\tbest: 0.8373044 (21)\ttotal: 2.89s\tremaining: 2.11s\n",
      "52:\ttest: 0.8340203\tbest: 0.8373044 (21)\ttotal: 2.93s\tremaining: 2.04s\n",
      "53:\ttest: 0.8344599\tbest: 0.8373044 (21)\ttotal: 3.01s\tremaining: 2.01s\n"
     ]
    },
    {
     "name": "stdout",
     "output_type": "stream",
     "text": [
      "54:\ttest: 0.8346370\tbest: 0.8373044 (21)\ttotal: 3.05s\tremaining: 1.94s\n",
      "55:\ttest: 0.8344612\tbest: 0.8373044 (21)\ttotal: 3.11s\tremaining: 1.89s\n",
      "56:\ttest: 0.8346448\tbest: 0.8373044 (21)\ttotal: 3.17s\tremaining: 1.84s\n",
      "57:\ttest: 0.8345401\tbest: 0.8373044 (21)\ttotal: 3.22s\tremaining: 1.78s\n",
      "58:\ttest: 0.8339789\tbest: 0.8373044 (21)\ttotal: 3.28s\tremaining: 1.72s\n",
      "59:\ttest: 0.8340669\tbest: 0.8373044 (21)\ttotal: 3.33s\tremaining: 1.66s\n",
      "60:\ttest: 0.8343565\tbest: 0.8373044 (21)\ttotal: 3.38s\tremaining: 1.61s\n",
      "61:\ttest: 0.8340074\tbest: 0.8373044 (21)\ttotal: 3.43s\tremaining: 1.55s\n",
      "62:\ttest: 0.8340436\tbest: 0.8373044 (21)\ttotal: 3.51s\tremaining: 1.5s\n",
      "63:\ttest: 0.8336635\tbest: 0.8373044 (21)\ttotal: 3.58s\tremaining: 1.45s\n",
      "64:\ttest: 0.8336531\tbest: 0.8373044 (21)\ttotal: 3.65s\tremaining: 1.4s\n",
      "65:\ttest: 0.8339479\tbest: 0.8373044 (21)\ttotal: 3.71s\tremaining: 1.35s\n",
      "66:\ttest: 0.8340048\tbest: 0.8373044 (21)\ttotal: 3.79s\tremaining: 1.3s\n",
      "67:\ttest: 0.8338445\tbest: 0.8373044 (21)\ttotal: 3.83s\tremaining: 1.24s\n",
      "68:\ttest: 0.8336557\tbest: 0.8373044 (21)\ttotal: 3.88s\tremaining: 1.18s\n",
      "69:\ttest: 0.8336971\tbest: 0.8373044 (21)\ttotal: 3.93s\tremaining: 1.12s\n",
      "70:\ttest: 0.8336402\tbest: 0.8373044 (21)\ttotal: 3.98s\tremaining: 1.06s\n",
      "71:\ttest: 0.8336997\tbest: 0.8373044 (21)\ttotal: 4.03s\tremaining: 1.01s\n",
      "72:\ttest: 0.8338160\tbest: 0.8373044 (21)\ttotal: 4.07s\tremaining: 948ms\n",
      "73:\ttest: 0.8338186\tbest: 0.8373044 (21)\ttotal: 4.11s\tremaining: 889ms\n",
      "74:\ttest: 0.8342737\tbest: 0.8373044 (21)\ttotal: 4.17s\tremaining: 834ms\n",
      "75:\ttest: 0.8341729\tbest: 0.8373044 (21)\ttotal: 4.21s\tremaining: 776ms\n",
      "76:\ttest: 0.8337695\tbest: 0.8373044 (21)\ttotal: 4.25s\tremaining: 719ms\n",
      "77:\ttest: 0.8336298\tbest: 0.8373044 (21)\ttotal: 4.3s\tremaining: 661ms\n",
      "78:\ttest: 0.8334579\tbest: 0.8373044 (21)\ttotal: 4.34s\tremaining: 605ms\n",
      "79:\ttest: 0.8329924\tbest: 0.8373044 (21)\ttotal: 4.39s\tremaining: 548ms\n",
      "80:\ttest: 0.8331760\tbest: 0.8373044 (21)\ttotal: 4.48s\tremaining: 498ms\n",
      "81:\ttest: 0.8331062\tbest: 0.8373044 (21)\ttotal: 4.54s\tremaining: 443ms\n",
      "82:\ttest: 0.8331088\tbest: 0.8373044 (21)\ttotal: 4.6s\tremaining: 388ms\n",
      "83:\ttest: 0.8330726\tbest: 0.8373044 (21)\ttotal: 4.7s\tremaining: 335ms\n",
      "84:\ttest: 0.8328605\tbest: 0.8373044 (21)\ttotal: 4.77s\tremaining: 281ms\n",
      "85:\ttest: 0.8328916\tbest: 0.8373044 (21)\ttotal: 4.83s\tremaining: 225ms\n",
      "86:\ttest: 0.8327959\tbest: 0.8373044 (21)\ttotal: 4.93s\tremaining: 170ms\n",
      "87:\ttest: 0.8324235\tbest: 0.8373044 (21)\ttotal: 4.99s\tremaining: 113ms\n",
      "88:\ttest: 0.8321701\tbest: 0.8373044 (21)\ttotal: 5.04s\tremaining: 56.6ms\n",
      "89:\ttest: 0.8320822\tbest: 0.8373044 (21)\ttotal: 5.1s\tremaining: 0us\n",
      "\n",
      "bestTest = 0.8373043784\n",
      "bestIteration = 21\n",
      "\n"
     ]
    },
    {
     "data": {
      "text/plain": [
       "{'params': {'iterations': 90, 'learning_rate': 0.165},\n",
       " 'cv_results': defaultdict(list,\n",
       "             {'iterations': [0,\n",
       "               1,\n",
       "               2,\n",
       "               3,\n",
       "               4,\n",
       "               5,\n",
       "               6,\n",
       "               7,\n",
       "               8,\n",
       "               9,\n",
       "               10,\n",
       "               11,\n",
       "               12,\n",
       "               13,\n",
       "               14,\n",
       "               15,\n",
       "               16,\n",
       "               17,\n",
       "               18,\n",
       "               19,\n",
       "               20,\n",
       "               21,\n",
       "               22,\n",
       "               23,\n",
       "               24,\n",
       "               25,\n",
       "               26,\n",
       "               27,\n",
       "               28,\n",
       "               29,\n",
       "               30,\n",
       "               31,\n",
       "               32,\n",
       "               33,\n",
       "               34,\n",
       "               35,\n",
       "               36,\n",
       "               37,\n",
       "               38,\n",
       "               39,\n",
       "               40,\n",
       "               41,\n",
       "               42,\n",
       "               43,\n",
       "               44,\n",
       "               45,\n",
       "               46,\n",
       "               47,\n",
       "               48,\n",
       "               49,\n",
       "               50,\n",
       "               51,\n",
       "               52,\n",
       "               53,\n",
       "               54,\n",
       "               55,\n",
       "               56,\n",
       "               57,\n",
       "               58,\n",
       "               59,\n",
       "               60,\n",
       "               61,\n",
       "               62,\n",
       "               63,\n",
       "               64,\n",
       "               65,\n",
       "               66,\n",
       "               67,\n",
       "               68,\n",
       "               69,\n",
       "               70,\n",
       "               71,\n",
       "               72,\n",
       "               73,\n",
       "               74,\n",
       "               75,\n",
       "               76,\n",
       "               77,\n",
       "               78,\n",
       "               79,\n",
       "               80,\n",
       "               81,\n",
       "               82,\n",
       "               83,\n",
       "               84,\n",
       "               85,\n",
       "               86,\n",
       "               87,\n",
       "               88,\n",
       "               89],\n",
       "              'test-AUC-mean': [0.7787715044818787,\n",
       "               0.7977886912612632,\n",
       "               0.8014128099165226,\n",
       "               0.8057759230752152,\n",
       "               0.8095755840513368,\n",
       "               0.8182931545515456,\n",
       "               0.8229299763336875,\n",
       "               0.8263717023843317,\n",
       "               0.8291355747231917,\n",
       "               0.8311942113699003,\n",
       "               0.8319743596265138,\n",
       "               0.8326043063238026,\n",
       "               0.8335833938828294,\n",
       "               0.8347134229534166,\n",
       "               0.8363983749766125,\n",
       "               0.8371281752508039,\n",
       "               0.8375219776640526,\n",
       "               0.8377439354355904,\n",
       "               0.8381488837697685,\n",
       "               0.8390314173475684,\n",
       "               0.8392179619295282,\n",
       "               0.8395997073270296,\n",
       "               0.8397602977824302,\n",
       "               0.839972143151018,\n",
       "               0.8401702987786382,\n",
       "               0.8402030548859342,\n",
       "               0.8403312544214957,\n",
       "               0.8402888918437009,\n",
       "               0.8402768244178208,\n",
       "               0.8401307923248641,\n",
       "               0.8400799929590859,\n",
       "               0.8399932761368993,\n",
       "               0.8400560817169769,\n",
       "               0.8399854102405958,\n",
       "               0.8400926670875025,\n",
       "               0.8401710537214649,\n",
       "               0.8401916965982967,\n",
       "               0.8400349549771753,\n",
       "               0.8397976447582675,\n",
       "               0.8397554079348764,\n",
       "               0.8399217110547231,\n",
       "               0.8399974976539308,\n",
       "               0.8399510409791295,\n",
       "               0.8400996135608819,\n",
       "               0.8399079634334177,\n",
       "               0.8396860123243647,\n",
       "               0.8397463511193864,\n",
       "               0.8398756399712388,\n",
       "               0.8397705942365273,\n",
       "               0.8395905597351822,\n",
       "               0.8397599188535981,\n",
       "               0.8396917607996675,\n",
       "               0.839610732490419,\n",
       "               0.8396418704466808,\n",
       "               0.8397496207338797,\n",
       "               0.8397931355051669,\n",
       "               0.8395204812199623,\n",
       "               0.8394932512275336,\n",
       "               0.839334277257546,\n",
       "               0.8393592724026765,\n",
       "               0.8392008460056711,\n",
       "               0.8390577824661684,\n",
       "               0.8389527317345934,\n",
       "               0.8387790619884097,\n",
       "               0.8387803653370295,\n",
       "               0.8389027418607378,\n",
       "               0.838804344453204,\n",
       "               0.8387793193268912,\n",
       "               0.8386785059357494,\n",
       "               0.838698216064687,\n",
       "               0.8388437155752525,\n",
       "               0.8388751387691515,\n",
       "               0.8388752578610701,\n",
       "               0.8383777288851318,\n",
       "               0.8386948798253443,\n",
       "               0.8387413839703509,\n",
       "               0.8386663260804356,\n",
       "               0.8385904970078863,\n",
       "               0.8383366105264031,\n",
       "               0.8380268878405136,\n",
       "               0.8379235043957993,\n",
       "               0.8379994833742602,\n",
       "               0.8378023312834366,\n",
       "               0.8373795108333587,\n",
       "               0.8372761898494409,\n",
       "               0.8372176574206532,\n",
       "               0.8369854893909171,\n",
       "               0.8367442116622169,\n",
       "               0.8366890537820604,\n",
       "               0.8365357300157225],\n",
       "              'test-AUC-std': [0.016224548444936225,\n",
       "               0.01280126388271505,\n",
       "               0.013743694388270401,\n",
       "               0.011820356190768195,\n",
       "               0.015507968243603246,\n",
       "               0.01275267132286549,\n",
       "               0.011537642460959988,\n",
       "               0.009467079054324532,\n",
       "               0.008591336371860714,\n",
       "               0.008635668274484224,\n",
       "               0.008387786928857265,\n",
       "               0.008453679155220948,\n",
       "               0.00803375910633541,\n",
       "               0.007944164629074364,\n",
       "               0.007945838391741062,\n",
       "               0.00817995167753626,\n",
       "               0.008301902362419074,\n",
       "               0.008648943008070249,\n",
       "               0.008747880585085457,\n",
       "               0.007999058414215157,\n",
       "               0.008037090934426195,\n",
       "               0.007903197339686075,\n",
       "               0.007993672840694426,\n",
       "               0.007738623868281892,\n",
       "               0.008032884803986638,\n",
       "               0.00809390275614333,\n",
       "               0.008094840282652485,\n",
       "               0.008263814518656327,\n",
       "               0.008288064929413193,\n",
       "               0.008300690433245892,\n",
       "               0.008363476682497014,\n",
       "               0.008362635012838742,\n",
       "               0.00853856621869021,\n",
       "               0.008731259544418639,\n",
       "               0.008772901773771775,\n",
       "               0.00871025202862484,\n",
       "               0.008464981401948237,\n",
       "               0.008877959217533008,\n",
       "               0.008850903746496299,\n",
       "               0.008881111654639182,\n",
       "               0.00883157699506871,\n",
       "               0.008795428486540328,\n",
       "               0.008941713700647362,\n",
       "               0.008907635371295974,\n",
       "               0.009100556815850815,\n",
       "               0.009256755007933668,\n",
       "               0.009132968056872071,\n",
       "               0.00898393904489445,\n",
       "               0.009188349511178475,\n",
       "               0.009230266110642213,\n",
       "               0.009482025361564105,\n",
       "               0.00910983464150005,\n",
       "               0.008852674559908425,\n",
       "               0.008801677396512084,\n",
       "               0.00884887272345171,\n",
       "               0.00903920301784855,\n",
       "               0.008828344888529238,\n",
       "               0.008658960623087793,\n",
       "               0.009024988438124885,\n",
       "               0.008987096518933214,\n",
       "               0.008934269150996505,\n",
       "               0.009043157374030641,\n",
       "               0.009126041415063922,\n",
       "               0.009189709959722733,\n",
       "               0.00922911403285811,\n",
       "               0.00913083776293636,\n",
       "               0.008546602364382583,\n",
       "               0.008564987196078101,\n",
       "               0.008650096289844929,\n",
       "               0.008341692925480811,\n",
       "               0.008194132786833674,\n",
       "               0.008096129432838786,\n",
       "               0.008303694311537702,\n",
       "               0.008114254732928986,\n",
       "               0.008138887451182904,\n",
       "               0.008191822473833826,\n",
       "               0.008229684163630426,\n",
       "               0.008282571574814563,\n",
       "               0.007890312675790363,\n",
       "               0.008163817199367686,\n",
       "               0.00795946791678711,\n",
       "               0.008490132408773231,\n",
       "               0.008789869215121371,\n",
       "               0.009211565948339613,\n",
       "               0.009528607756930093,\n",
       "               0.009633252190021912,\n",
       "               0.009682941411726516,\n",
       "               0.009766543231116453,\n",
       "               0.009895308614568747,\n",
       "               0.010001589852734267],\n",
       "              'test-Logloss-mean': [0.6103281664967511,\n",
       "               0.5562486099265916,\n",
       "               0.5219421784920405,\n",
       "               0.49876103217739914,\n",
       "               0.48243329588890055,\n",
       "               0.46769313187967526,\n",
       "               0.4562421351111181,\n",
       "               0.44782622741479433,\n",
       "               0.4422134028404006,\n",
       "               0.43826839174039445,\n",
       "               0.4359223469309515,\n",
       "               0.4334873897032577,\n",
       "               0.43144240300213976,\n",
       "               0.4294713475069456,\n",
       "               0.42732285607757414,\n",
       "               0.42565823533844777,\n",
       "               0.4249706609130551,\n",
       "               0.4245097372142812,\n",
       "               0.42399339395454233,\n",
       "               0.42283957932036614,\n",
       "               0.4224529598477962,\n",
       "               0.4218568209722376,\n",
       "               0.42158326651143163,\n",
       "               0.42138904686131023,\n",
       "               0.42112470193362506,\n",
       "               0.42099283119453784,\n",
       "               0.4209915235199138,\n",
       "               0.42102768003860547,\n",
       "               0.42097462572987454,\n",
       "               0.4211891815858893,\n",
       "               0.42111003468898073,\n",
       "               0.42106923002387714,\n",
       "               0.4210992836102592,\n",
       "               0.4212746111741577,\n",
       "               0.42117810618294405,\n",
       "               0.42108409885605536,\n",
       "               0.42121841436031837,\n",
       "               0.4214358335204981,\n",
       "               0.4217968095455271,\n",
       "               0.42189859782003974,\n",
       "               0.42166385902793296,\n",
       "               0.4215966483737452,\n",
       "               0.42175730792339183,\n",
       "               0.4217693916789933,\n",
       "               0.4220952003260499,\n",
       "               0.42238094684187666,\n",
       "               0.42253298017565766,\n",
       "               0.42244302922168825,\n",
       "               0.4224925985979062,\n",
       "               0.42277967682606943,\n",
       "               0.42265381590904266,\n",
       "               0.4227452008512527,\n",
       "               0.4228671456627981,\n",
       "               0.42284629633045706,\n",
       "               0.42271519073096825,\n",
       "               0.4226063705612286,\n",
       "               0.4228179775769941,\n",
       "               0.42293659262427763,\n",
       "               0.42313322816023563,\n",
       "               0.4232196938135779,\n",
       "               0.42345239188525047,\n",
       "               0.4235889512999334,\n",
       "               0.4237367675626655,\n",
       "               0.42397603423217567,\n",
       "               0.4240331531893573,\n",
       "               0.42407443995153443,\n",
       "               0.42419132283627925,\n",
       "               0.4242137006136175,\n",
       "               0.42429619670689434,\n",
       "               0.4243620476392657,\n",
       "               0.4243734713675827,\n",
       "               0.424475448362909,\n",
       "               0.42442616618751955,\n",
       "               0.42512365972348015,\n",
       "               0.42483424650980667,\n",
       "               0.42481364950054173,\n",
       "               0.42500837041695844,\n",
       "               0.42507877370691133,\n",
       "               0.42535586704198974,\n",
       "               0.42579620270500657,\n",
       "               0.42606660491574605,\n",
       "               0.42603172360358993,\n",
       "               0.42637173018673186,\n",
       "               0.4268859629589516,\n",
       "               0.426962185971421,\n",
       "               0.4270521287661873,\n",
       "               0.4275276270681189,\n",
       "               0.4277750876132378,\n",
       "               0.4277764176061248,\n",
       "               0.4279872692524178],\n",
       "              'test-Logloss-std': [0.0013304007946295794,\n",
       "               0.003045400896356324,\n",
       "               0.0027261486525628135,\n",
       "               0.002747256473000484,\n",
       "               0.0053967131412826636,\n",
       "               0.006298718108841131,\n",
       "               0.005927138061881013,\n",
       "               0.0053159669410173145,\n",
       "               0.0051668662647188545,\n",
       "               0.005551686523546934,\n",
       "               0.005747317894084556,\n",
       "               0.006330278805067044,\n",
       "               0.006448566928250847,\n",
       "               0.006715871354464476,\n",
       "               0.007186640955737321,\n",
       "               0.007516364948164584,\n",
       "               0.007976296397823447,\n",
       "               0.008625767633046077,\n",
       "               0.008910484289965883,\n",
       "               0.008556189719985995,\n",
       "               0.008820705860736038,\n",
       "               0.008732664309095563,\n",
       "               0.008997408805890813,\n",
       "               0.008899229028104706,\n",
       "               0.009281414211654212,\n",
       "               0.009529088988304374,\n",
       "               0.00976081570055023,\n",
       "               0.00991529791105181,\n",
       "               0.009860599535534979,\n",
       "               0.009978418764516916,\n",
       "               0.010090428493039585,\n",
       "               0.00999728993092823,\n",
       "               0.010269938947077421,\n",
       "               0.010414593496770241,\n",
       "               0.010677540410385147,\n",
       "               0.010589296459424778,\n",
       "               0.010528024991221345,\n",
       "               0.011015888831401593,\n",
       "               0.011265345630368538,\n",
       "               0.01137085921284972,\n",
       "               0.011298661227674468,\n",
       "               0.011258748618301704,\n",
       "               0.011505294635291735,\n",
       "               0.011687169287588638,\n",
       "               0.012037100005280358,\n",
       "               0.012443100669902873,\n",
       "               0.012559958783565169,\n",
       "               0.01243524281967619,\n",
       "               0.01268010827594208,\n",
       "               0.012688042659572595,\n",
       "               0.013003511169938678,\n",
       "               0.012587720466118337,\n",
       "               0.012294989276907989,\n",
       "               0.01227583970365403,\n",
       "               0.012252051951058015,\n",
       "               0.012507754836041602,\n",
       "               0.012281097251589549,\n",
       "               0.012216924615342252,\n",
       "               0.012562320814009558,\n",
       "               0.01254196187801507,\n",
       "               0.012645578119618273,\n",
       "               0.01275625840703965,\n",
       "               0.012850137855498106,\n",
       "               0.012891031946358725,\n",
       "               0.012946659755677114,\n",
       "               0.012809225691849332,\n",
       "               0.012198421551970144,\n",
       "               0.01220861328038989,\n",
       "               0.012285944207291344,\n",
       "               0.01205123339931532,\n",
       "               0.012052326640246068,\n",
       "               0.012117691647268879,\n",
       "               0.012262427402061585,\n",
       "               0.01216640192566243,\n",
       "               0.012182993332442209,\n",
       "               0.012274430794498766,\n",
       "               0.012397906838095434,\n",
       "               0.012462149354982768,\n",
       "               0.0118966367121774,\n",
       "               0.012281778662686036,\n",
       "               0.012068674559554477,\n",
       "               0.012856892976554348,\n",
       "               0.013235307288194748,\n",
       "               0.013691846276960231,\n",
       "               0.014065869128048325,\n",
       "               0.01412848593952837,\n",
       "               0.014287252872500844,\n",
       "               0.01443290890623986,\n",
       "               0.014522544220150016,\n",
       "               0.014453285702469437],\n",
       "              'train-Logloss-mean': [0.6084665651433312,\n",
       "               0.5525052181990876,\n",
       "               0.5159356368458783,\n",
       "               0.4903842908964881,\n",
       "               0.4708691421382604,\n",
       "               0.45543428276376213,\n",
       "               0.44337421775981606,\n",
       "               0.4335714165702358,\n",
       "               0.4266602277359453,\n",
       "               0.42180949032798337,\n",
       "               0.4182348759671493,\n",
       "               0.41370850724433644,\n",
       "               0.4109185878436901,\n",
       "               0.40790299049261236,\n",
       "               0.40586778060121603,\n",
       "               0.40235387031468317,\n",
       "               0.3996290039517767,\n",
       "               0.39732999473468716,\n",
       "               0.39676905091612236,\n",
       "               0.3947745789627077,\n",
       "               0.39234653259029145,\n",
       "               0.3899289596286614,\n",
       "               0.3878808881248259,\n",
       "               0.3867388230264311,\n",
       "               0.3859503554860689,\n",
       "               0.3850028182045184,\n",
       "               0.3832372417972099,\n",
       "               0.38217449793408714,\n",
       "               0.38169369431633493,\n",
       "               0.38002856977123706,\n",
       "               0.3790361098019575,\n",
       "               0.3776342087642702,\n",
       "               0.37631959566508516,\n",
       "               0.37547687324129503,\n",
       "               0.37474869251543,\n",
       "               0.37452775921903786,\n",
       "               0.37323228749204107,\n",
       "               0.37238511211850733,\n",
       "               0.37064663716038665,\n",
       "               0.37036683860799346,\n",
       "               0.3698505825081639,\n",
       "               0.3696434042039994,\n",
       "               0.36831290985984927,\n",
       "               0.3666509525515241,\n",
       "               0.36621717684811456,\n",
       "               0.3649981879940316,\n",
       "               0.3641038899965194,\n",
       "               0.3637417614538116,\n",
       "               0.36333664156716017,\n",
       "               0.36208154279548355,\n",
       "               0.3612481923641198,\n",
       "               0.3603347475896932,\n",
       "               0.35947183450794246,\n",
       "               0.3588321277022865,\n",
       "               0.35850721706789246,\n",
       "               0.35764010485788766,\n",
       "               0.3555452094974456,\n",
       "               0.3543917532037672,\n",
       "               0.3529030201199114,\n",
       "               0.3520456839519846,\n",
       "               0.351062051810471,\n",
       "               0.3504160124487035,\n",
       "               0.34921233860368334,\n",
       "               0.3480331140926382,\n",
       "               0.34737810771575656,\n",
       "               0.3464709589953611,\n",
       "               0.3450661504824289,\n",
       "               0.3444295268042836,\n",
       "               0.34383160123474704,\n",
       "               0.34246260679367263,\n",
       "               0.3413538414093357,\n",
       "               0.3398081578357739,\n",
       "               0.33831643782500304,\n",
       "               0.3367737011053576,\n",
       "               0.3355560559806701,\n",
       "               0.33477029292766397,\n",
       "               0.3339925510869666,\n",
       "               0.33353633287109496,\n",
       "               0.3326751968737807,\n",
       "               0.33206974323588284,\n",
       "               0.33135176953615214,\n",
       "               0.330260875363713,\n",
       "               0.32925041466918525,\n",
       "               0.3281503628349873,\n",
       "               0.32704204920939883,\n",
       "               0.326140618961896,\n",
       "               0.3249769964062474,\n",
       "               0.32380015130961765,\n",
       "               0.3229197650046139,\n",
       "               0.32234322979162316],\n",
       "              'train-Logloss-std': [0.0028100388692218967,\n",
       "               0.004694919866934976,\n",
       "               0.007318756761428581,\n",
       "               0.006667187837499374,\n",
       "               0.004046654076899163,\n",
       "               0.003047963130964464,\n",
       "               0.004301060342089968,\n",
       "               0.004767174460362565,\n",
       "               0.004193188792829783,\n",
       "               0.0037483532298808386,\n",
       "               0.004008880792220234,\n",
       "               0.005283493005602306,\n",
       "               0.004840540930636522,\n",
       "               0.004234057071400109,\n",
       "               0.004013397961289868,\n",
       "               0.004202661610432405,\n",
       "               0.003400778559790612,\n",
       "               0.002743851863896429,\n",
       "               0.0026338916681599013,\n",
       "               0.002888536759854536,\n",
       "               0.0037556428239833594,\n",
       "               0.004207207712363117,\n",
       "               0.004898396104163585,\n",
       "               0.004648134055657515,\n",
       "               0.004774413686836498,\n",
       "               0.004148448653966199,\n",
       "               0.00527627483525557,\n",
       "               0.006015302910982623,\n",
       "               0.006780820438032964,\n",
       "               0.006175317677953994,\n",
       "               0.005395480143291897,\n",
       "               0.0062983191643245515,\n",
       "               0.007014528871273951,\n",
       "               0.006896482124109371,\n",
       "               0.006356002208247886,\n",
       "               0.006458287640427569,\n",
       "               0.00658296750240629,\n",
       "               0.006575143469076129,\n",
       "               0.005245848986784206,\n",
       "               0.005283250639018352,\n",
       "               0.00541380224589796,\n",
       "               0.005341644914141596,\n",
       "               0.00569280003197824,\n",
       "               0.006519171259263331,\n",
       "               0.006621306893042498,\n",
       "               0.006625026867001997,\n",
       "               0.0076845072666868915,\n",
       "               0.0077903246941425615,\n",
       "               0.007729463760655903,\n",
       "               0.0074698887630607474,\n",
       "               0.006500026582110425,\n",
       "               0.005658908002019628,\n",
       "               0.005127449685855006,\n",
       "               0.005772433757743069,\n",
       "               0.005812438350543403,\n",
       "               0.005307761081286062,\n",
       "               0.006539316773788335,\n",
       "               0.0063425401369206,\n",
       "               0.006971667580416718,\n",
       "               0.007516697648050927,\n",
       "               0.007704498909257632,\n",
       "               0.007922287230455297,\n",
       "               0.007605804174849359,\n",
       "               0.007501592435667303,\n",
       "               0.007064452763938684,\n",
       "               0.007199713020171549,\n",
       "               0.006559421376758651,\n",
       "               0.006517956107779405,\n",
       "               0.006861015271399129,\n",
       "               0.006916273966933052,\n",
       "               0.0074403897074945,\n",
       "               0.008028947447155911,\n",
       "               0.008491993903141516,\n",
       "               0.00881616704977367,\n",
       "               0.009307129950305791,\n",
       "               0.009742743365862496,\n",
       "               0.010252490602092977,\n",
       "               0.010595662294952075,\n",
       "               0.010328266735055068,\n",
       "               0.010809470614228153,\n",
       "               0.010820129338318498,\n",
       "               0.010463542335276752,\n",
       "               0.010670931780368135,\n",
       "               0.010385197077420846,\n",
       "               0.010646994186758444,\n",
       "               0.010809259491278688,\n",
       "               0.010677196736601668,\n",
       "               0.01087678956394866,\n",
       "               0.01067149553404832,\n",
       "               0.010302739148192337]})}"
      ]
     },
     "execution_count": 34,
     "metadata": {},
     "output_type": "execute_result"
    }
   ],
   "source": [
    "boosting_model = catboost.CatBoostClassifier(cat_features=cat_cols,\n",
    "                                             custom_loss=\"AUC\")\n",
    "boosting_model.grid_search({\"n_estimators\": np.arange(0, 100, 5),\n",
    "                            \"learning_rate\": np.linspace(0, 1, 20)},\n",
    "                            X_train, \n",
    "                            y_train, plot=True, refit=True)"
   ]
  },
  {
   "cell_type": "code",
   "execution_count": 40,
   "metadata": {
    "colab": {
     "base_uri": "https://localhost:8080/"
    },
    "executionInfo": {
     "elapsed": 15,
     "status": "ok",
     "timestamp": 1649238943413,
     "user": {
      "displayName": "Иван Пикулин",
      "userId": "13514535674518997815"
     },
     "user_tz": -180
    },
    "id": "1BvEB-h0CpmI",
    "outputId": "644e905a-6c2b-4687-a4a9-06d4f51aff4d"
   },
   "outputs": [
    {
     "data": {
      "text/plain": [
       "0.8556987853473523"
      ]
     },
     "execution_count": 40,
     "metadata": {},
     "output_type": "execute_result"
    }
   ],
   "source": [
    "roc_auc_score(y_test, boosting_model.predict_proba(X_test)[:,1])"
   ]
  },
  {
   "cell_type": "markdown",
   "metadata": {
    "id": "rf4Kjt96EEZU"
   },
   "source": [
    "Выпишите какое лучшее качество и с какими параметрами вам удалось получить"
   ]
  },
  {
   "cell_type": "markdown",
   "metadata": {
    "id": "d2d9GolXEEZV"
   },
   "source": []
  },
  {
   "cell_type": "markdown",
   "metadata": {
    "id": "dDMXbvNZEEZV"
   },
   "source": [
    "# Предсказания"
   ]
  },
  {
   "cell_type": "code",
   "execution_count": 31,
   "metadata": {
    "id": "G_P4wFNaEEZW"
   },
   "outputs": [],
   "source": [
    "best_model = standart_boosting_model"
   ]
  },
  {
   "cell_type": "code",
   "execution_count": 33,
   "metadata": {
    "id": "FfSufx0CEEZZ"
   },
   "outputs": [],
   "source": [
    "X_test = pd.read_csv('./test.csv')\n",
    "X_test[\"TotalSpent\"] = X_test['TotalSpent'].astype(\"str\").replace(' ', 0).astype(float)\n",
    "\n",
    "# Нормируем числовые признаки\n",
    "scaler = StandardScaler()\n",
    "X_test[num_cols] = scaler.fit_transform(X_test[num_cols])\n",
    "\n",
    "submission = pd.read_csv('./submission.csv', index_col=\"Id\")\n",
    "submission['Churn'] = best_model.predict_proba(X_test)[:,1]\n",
    "submission.to_csv('./my_submission.csv')"
   ]
  },
  {
   "cell_type": "code",
   "execution_count": null,
   "metadata": {},
   "outputs": [],
   "source": []
  },
  {
   "cell_type": "code",
   "execution_count": null,
   "metadata": {},
   "outputs": [],
   "source": []
  },
  {
   "cell_type": "markdown",
   "metadata": {
    "id": "igeZS9N2mU8a"
   },
   "source": [
    "Ник на Kaggle: Ivan\\_Pikulin (может отображаться как Иван\\_Пикулин)\\\n",
    "Cсылка на Leaderboard: https://www.kaggle.com/competitions/advanced-dls-spring-2021/leaderboard"
   ]
  },
  {
   "cell_type": "markdown",
   "metadata": {
    "id": "mkxjbGkVEEZc"
   },
   "source": [
    "# Kaggle (5 баллов)\n",
    "\n",
    "Как выставить баллы:\n",
    "\n",
    "1) 1 >= roc auc > 0.84 это 5 баллов\n",
    "\n",
    "2) 0.84 >= roc auc > 0.7 это 3 балла\n",
    "\n",
    "3) 0.7 >= roc auc > 0.6 это 1 балл\n",
    "\n",
    "4) 0.6 >= roc auc это 0 баллов\n",
    "\n",
    "\n",
    "Для выполнения задания необходимо выполнить следующие шаги.\n",
    "* Зарегистрироваться на платформе [kaggle.com](kaggle.com). Процесс выставления оценок будет проходить при подведении итогового рейтинга. Пожалуйста, укажите во вкладке Team -> Team name свои имя и фамилию в формате Имя_Фамилия (важно, чтобы имя и фамилия совпадали с данными на Stepik).\n",
    "* Обучить модель, получить файл с ответами в формате .csv и сдать его в конкурс. Пробуйте и экспериментируйте. Обратите внимание, что вы можете выполнять до 20 попыток сдачи на kaggle в день.\n",
    "* После окончания соревнования отправить в итоговый ноутбук с решением на степик. \n",
    "* После дедлайна проверьте посылки других участников по критериям. Для этого надо зайти на степик, скачать их ноутбук и проверить скор в соревновании."
   ]
  }
 ],
 "metadata": {
  "colab": {
   "collapsed_sections": [],
   "name": "Copy of Копия блокнота \"baseline.ipynb\"",
   "provenance": [
    {
     "file_id": "1YvGlt5SdpHmauOAOGwxdHmHXYdV32iF8",
     "timestamp": 1649609282105
    },
    {
     "file_id": "1PO5ffKlghuzdzQwXMm1PpLP1J2bVX9n1",
     "timestamp": 1648635972558
    }
   ]
  },
  "kernelspec": {
   "display_name": "Python 3",
   "language": "python",
   "name": "python3"
  },
  "language_info": {
   "codemirror_mode": {
    "name": "ipython",
    "version": 3
   },
   "file_extension": ".py",
   "mimetype": "text/x-python",
   "name": "python",
   "nbconvert_exporter": "python",
   "pygments_lexer": "ipython3",
   "version": "3.7.6"
  },
  "widgets": {
   "application/vnd.jupyter.widget-state+json": {
    "34ff108f3dbe4af1adcee21e8bf72dff": {
     "model_module": "catboost-widget",
     "model_module_version": "^1.0.0",
     "model_name": "CatboostWidgetModel",
     "state": {
      "_dom_classes": [],
      "_model_module": "catboost-widget",
      "_model_module_version": "^1.0.0",
      "_model_name": "CatboostWidgetModel",
      "_view_count": null,
      "_view_module": "catboost-widget",
      "_view_module_version": "^1.0.0",
      "_view_name": "CatboostWidgetView",
      "data": {
       "catboost_info": {
        "content": {
         "data": {
          "iterations": [
           {
            "iteration": 0,
            "learn": [
             0.5813309335
            ],
            "parameters": [
             {
              "iterations": 5,
              "learning_rate": 0.05263157895
             }
            ],
            "passed_time": 0.05960857182,
            "remaining_time": 23.78382016,
            "test": [
             0.5804364501,
             0.810814426
            ]
           },
           {
            "iteration": 1,
            "learn": [
             0.5165630566
            ],
            "parameters": [
             {
              "iterations": 5,
              "learning_rate": 0.1052631579
             }
            ],
            "passed_time": 0.09943744875,
            "remaining_time": 19.7880523,
            "test": [
             0.5157532978,
             0.8126798548
            ]
           },
           {
            "iteration": 2,
            "learn": [
             0.4802699702
            ],
            "parameters": [
             {
              "iterations": 5,
              "learning_rate": 0.1578947368
             }
            ],
            "passed_time": 0.1376756992,
            "remaining_time": 18.21908419,
            "test": [
             0.4812944649,
             0.8145995112
            ]
           },
           {
            "iteration": 3,
            "learn": [
             0.4564124152
            ],
            "parameters": [
             {
              "iterations": 5,
              "learning_rate": 0.2105263158
             }
            ],
            "passed_time": 0.1744838221,
            "remaining_time": 17.27389838,
            "test": [
             0.4574643872,
             0.8268694055
            ]
           },
           {
            "iteration": 4,
            "learn": [
             0.4390052399
            ],
            "parameters": [
             {
              "iterations": 5,
              "learning_rate": 0.2631578947
             }
            ],
            "passed_time": 0.2123134111,
            "remaining_time": 16.77275948,
            "test": [
             0.4409151461,
             0.8317968852
            ]
           },
           {
            "iteration": 5,
            "learn": [
             0.4301904402
            ],
            "parameters": [
             {
              "iterations": 5,
              "learning_rate": 0.3157894737
             }
            ],
            "passed_time": 0.258320121,
            "remaining_time": 16.96302128,
            "test": [
             0.4350323996,
             0.8310919266
            ]
           },
           {
            "iteration": 6,
            "learn": [
             0.4228974898
            ],
            "parameters": [
             {
              "iterations": 5,
              "learning_rate": 0.3684210526
             }
            ],
            "passed_time": 0.300461795,
            "remaining_time": 16.86878364,
            "test": [
             0.4342573263,
             0.82685856
            ]
           },
           {
            "iteration": 7,
            "learn": [
             0.416748857
            ],
            "parameters": [
             {
              "iterations": 5,
              "learning_rate": 0.4210526316
             }
            ],
            "passed_time": 0.345102552,
            "remaining_time": 16.91002505,
            "test": [
             0.4301411019,
             0.8285866123
            ]
           },
           {
            "iteration": 8,
            "learn": [
             0.4147462118
            ],
            "parameters": [
             {
              "iterations": 5,
              "learning_rate": 0.4736842105
             }
            ],
            "passed_time": 0.3880142751,
            "remaining_time": 16.85706462,
            "test": [
             0.4301426255,
             0.8283299351
            ]
           },
           {
            "iteration": 9,
            "learn": [
             0.4108313204
            ],
            "parameters": [
             {
              "iterations": 5,
              "learning_rate": 0.5263157895
             }
            ],
            "passed_time": 0.4327398265,
            "remaining_time": 16.87685323,
            "test": [
             0.4273569452,
             0.8311027721
            ]
           },
           {
            "iteration": 10,
            "learn": [
             0.4107359311
            ],
            "parameters": [
             {
              "iterations": 5,
              "learning_rate": 0.5789473684
             }
            ],
            "passed_time": 0.47058044,
            "remaining_time": 16.64143556,
            "test": [
             0.4311055428,
             0.8285468454
            ]
           },
           {
            "iteration": 11,
            "learn": [
             0.4095420578
            ],
            "parameters": [
             {
              "iterations": 5,
              "learning_rate": 0.6315789474
             }
            ],
            "passed_time": 0.5115792118,
            "remaining_time": 16.54106118,
            "test": [
             0.4318697881,
             0.8270646248
            ]
           },
           {
            "iteration": 12,
            "learn": [
             0.4022650917
            ],
            "parameters": [
             {
              "iterations": 5,
              "learning_rate": 0.6842105263
             }
            ],
            "passed_time": 0.5599393393,
            "remaining_time": 16.66896341,
            "test": [
             0.4286424613,
             0.8308099432
            ]
           },
           {
            "iteration": 13,
            "learn": [
             0.3997344988
            ],
            "parameters": [
             {
              "iterations": 5,
              "learning_rate": 0.7368421053
             }
            ],
            "passed_time": 0.6014851299,
            "remaining_time": 16.5838043,
            "test": [
             0.4308109881,
             0.8297109308
            ]
           },
           {
            "iteration": 14,
            "learn": [
             0.402397912
            ],
            "parameters": [
             {
              "iterations": 5,
              "learning_rate": 0.7894736842
             }
            ],
            "passed_time": 0.6465037986,
            "remaining_time": 16.5935975,
            "test": [
             0.4391310688,
             0.820517548
            ]
           },
           {
            "iteration": 15,
            "learn": [
             0.4039836055
            ],
            "parameters": [
             {
              "iterations": 5,
              "learning_rate": 0.8421052632
             }
            ],
            "passed_time": 0.6849165068,
            "remaining_time": 16.43799616,
            "test": [
             0.4305703617,
             0.8313377583
            ]
           },
           {
            "iteration": 16,
            "learn": [
             0.4067982967
            ],
            "parameters": [
             {
              "iterations": 5,
              "learning_rate": 0.8947368421
             }
            ],
            "passed_time": 0.7218408561,
            "remaining_time": 16.26264987,
            "test": [
             0.4445951194,
             0.8174085
            ]
           },
           {
            "iteration": 17,
            "learn": [
             0.4069376226
            ],
            "parameters": [
             {
              "iterations": 5,
              "learning_rate": 0.9473684211
             }
            ],
            "passed_time": 0.7582953282,
            "remaining_time": 16.09271197,
            "test": [
             0.4456429005,
             0.8164974766
            ]
           },
           {
            "iteration": 18,
            "learn": [
             0.4054655803
            ],
            "parameters": [
             {
              "iterations": 5,
              "learning_rate": 1
             }
            ],
            "passed_time": 0.8006377641,
            "remaining_time": 16.05489411,
            "test": [
             0.4411467353,
             0.8173578876
            ]
           },
           {
            "iteration": 19,
            "learn": [
             0.5238194472
            ],
            "parameters": [
             {
              "iterations": 10,
              "learning_rate": 0.05263157895
             }
            ],
            "passed_time": 0.8771408512,
            "remaining_time": 16.66567617,
            "test": [
             0.5225768185,
             0.8200078088
            ]
           },
           {
            "iteration": 20,
            "learn": [
             0.454353988
            ],
            "parameters": [
             {
              "iterations": 10,
              "learning_rate": 0.1052631579
             }
            ],
            "passed_time": 0.9456728023,
            "remaining_time": 17.06714248,
            "test": [
             0.4544120342,
             0.8350722311
            ]
           },
           {
            "iteration": 21,
            "learn": [
             0.4289557729
            ],
            "parameters": [
             {
              "iterations": 10,
              "learning_rate": 0.1578947368
             }
            ],
            "passed_time": 1.028076977,
            "remaining_time": 17.66423169,
            "test": [
             0.4328984363,
             0.8368364352
            ]
           },
           {
            "iteration": 22,
            "learn": [
             0.4159140252
            ],
            "parameters": [
             {
              "iterations": 10,
              "learning_rate": 0.2105263158
             }
            ],
            "passed_time": 1.122048598,
            "remaining_time": 18.39184006,
            "test": [
             0.4258012437,
             0.8373064075
            ]
           },
           {
            "iteration": 23,
            "learn": [
             0.407720101
            ],
            "parameters": [
             {
              "iterations": 10,
              "learning_rate": 0.2631578947
             }
            ],
            "passed_time": 1.193188981,
            "remaining_time": 18.69329404,
            "test": [
             0.4233556643,
             0.8380041358
            ]
           },
           {
            "iteration": 24,
            "learn": [
             0.3996793256
            ],
            "parameters": [
             {
              "iterations": 10,
              "learning_rate": 0.3157894737
             }
            ],
            "passed_time": 1.271810328,
            "remaining_time": 19.07715492,
            "test": [
             0.4275884,
             0.8326356051
            ]
           },
           {
            "iteration": 25,
            "learn": [
             0.4000929942
            ],
            "parameters": [
             {
              "iterations": 10,
              "learning_rate": 0.3684210526
             }
            ],
            "passed_time": 1.344218459,
            "remaining_time": 19.33606553,
            "test": [
             0.4277571785,
             0.8323283155
            ]
           },
           {
            "iteration": 26,
            "learn": [
             0.3945148235
            ],
            "parameters": [
             {
              "iterations": 10,
              "learning_rate": 0.4210526316
             }
            ],
            "passed_time": 1.41611053,
            "remaining_time": 19.56330474,
            "test": [
             0.4301411019,
             0.8285866123
            ]
           },
           {
            "iteration": 27,
            "learn": [
             0.3921536435
            ],
            "parameters": [
             {
              "iterations": 10,
              "learning_rate": 0.4736842105
             }
            ],
            "passed_time": 1.497558648,
            "remaining_time": 19.89613632,
            "test": [
             0.4272630409,
             0.831016008
            ]
           },
           {
            "iteration": 28,
            "learn": [
             0.3914388414
            ],
            "parameters": [
             {
              "iterations": 10,
              "learning_rate": 0.5263157895
             }
            ],
            "passed_time": 1.574611172,
            "remaining_time": 20.14416361,
            "test": [
             0.4257104103,
             0.8330658106
            ]
           },
           {
            "iteration": 29,
            "learn": [
             0.3860826677
            ],
            "parameters": [
             {
              "iterations": 10,
              "learning_rate": 0.5789473684
             }
            ],
            "passed_time": 1.653953121,
            "remaining_time": 20.39875516,
            "test": [
             0.4311055428,
             0.8290529695
            ]
           },
           {
            "iteration": 30,
            "learn": [
             0.3808891475
            ],
            "parameters": [
             {
              "iterations": 10,
              "learning_rate": 0.6315789474
             }
            ],
            "passed_time": 1.73090351,
            "remaining_time": 20.60333533,
            "test": [
             0.4318697881,
             0.8278021199
            ]
           },
           {
            "iteration": 31,
            "learn": [
             0.3813643547
            ],
            "parameters": [
             {
              "iterations": 10,
              "learning_rate": 0.6842105263
             }
            ],
            "passed_time": 1.808676098,
            "remaining_time": 20.79977513,
            "test": [
             0.4284256675,
             0.8317498879
            ]
           },
           {
            "iteration": 32,
            "learn": [
             0.3776695778
            ],
            "parameters": [
             {
              "iterations": 10,
              "learning_rate": 0.7368421053
             }
            ],
            "passed_time": 1.901364489,
            "remaining_time": 21.1454778,
            "test": [
             0.4308109881,
             0.8297109308
            ]
           },
           {
            "iteration": 33,
            "learn": [
             0.3779359604
            ],
            "parameters": [
             {
              "iterations": 10,
              "learning_rate": 0.7894736842
             }
            ],
            "passed_time": 1.984673982,
            "remaining_time": 21.36443168,
            "test": [
             0.4391310688,
             0.820517548
            ]
           },
           {
            "iteration": 34,
            "learn": [
             0.3742327669
            ],
            "parameters": [
             {
              "iterations": 10,
              "learning_rate": 0.8421052632
             }
            ],
            "passed_time": 2.059198286,
            "remaining_time": 21.47449641,
            "test": [
             0.4305703617,
             0.8313377583
            ]
           },
           {
            "iteration": 35,
            "learn": [
             0.3779935464
            ],
            "parameters": [
             {
              "iterations": 10,
              "learning_rate": 0.8947368421
             }
            ],
            "passed_time": 2.156453635,
            "remaining_time": 21.80414231,
            "test": [
             0.4445951194,
             0.8174085
            ]
           },
           {
            "iteration": 36,
            "learn": [
             0.3861214653
            ],
            "parameters": [
             {
              "iterations": 10,
              "learning_rate": 0.9473684211
             }
            ],
            "passed_time": 2.223977286,
            "remaining_time": 21.8190204,
            "test": [
             0.4456429005,
             0.8164974766
            ]
           },
           {
            "iteration": 37,
            "learn": [
             0.3810322848
            ],
            "parameters": [
             {
              "iterations": 10,
              "learning_rate": 1
             }
            ],
            "passed_time": 2.302518063,
            "remaining_time": 21.93451418,
            "test": [
             0.4411467353,
             0.819089555
            ]
           },
           {
            "iteration": 38,
            "learn": [
             0.484549792
            ],
            "parameters": [
             {
              "iterations": 15,
              "learning_rate": 0.05263157895
             }
            ],
            "passed_time": 2.414161788,
            "remaining_time": 22.34647194,
            "test": [
             0.4836693514,
             0.8293132619
            ]
           },
           {
            "iteration": 39,
            "learn": [
             0.4261426714
            ],
            "parameters": [
             {
              "iterations": 15,
              "learning_rate": 0.1052631579
             }
            ],
            "passed_time": 2.542074701,
            "remaining_time": 22.87867231,
            "test": [
             0.4303345774,
             0.8398876404
            ]
           },
           {
            "iteration": 40,
            "learn": [
             0.4128457329
            ],
            "parameters": [
             {
              "iterations": 15,
              "learning_rate": 0.1578947368
             }
            ],
            "passed_time": 2.639722057,
            "remaining_time": 23.11366386,
            "test": [
             0.4260970323,
             0.8386078695
            ]
           },
           {
            "iteration": 41,
            "learn": [
             0.3974594045
            ],
            "parameters": [
             {
              "iterations": 15,
              "learning_rate": 0.2105263158
             }
            ],
            "passed_time": 2.742852687,
            "remaining_time": 23.37955386,
            "test": [
             0.4240011136,
             0.8373064075
            ]
           },
           {
            "iteration": 42,
            "learn": [
             0.3936863315
            ],
            "parameters": [
             {
              "iterations": 15,
              "learning_rate": 0.2631578947
             }
            ],
            "passed_time": 2.847066386,
            "remaining_time": 23.63727209,
            "test": [
             0.4233556643,
             0.8380041358
            ]
           },
           {
            "iteration": 43,
            "learn": [
             0.3870111705
            ],
            "parameters": [
             {
              "iterations": 15,
              "learning_rate": 0.3157894737
             }
            ],
            "passed_time": 2.951761833,
            "remaining_time": 23.88243665,
            "test": [
             0.4275884,
             0.8326356051
            ]
           },
           {
            "iteration": 44,
            "learn": [
             0.387286649
            ],
            "parameters": [
             {
              "iterations": 15,
              "learning_rate": 0.3684210526
             }
            ],
            "passed_time": 3.078044422,
            "remaining_time": 24.28235044,
            "test": [
             0.4277571785,
             0.8323283155
            ]
           },
           {
            "iteration": 45,
            "learn": [
             0.3817206205
            ],
            "parameters": [
             {
              "iterations": 15,
              "learning_rate": 0.4210526316
             }
            ],
            "passed_time": 3.203108465,
            "remaining_time": 24.65000862,
            "test": [
             0.4301411019,
             0.8285866123
            ]
           },
           {
            "iteration": 46,
            "learn": [
             0.381055137
            ],
            "parameters": [
             {
              "iterations": 15,
              "learning_rate": 0.4736842105
             }
            ],
            "passed_time": 3.304085645,
            "remaining_time": 24.81579218,
            "test": [
             0.4272630409,
             0.831016008
            ]
           },
           {
            "iteration": 47,
            "learn": [
             0.3794294185
            ],
            "parameters": [
             {
              "iterations": 15,
              "learning_rate": 0.5263157895
             }
            ],
            "passed_time": 3.429875893,
            "remaining_time": 25.15242322,
            "test": [
             0.4257104103,
             0.8330658106
            ]
           },
           {
            "iteration": 48,
            "learn": [
             0.3759161633
            ],
            "parameters": [
             {
              "iterations": 15,
              "learning_rate": 0.5789473684
             }
            ],
            "passed_time": 3.536008036,
            "remaining_time": 25.32936368,
            "test": [
             0.4311055428,
             0.8290529695
            ]
           },
           {
            "iteration": 49,
            "learn": [
             0.376169686
            ],
            "parameters": [
             {
              "iterations": 15,
              "learning_rate": 0.6315789474
             }
            ],
            "passed_time": 3.654744042,
            "remaining_time": 25.5832083,
            "test": [
             0.4318697881,
             0.8278021199
            ]
           },
           {
            "iteration": 50,
            "learn": [
             0.3654126762
            ],
            "parameters": [
             {
              "iterations": 15,
              "learning_rate": 0.6842105263
             }
            ],
            "passed_time": 3.764050243,
            "remaining_time": 25.75791245,
            "test": [
             0.4284256675,
             0.8317498879
            ]
           },
           {
            "iteration": 51,
            "learn": [
             0.3586109381
            ],
            "parameters": [
             {
              "iterations": 15,
              "learning_rate": 0.7368421053
             }
            ],
            "passed_time": 3.874902536,
            "remaining_time": 25.93204005,
            "test": [
             0.4308109881,
             0.8297109308
            ]
           },
           {
            "iteration": 52,
            "learn": [
             0.3569744881
            ],
            "parameters": [
             {
              "iterations": 15,
              "learning_rate": 0.7894736842
             }
            ],
            "passed_time": 3.982984303,
            "remaining_time": 26.07727459,
            "test": [
             0.4391310688,
             0.820517548
            ]
           },
           {
            "iteration": 53,
            "learn": [
             0.3547621507
            ],
            "parameters": [
             {
              "iterations": 15,
              "learning_rate": 0.8421052632
             }
            ],
            "passed_time": 4.10431949,
            "remaining_time": 26.2980471,
            "test": [
             0.4305703617,
             0.8313377583
            ]
           },
           {
            "iteration": 54,
            "learn": [
             0.362309776
            ],
            "parameters": [
             {
              "iterations": 15,
              "learning_rate": 0.8947368421
             }
            ],
            "passed_time": 4.233265571,
            "remaining_time": 26.5541204,
            "test": [
             0.4445951194,
             0.8174085
            ]
           },
           {
            "iteration": 55,
            "learn": [
             0.3620965015
            ],
            "parameters": [
             {
              "iterations": 15,
              "learning_rate": 0.9473684211
             }
            ],
            "passed_time": 4.344555982,
            "remaining_time": 26.68798675,
            "test": [
             0.4456429005,
             0.8164974766
            ]
           },
           {
            "iteration": 56,
            "learn": [
             0.350281167
            ],
            "parameters": [
             {
              "iterations": 15,
              "learning_rate": 1
             }
            ],
            "passed_time": 4.459783553,
            "remaining_time": 26.83694314,
            "test": [
             0.4411467353,
             0.8207995315
            ]
           },
           {
            "iteration": 57,
            "learn": [
             0.46097756
            ],
            "parameters": [
             {
              "iterations": 20,
              "learning_rate": 0.05263157895
             }
            ],
            "passed_time": 4.609427203,
            "remaining_time": 27.17972592,
            "test": [
             0.4598650414,
             0.8337273871
            ]
           },
           {
            "iteration": 58,
            "learn": [
             0.4101508429
            ],
            "parameters": [
             {
              "iterations": 20,
              "learning_rate": 0.1052631579
             }
            ],
            "passed_time": 4.750194415,
            "remaining_time": 27.45451349,
            "test": [
             0.4242490167,
             0.8407625121
            ]
           },
           {
            "iteration": 59,
            "learn": [
             0.399258291
            ],
            "parameters": [
             {
              "iterations": 20,
              "learning_rate": 0.1578947368
             }
            ],
            "passed_time": 4.906501259,
            "remaining_time": 27.80350714,
            "test": [
             0.4237257606,
             0.8386078695
            ]
           },
           {
            "iteration": 60,
            "learn": [
             0.3868618367
            ],
            "parameters": [
             {
              "iterations": 20,
              "learning_rate": 0.2105263158
             }
            ],
            "passed_time": 5.066540161,
            "remaining_time": 28.15667401,
            "test": [
             0.4240011136,
             0.8373064075
            ]
           },
           {
            "iteration": 61,
            "learn": [
             0.3894078789
            ],
            "parameters": [
             {
              "iterations": 20,
              "learning_rate": 0.2631578947
             }
            ],
            "passed_time": 5.212950172,
            "remaining_time": 28.41898642,
            "test": [
             0.4233556643,
             0.8380041358
            ]
           },
           {
            "iteration": 62,
            "learn": [
             0.3787089675
            ],
            "parameters": [
             {
              "iterations": 20,
              "learning_rate": 0.3157894737
             }
            ],
            "passed_time": 5.3565704,
            "remaining_time": 28.65340039,
            "test": [
             0.4275884,
             0.8326356051
            ]
           },
           {
            "iteration": 63,
            "learn": [
             0.3810120558
            ],
            "parameters": [
             {
              "iterations": 20,
              "learning_rate": 0.3684210526
             }
            ],
            "passed_time": 5.506222275,
            "remaining_time": 28.90766694,
            "test": [
             0.4277571785,
             0.8323283155
            ]
           },
           {
            "iteration": 64,
            "learn": [
             0.3759445783
            ],
            "parameters": [
             {
              "iterations": 20,
              "learning_rate": 0.4210526316
             }
            ],
            "passed_time": 5.65999643,
            "remaining_time": 29.17075083,
            "test": [
             0.4301411019,
             0.8285866123
            ]
           },
           {
            "iteration": 65,
            "learn": [
             0.3693099635
            ],
            "parameters": [
             {
              "iterations": 20,
              "learning_rate": 0.4736842105
             }
            ],
            "passed_time": 5.800802877,
            "remaining_time": 29.3555782,
            "test": [
             0.4272630409,
             0.831016008
            ]
           },
           {
            "iteration": 66,
            "learn": [
             0.366954839
            ],
            "parameters": [
             {
              "iterations": 20,
              "learning_rate": 0.5263157895
             }
            ],
            "passed_time": 5.958341865,
            "remaining_time": 29.61384838,
            "test": [
             0.4257104103,
             0.8330658106
            ]
           },
           {
            "iteration": 67,
            "learn": [
             0.3591725355
            ],
            "parameters": [
             {
              "iterations": 20,
              "learning_rate": 0.5789473684
             }
            ],
            "passed_time": 6.137926869,
            "remaining_time": 29.9675253,
            "test": [
             0.4311055428,
             0.8290529695
            ]
           },
           {
            "iteration": 68,
            "learn": [
             0.3613262329
            ],
            "parameters": [
             {
              "iterations": 20,
              "learning_rate": 0.6315789474
             }
            ],
            "passed_time": 6.30237263,
            "remaining_time": 30.23312088,
            "test": [
             0.4318697881,
             0.8278021199
            ]
           },
           {
            "iteration": 69,
            "learn": [
             0.34478296
            ],
            "parameters": [
             {
              "iterations": 20,
              "learning_rate": 0.6842105263
             }
            ],
            "passed_time": 6.453239652,
            "remaining_time": 30.4224155,
            "test": [
             0.4284256675,
             0.8317498879
            ]
           },
           {
            "iteration": 70,
            "learn": [
             0.348151017
            ],
            "parameters": [
             {
              "iterations": 20,
              "learning_rate": 0.7368421053
             }
            ],
            "passed_time": 6.609629593,
            "remaining_time": 30.62772023,
            "test": [
             0.4308109881,
             0.8297109308
            ]
           },
           {
            "iteration": 71,
            "learn": [
             0.3387979577
            ],
            "parameters": [
             {
              "iterations": 20,
              "learning_rate": 0.7894736842
             }
            ],
            "passed_time": 6.755934392,
            "remaining_time": 30.77703445,
            "test": [
             0.4391310688,
             0.820517548
            ]
           },
           {
            "iteration": 72,
            "learn": [
             0.3398261951
            ],
            "parameters": [
             {
              "iterations": 20,
              "learning_rate": 0.8421052632
             }
            ],
            "passed_time": 6.902513788,
            "remaining_time": 30.91947957,
            "test": [
             0.4305703617,
             0.8313377583
            ]
           },
           {
            "iteration": 73,
            "learn": [
             0.3439964787
            ],
            "parameters": [
             {
              "iterations": 20,
              "learning_rate": 0.8947368421
             }
            ],
            "passed_time": 7.074313762,
            "remaining_time": 31.16522009,
            "test": [
             0.4445951194,
             0.8174085
            ]
           },
           {
            "iteration": 74,
            "learn": [
             0.3441221097
            ],
            "parameters": [
             {
              "iterations": 20,
              "learning_rate": 0.9473684211
             }
            ],
            "passed_time": 7.228326516,
            "remaining_time": 31.32274824,
            "test": [
             0.4456429005,
             0.8164974766
            ]
           },
           {
            "iteration": 75,
            "learn": [
             0.3374138929
            ],
            "parameters": [
             {
              "iterations": 20,
              "learning_rate": 1
             }
            ],
            "passed_time": 7.383105809,
            "remaining_time": 31.47534582,
            "test": [
             0.4411467353,
             0.8207995315
            ]
           },
           {
            "iteration": 76,
            "learn": [
             0.4404383156
            ],
            "parameters": [
             {
              "iterations": 25,
              "learning_rate": 0.05263157895
             }
            ],
            "passed_time": 7.571698395,
            "remaining_time": 31.76179976,
            "test": [
             0.4423024333,
             0.8392441398
            ]
           },
           {
            "iteration": 77,
            "learn": [
             0.4005758499
            ],
            "parameters": [
             {
              "iterations": 25,
              "learning_rate": 0.1052631579
             }
            ],
            "passed_time": 7.767081758,
            "remaining_time": 32.06410674,
            "test": [
             0.4212598153,
             0.8407625121
            ]
           },
           {
            "iteration": 78,
            "learn": [
             0.3886484609
            ],
            "parameters": [
             {
              "iterations": 25,
              "learning_rate": 0.1578947368
             }
            ],
            "passed_time": 7.928110379,
            "remaining_time": 32.21422065,
            "test": [
             0.4216403994,
             0.8386078695
            ]
           },
           {
            "iteration": 79,
            "learn": [
             0.3823645171
            ],
            "parameters": [
             {
              "iterations": 25,
              "learning_rate": 0.2105263158
             }
            ],
            "passed_time": 8.127653533,
            "remaining_time": 32.51061413,
            "test": [
             0.4240011136,
             0.8373064075
            ]
           },
           {
            "iteration": 80,
            "learn": [
             0.3839021515
            ],
            "parameters": [
             {
              "iterations": 25,
              "learning_rate": 0.2631578947
             }
            ],
            "passed_time": 8.3130853,
            "remaining_time": 32.73918779,
            "test": [
             0.4233556643,
             0.8380041358
            ]
           },
           {
            "iteration": 81,
            "learn": [
             0.3708521294
            ],
            "parameters": [
             {
              "iterations": 25,
              "learning_rate": 0.3157894737
             }
            ],
            "passed_time": 8.480913725,
            "remaining_time": 32.88939713,
            "test": [
             0.4275884,
             0.8326356051
            ]
           },
           {
            "iteration": 82,
            "learn": [
             0.372727976
            ],
            "parameters": [
             {
              "iterations": 25,
              "learning_rate": 0.3684210526
             }
            ],
            "passed_time": 8.668123898,
            "remaining_time": 33.10596718,
            "test": [
             0.4277571785,
             0.8323283155
            ]
           },
           {
            "iteration": 83,
            "learn": [
             0.3690386
            ],
            "parameters": [
             {
              "iterations": 25,
              "learning_rate": 0.4210526316
             }
            ],
            "passed_time": 8.854335609,
            "remaining_time": 33.30916729,
            "test": [
             0.4301411019,
             0.8285866123
            ]
           },
           {
            "iteration": 84,
            "learn": [
             0.3592703004
            ],
            "parameters": [
             {
              "iterations": 25,
              "learning_rate": 0.4736842105
             }
            ],
            "passed_time": 9.031708074,
            "remaining_time": 33.47044757,
            "test": [
             0.4272630409,
             0.831016008
            ]
           },
           {
            "iteration": 85,
            "learn": [
             0.3467616609
            ],
            "parameters": [
             {
              "iterations": 25,
              "learning_rate": 0.5263157895
             }
            ],
            "passed_time": 9.244777298,
            "remaining_time": 33.75418688,
            "test": [
             0.4257104103,
             0.8330658106
            ]
           },
           {
            "iteration": 86,
            "learn": [
             0.347598415
            ],
            "parameters": [
             {
              "iterations": 25,
              "learning_rate": 0.5789473684
             }
            ],
            "passed_time": 9.426036978,
            "remaining_time": 33.91206407,
            "test": [
             0.4311055428,
             0.8290529695
            ]
           },
           {
            "iteration": 87,
            "learn": [
             0.3447211713
            ],
            "parameters": [
             {
              "iterations": 25,
              "learning_rate": 0.6315789474
             }
            ],
            "passed_time": 9.606615638,
            "remaining_time": 34.05981908,
            "test": [
             0.4318697881,
             0.8278021199
            ]
           },
           {
            "iteration": 88,
            "learn": [
             0.333167089
            ],
            "parameters": [
             {
              "iterations": 25,
              "learning_rate": 0.6842105263
             }
            ],
            "passed_time": 9.815681177,
            "remaining_time": 34.29973984,
            "test": [
             0.4284256675,
             0.8317498879
            ]
           },
           {
            "iteration": 89,
            "learn": [
             0.3274060275
            ],
            "parameters": [
             {
              "iterations": 25,
              "learning_rate": 0.7368421053
             }
            ],
            "passed_time": 10.00769721,
            "remaining_time": 34.47095707,
            "test": [
             0.4308109881,
             0.8297109308
            ]
           },
           {
            "iteration": 90,
            "learn": [
             0.3188360005
            ],
            "parameters": [
             {
              "iterations": 25,
              "learning_rate": 0.7894736842
             }
            ],
            "passed_time": 10.32490419,
            "remaining_time": 35.05929006,
            "test": [
             0.4391310688,
             0.820517548
            ]
           },
           {
            "iteration": 91,
            "learn": [
             0.32793689
            ],
            "parameters": [
             {
              "iterations": 25,
              "learning_rate": 0.8421052632
             }
            ],
            "passed_time": 10.513461,
            "remaining_time": 35.19723899,
            "test": [
             0.4305703617,
             0.8313377583
            ]
           },
           {
            "iteration": 92,
            "learn": [
             0.3231835294
            ],
            "parameters": [
             {
              "iterations": 25,
              "learning_rate": 0.8947368421
             }
            ],
            "passed_time": 10.70095615,
            "remaining_time": 35.3246617,
            "test": [
             0.4445951194,
             0.8174085
            ]
           },
           {
            "iteration": 93,
            "learn": [
             0.3273698068
            ],
            "parameters": [
             {
              "iterations": 25,
              "learning_rate": 0.9473684211
             }
            ],
            "passed_time": 10.8746403,
            "remaining_time": 35.40042481,
            "test": [
             0.4456429005,
             0.8164974766
            ]
           },
           {
            "iteration": 94,
            "learn": [
             0.3203727712
            ],
            "parameters": [
             {
              "iterations": 25,
              "learning_rate": 1
             }
            ],
            "passed_time": 11.07458462,
            "remaining_time": 35.55524537,
            "test": [
             0.4411467353,
             0.8207995315
            ]
           },
           {
            "iteration": 95,
            "learn": [
             0.4269887025
            ],
            "parameters": [
             {
              "iterations": 30,
              "learning_rate": 0.05263157895
             }
            ],
            "passed_time": 11.33151122,
            "remaining_time": 35.88311885,
            "test": [
             0.4327389658,
             0.8401804694
            ]
           },
           {
            "iteration": 96,
            "learn": [
             0.3946331351
            ],
            "parameters": [
             {
              "iterations": 30,
              "learning_rate": 0.1052631579
             }
            ],
            "passed_time": 11.55365467,
            "remaining_time": 36.09028211,
            "test": [
             0.4199361562,
             0.8407625121
            ]
           },
           {
            "iteration": 97,
            "learn": [
             0.3849388998
            ],
            "parameters": [
             {
              "iterations": 30,
              "learning_rate": 0.1578947368
             }
            ],
            "passed_time": 11.75890814,
            "remaining_time": 36.23663528,
            "test": [
             0.4214025611,
             0.8386078695
            ]
           },
           {
            "iteration": 98,
            "learn": [
             0.3791182142
            ],
            "parameters": [
             {
              "iterations": 30,
              "learning_rate": 0.2105263158
             }
            ],
            "passed_time": 11.97566027,
            "remaining_time": 36.41084588,
            "test": [
             0.4240011136,
             0.8373064075
            ]
           },
           {
            "iteration": 99,
            "learn": [
             0.3799381364
            ],
            "parameters": [
             {
              "iterations": 30,
              "learning_rate": 0.2631578947
             }
            ],
            "passed_time": 12.22031503,
            "remaining_time": 36.66094509,
            "test": [
             0.4233556643,
             0.8380041358
            ]
           },
           {
            "iteration": 100,
            "learn": [
             0.3623995781
            ],
            "parameters": [
             {
              "iterations": 30,
              "learning_rate": 0.3157894737
             }
            ],
            "passed_time": 12.43506612,
            "remaining_time": 36.8127205,
            "test": [
             0.4275884,
             0.8326356051
            ]
           },
           {
            "iteration": 101,
            "learn": [
             0.3661246619
            ],
            "parameters": [
             {
              "iterations": 30,
              "learning_rate": 0.3684210526
             }
            ],
            "passed_time": 12.66149843,
            "remaining_time": 36.99143659,
            "test": [
             0.4277571785,
             0.8323283155
            ]
           },
           {
            "iteration": 102,
            "learn": [
             0.3531558479
            ],
            "parameters": [
             {
              "iterations": 30,
              "learning_rate": 0.4210526316
             }
            ],
            "passed_time": 12.87198428,
            "remaining_time": 37.11630419,
            "test": [
             0.4301411019,
             0.8285866123
            ]
           },
           {
            "iteration": 103,
            "learn": [
             0.3491712579
            ],
            "parameters": [
             {
              "iterations": 30,
              "learning_rate": 0.4736842105
             }
            ],
            "passed_time": 13.09034111,
            "remaining_time": 37.2571247,
            "test": [
             0.4272630409,
             0.831016008
            ]
           },
           {
            "iteration": 104,
            "learn": [
             0.3411000376
            ],
            "parameters": [
             {
              "iterations": 30,
              "learning_rate": 0.5263157895
             }
            ],
            "passed_time": 13.34475776,
            "remaining_time": 37.49241466,
            "test": [
             0.4257104103,
             0.8330658106
            ]
           },
           {
            "iteration": 105,
            "learn": [
             0.3387106615
            ],
            "parameters": [
             {
              "iterations": 30,
              "learning_rate": 0.5789473684
             }
            ],
            "passed_time": 13.56273721,
            "remaining_time": 37.61740319,
            "test": [
             0.4311055428,
             0.8290529695
            ]
           },
           {
            "iteration": 106,
            "learn": [
             0.3338528826
            ],
            "parameters": [
             {
              "iterations": 30,
              "learning_rate": 0.6315789474
             }
            ],
            "passed_time": 13.79268976,
            "remaining_time": 37.76876728,
            "test": [
             0.4318697881,
             0.8278021199
            ]
           },
           {
            "iteration": 107,
            "learn": [
             0.3181575488
            ],
            "parameters": [
             {
              "iterations": 30,
              "learning_rate": 0.6842105263
             }
            ],
            "passed_time": 14.02142978,
            "remaining_time": 37.90979163,
            "test": [
             0.4284256675,
             0.8317498879
            ]
           },
           {
            "iteration": 108,
            "learn": [
             0.3191179074
            ],
            "parameters": [
             {
              "iterations": 30,
              "learning_rate": 0.7368421053
             }
            ],
            "passed_time": 14.27353795,
            "remaining_time": 38.10641782,
            "test": [
             0.4308109881,
             0.8297109308
            ]
           },
           {
            "iteration": 109,
            "learn": [
             0.3056119139
            ],
            "parameters": [
             {
              "iterations": 30,
              "learning_rate": 0.7894736842
             }
            ],
            "passed_time": 14.5008702,
            "remaining_time": 38.2295669,
            "test": [
             0.4391310688,
             0.820517548
            ]
           },
           {
            "iteration": 110,
            "learn": [
             0.3100937742
            ],
            "parameters": [
             {
              "iterations": 30,
              "learning_rate": 0.8421052632
             }
            ],
            "passed_time": 14.72367479,
            "remaining_time": 38.33461275,
            "test": [
             0.4305703617,
             0.8313377583
            ]
           },
           {
            "iteration": 111,
            "learn": [
             0.3024708165
            ],
            "parameters": [
             {
              "iterations": 30,
              "learning_rate": 0.8947368421
             }
            ],
            "passed_time": 14.94277674,
            "remaining_time": 38.42428304,
            "test": [
             0.4445951194,
             0.8174085
            ]
           },
           {
            "iteration": 112,
            "learn": [
             0.3135121905
            ],
            "parameters": [
             {
              "iterations": 30,
              "learning_rate": 0.9473684211
             }
            ],
            "passed_time": 15.16077607,
            "remaining_time": 38.5056879,
            "test": [
             0.4456429005,
             0.8164974766
            ]
           },
           {
            "iteration": 113,
            "learn": [
             0.3044659677
            ],
            "parameters": [
             {
              "iterations": 30,
              "learning_rate": 1
             }
            ],
            "passed_time": 15.42248482,
            "remaining_time": 38.69149699,
            "test": [
             0.4411467353,
             0.8207995315
            ]
           },
           {
            "iteration": 114,
            "learn": [
             0.4197362526
            ],
            "parameters": [
             {
              "iterations": 35,
              "learning_rate": 0.05263157895
             }
            ],
            "passed_time": 15.6883837,
            "remaining_time": 38.87990743,
            "test": [
             0.4296624356,
             0.8401804694
            ]
           },
           {
            "iteration": 115,
            "learn": [
             0.3900409048
            ],
            "parameters": [
             {
              "iterations": 35,
              "learning_rate": 0.1052631579
             }
            ],
            "passed_time": 15.94118126,
            "remaining_time": 39.0284093,
            "test": [
             0.4199361562,
             0.8407625121
            ]
           },
           {
            "iteration": 116,
            "learn": [
             0.3829725392
            ],
            "parameters": [
             {
              "iterations": 35,
              "learning_rate": 0.1578947368
             }
            ],
            "passed_time": 16.19270139,
            "remaining_time": 39.16696148,
            "test": [
             0.4214025611,
             0.8386078695
            ]
           },
           {
            "iteration": 117,
            "learn": [
             0.3726464849
            ],
            "parameters": [
             {
              "iterations": 35,
              "learning_rate": 0.2105263158
             }
            ],
            "passed_time": 16.47879923,
            "remaining_time": 39.38153714,
            "test": [
             0.4240011136,
             0.8373064075
            ]
           },
           {
            "iteration": 118,
            "learn": [
             0.3777477275
            ],
            "parameters": [
             {
              "iterations": 35,
              "learning_rate": 0.2631578947
             }
            ],
            "passed_time": 16.7281784,
            "remaining_time": 39.5009927,
            "test": [
             0.4233556643,
             0.8380041358
            ]
           },
           {
            "iteration": 119,
            "learn": [
             0.3598148244
            ],
            "parameters": [
             {
              "iterations": 35,
              "learning_rate": 0.3157894737
             }
            ],
            "passed_time": 16.9885639,
            "remaining_time": 39.63998244,
            "test": [
             0.4275884,
             0.8326356051
            ]
           },
           {
            "iteration": 120,
            "learn": [
             0.3569143694
            ],
            "parameters": [
             {
              "iterations": 35,
              "learning_rate": 0.3684210526
             }
            ],
            "passed_time": 17.28597065,
            "remaining_time": 39.85773399,
            "test": [
             0.4277571785,
             0.8323283155
            ]
           },
           {
            "iteration": 121,
            "learn": [
             0.3451843292
            ],
            "parameters": [
             {
              "iterations": 35,
              "learning_rate": 0.4210526316
             }
            ],
            "passed_time": 17.54588403,
            "remaining_time": 39.9816046,
            "test": [
             0.4301411019,
             0.8285866123
            ]
           },
           {
            "iteration": 122,
            "learn": [
             0.3409192885
            ],
            "parameters": [
             {
              "iterations": 35,
              "learning_rate": 0.4736842105
             }
            ],
            "passed_time": 17.81223024,
            "remaining_time": 40.11372177,
            "test": [
             0.4272630409,
             0.831016008
            ]
           },
           {
            "iteration": 123,
            "learn": [
             0.3241416421
            ],
            "parameters": [
             {
              "iterations": 35,
              "learning_rate": 0.5263157895
             }
            ],
            "passed_time": 18.08207956,
            "remaining_time": 40.24720934,
            "test": [
             0.4257104103,
             0.8330658106
            ]
           },
           {
            "iteration": 124,
            "learn": [
             0.3233578569
            ],
            "parameters": [
             {
              "iterations": 35,
              "learning_rate": 0.5789473684
             }
            ],
            "passed_time": 18.3586679,
            "remaining_time": 40.38906938,
            "test": [
             0.4311055428,
             0.8290529695
            ]
           },
           {
            "iteration": 125,
            "learn": [
             0.3201979309
            ],
            "parameters": [
             {
              "iterations": 35,
              "learning_rate": 0.6315789474
             }
            ],
            "passed_time": 18.6256466,
            "remaining_time": 40.50339023,
            "test": [
             0.4318697881,
             0.8278021199
            ]
           },
           {
            "iteration": 126,
            "learn": [
             0.3068314234
            ],
            "parameters": [
             {
              "iterations": 35,
              "learning_rate": 0.6842105263
             }
            ],
            "passed_time": 18.90400042,
            "remaining_time": 40.63615837,
            "test": [
             0.4284256675,
             0.8317498879
            ]
           },
           {
            "iteration": 127,
            "learn": [
             0.3064285134
            ],
            "parameters": [
             {
              "iterations": 35,
              "learning_rate": 0.7368421053
             }
            ],
            "passed_time": 19.15935924,
            "remaining_time": 40.71363839,
            "test": [
             0.4308109881,
             0.8297109308
            ]
           },
           {
            "iteration": 128,
            "learn": [
             0.2956534894
            ],
            "parameters": [
             {
              "iterations": 35,
              "learning_rate": 0.7894736842
             }
            ],
            "passed_time": 19.43689633,
            "remaining_time": 40.83254966,
            "test": [
             0.4391310688,
             0.820517548
            ]
           },
           {
            "iteration": 129,
            "learn": [
             0.2956883747
            ],
            "parameters": [
             {
              "iterations": 35,
              "learning_rate": 0.8421052632
             }
            ],
            "passed_time": 19.70328538,
            "remaining_time": 40.9222081,
            "test": [
             0.4305703617,
             0.8313377583
            ]
           },
           {
            "iteration": 130,
            "learn": [
             0.2935047339
            ],
            "parameters": [
             {
              "iterations": 35,
              "learning_rate": 0.8947368421
             }
            ],
            "passed_time": 19.96774804,
            "remaining_time": 41.00247499,
            "test": [
             0.4445951194,
             0.8174085
            ]
           },
           {
            "iteration": 131,
            "learn": [
             0.3022224874
            ],
            "parameters": [
             {
              "iterations": 35,
              "learning_rate": 0.9473684211
             }
            ],
            "passed_time": 20.22464952,
            "remaining_time": 41.0621672,
            "test": [
             0.4456429005,
             0.8164974766
            ]
           },
           {
            "iteration": 132,
            "learn": [
             0.2932466007
            ],
            "parameters": [
             {
              "iterations": 35,
              "learning_rate": 1
             }
            ],
            "passed_time": 20.50918687,
            "remaining_time": 41.17257815,
            "test": [
             0.4411467353,
             0.8207995315
            ]
           },
           {
            "iteration": 133,
            "learn": [
             0.4105604266
            ],
            "parameters": [
             {
              "iterations": 40,
              "learning_rate": 0.05263157895
             }
            ],
            "passed_time": 20.82229764,
            "remaining_time": 41.33381472,
            "test": [
             0.425147205,
             0.8401804694
            ]
           },
           {
            "iteration": 134,
            "learn": [
             0.3870702127
            ],
            "parameters": [
             {
              "iterations": 40,
              "learning_rate": 0.1052631579
             }
            ],
            "passed_time": 21.11350072,
            "remaining_time": 41.44501993,
            "test": [
             0.4199361562,
             0.8407625121
            ]
           },
           {
            "iteration": 135,
            "learn": [
             0.3786546867
            ],
            "parameters": [
             {
              "iterations": 40,
              "learning_rate": 0.1578947368
             }
            ],
            "passed_time": 21.42695723,
            "remaining_time": 41.59350522,
            "test": [
             0.4214025611,
             0.8386078695
            ]
           },
           {
            "iteration": 136,
            "learn": [
             0.370333267
            ],
            "parameters": [
             {
              "iterations": 40,
              "learning_rate": 0.2105263158
             }
            ],
            "passed_time": 21.72346749,
            "remaining_time": 41.70271497,
            "test": [
             0.4240011136,
             0.8373064075
            ]
           },
           {
            "iteration": 137,
            "learn": [
             0.3719044402
            ],
            "parameters": [
             {
              "iterations": 40,
              "learning_rate": 0.2631578947
             }
            ],
            "passed_time": 22.00073915,
            "remaining_time": 41.76951925,
            "test": [
             0.4233556643,
             0.8380041358
            ]
           },
           {
            "iteration": 138,
            "learn": [
             0.3555142566
            ],
            "parameters": [
             {
              "iterations": 40,
              "learning_rate": 0.3157894737
             }
            ],
            "passed_time": 22.28043103,
            "remaining_time": 41.83591725,
            "test": [
             0.4275884,
             0.8326356051
            ]
           },
           {
            "iteration": 139,
            "learn": [
             0.3489754934
            ],
            "parameters": [
             {
              "iterations": 40,
              "learning_rate": 0.3684210526
             }
            ],
            "passed_time": 22.60002824,
            "remaining_time": 41.97148102,
            "test": [
             0.4277571785,
             0.8323283155
            ]
           },
           {
            "iteration": 140,
            "learn": [
             0.3348321875
            ],
            "parameters": [
             {
              "iterations": 40,
              "learning_rate": 0.4210526316
             }
            ],
            "passed_time": 22.91187022,
            "remaining_time": 42.08634317,
            "test": [
             0.4301411019,
             0.8285866123
            ]
           },
           {
            "iteration": 141,
            "learn": [
             0.3241702783
            ],
            "parameters": [
             {
              "iterations": 40,
              "learning_rate": 0.4736842105
             }
            ],
            "passed_time": 23.20445281,
            "remaining_time": 42.16020299,
            "test": [
             0.4272630409,
             0.831016008
            ]
           },
           {
            "iteration": 142,
            "learn": [
             0.3116181393
            ],
            "parameters": [
             {
              "iterations": 40,
              "learning_rate": 0.5263157895
             }
            ],
            "passed_time": 23.52611818,
            "remaining_time": 42.28120541,
            "test": [
             0.4257104103,
             0.8330658106
            ]
           },
           {
            "iteration": 143,
            "learn": [
             0.3163371538
            ],
            "parameters": [
             {
              "iterations": 40,
              "learning_rate": 0.5789473684
             }
            ],
            "passed_time": 23.84303119,
            "remaining_time": 42.387611,
            "test": [
             0.4311055428,
             0.8290529695
            ]
           },
           {
            "iteration": 144,
            "learn": [
             0.3085329673
            ],
            "parameters": [
             {
              "iterations": 40,
              "learning_rate": 0.6315789474
             }
            ],
            "passed_time": 24.14855152,
            "remaining_time": 42.46814232,
            "test": [
             0.4318697881,
             0.8278021199
            ]
           },
           {
            "iteration": 145,
            "learn": [
             0.2967952923
            ],
            "parameters": [
             {
              "iterations": 40,
              "learning_rate": 0.6842105263
             }
            ],
            "passed_time": 24.46811541,
            "remaining_time": 42.56781723,
            "test": [
             0.4284256675,
             0.8317498879
            ]
           },
           {
            "iteration": 146,
            "learn": [
             0.2934923262
            ],
            "parameters": [
             {
              "iterations": 40,
              "learning_rate": 0.7368421053
             }
            ],
            "passed_time": 24.78716454,
            "remaining_time": 42.66090224,
            "test": [
             0.4308109881,
             0.8297109308
            ]
           },
           {
            "iteration": 147,
            "learn": [
             0.2826916835
            ],
            "parameters": [
             {
              "iterations": 40,
              "learning_rate": 0.7894736842
             }
            ],
            "passed_time": 25.07693117,
            "remaining_time": 42.69855848,
            "test": [
             0.4391310688,
             0.820517548
            ]
           },
           {
            "iteration": 148,
            "learn": [
             0.2804848133
            ],
            "parameters": [
             {
              "iterations": 40,
              "learning_rate": 0.8421052632
             }
            ],
            "passed_time": 25.36676195,
            "remaining_time": 42.73192786,
            "test": [
             0.4305703617,
             0.8313377583
            ]
           },
           {
            "iteration": 149,
            "learn": [
             0.2742667001
            ],
            "parameters": [
             {
              "iterations": 40,
              "learning_rate": 0.8947368421
             }
            ],
            "passed_time": 25.7153047,
            "remaining_time": 42.85884117,
            "test": [
             0.4445951194,
             0.8174085
            ]
           },
           {
            "iteration": 150,
            "learn": [
             0.2925882798
            ],
            "parameters": [
             {
              "iterations": 40,
              "learning_rate": 0.9473684211
             }
            ],
            "passed_time": 26.01392917,
            "remaining_time": 42.89714147,
            "test": [
             0.4456429005,
             0.8164974766
            ]
           },
           {
            "iteration": 151,
            "learn": [
             0.2742318791
            ],
            "parameters": [
             {
              "iterations": 40,
              "learning_rate": 1
             }
            ],
            "passed_time": 26.3326377,
            "remaining_time": 42.9637773,
            "test": [
             0.4411467353,
             0.8207995315
            ]
           },
           {
            "iteration": 152,
            "learn": [
             0.4049782497
            ],
            "parameters": [
             {
              "iterations": 45,
              "learning_rate": 0.05263157895
             }
            ],
            "passed_time": 26.7218242,
            "remaining_time": 43.1391541,
            "test": [
             0.4240423465,
             0.8401804694
            ]
           },
           {
            "iteration": 153,
            "learn": [
             0.3837827862
            ],
            "parameters": [
             {
              "iterations": 45,
              "learning_rate": 0.1052631579
             }
            ],
            "passed_time": 27.0397577,
            "remaining_time": 43.19337918,
            "test": [
             0.4199361562,
             0.8407625121
            ]
           },
           {
            "iteration": 154,
            "learn": [
             0.3749266248
            ],
            "parameters": [
             {
              "iterations": 45,
              "learning_rate": 0.1578947368
             }
            ],
            "passed_time": 27.34902434,
            "remaining_time": 43.22910299,
            "test": [
             0.4214025611,
             0.8386078695
            ]
           },
           {
            "iteration": 155,
            "learn": [
             0.3663362375
            ],
            "parameters": [
             {
              "iterations": 45,
              "learning_rate": 0.2105263158
             }
            ],
            "passed_time": 27.69445162,
            "remaining_time": 43.31696279,
            "test": [
             0.4240011136,
             0.8373064075
            ]
           },
           {
            "iteration": 156,
            "learn": [
             0.3645265221
            ],
            "parameters": [
             {
              "iterations": 45,
              "learning_rate": 0.2631578947
             }
            ],
            "passed_time": 28.03780432,
            "remaining_time": 43.39609204,
            "test": [
             0.4233556643,
             0.8380041358
            ]
           },
           {
            "iteration": 157,
            "learn": [
             0.3503839165
            ],
            "parameters": [
             {
              "iterations": 45,
              "learning_rate": 0.3157894737
             }
            ],
            "passed_time": 28.34531231,
            "remaining_time": 43.41497202,
            "test": [
             0.4275884,
             0.8326356051
            ]
           },
           {
            "iteration": 158,
            "learn": [
             0.3404810421
            ],
            "parameters": [
             {
              "iterations": 45,
              "learning_rate": 0.3684210526
             }
            ],
            "passed_time": 28.70971866,
            "remaining_time": 43.51598866,
            "test": [
             0.4277571785,
             0.8323283155
            ]
           },
           {
            "iteration": 159,
            "learn": [
             0.3241189061
            ],
            "parameters": [
             {
              "iterations": 45,
              "learning_rate": 0.4210526316
             }
            ],
            "passed_time": 29.07855229,
            "remaining_time": 43.61782843,
            "test": [
             0.4301411019,
             0.8285866123
            ]
           },
           {
            "iteration": 160,
            "learn": [
             0.3158765734
            ],
            "parameters": [
             {
              "iterations": 45,
              "learning_rate": 0.4736842105
             }
            ],
            "passed_time": 29.41433984,
            "remaining_time": 43.66476535,
            "test": [
             0.4272630409,
             0.831016008
            ]
           },
           {
            "iteration": 161,
            "learn": [
             0.2987687024
            ],
            "parameters": [
             {
              "iterations": 45,
              "learning_rate": 0.5263157895
             }
            ],
            "passed_time": 29.79138021,
            "remaining_time": 43.76758328,
            "test": [
             0.4257104103,
             0.8330658106
            ]
           },
           {
            "iteration": 162,
            "learn": [
             0.3085879467
            ],
            "parameters": [
             {
              "iterations": 45,
              "learning_rate": 0.5789473684
             }
            ],
            "passed_time": 30.1380437,
            "remaining_time": 43.82034575,
            "test": [
             0.4311055428,
             0.8290529695
            ]
           },
           {
            "iteration": 163,
            "learn": [
             0.2973151591
            ],
            "parameters": [
             {
              "iterations": 45,
              "learning_rate": 0.6315789474
             }
            ],
            "passed_time": 30.4836727,
            "remaining_time": 43.86674851,
            "test": [
             0.4318697881,
             0.8278021199
            ]
           },
           {
            "iteration": 164,
            "learn": [
             0.2847020384
            ],
            "parameters": [
             {
              "iterations": 45,
              "learning_rate": 0.6842105263
             }
            ],
            "passed_time": 30.85207295,
            "remaining_time": 43.94083117,
            "test": [
             0.4284256675,
             0.8317498879
            ]
           },
           {
            "iteration": 165,
            "learn": [
             0.2824122923
            ],
            "parameters": [
             {
              "iterations": 45,
              "learning_rate": 0.7368421053
             }
            ],
            "passed_time": 31.21411243,
            "remaining_time": 44.00061631,
            "test": [
             0.4308109881,
             0.8297109308
            ]
           },
           {
            "iteration": 166,
            "learn": [
             0.2695540081
            ],
            "parameters": [
             {
              "iterations": 45,
              "learning_rate": 0.7894736842
             }
            ],
            "passed_time": 31.57999094,
            "remaining_time": 44.06070592,
            "test": [
             0.4391310688,
             0.820517548
            ]
           },
           {
            "iteration": 167,
            "learn": [
             0.2684116217
            ],
            "parameters": [
             {
              "iterations": 45,
              "learning_rate": 0.8421052632
             }
            ],
            "passed_time": 31.93274121,
            "remaining_time": 44.097595,
            "test": [
             0.4305703617,
             0.8313377583
            ]
           },
           {
            "iteration": 168,
            "learn": [
             0.2605844625
            ],
            "parameters": [
             {
              "iterations": 45,
              "learning_rate": 0.8947368421
             }
            ],
            "passed_time": 32.2822048,
            "remaining_time": 44.12538053,
            "test": [
             0.4445951194,
             0.8174085
            ]
           },
           {
            "iteration": 169,
            "learn": [
             0.2742016578
            ],
            "parameters": [
             {
              "iterations": 45,
              "learning_rate": 0.9473684211
             }
            ],
            "passed_time": 32.66669936,
            "remaining_time": 44.19612267,
            "test": [
             0.4456429005,
             0.8164974766
            ]
           },
           {
            "iteration": 170,
            "learn": [
             0.2590495513
            ],
            "parameters": [
             {
              "iterations": 45,
              "learning_rate": 1
             }
            ],
            "passed_time": 33.02913289,
            "remaining_time": 44.23199668,
            "test": [
             0.4411467353,
             0.8207995315
            ]
           },
           {
            "iteration": 171,
            "learn": [
             0.4001276479
            ],
            "parameters": [
             {
              "iterations": 50,
              "learning_rate": 0.05263157895
             }
            ],
            "passed_time": 33.39173225,
            "remaining_time": 44.26345903,
            "test": [
             0.4228480265,
             0.8401804694
            ]
           },
           {
            "iteration": 172,
            "learn": [
             0.382491813
            ],
            "parameters": [
             {
              "iterations": 50,
              "learning_rate": 0.1052631579
             }
            ],
            "passed_time": 33.78034942,
            "remaining_time": 44.32450473,
            "test": [
             0.4199361562,
             0.8407625121
            ]
           },
           {
            "iteration": 173,
            "learn": [
             0.373034043
            ],
            "parameters": [
             {
              "iterations": 50,
              "learning_rate": 0.1578947368
             }
            ],
            "passed_time": 34.14502722,
            "remaining_time": 44.34928823,
            "test": [
             0.4214025611,
             0.8386078695
            ]
           },
           {
            "iteration": 174,
            "learn": [
             0.3619558218
            ],
            "parameters": [
             {
              "iterations": 50,
              "learning_rate": 0.2105263158
             }
            ],
            "passed_time": 34.50536666,
            "remaining_time": 44.36404284,
            "test": [
             0.4240011136,
             0.8373064075
            ]
           },
           {
            "iteration": 175,
            "learn": [
             0.3585986927
            ],
            "parameters": [
             {
              "iterations": 50,
              "learning_rate": 0.2631578947
             }
            ],
            "passed_time": 34.88941896,
            "remaining_time": 44.40471504,
            "test": [
             0.4233556643,
             0.8380041358
            ]
           },
           {
            "iteration": 176,
            "learn": [
             0.3434719853
            ],
            "parameters": [
             {
              "iterations": 50,
              "learning_rate": 0.3157894737
             }
            ],
            "passed_time": 35.25688251,
            "remaining_time": 44.41968813,
            "test": [
             0.4275884,
             0.8326934479
            ]
           },
           {
            "iteration": 177,
            "learn": [
             0.3319394894
            ],
            "parameters": [
             {
              "iterations": 50,
              "learning_rate": 0.3684210526
             }
            ],
            "passed_time": 35.67640219,
            "remaining_time": 44.49528813,
            "test": [
             0.4277571785,
             0.8323283155
            ]
           },
           {
            "iteration": 178,
            "learn": [
             0.3169768275
            ],
            "parameters": [
             {
              "iterations": 50,
              "learning_rate": 0.4210526316
             }
            ],
            "passed_time": 36.06852847,
            "remaining_time": 44.53153515,
            "test": [
             0.4301411019,
             0.8285866123
            ]
           },
           {
            "iteration": 179,
            "learn": [
             0.3082863183
            ],
            "parameters": [
             {
              "iterations": 50,
              "learning_rate": 0.4736842105
             }
            ],
            "passed_time": 36.4302097,
            "remaining_time": 44.52581186,
            "test": [
             0.4272630409,
             0.831016008
            ]
           },
           {
            "iteration": 180,
            "learn": [
             0.2898684149
            ],
            "parameters": [
             {
              "iterations": 50,
              "learning_rate": 0.5263157895
             }
            ],
            "passed_time": 36.83427853,
            "remaining_time": 44.56744198,
            "test": [
             0.4257104103,
             0.8330658106
            ]
           },
           {
            "iteration": 181,
            "learn": [
             0.296349633
            ],
            "parameters": [
             {
              "iterations": 50,
              "learning_rate": 0.5789473684
             }
            ],
            "passed_time": 37.21138034,
            "remaining_time": 44.57187316,
            "test": [
             0.4311055428,
             0.8290529695
            ]
           },
           {
            "iteration": 182,
            "learn": [
             0.288217271
            ],
            "parameters": [
             {
              "iterations": 50,
              "learning_rate": 0.6315789474
             }
            ],
            "passed_time": 37.59676542,
            "remaining_time": 44.58195681,
            "test": [
             0.4318697881,
             0.8278021199
            ]
           },
           {
            "iteration": 183,
            "learn": [
             0.2706807281
            ],
            "parameters": [
             {
              "iterations": 50,
              "learning_rate": 0.6842105263
             }
            ],
            "passed_time": 38.01906421,
            "remaining_time": 44.63107538,
            "test": [
             0.4284256675,
             0.8317498879
            ]
           },
           {
            "iteration": 184,
            "learn": [
             0.2661325436
            ],
            "parameters": [
             {
              "iterations": 50,
              "learning_rate": 0.7368421053
             }
            ],
            "passed_time": 38.39270642,
            "remaining_time": 44.6185507,
            "test": [
             0.4308109881,
             0.8297109308
            ]
           },
           {
            "iteration": 185,
            "learn": [
             0.255986765
            ],
            "parameters": [
             {
              "iterations": 50,
              "learning_rate": 0.7894736842
             }
            ],
            "passed_time": 38.80913681,
            "remaining_time": 44.65137246,
            "test": [
             0.4391310688,
             0.820517548
            ]
           },
           {
            "iteration": 186,
            "learn": [
             0.2562451626
            ],
            "parameters": [
             {
              "iterations": 50,
              "learning_rate": 0.8421052632
             }
            ],
            "passed_time": 39.19539898,
            "remaining_time": 44.64502665,
            "test": [
             0.4305703617,
             0.8313377583
            ]
           },
           {
            "iteration": 187,
            "learn": [
             0.2485248953
            ],
            "parameters": [
             {
              "iterations": 50,
              "learning_rate": 0.8947368421
             }
            ],
            "passed_time": 39.57775358,
            "remaining_time": 44.63023277,
            "test": [
             0.4445951194,
             0.8174085
            ]
           },
           {
            "iteration": 188,
            "learn": [
             0.2592031368
            ],
            "parameters": [
             {
              "iterations": 50,
              "learning_rate": 0.9473684211
             }
            ],
            "passed_time": 40.00634401,
            "remaining_time": 44.66316712,
            "test": [
             0.4456429005,
             0.8164974766
            ]
           },
           {
            "iteration": 189,
            "learn": [
             0.2433980083
            ],
            "parameters": [
             {
              "iterations": 50,
              "learning_rate": 1
             }
            ],
            "passed_time": 40.36948666,
            "remaining_time": 44.61890631,
            "test": [
             0.4411467353,
             0.8207995315
            ]
           },
           {
            "iteration": 190,
            "learn": [
             0.396196665
            ],
            "parameters": [
             {
              "iterations": 55,
              "learning_rate": 0.05263157895
             }
            ],
            "passed_time": 40.8205336,
            "remaining_time": 44.66749488,
            "test": [
             0.4219755619,
             0.8401804694
            ]
           },
           {
            "iteration": 191,
            "learn": [
             0.3804437929
            ],
            "parameters": [
             {
              "iterations": 55,
              "learning_rate": 0.1052631579
             }
            ],
            "passed_time": 41.20257616,
            "remaining_time": 44.63612417,
            "test": [
             0.4199361562,
             0.8407625121
            ]
           },
           {
            "iteration": 192,
            "learn": [
             0.369704963
            ],
            "parameters": [
             {
              "iterations": 55,
              "learning_rate": 0.1578947368
             }
            ],
            "passed_time": 41.58737171,
            "remaining_time": 44.60407225,
            "test": [
             0.4214025611,
             0.8386078695
            ]
           },
           {
            "iteration": 193,
            "learn": [
             0.3569816549
            ],
            "parameters": [
             {
              "iterations": 55,
              "learning_rate": 0.2105263158
             }
            ],
            "passed_time": 42.01485341,
            "remaining_time": 44.61371032,
            "test": [
             0.4240011136,
             0.8373064075
            ]
           },
           {
            "iteration": 194,
            "learn": [
             0.349601293
            ],
            "parameters": [
             {
              "iterations": 55,
              "learning_rate": 0.2631578947
             }
            ],
            "passed_time": 42.42448509,
            "remaining_time": 44.60009971,
            "test": [
             0.4233556643,
             0.8380041358
            ]
           },
           {
            "iteration": 195,
            "learn": [
             0.3374626281
            ],
            "parameters": [
             {
              "iterations": 55,
              "learning_rate": 0.3157894737
             }
            ],
            "passed_time": 42.85135172,
            "remaining_time": 44.60038649,
            "test": [
             0.4275884,
             0.8326934479
            ]
           },
           {
            "iteration": 196,
            "learn": [
             0.3230676291
            ],
            "parameters": [
             {
              "iterations": 55,
              "learning_rate": 0.3684210526
             }
            ],
            "passed_time": 43.26912066,
            "remaining_time": 44.5869619,
            "test": [
             0.4277571785,
             0.8323283155
            ]
           },
           {
            "iteration": 197,
            "learn": [
             0.3078503836
            ],
            "parameters": [
             {
              "iterations": 55,
              "learning_rate": 0.4210526316
             }
            ],
            "passed_time": 43.67503157,
            "remaining_time": 44.55735544,
            "test": [
             0.4301411019,
             0.8285866123
            ]
           },
           {
            "iteration": 198,
            "learn": [
             0.2969600654
            ],
            "parameters": [
             {
              "iterations": 55,
              "learning_rate": 0.4736842105
             }
            ],
            "passed_time": 44.11599626,
            "remaining_time": 44.55937311,
            "test": [
             0.4272630409,
             0.831016008
            ]
           },
           {
            "iteration": 199,
            "learn": [
             0.2841686034
            ],
            "parameters": [
             {
              "iterations": 55,
              "learning_rate": 0.5263157895
             }
            ],
            "passed_time": 44.54921293,
            "remaining_time": 44.54921293,
            "test": [
             0.4257104103,
             0.8330658106
            ]
           },
           {
            "iteration": 200,
            "learn": [
             0.2832775345
            ],
            "parameters": [
             {
              "iterations": 55,
              "learning_rate": 0.5789473684
             }
            ],
            "passed_time": 45.0113932,
            "remaining_time": 44.56351864,
            "test": [
             0.4311055428,
             0.8290529695
            ]
           },
           {
            "iteration": 201,
            "learn": [
             0.2776010117
            ],
            "parameters": [
             {
              "iterations": 55,
              "learning_rate": 0.6315789474
             }
            ],
            "passed_time": 45.4276452,
            "remaining_time": 44.52808786,
            "test": [
             0.4318697881,
             0.8278021199
            ]
           },
           {
            "iteration": 202,
            "learn": [
             0.264181158
            ],
            "parameters": [
             {
              "iterations": 55,
              "learning_rate": 0.6842105263
             }
            ],
            "passed_time": 45.86479095,
            "remaining_time": 44.50918137,
            "test": [
             0.4284256675,
             0.8317498879
            ]
           },
           {
            "iteration": 203,
            "learn": [
             0.2536815919
            ],
            "parameters": [
             {
              "iterations": 55,
              "learning_rate": 0.7368421053
             }
            ],
            "passed_time": 46.29397148,
            "remaining_time": 44.47852161,
            "test": [
             0.4308109881,
             0.8297109308
            ]
           },
           {
            "iteration": 204,
            "learn": [
             0.2460062426
            ],
            "parameters": [
             {
              "iterations": 55,
              "learning_rate": 0.7894736842
             }
            ],
            "passed_time": 46.70263737,
            "remaining_time": 44.42445993,
            "test": [
             0.4391310688,
             0.820517548
            ]
           },
           {
            "iteration": 205,
            "learn": [
             0.2447397747
            ],
            "parameters": [
             {
              "iterations": 55,
              "learning_rate": 0.8421052632
             }
            ],
            "passed_time": 47.14694166,
            "remaining_time": 44.40051787,
            "test": [
             0.4305703617,
             0.8313377583
            ]
           },
           {
            "iteration": 206,
            "learn": [
             0.2402667209
            ],
            "parameters": [
             {
              "iterations": 55,
              "learning_rate": 0.8947368421
             }
            ],
            "passed_time": 47.56822465,
            "remaining_time": 44.35105004,
            "test": [
             0.4445951194,
             0.8174085
            ]
           },
           {
            "iteration": 207,
            "learn": [
             0.2456145539
            ],
            "parameters": [
             {
              "iterations": 55,
              "learning_rate": 0.9473684211
             }
            ],
            "passed_time": 48.0179168,
            "remaining_time": 44.32423089,
            "test": [
             0.4456429005,
             0.8164974766
            ]
           },
           {
            "iteration": 208,
            "learn": [
             0.2306906824
            ],
            "parameters": [
             {
              "iterations": 55,
              "learning_rate": 1
             }
            ],
            "passed_time": 48.44328242,
            "remaining_time": 44.2711337,
            "test": [
             0.4411467353,
             0.8207995315
            ]
           },
           {
            "iteration": 209,
            "learn": [
             0.393463486
            ],
            "parameters": [
             {
              "iterations": 60,
              "learning_rate": 0.05263157895
             }
            ],
            "passed_time": 48.93095103,
            "remaining_time": 44.27086045,
            "test": [
             0.4205124585,
             0.8401804694
            ]
           },
           {
            "iteration": 210,
            "learn": [
             0.3783895848
            ],
            "parameters": [
             {
              "iterations": 60,
              "learning_rate": 0.1052631579
             }
            ],
            "passed_time": 49.3725381,
            "remaining_time": 44.22469053,
            "test": [
             0.4199361562,
             0.8407625121
            ]
           },
           {
            "iteration": 211,
            "learn": [
             0.3675212703
            ],
            "parameters": [
             {
              "iterations": 60,
              "learning_rate": 0.1578947368
             }
            ],
            "passed_time": 49.78223921,
            "remaining_time": 44.14651401,
            "test": [
             0.4214025611,
             0.8386078695
            ]
           },
           {
            "iteration": 212,
            "learn": [
             0.3526897484
            ],
            "parameters": [
             {
              "iterations": 60,
              "learning_rate": 0.2105263158
             }
            ],
            "passed_time": 50.25855141,
            "remaining_time": 44.12370476,
            "test": [
             0.4240011136,
             0.8373064075
            ]
           },
           {
            "iteration": 213,
            "learn": [
             0.3434537109
            ],
            "parameters": [
             {
              "iterations": 60,
              "learning_rate": 0.2631578947
             }
            ],
            "passed_time": 50.68133581,
            "remaining_time": 44.05013299,
            "test": [
             0.4233556643,
             0.8380041358
            ]
           },
           {
            "iteration": 214,
            "learn": [
             0.3313502018
            ],
            "parameters": [
             {
              "iterations": 60,
              "learning_rate": 0.3157894737
             }
            ],
            "passed_time": 51.15218338,
            "remaining_time": 44.01466942,
            "test": [
             0.4275884,
             0.8326934479
            ]
           },
           {
            "iteration": 215,
            "learn": [
             0.3178001192
            ],
            "parameters": [
             {
              "iterations": 60,
              "learning_rate": 0.3684210526
             }
            ],
            "passed_time": 51.62784842,
            "remaining_time": 43.97927829,
            "test": [
             0.4277571785,
             0.8323283155
            ]
           },
           {
            "iteration": 216,
            "learn": [
             0.302452147
            ],
            "parameters": [
             {
              "iterations": 60,
              "learning_rate": 0.4210526316
             }
            ],
            "passed_time": 52.12333355,
            "remaining_time": 43.95654396,
            "test": [
             0.4301411019,
             0.8285866123
            ]
           },
           {
            "iteration": 217,
            "learn": [
             0.2846548372
            ],
            "parameters": [
             {
              "iterations": 60,
              "learning_rate": 0.4736842105
             }
            ],
            "passed_time": 52.57395978,
            "remaining_time": 43.89202147,
            "test": [
             0.4272630409,
             0.831016008
            ]
           },
           {
            "iteration": 218,
            "learn": [
             0.2738526993
            ],
            "parameters": [
             {
              "iterations": 60,
              "learning_rate": 0.5263157895
             }
            ],
            "passed_time": 53.07068844,
            "remaining_time": 43.86207584,
            "test": [
             0.4257104103,
             0.8330658106
            ]
           },
           {
            "iteration": 219,
            "learn": [
             0.2754590261
            ],
            "parameters": [
             {
              "iterations": 60,
              "learning_rate": 0.5789473684
             }
            ],
            "passed_time": 53.52836501,
            "remaining_time": 43.79593501,
            "test": [
             0.4311055428,
             0.8290529695
            ]
           },
           {
            "iteration": 220,
            "learn": [
             0.2676426806
            ],
            "parameters": [
             {
              "iterations": 60,
              "learning_rate": 0.6315789474
             }
            ],
            "passed_time": 54.01631978,
            "remaining_time": 43.75077485,
            "test": [
             0.4318697881,
             0.8278021199
            ]
           },
           {
            "iteration": 221,
            "learn": [
             0.252276845
            ],
            "parameters": [
             {
              "iterations": 60,
              "learning_rate": 0.6842105263
             }
            ],
            "passed_time": 54.47402596,
            "remaining_time": 43.67737216,
            "test": [
             0.4284256675,
             0.8317498879
            ]
           },
           {
            "iteration": 222,
            "learn": [
             0.2413553389
            ],
            "parameters": [
             {
              "iterations": 60,
              "learning_rate": 0.7368421053
             }
            ],
            "passed_time": 54.93395953,
            "remaining_time": 43.60229075,
            "test": [
             0.4308109881,
             0.8297109308
            ]
           },
           {
            "iteration": 223,
            "learn": [
             0.239753614
            ],
            "parameters": [
             {
              "iterations": 60,
              "learning_rate": 0.7894736842
             }
            ],
            "passed_time": 55.4395615,
            "remaining_time": 43.55965547,
            "test": [
             0.4391310688,
             0.820517548
            ]
           },
           {
            "iteration": 224,
            "learn": [
             0.2343776684
            ],
            "parameters": [
             {
              "iterations": 60,
              "learning_rate": 0.8421052632
             }
            ],
            "passed_time": 55.90459577,
            "remaining_time": 43.48135227,
            "test": [
             0.4305703617,
             0.8313377583
            ]
           },
           {
            "iteration": 225,
            "learn": [
             0.2290027207
            ],
            "parameters": [
             {
              "iterations": 60,
              "learning_rate": 0.8947368421
             }
            ],
            "passed_time": 56.41934423,
            "remaining_time": 43.43790219,
            "test": [
             0.4445951194,
             0.8174085
            ]
           },
           {
            "iteration": 226,
            "learn": [
             0.2343556348
            ],
            "parameters": [
             {
              "iterations": 60,
              "learning_rate": 0.9473684211
             }
            ],
            "passed_time": 56.86099435,
            "remaining_time": 43.33459041,
            "test": [
             0.4456429005,
             0.8164974766
            ]
           },
           {
            "iteration": 227,
            "learn": [
             0.2222234077
            ],
            "parameters": [
             {
              "iterations": 60,
              "learning_rate": 1
             }
            ],
            "passed_time": 57.36329543,
            "remaining_time": 43.27406497,
            "test": [
             0.4411467353,
             0.8207995315
            ]
           },
           {
            "iteration": 228,
            "learn": [
             0.3900247678
            ],
            "parameters": [
             {
              "iterations": 65,
              "learning_rate": 0.05263157895
             }
            ],
            "passed_time": 57.86262449,
            "remaining_time": 43.20746195,
            "test": [
             0.4199857829,
             0.8401804694
            ]
           },
           {
            "iteration": 229,
            "learn": [
             0.3774918042
            ],
            "parameters": [
             {
              "iterations": 65,
              "learning_rate": 0.1052631579
             }
            ],
            "passed_time": 58.33828709,
            "remaining_time": 43.1196035,
            "test": [
             0.4199361562,
             0.8407625121
            ]
           },
           {
            "iteration": 230,
            "learn": [
             0.3638839651
            ],
            "parameters": [
             {
              "iterations": 65,
              "learning_rate": 0.1578947368
             }
            ],
            "passed_time": 58.81905632,
            "remaining_time": 43.03212346,
            "test": [
             0.4214025611,
             0.8386078695
            ]
           },
           {
            "iteration": 231,
            "learn": [
             0.3503504211
            ],
            "parameters": [
             {
              "iterations": 65,
              "learning_rate": 0.2105263158
             }
            ],
            "passed_time": 59.36566468,
            "remaining_time": 42.9889296,
            "test": [
             0.4240011136,
             0.8373064075
            ]
           },
           {
            "iteration": 232,
            "learn": [
             0.3391485498
            ],
            "parameters": [
             {
              "iterations": 65,
              "learning_rate": 0.2631578947
             }
            ],
            "passed_time": 59.84634709,
            "remaining_time": 42.89416293,
            "test": [
             0.4233556643,
             0.8380041358
            ]
           },
           {
            "iteration": 233,
            "learn": [
             0.3244634348
            ],
            "parameters": [
             {
              "iterations": 65,
              "learning_rate": 0.3157894737
             }
            ],
            "passed_time": 60.36024978,
            "remaining_time": 42.81966438,
            "test": [
             0.4275884,
             0.8326934479
            ]
           },
           {
            "iteration": 234,
            "learn": [
             0.3114204554
            ],
            "parameters": [
             {
              "iterations": 65,
              "learning_rate": 0.3684210526
             }
            ],
            "passed_time": 60.85375853,
            "remaining_time": 42.72710706,
            "test": [
             0.4277571785,
             0.8323283155
            ]
           },
           {
            "iteration": 235,
            "learn": [
             0.2953916864
            ],
            "parameters": [
             {
              "iterations": 65,
              "learning_rate": 0.4210526316
             }
            ],
            "passed_time": 61.39798912,
            "remaining_time": 42.66639922,
            "test": [
             0.4301411019,
             0.8285866123
            ]
           },
           {
            "iteration": 236,
            "learn": [
             0.2756757479
            ],
            "parameters": [
             {
              "iterations": 65,
              "learning_rate": 0.4736842105
             }
            ],
            "passed_time": 61.88691507,
            "remaining_time": 42.5635745,
            "test": [
             0.4272630409,
             0.831016008
            ]
           },
           {
            "iteration": 237,
            "learn": [
             0.2645602072
            ],
            "parameters": [
             {
              "iterations": 65,
              "learning_rate": 0.5263157895
             }
            ],
            "passed_time": 62.430835,
            "remaining_time": 42.49493811,
            "test": [
             0.4257104103,
             0.8330658106
            ]
           },
           {
            "iteration": 238,
            "learn": [
             0.2655566751
            ],
            "parameters": [
             {
              "iterations": 65,
              "learning_rate": 0.5789473684
             }
            ],
            "passed_time": 62.95021743,
            "remaining_time": 42.405795,
            "test": [
             0.4311055428,
             0.8290529695
            ]
           },
           {
            "iteration": 239,
            "learn": [
             0.2566175516
            ],
            "parameters": [
             {
              "iterations": 65,
              "learning_rate": 0.6315789474
             }
            ],
            "passed_time": 63.48465452,
            "remaining_time": 42.32310301,
            "test": [
             0.4318697881,
             0.8278021199
            ]
           },
           {
            "iteration": 240,
            "learn": [
             0.2418112763
            ],
            "parameters": [
             {
              "iterations": 65,
              "learning_rate": 0.6842105263
             }
            ],
            "passed_time": 63.98493762,
            "remaining_time": 42.21412897,
            "test": [
             0.4284256675,
             0.8317498879
            ]
           },
           {
            "iteration": 241,
            "learn": [
             0.2336176664
            ],
            "parameters": [
             {
              "iterations": 65,
              "learning_rate": 0.7368421053
             }
            ],
            "passed_time": 64.4997719,
            "remaining_time": 42.11142132,
            "test": [
             0.4308109881,
             0.8297109308
            ]
           },
           {
            "iteration": 242,
            "learn": [
             0.2289163222
            ],
            "parameters": [
             {
              "iterations": 65,
              "learning_rate": 0.7894736842
             }
            ],
            "passed_time": 64.99258639,
            "remaining_time": 41.99109491,
            "test": [
             0.4391310688,
             0.820517548
            ]
           },
           {
            "iteration": 243,
            "learn": [
             0.2239626573
            ],
            "parameters": [
             {
              "iterations": 65,
              "learning_rate": 0.8421052632
             }
            ],
            "passed_time": 65.51998721,
            "remaining_time": 41.88982789,
            "test": [
             0.4305703617,
             0.8313377583
            ]
           },
           {
            "iteration": 244,
            "learn": [
             0.2228233911
            ],
            "parameters": [
             {
              "iterations": 65,
              "learning_rate": 0.8947368421
             }
            ],
            "passed_time": 66.01245882,
            "remaining_time": 41.76298415,
            "test": [
             0.4445951194,
             0.8174085
            ]
           },
           {
            "iteration": 245,
            "learn": [
             0.2200650977
            ],
            "parameters": [
             {
              "iterations": 65,
              "learning_rate": 0.9473684211
             }
            ],
            "passed_time": 66.52984405,
            "remaining_time": 41.64876416,
            "test": [
             0.4456429005,
             0.8164974766
            ]
           },
           {
            "iteration": 246,
            "learn": [
             0.2098981765
            ],
            "parameters": [
             {
              "iterations": 65,
              "learning_rate": 1
             }
            ],
            "passed_time": 67.03123614,
            "remaining_time": 41.52137299,
            "test": [
             0.4411467353,
             0.8207995315
            ]
           },
           {
            "iteration": 247,
            "learn": [
             0.3878202024
            ],
            "parameters": [
             {
              "iterations": 70,
              "learning_rate": 0.05263157895
             }
            ],
            "passed_time": 67.56203715,
            "remaining_time": 41.40899051,
            "test": [
             0.419903241,
             0.8401804694
            ]
           },
           {
            "iteration": 248,
            "learn": [
             0.3741413849
            ],
            "parameters": [
             {
              "iterations": 70,
              "learning_rate": 0.1052631579
             }
            ],
            "passed_time": 68.05534846,
            "remaining_time": 41.27051252,
            "test": [
             0.4199361562,
             0.8407625121
            ]
           },
           {
            "iteration": 249,
            "learn": [
             0.3595758417
            ],
            "parameters": [
             {
              "iterations": 70,
              "learning_rate": 0.1578947368
             }
            ],
            "passed_time": 68.57824344,
            "remaining_time": 41.14694607,
            "test": [
             0.4214025611,
             0.8386078695
            ]
           },
           {
            "iteration": 250,
            "learn": [
             0.3469249646
            ],
            "parameters": [
             {
              "iterations": 70,
              "learning_rate": 0.2105263158
             }
            ],
            "passed_time": 69.08583632,
            "remaining_time": 41.01111399,
            "test": [
             0.4240011136,
             0.8373064075
            ]
           },
           {
            "iteration": 251,
            "learn": [
             0.3338250893
            ],
            "parameters": [
             {
              "iterations": 70,
              "learning_rate": 0.2631578947
             }
            ],
            "passed_time": 69.61137886,
            "remaining_time": 40.8828733,
            "test": [
             0.4233556643,
             0.8380041358
            ]
           },
           {
            "iteration": 252,
            "learn": [
             0.3193467185
            ],
            "parameters": [
             {
              "iterations": 70,
              "learning_rate": 0.3157894737
             }
            ],
            "passed_time": 70.11254711,
            "remaining_time": 40.73732974,
            "test": [
             0.4275884,
             0.8326934479
            ]
           },
           {
            "iteration": 253,
            "learn": [
             0.3045719777
            ],
            "parameters": [
             {
              "iterations": 70,
              "learning_rate": 0.3684210526
             }
            ],
            "passed_time": 70.67173095,
            "remaining_time": 40.62233354,
            "test": [
             0.4277571785,
             0.8323283155
            ]
           },
           {
            "iteration": 254,
            "learn": [
             0.2904007154
            ],
            "parameters": [
             {
              "iterations": 70,
              "learning_rate": 0.4210526316
             }
            ],
            "passed_time": 71.24246191,
            "remaining_time": 40.51041952,
            "test": [
             0.4301411019,
             0.8285866123
            ]
           },
           {
            "iteration": 255,
            "learn": [
             0.2663672448
            ],
            "parameters": [
             {
              "iterations": 70,
              "learning_rate": 0.4736842105
             }
            ],
            "passed_time": 71.78904752,
            "remaining_time": 40.38133923,
            "test": [
             0.4272630409,
             0.831016008
            ]
           },
           {
            "iteration": 256,
            "learn": [
             0.256113373
            ],
            "parameters": [
             {
              "iterations": 70,
              "learning_rate": 0.5263157895
             }
            ],
            "passed_time": 72.31866592,
            "remaining_time": 40.23956898,
            "test": [
             0.4257104103,
             0.8330658106
            ]
           },
           {
            "iteration": 257,
            "learn": [
             0.2575170462
            ],
            "parameters": [
             {
              "iterations": 70,
              "learning_rate": 0.5789473684
             }
            ],
            "passed_time": 72.91008863,
            "remaining_time": 40.12880847,
            "test": [
             0.4311055428,
             0.8290529695
            ]
           },
           {
            "iteration": 258,
            "learn": [
             0.2462477471
            ],
            "parameters": [
             {
              "iterations": 70,
              "learning_rate": 0.6315789474
             }
            ],
            "passed_time": 73.41019612,
            "remaining_time": 39.96462414,
            "test": [
             0.4318697881,
             0.8278021199
            ]
           },
           {
            "iteration": 259,
            "learn": [
             0.2259654524
            ],
            "parameters": [
             {
              "iterations": 70,
              "learning_rate": 0.6842105263
             }
            ],
            "passed_time": 73.98301344,
            "remaining_time": 39.83700724,
            "test": [
             0.4284256675,
             0.8317498879
            ]
           },
           {
            "iteration": 260,
            "learn": [
             0.2243982896
            ],
            "parameters": [
             {
              "iterations": 70,
              "learning_rate": 0.7368421053
             }
            ],
            "passed_time": 74.48813042,
            "remaining_time": 39.66992386,
            "test": [
             0.4308109881,
             0.8297109308
            ]
           },
           {
            "iteration": 261,
            "learn": [
             0.2223025571
            ],
            "parameters": [
             {
              "iterations": 70,
              "learning_rate": 0.7894736842
             }
            ],
            "passed_time": 75.07651427,
            "remaining_time": 39.5441182,
            "test": [
             0.4391310688,
             0.820517548
            ]
           },
           {
            "iteration": 262,
            "learn": [
             0.2142323124
            ],
            "parameters": [
             {
              "iterations": 70,
              "learning_rate": 0.8421052632
             }
            ],
            "passed_time": 75.63474113,
            "remaining_time": 39.39908568,
            "test": [
             0.4305703617,
             0.8313377583
            ]
           },
           {
            "iteration": 263,
            "learn": [
             0.2140620434
            ],
            "parameters": [
             {
              "iterations": 70,
              "learning_rate": 0.8947368421
             }
            ],
            "passed_time": 76.17412937,
            "remaining_time": 39.24121816,
            "test": [
             0.4445951194,
             0.8174085
            ]
           },
           {
            "iteration": 264,
            "learn": [
             0.2039223301
            ],
            "parameters": [
             {
              "iterations": 70,
              "learning_rate": 0.9473684211
             }
            ],
            "passed_time": 76.73378213,
            "remaining_time": 39.09079467,
            "test": [
             0.4456429005,
             0.8164974766
            ]
           },
           {
            "iteration": 265,
            "learn": [
             0.1990526164
            ],
            "parameters": [
             {
              "iterations": 70,
              "learning_rate": 1
             }
            ],
            "passed_time": 77.26782192,
            "remaining_time": 38.92439149,
            "test": [
             0.4411467353,
             0.8207995315
            ]
           },
           {
            "iteration": 266,
            "learn": [
             0.3859556926
            ],
            "parameters": [
             {
              "iterations": 75,
              "learning_rate": 0.05263157895
             }
            ],
            "passed_time": 77.85952495,
            "remaining_time": 38.78395812,
            "test": [
             0.419903241,
             0.8401804694
            ]
           },
           {
            "iteration": 267,
            "learn": [
             0.3710242332
            ],
            "parameters": [
             {
              "iterations": 75,
              "learning_rate": 0.1052631579
             }
            ],
            "passed_time": 78.39558175,
            "remaining_time": 38.61274922,
            "test": [
             0.4199361562,
             0.8407625121
            ]
           },
           {
            "iteration": 268,
            "learn": [
             0.357572021
            ],
            "parameters": [
             {
              "iterations": 75,
              "learning_rate": 0.1578947368
             }
            ],
            "passed_time": 78.9784255,
            "remaining_time": 38.46161242,
            "test": [
             0.4214025611,
             0.8386078695
            ]
           },
           {
            "iteration": 269,
            "learn": [
             0.3411821401
            ],
            "parameters": [
             {
              "iterations": 75,
              "learning_rate": 0.2105263158
             }
            ],
            "passed_time": 79.51730661,
            "remaining_time": 38.28611059,
            "test": [
             0.4240011136,
             0.8373064075
            ]
           },
           {
            "iteration": 270,
            "learn": [
             0.3273549638
            ],
            "parameters": [
             {
              "iterations": 75,
              "learning_rate": 0.2631578947
             }
            ],
            "passed_time": 80.11148364,
            "remaining_time": 38.13424867,
            "test": [
             0.4233556643,
             0.8380041358
            ]
           },
           {
            "iteration": 271,
            "learn": [
             0.3145465303
            ],
            "parameters": [
             {
              "iterations": 75,
              "learning_rate": 0.3157894737
             }
            ],
            "passed_time": 80.66655557,
            "remaining_time": 37.96073203,
            "test": [
             0.4275884,
             0.8326934479
            ]
           },
           {
            "iteration": 272,
            "learn": [
             0.2981111518
            ],
            "parameters": [
             {
              "iterations": 75,
              "learning_rate": 0.3684210526
             }
            ],
            "passed_time": 81.28417318,
            "remaining_time": 37.81351646,
            "test": [
             0.4277571785,
             0.8323283155
            ]
           },
           {
            "iteration": 273,
            "learn": [
             0.2837318377
            ],
            "parameters": [
             {
              "iterations": 75,
              "learning_rate": 0.4210526316
             }
            ],
            "passed_time": 81.88393615,
            "remaining_time": 37.65465677,
            "test": [
             0.4301411019,
             0.8285866123
            ]
           },
           {
            "iteration": 274,
            "learn": [
             0.2593484864
            ],
            "parameters": [
             {
              "iterations": 75,
              "learning_rate": 0.4736842105
             }
            ],
            "passed_time": 82.44826201,
            "remaining_time": 37.47648273,
            "test": [
             0.4272630409,
             0.831016008
            ]
           },
           {
            "iteration": 275,
            "learn": [
             0.2514094942
            ],
            "parameters": [
             {
              "iterations": 75,
              "learning_rate": 0.5263157895
             }
            ],
            "passed_time": 83.06891041,
            "remaining_time": 37.32081482,
            "test": [
             0.4257104103,
             0.8330658106
            ]
           },
           {
            "iteration": 276,
            "learn": [
             0.2460996753
            ],
            "parameters": [
             {
              "iterations": 75,
              "learning_rate": 0.5789473684
             }
            ],
            "passed_time": 83.63053073,
            "remaining_time": 37.13557863,
            "test": [
             0.4311055428,
             0.8290529695
            ]
           },
           {
            "iteration": 277,
            "learn": [
             0.2382165957
            ],
            "parameters": [
             {
              "iterations": 75,
              "learning_rate": 0.6315789474
             }
            ],
            "passed_time": 84.30853836,
            "remaining_time": 36.99871108,
            "test": [
             0.4318697881,
             0.8278021199
            ]
           },
           {
            "iteration": 278,
            "learn": [
             0.2171179317
            ],
            "parameters": [
             {
              "iterations": 75,
              "learning_rate": 0.6842105263
             }
            ],
            "passed_time": 84.84484157,
            "remaining_time": 36.79650835,
            "test": [
             0.4284256675,
             0.8317498879
            ]
           },
           {
            "iteration": 279,
            "learn": [
             0.2106960524
            ],
            "parameters": [
             {
              "iterations": 75,
              "learning_rate": 0.7368421053
             }
            ],
            "passed_time": 85.44234871,
            "remaining_time": 36.61814945,
            "test": [
             0.4308109881,
             0.8297109308
            ]
           },
           {
            "iteration": 280,
            "learn": [
             0.2151623502
            ],
            "parameters": [
             {
              "iterations": 75,
              "learning_rate": 0.7894736842
             }
            ],
            "passed_time": 86.02369615,
            "remaining_time": 36.42996385,
            "test": [
             0.4391310688,
             0.820517548
            ]
           },
           {
            "iteration": 281,
            "learn": [
             0.1997862161
            ],
            "parameters": [
             {
              "iterations": 75,
              "learning_rate": 0.8421052632
             }
            ],
            "passed_time": 86.58402152,
            "remaining_time": 36.2301934,
            "test": [
             0.4305703617,
             0.8313377583
            ]
           },
           {
            "iteration": 282,
            "learn": [
             0.2045781708
            ],
            "parameters": [
             {
              "iterations": 75,
              "learning_rate": 0.8947368421
             }
            ],
            "passed_time": 87.18219828,
            "remaining_time": 36.04352367,
            "test": [
             0.4445951194,
             0.8174085
            ]
           },
           {
            "iteration": 283,
            "learn": [
             0.1916398214
            ],
            "parameters": [
             {
              "iterations": 75,
              "learning_rate": 0.9473684211
             }
            ],
            "passed_time": 87.72655035,
            "remaining_time": 35.83197127,
            "test": [
             0.4456429005,
             0.8164974766
            ]
           },
           {
            "iteration": 284,
            "learn": [
             0.1878167546
            ],
            "parameters": [
             {
              "iterations": 75,
              "learning_rate": 1
             }
            ],
            "passed_time": 88.33925298,
            "remaining_time": 35.64566348,
            "test": [
             0.4411467353,
             0.8207995315
            ]
           },
           {
            "iteration": 285,
            "learn": [
             0.3847871113
            ],
            "parameters": [
             {
              "iterations": 80,
              "learning_rate": 0.05263157895
             }
            ],
            "passed_time": 88.90684273,
            "remaining_time": 35.43839186,
            "test": [
             0.419903241,
             0.8401804694
            ]
           },
           {
            "iteration": 286,
            "learn": [
             0.3669887193
            ],
            "parameters": [
             {
              "iterations": 80,
              "learning_rate": 0.1052631579
             }
            ],
            "passed_time": 89.50037749,
            "remaining_time": 35.23882459,
            "test": [
             0.4199361562,
             0.8407625121
            ]
           },
           {
            "iteration": 287,
            "learn": [
             0.3531001186
            ],
            "parameters": [
             {
              "iterations": 80,
              "learning_rate": 0.1578947368
             }
            ],
            "passed_time": 90.10597696,
            "remaining_time": 35.04121326,
            "test": [
             0.4214025611,
             0.8386078695
            ]
           },
           {
            "iteration": 288,
            "learn": [
             0.3368528201
            ],
            "parameters": [
             {
              "iterations": 80,
              "learning_rate": 0.2105263158
             }
            ],
            "passed_time": 90.69408531,
            "remaining_time": 34.83406045,
            "test": [
             0.4240011136,
             0.8373064075
            ]
           },
           {
            "iteration": 289,
            "learn": [
             0.3202632916
            ],
            "parameters": [
             {
              "iterations": 80,
              "learning_rate": 0.2631578947
             }
            ],
            "passed_time": 91.32190622,
            "remaining_time": 34.63934374,
            "test": [
             0.4233556643,
             0.8380041358
            ]
           },
           {
            "iteration": 290,
            "learn": [
             0.3085337488
            ],
            "parameters": [
             {
              "iterations": 80,
              "learning_rate": 0.3157894737
             }
            ],
            "passed_time": 91.88578845,
            "remaining_time": 34.41770083,
            "test": [
             0.4275884,
             0.8326934479
            ]
           },
           {
            "iteration": 291,
            "learn": [
             0.28961466
            ],
            "parameters": [
             {
              "iterations": 80,
              "learning_rate": 0.3684210526
             }
            ],
            "passed_time": 92.53141592,
            "remaining_time": 34.22394835,
            "test": [
             0.4277571785,
             0.8323283155
            ]
           },
           {
            "iteration": 292,
            "learn": [
             0.273293714
            ],
            "parameters": [
             {
              "iterations": 80,
              "learning_rate": 0.4210526316
             }
            ],
            "passed_time": 93.17660584,
            "remaining_time": 34.02695162,
            "test": [
             0.4301411019,
             0.8285866123
            ]
           },
           {
            "iteration": 293,
            "learn": [
             0.2527393102
            ],
            "parameters": [
             {
              "iterations": 80,
              "learning_rate": 0.4736842105
             }
            ],
            "passed_time": 93.76437019,
            "remaining_time": 33.8062015,
            "test": [
             0.4272630409,
             0.831016008
            ]
           },
           {
            "iteration": 294,
            "learn": [
             0.2408456374
            ],
            "parameters": [
             {
              "iterations": 80,
              "learning_rate": 0.5263157895
             }
            ],
            "passed_time": 94.41363896,
            "remaining_time": 33.60485455,
            "test": [
             0.4257104103,
             0.8330658106
            ]
           },
           {
            "iteration": 295,
            "learn": [
             0.2353953732
            ],
            "parameters": [
             {
              "iterations": 80,
              "learning_rate": 0.5789473684
             }
            ],
            "passed_time": 95.00950489,
            "remaining_time": 33.38171794,
            "test": [
             0.4311055428,
             0.8290529695
            ]
           },
           {
            "iteration": 296,
            "learn": [
             0.2267101604
            ],
            "parameters": [
             {
              "iterations": 80,
              "learning_rate": 0.6315789474
             }
            ],
            "passed_time": 95.6709568,
            "remaining_time": 33.17881667,
            "test": [
             0.4318697881,
             0.8278021199
            ]
           },
           {
            "iteration": 297,
            "learn": [
             0.2120559723
            ],
            "parameters": [
             {
              "iterations": 80,
              "learning_rate": 0.6842105263
             }
            ],
            "passed_time": 96.29700914,
            "remaining_time": 32.96072125,
            "test": [
             0.4284256675,
             0.8317498879
            ]
           },
           {
            "iteration": 298,
            "learn": [
             0.2032204806
            ],
            "parameters": [
             {
              "iterations": 80,
              "learning_rate": 0.7368421053
             }
            ],
            "passed_time": 97.4676371,
            "remaining_time": 32.92385066,
            "test": [
             0.4308109881,
             0.8297109308
            ]
           },
           {
            "iteration": 299,
            "learn": [
             0.2030491265
            ],
            "parameters": [
             {
              "iterations": 80,
              "learning_rate": 0.7894736842
             }
            ],
            "passed_time": 98.09589249,
            "remaining_time": 32.69863083,
            "test": [
             0.4391310688,
             0.820517548
            ]
           },
           {
            "iteration": 300,
            "learn": [
             0.1930199428
            ],
            "parameters": [
             {
              "iterations": 80,
              "learning_rate": 0.8421052632
             }
            ],
            "passed_time": 98.74033262,
            "remaining_time": 32.47605624,
            "test": [
             0.4305703617,
             0.8313377583
            ]
           },
           {
            "iteration": 301,
            "learn": [
             0.1900952036
            ],
            "parameters": [
             {
              "iterations": 80,
              "learning_rate": 0.8947368421
             }
            ],
            "passed_time": 99.31146434,
            "remaining_time": 32.22689902,
            "test": [
             0.4445951194,
             0.8174085
            ]
           },
           {
            "iteration": 302,
            "learn": [
             0.1834933433
            ],
            "parameters": [
             {
              "iterations": 80,
              "learning_rate": 0.9473684211
             }
            ],
            "passed_time": 99.96445964,
            "remaining_time": 32.00182371,
            "test": [
             0.4456429005,
             0.8164974766
            ]
           },
           {
            "iteration": 303,
            "learn": [
             0.177938815
            ],
            "parameters": [
             {
              "iterations": 80,
              "learning_rate": 1
             }
            ],
            "passed_time": 100.6210403,
            "remaining_time": 31.77506534,
            "test": [
             0.4411467353,
             0.8207995315
            ]
           },
           {
            "iteration": 304,
            "learn": [
             0.3822798668
            ],
            "parameters": [
             {
              "iterations": 85,
              "learning_rate": 0.05263157895
             }
            ],
            "passed_time": 101.2331746,
            "remaining_time": 31.53164455,
            "test": [
             0.419903241,
             0.8401804694
            ]
           },
           {
            "iteration": 305,
            "learn": [
             0.3648238361
            ],
            "parameters": [
             {
              "iterations": 85,
              "learning_rate": 0.1052631579
             }
            ],
            "passed_time": 101.8854453,
            "remaining_time": 31.29814332,
            "test": [
             0.4199361562,
             0.8407625121
            ]
           },
           {
            "iteration": 306,
            "learn": [
             0.3498045476
            ],
            "parameters": [
             {
              "iterations": 85,
              "learning_rate": 0.1578947368
             }
            ],
            "passed_time": 102.5282422,
            "remaining_time": 31.05904406,
            "test": [
             0.4214025611,
             0.8386078695
            ]
           },
           {
            "iteration": 307,
            "learn": [
             0.3306482466
            ],
            "parameters": [
             {
              "iterations": 85,
              "learning_rate": 0.2105263158
             }
            ],
            "passed_time": 103.1593102,
            "remaining_time": 30.81381993,
            "test": [
             0.4240011136,
             0.8373064075
            ]
           },
           {
            "iteration": 308,
            "learn": [
             0.3140945902
            ],
            "parameters": [
             {
              "iterations": 85,
              "learning_rate": 0.2631578947
             }
            ],
            "passed_time": 103.8090501,
            "remaining_time": 30.57159729,
            "test": [
             0.4233556643,
             0.8380041358
            ]
           },
           {
            "iteration": 309,
            "learn": [
             0.304346614
            ],
            "parameters": [
             {
              "iterations": 85,
              "learning_rate": 0.3157894737
             }
            ],
            "passed_time": 104.398226,
            "remaining_time": 30.30916238,
            "test": [
             0.4275884,
             0.8326934479
            ]
           },
           {
            "iteration": 310,
            "learn": [
             0.2811283
            ],
            "parameters": [
             {
              "iterations": 85,
              "learning_rate": 0.3684210526
             }
            ],
            "passed_time": 105.092794,
            "remaining_time": 30.0747867,
            "test": [
             0.4277571785,
             0.8323283155
            ]
           },
           {
            "iteration": 311,
            "learn": [
             0.2645472461
            ],
            "parameters": [
             {
              "iterations": 85,
              "learning_rate": 0.4210526316
             }
            ],
            "passed_time": 105.759997,
            "remaining_time": 29.82974274,
            "test": [
             0.4301411019,
             0.8285866123
            ]
           },
           {
            "iteration": 312,
            "learn": [
             0.2471768649
            ],
            "parameters": [
             {
              "iterations": 85,
              "learning_rate": 0.4736842105
             }
            ],
            "passed_time": 106.3922149,
            "remaining_time": 29.572277,
            "test": [
             0.4272630409,
             0.831016008
            ]
           },
           {
            "iteration": 313,
            "learn": [
             0.2345070202
            ],
            "parameters": [
             {
              "iterations": 85,
              "learning_rate": 0.5263157895
             }
            ],
            "passed_time": 107.0869491,
            "remaining_time": 29.32954656,
            "test": [
             0.4257104103,
             0.8330658106
            ]
           },
           {
            "iteration": 314,
            "learn": [
             0.2309412595
            ],
            "parameters": [
             {
              "iterations": 85,
              "learning_rate": 0.5789473684
             }
            ],
            "passed_time": 107.7793195,
            "remaining_time": 29.08330843,
            "test": [
             0.4311055428,
             0.8290529695
            ]
           },
           {
            "iteration": 315,
            "learn": [
             0.2204651335
            ],
            "parameters": [
             {
              "iterations": 85,
              "learning_rate": 0.6315789474
             }
            ],
            "passed_time": 108.4155271,
            "remaining_time": 28.81931733,
            "test": [
             0.4318697881,
             0.8278021199
            ]
           },
           {
            "iteration": 316,
            "learn": [
             0.2066869072
            ],
            "parameters": [
             {
              "iterations": 85,
              "learning_rate": 0.6842105263
             }
            ],
            "passed_time": 109.1100859,
            "remaining_time": 28.56825592,
            "test": [
             0.4284256675,
             0.8317498879
            ]
           },
           {
            "iteration": 317,
            "learn": [
             0.1959375422
            ],
            "parameters": [
             {
              "iterations": 85,
              "learning_rate": 0.7368421053
             }
            ],
            "passed_time": 109.8133236,
            "remaining_time": 28.31664319,
            "test": [
             0.4308109881,
             0.8297109308
            ]
           },
           {
            "iteration": 318,
            "learn": [
             0.1966246289
            ],
            "parameters": [
             {
              "iterations": 85,
              "learning_rate": 0.7894736842
             }
            ],
            "passed_time": 110.4385065,
            "remaining_time": 28.0423794,
            "test": [
             0.4391310688,
             0.820517548
            ]
           },
           {
            "iteration": 319,
            "learn": [
             0.1879222715
            ],
            "parameters": [
             {
              "iterations": 85,
              "learning_rate": 0.8421052632
             }
            ],
            "passed_time": 111.205223,
            "remaining_time": 27.80130575,
            "test": [
             0.4305703617,
             0.8313377583
            ]
           },
           {
            "iteration": 320,
            "learn": [
             0.179721252
            ],
            "parameters": [
             {
              "iterations": 85,
              "learning_rate": 0.8947368421
             }
            ],
            "passed_time": 111.8791397,
            "remaining_time": 27.53411849,
            "test": [
             0.4445951194,
             0.8174085
            ]
           },
           {
            "iteration": 321,
            "learn": [
             0.1717082677
            ],
            "parameters": [
             {
              "iterations": 85,
              "learning_rate": 0.9473684211
             }
            ],
            "passed_time": 112.5328729,
            "remaining_time": 27.2595158,
            "test": [
             0.4456429005,
             0.8164974766
            ]
           },
           {
            "iteration": 322,
            "learn": [
             0.1683762904
            ],
            "parameters": [
             {
              "iterations": 85,
              "learning_rate": 1
             }
            ],
            "passed_time": 113.2081166,
            "remaining_time": 26.98769343,
            "test": [
             0.4411467353,
             0.8207995315
            ]
           },
           {
            "iteration": 323,
            "learn": [
             0.3808738797
            ],
            "parameters": [
             {
              "iterations": 90,
              "learning_rate": 0.05263157895
             }
            ],
            "passed_time": 113.857735,
            "remaining_time": 26.70736995,
            "test": [
             0.419903241,
             0.8401804694
            ]
           },
           {
            "iteration": 324,
            "learn": [
             0.3631105583
            ],
            "parameters": [
             {
              "iterations": 90,
              "learning_rate": 0.1052631579
             }
            ],
            "passed_time": 114.5526902,
            "remaining_time": 26.4352362,
            "test": [
             0.4199361562,
             0.8407625121
            ]
           },
           {
            "iteration": 325,
            "learn": [
             0.3465281087
            ],
            "parameters": [
             {
              "iterations": 90,
              "learning_rate": 0.1578947368
             }
            ],
            "passed_time": 115.258345,
            "remaining_time": 26.16293721,
            "test": [
             0.4214025611,
             0.8386078695
            ]
           },
           {
            "iteration": 326,
            "learn": [
             0.327281723
            ],
            "parameters": [
             {
              "iterations": 90,
              "learning_rate": 0.2105263158
             }
            ],
            "passed_time": 115.9095531,
            "remaining_time": 25.87583295,
            "test": [
             0.4240011136,
             0.8373064075
            ]
           },
           {
            "iteration": 327,
            "learn": [
             0.3076898584
            ],
            "parameters": [
             {
              "iterations": 90,
              "learning_rate": 0.2631578947
             }
            ],
            "passed_time": 116.6199847,
            "remaining_time": 25.59950883,
            "test": [
             0.4233556643,
             0.8380041358
            ]
           },
           {
            "iteration": 328,
            "learn": [
             0.2990389925
            ],
            "parameters": [
             {
              "iterations": 90,
              "learning_rate": 0.3157894737
             }
            ],
            "passed_time": 117.3211697,
            "remaining_time": 25.31855031,
            "test": [
             0.4275884,
             0.8326934479
            ]
           },
           {
            "iteration": 329,
            "learn": [
             0.2775929141
            ],
            "parameters": [
             {
              "iterations": 90,
              "learning_rate": 0.3684210526
             }
            ],
            "passed_time": 117.9937186,
            "remaining_time": 25.02897061,
            "test": [
             0.4277571785,
             0.8323283155
            ]
           },
           {
            "iteration": 330,
            "learn": [
             0.2582514628
            ],
            "parameters": [
             {
              "iterations": 90,
              "learning_rate": 0.4210526316
             }
            ],
            "passed_time": 118.7080608,
            "remaining_time": 24.74578911,
            "test": [
             0.4301411019,
             0.8285866123
            ]
           },
           {
            "iteration": 331,
            "learn": [
             0.2412810442
            ],
            "parameters": [
             {
              "iterations": 90,
              "learning_rate": 0.4736842105
             }
            ],
            "passed_time": 119.4491863,
            "remaining_time": 24.46549599,
            "test": [
             0.4272630409,
             0.831016008
            ]
           },
           {
            "iteration": 332,
            "learn": [
             0.2247220555
            ],
            "parameters": [
             {
              "iterations": 90,
              "learning_rate": 0.5263157895
             }
            ],
            "passed_time": 120.1824163,
            "remaining_time": 24.18084653,
            "test": [
             0.4257104103,
             0.8330658106
            ]
           },
           {
            "iteration": 333,
            "learn": [
             0.2236768252
            ],
            "parameters": [
             {
              "iterations": 90,
              "learning_rate": 0.5789473684
             }
            ],
            "passed_time": 120.854732,
            "remaining_time": 23.88147399,
            "test": [
             0.4311055428,
             0.8290529695
            ]
           },
           {
            "iteration": 334,
            "learn": [
             0.2146246405
            ],
            "parameters": [
             {
              "iterations": 90,
              "learning_rate": 0.6315789474
             }
            ],
            "passed_time": 121.5814654,
            "remaining_time": 23.59043358,
            "test": [
             0.4318697881,
             0.8278021199
            ]
           },
           {
            "iteration": 335,
            "learn": [
             0.1971047688
            ],
            "parameters": [
             {
              "iterations": 90,
              "learning_rate": 0.6842105263
             }
            ],
            "passed_time": 122.2932445,
            "remaining_time": 23.29395132,
            "test": [
             0.4284256675,
             0.8317498879
            ]
           },
           {
            "iteration": 336,
            "learn": [
             0.189601832
            ],
            "parameters": [
             {
              "iterations": 90,
              "learning_rate": 0.7368421053
             }
            ],
            "passed_time": 122.9651243,
            "remaining_time": 22.9875455,
            "test": [
             0.4308109881,
             0.8297109308
            ]
           },
           {
            "iteration": 337,
            "learn": [
             0.1873956602
            ],
            "parameters": [
             {
              "iterations": 90,
              "learning_rate": 0.7894736842
             }
            ],
            "passed_time": 123.7196381,
            "remaining_time": 22.6941348,
            "test": [
             0.4391310688,
             0.820517548
            ]
           },
           {
            "iteration": 338,
            "learn": [
             0.1815859153
            ],
            "parameters": [
             {
              "iterations": 90,
              "learning_rate": 0.8421052632
             }
            ],
            "passed_time": 124.4909858,
            "remaining_time": 22.40103285,
            "test": [
             0.4305703617,
             0.8313377583
            ]
           },
           {
            "iteration": 339,
            "learn": [
             0.171718553
            ],
            "parameters": [
             {
              "iterations": 90,
              "learning_rate": 0.8947368421
             }
            ],
            "passed_time": 125.1946088,
            "remaining_time": 22.09316625,
            "test": [
             0.4445951194,
             0.8174085
            ]
           },
           {
            "iteration": 340,
            "learn": [
             0.1645496293
            ],
            "parameters": [
             {
              "iterations": 90,
              "learning_rate": 0.9473684211
             }
            ],
            "passed_time": 125.9282667,
            "remaining_time": 21.78817517,
            "test": [
             0.4456429005,
             0.8164974766
            ]
           },
           {
            "iteration": 341,
            "learn": [
             0.1597377915
            ],
            "parameters": [
             {
              "iterations": 90,
              "learning_rate": 1
             }
            ],
            "passed_time": 126.6624892,
            "remaining_time": 21.48077303,
            "test": [
             0.4411467353,
             0.8207995315
            ]
           },
           {
            "iteration": 342,
            "learn": [
             0.3796526897
            ],
            "parameters": [
             {
              "iterations": 95,
              "learning_rate": 0.05263157895
             }
            ],
            "passed_time": 127.4023988,
            "remaining_time": 21.17182721,
            "test": [
             0.419903241,
             0.8401804694
            ]
           },
           {
            "iteration": 343,
            "learn": [
             0.3614502676
            ],
            "parameters": [
             {
              "iterations": 95,
              "learning_rate": 0.1052631579
             }
            ],
            "passed_time": 128.0731727,
            "remaining_time": 20.84912113,
            "test": [
             0.4199361562,
             0.8407625121
            ]
           },
           {
            "iteration": 344,
            "learn": [
             0.3408459484
            ],
            "parameters": [
             {
              "iterations": 95,
              "learning_rate": 0.1578947368
             }
            ],
            "passed_time": 128.7771539,
            "remaining_time": 20.5296912,
            "test": [
             0.4214025611,
             0.8386078695
            ]
           },
           {
            "iteration": 345,
            "learn": [
             0.3232009676
            ],
            "parameters": [
             {
              "iterations": 95,
              "learning_rate": 0.2105263158
             }
            ],
            "passed_time": 129.5325512,
            "remaining_time": 20.21606291,
            "test": [
             0.4240011136,
             0.8373064075
            ]
           },
           {
            "iteration": 346,
            "learn": [
             0.3015877928
            ],
            "parameters": [
             {
              "iterations": 95,
              "learning_rate": 0.2631578947
             }
            ],
            "passed_time": 130.1989843,
            "remaining_time": 19.88630019,
            "test": [
             0.4233556643,
             0.8380041358
            ]
           },
           {
            "iteration": 347,
            "learn": [
             0.2925369054
            ],
            "parameters": [
             {
              "iterations": 95,
              "learning_rate": 0.3157894737
             }
            ],
            "passed_time": 130.9631004,
            "remaining_time": 19.56919891,
            "test": [
             0.4275884,
             0.8326934479
            ]
           },
           {
            "iteration": 348,
            "learn": [
             0.2724182359
            ],
            "parameters": [
             {
              "iterations": 95,
              "learning_rate": 0.3684210526
             }
            ],
            "passed_time": 131.7037675,
            "remaining_time": 19.24610929,
            "test": [
             0.4277571785,
             0.8323283155
            ]
           },
           {
            "iteration": 349,
            "learn": [
             0.2515380615
            ],
            "parameters": [
             {
              "iterations": 95,
              "learning_rate": 0.4210526316
             }
            ],
            "passed_time": 132.4443591,
            "remaining_time": 18.92062273,
            "test": [
             0.4301411019,
             0.8285866123
            ]
           },
           {
            "iteration": 350,
            "learn": [
             0.2349851658
            ],
            "parameters": [
             {
              "iterations": 95,
              "learning_rate": 0.4736842105
             }
            ],
            "passed_time": 133.1850307,
            "remaining_time": 18.59278206,
            "test": [
             0.4272630409,
             0.831016008
            ]
           },
           {
            "iteration": 351,
            "learn": [
             0.2198535749
            ],
            "parameters": [
             {
              "iterations": 95,
              "learning_rate": 0.5263157895
             }
            ],
            "passed_time": 133.9508103,
            "remaining_time": 18.26601959,
            "test": [
             0.4257104103,
             0.8330658106
            ]
           },
           {
            "iteration": 352,
            "learn": [
             0.2156391218
            ],
            "parameters": [
             {
              "iterations": 95,
              "learning_rate": 0.5789473684
             }
            ],
            "passed_time": 134.7085201,
            "remaining_time": 17.93569531,
            "test": [
             0.4311055428,
             0.8290529695
            ]
           },
           {
            "iteration": 353,
            "learn": [
             0.2057441423
            ],
            "parameters": [
             {
              "iterations": 95,
              "learning_rate": 0.6315789474
             }
            ],
            "passed_time": 135.4582833,
            "remaining_time": 17.60192382,
            "test": [
             0.4318697881,
             0.8278021199
            ]
           },
           {
            "iteration": 354,
            "learn": [
             0.1886400226
            ],
            "parameters": [
             {
              "iterations": 95,
              "learning_rate": 0.6842105263
             }
            ],
            "passed_time": 136.2746216,
            "remaining_time": 17.2742478,
            "test": [
             0.4284256675,
             0.8317498879
            ]
           },
           {
            "iteration": 355,
            "learn": [
             0.183221885
            ],
            "parameters": [
             {
              "iterations": 95,
              "learning_rate": 0.7368421053
             }
            ],
            "passed_time": 137.0502536,
            "remaining_time": 16.93879539,
            "test": [
             0.4308109881,
             0.8297109308
            ]
           },
           {
            "iteration": 356,
            "learn": [
             0.1801627045
            ],
            "parameters": [
             {
              "iterations": 95,
              "learning_rate": 0.7894736842
             }
            ],
            "passed_time": 137.7943317,
            "remaining_time": 16.59707636,
            "test": [
             0.4391310688,
             0.820517548
            ]
           },
           {
            "iteration": 357,
            "learn": [
             0.1746305392
            ],
            "parameters": [
             {
              "iterations": 95,
              "learning_rate": 0.8421052632
             }
            ],
            "passed_time": 138.4904993,
            "remaining_time": 16.24748874,
            "test": [
             0.4305703617,
             0.8313377583
            ]
           },
           {
            "iteration": 358,
            "learn": [
             0.1608817354
            ],
            "parameters": [
             {
              "iterations": 95,
              "learning_rate": 0.8947368421
             }
            ],
            "passed_time": 139.2566831,
            "remaining_time": 15.90396659,
            "test": [
             0.4445951194,
             0.8174085
            ]
           },
           {
            "iteration": 359,
            "learn": [
             0.1574859595
            ],
            "parameters": [
             {
              "iterations": 95,
              "learning_rate": 0.9473684211
             }
            ],
            "passed_time": 140.0045665,
            "remaining_time": 15.55606294,
            "test": [
             0.4456429005,
             0.8164974766
            ]
           },
           {
            "iteration": 360,
            "learn": [
             0.1528156868
            ],
            "parameters": [
             {
              "iterations": 95,
              "learning_rate": 1
             }
            ],
            "passed_time": 140.6999989,
            "remaining_time": 15.20027689,
            "test": [
             0.4411467353,
             0.8207995315
            ]
           }
          ],
          "meta": {
           "iteration_count": 400,
           "launch_mode": "Train",
           "learn_metrics": [
            {
             "best_value": "Min",
             "name": "Logloss"
            }
           ],
           "learn_sets": [
            "learn"
           ],
           "name": "experiment",
           "parameters": "parameters",
           "test_metrics": [
            {
             "best_value": "Min",
             "name": "Logloss"
            },
            {
             "best_value": "Max",
             "name": "AUC"
            }
           ],
           "test_sets": [
            "test"
           ]
          }
         },
         "passed_iterations": 360,
         "total_iterations": 400
        },
        "name": "catboost_info",
        "path": "catboost_info"
       }
      },
      "layout": "IPY_MODEL_f0f3fe2b8f4343cab15a8f3ae3fdcb04"
     }
    }
   }
  }
 },
 "nbformat": 4,
 "nbformat_minor": 1
}
