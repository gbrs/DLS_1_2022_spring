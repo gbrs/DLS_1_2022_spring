{
 "cells": [
  {
   "cell_type": "markdown",
   "metadata": {
    "id": "TK7oX5qdEEYr"
   },
   "source": [
    "<p style=\"align: center;\"><img align=center src=\"https://s8.hostingkartinok.com/uploads/images/2018/08/308b49fcfbc619d629fe4604bceb67ac.jpg\" width=500 height=450/></p>\n",
    "\n",
    "<h3 style=\"text-align: center;\"><b>Школа глубокого обучения ФПМИ МФТИ</b></h3>\n",
    "\n",
    "<h3 style=\"text-align: center;\"><b>Домашнее задание. Продвинутый поток. Весна 2021</b></h3>\n",
    "\n",
    "Это домашнее задание будет посвящено полноценному решению задачи машинного обучения."
   ]
  },
  {
   "cell_type": "markdown",
   "metadata": {
    "id": "zlB-owfaEEYs"
   },
   "source": [
    "Есть две части этого домашнего задания: \n",
    "* Сделать полноценный отчет о вашей работе: как вы обработали данные, какие модели попробовали и какие результаты получились (максимум 10 баллов). За каждую выполненную часть будет начислено определенное количество баллов.\n",
    "* Лучшее решение отправить в соревнование на [kaggle](https://www.kaggle.com/c/advanced-dls-spring-2021/) (максимум 5 баллов). За прохождение определенного порогов будут начисляться баллы.\n",
    "\n",
    "\n",
    "**Обе части будут проверяться в формате peer-review. Т.е. вашу посылку на степик будут проверять несколько других студентов и аггрегация их оценок будет выставлена. В то же время вам тоже нужно будет проверить несколько других учеников.**\n",
    "\n",
    "**Пожалуйста, делайте свою работу чистой и понятной, чтобы облегчить проверку. Если у вас будут проблемы с решением или хочется совета, то пишите в наш чат в телеграме или в лс @runfme. Если вы захотите проаппелировать оценку, то пипшите в лс @runfme.**\n",
    "\n",
    "**Во всех пунктах указания это минимальный набор вещей, которые стоит сделать. Если вы можете сделать какой-то шаг лучше или добавить что-то свое - дерзайте!**"
   ]
  },
  {
   "cell_type": "markdown",
   "metadata": {
    "id": "Tu_JvqcBEN8Y"
   },
   "source": [
    "# Как проверять?\n",
    "\n",
    "Ставьте полный балл, если выполнены все рекомендации или сделано что-то более интересное и сложное. За каждый отсустствующий пункт из рекомендация снижайте 1 балл."
   ]
  },
  {
   "cell_type": "markdown",
   "metadata": {
    "id": "ninJ63mJEEYt"
   },
   "source": [
    "# Метрика\n",
    "\n",
    "Перед решением любой задачи важно понимать, как будет оцениваться ваше решение. В данном случае мы используем стандартную для задачи классификации метрику ROC-AUC. Ее можно вычислить используя только предсказанные вероятности и истинные классы без конкретного порога классификации + она раотает даже если классы в данных сильно несбалансированны (примеров одного класса в десятки раз больше примеров длугого). Именно поэтому она очень удобна для соревнований.\n",
    "\n",
    "Посчитать ее легко:\n"
   ]
  },
  {
   "cell_type": "markdown",
   "metadata": {
    "id": "IrDNNkNTEEYz"
   },
   "source": [
    "# Первая часть. Исследование"
   ]
  },
  {
   "cell_type": "code",
   "execution_count": 1,
   "metadata": {
    "id": "lzLqEeZKEEYz"
   },
   "outputs": [],
   "source": [
    "import pandas as pd\n",
    "import numpy as np\n",
    "from matplotlib import pyplot as plt\n",
    "\n",
    "from sklearn.metrics import roc_auc_score\n",
    "from sklearn.linear_model import LogisticRegression, LogisticRegressionCV\n",
    "from sklearn.model_selection import train_test_split, GridSearchCV\n",
    "from sklearn.preprocessing import StandardScaler, RobustScaler, LabelEncoder, OneHotEncoder\n",
    "from sklearn.pipeline import make_pipeline\n",
    "from sklearn.compose import ColumnTransformer"
   ]
  },
  {
   "cell_type": "markdown",
   "metadata": {
    "id": "LOlxdURSEEY3"
   },
   "source": [
    "## Загрузка данных (2 балла)\n",
    "\n",
    "1) Посмотрите на случайные строчки. \n",
    "\n",
    "2) Посмотрите, есть ли в датасете незаполненные значения (nan'ы) с помощью data.isna() или data.info() и, если нужно, замените их на что-то. Будет хорошо, если вы построите табличку с количеством nan в каждой колонке."
   ]
  },
  {
   "cell_type": "code",
   "execution_count": 2,
   "metadata": {
    "id": "pw-Brue9EEY3"
   },
   "outputs": [],
   "source": [
    "data = pd.read_csv('./train.csv')"
   ]
  },
  {
   "cell_type": "code",
   "execution_count": 3,
   "metadata": {
    "id": "sLoe4b_owOqK"
   },
   "outputs": [],
   "source": [
    "num_features = [\n",
    "    'ClientPeriod',\n",
    "    'MonthlySpending',\n",
    "    'TotalSpent'\n",
    "]\n",
    "\n",
    "cat_features = [\n",
    "    'Sex',\n",
    "    'IsSeniorCitizen',\n",
    "    'HasPartner',\n",
    "    'HasChild',\n",
    "    'HasPhoneService',\n",
    "    'HasMultiplePhoneNumbers',\n",
    "    'HasInternetService',\n",
    "    'HasOnlineSecurityService',\n",
    "    'HasOnlineBackup',\n",
    "    'HasDeviceProtection',\n",
    "    'HasTechSupportAccess',\n",
    "    'HasOnlineTV',\n",
    "    'HasMovieSubscription',\n",
    "    'HasContractPhone',\n",
    "    'IsBillingPaperless',\n",
    "    'PaymentMethod'\n",
    "]\n",
    "\n",
    "feature_cols = num_features + cat_features\n",
    "target_col = 'Churn'"
   ]
  },
  {
   "cell_type": "code",
   "execution_count": 4,
   "metadata": {
    "colab": {
     "base_uri": "https://localhost:8080/"
    },
    "id": "4dBsJjc3aCVv",
    "outputId": "15d84bc9-c589-4781-ca4e-975cf2d731e2"
   },
   "outputs": [
    {
     "name": "stdout",
     "output_type": "stream",
     "text": [
      "ClientPeriod                0\n",
      "MonthlySpending             0\n",
      "TotalSpent                  9\n",
      "Sex                         0\n",
      "IsSeniorCitizen             0\n",
      "HasPartner                  0\n",
      "HasChild                    0\n",
      "HasPhoneService             0\n",
      "HasMultiplePhoneNumbers     0\n",
      "HasInternetService          0\n",
      "HasOnlineSecurityService    0\n",
      "HasOnlineBackup             0\n",
      "HasDeviceProtection         0\n",
      "HasTechSupportAccess        0\n",
      "HasOnlineTV                 0\n",
      "HasMovieSubscription        0\n",
      "HasContractPhone            0\n",
      "IsBillingPaperless          0\n",
      "PaymentMethod               0\n",
      "dtype: int64\n"
     ]
    }
   ],
   "source": [
    "print((data[feature_cols] == ' ').sum())"
   ]
  },
  {
   "cell_type": "code",
   "execution_count": 5,
   "metadata": {
    "id": "tHC6gWabEEZA"
   },
   "outputs": [],
   "source": [
    "def preprocessing(data):\n",
    "    data['TotalSpent'] = pd.to_numeric(data['TotalSpent'], errors='coerce') # Тип столбца TotalSpent = str,так как там есть пустые строки, поэтому кастую его к числовому\n",
    "    data = data.fillna(data['TotalSpent'].mean()) # Замена nan-значений средним значением в столбце TotalSpent\n",
    "    print(data.shape == data.dropna().shape) # Проверка отстуствия nan-значений\n",
    "\n",
    "    return data\n"
   ]
  },
  {
   "cell_type": "code",
   "execution_count": 6,
   "metadata": {
    "colab": {
     "base_uri": "https://localhost:8080/"
    },
    "id": "cc2TiYp-bDot",
    "outputId": "2de5564a-21bd-43e1-83e0-e9c906990a3f"
   },
   "outputs": [
    {
     "name": "stdout",
     "output_type": "stream",
     "text": [
      "True\n",
      "ClientPeriod                              19\n",
      "MonthlySpending                         88.2\n",
      "TotalSpent                            1775.8\n",
      "Sex                                     Male\n",
      "IsSeniorCitizen                            1\n",
      "HasPartner                                No\n",
      "HasChild                                  No\n",
      "HasPhoneService                          Yes\n",
      "HasMultiplePhoneNumbers                  Yes\n",
      "HasInternetService               Fiber optic\n",
      "HasOnlineSecurityService                  No\n",
      "HasOnlineBackup                          Yes\n",
      "HasDeviceProtection                       No\n",
      "HasTechSupportAccess                      No\n",
      "HasOnlineTV                              Yes\n",
      "HasMovieSubscription                      No\n",
      "HasContractPhone              Month-to-month\n",
      "IsBillingPaperless                       Yes\n",
      "PaymentMethod               Electronic check\n",
      "Churn                                      1\n",
      "Name: 922, dtype: object\n",
      "False    5282\n",
      "Name: ClientPeriod, dtype: int64\n",
      "False    5282\n",
      "Name: MonthlySpending, dtype: int64\n",
      "False    5282\n",
      "Name: TotalSpent, dtype: int64\n",
      "False    5282\n",
      "Name: Sex, dtype: int64\n",
      "False    5282\n",
      "Name: IsSeniorCitizen, dtype: int64\n",
      "False    5282\n",
      "Name: HasPartner, dtype: int64\n",
      "False    5282\n",
      "Name: HasChild, dtype: int64\n",
      "False    5282\n",
      "Name: HasPhoneService, dtype: int64\n",
      "False    5282\n",
      "Name: HasMultiplePhoneNumbers, dtype: int64\n",
      "False    5282\n",
      "Name: HasInternetService, dtype: int64\n",
      "False    5282\n",
      "Name: HasOnlineSecurityService, dtype: int64\n",
      "False    5282\n",
      "Name: HasOnlineBackup, dtype: int64\n",
      "False    5282\n",
      "Name: HasDeviceProtection, dtype: int64\n",
      "False    5282\n",
      "Name: HasTechSupportAccess, dtype: int64\n",
      "False    5282\n",
      "Name: HasOnlineTV, dtype: int64\n",
      "False    5282\n",
      "Name: HasMovieSubscription, dtype: int64\n",
      "False    5282\n",
      "Name: HasContractPhone, dtype: int64\n",
      "False    5282\n",
      "Name: IsBillingPaperless, dtype: int64\n",
      "False    5282\n",
      "Name: PaymentMethod, dtype: int64\n",
      "False    5282\n",
      "Name: Churn, dtype: int64\n"
     ]
    }
   ],
   "source": [
    "data = preprocessing(data)\n",
    "\n",
    "random_str = np.random.randint(0,data.shape[0]) # Вывод рандомной строки\n",
    "print(data.iloc[random_str,:])\n",
    "\n",
    "# Вывод количества всех НЕ nan значений в столбце\n",
    "for col in feature_cols:\n",
    "  print(data[col].isna().value_counts())\n",
    "print(data[target_col].isna().value_counts())"
   ]
  },
  {
   "cell_type": "markdown",
   "metadata": {
    "id": "dK370bPCEEZD"
   },
   "source": [
    "## Анализ данных (3 балла)\n",
    "\n",
    "1) Для численных призанков постройте гистограмму (*plt.hist(...)*) или boxplot (*plt.boxplot(...)*). Для категориальных посчитайте количество каждого значения для каждого признака. Для каждой колонки надо сделать *data.value_counts()* и построить bar диаграммы *plt.bar(...)* или круговые диаграммы *plt.pie(...)* (хорошо, елси вы сможете это сделать на одном гарфике с помощью *plt.subplots(...)*). \n",
    "\n",
    "2) Посмотрите на распределение целевой переменной и скажите, являются ли классы несбалансированными.\n",
    "\n",
    "3) (Если будет желание) Поиграйте с разными библиотеками для визуализации - *sns*, *pandas_visual_analysis*, etc.\n",
    "\n",
    "Второй пункт очень важен, потому что существуют задачи классификации с несбалансированными классами. Например, это может значить, что в датасете намного больше примеров 0 класса. В таких случаях нужно 1) не использовать accuracy как метрику 2) использовать методы борьбы с imbalanced dataset (обычно если датасет сильно несбалансирован, т.е. класса 1 в 20 раз меньше класса 0)."
   ]
  },
  {
   "cell_type": "code",
   "execution_count": 7,
   "metadata": {
    "colab": {
     "base_uri": "https://localhost:8080/",
     "height": 1000
    },
    "id": "NZkbgFJZEEZE",
    "outputId": "bf8c6717-2c9e-4dc6-93d7-8463b4349042"
   },
   "outputs": [
    {
     "name": "stdout",
     "output_type": "stream",
     "text": [
      "0    3898\n",
      "1    1384\n",
      "Name: Churn, dtype: int64\n"
     ]
    },
    {
     "data": {
      "image/png": "[encoded data removed]",
      "text/plain": [
       "<Figure size 432x288 with 4 Axes>"
      ]
     },
     "metadata": {
      "needs_background": "light"
     },
     "output_type": "display_data"
    },
    {
     "data": {
      "image/png": "[encoded data removed]",
      "text/plain": [
       "<Figure size 2160x2160 with 16 Axes>"
      ]
     },
     "metadata": {},
     "output_type": "display_data"
    },
    {
     "name": "stdout",
     "output_type": "stream",
     "text": [
      "0    0.737978\n",
      "1    0.262022\n",
      "Name: Churn, dtype: float64\n"
     ]
    },
    {
     "data": {
      "image/png": "[encoded data removed]",
      "text/plain": [
       "<Figure size 432x288 with 1 Axes>"
      ]
     },
     "metadata": {
      "needs_background": "light"
     },
     "output_type": "display_data"
    }
   ],
   "source": [
    "data.hist(column=num_features)\n",
    "\n",
    "fig, ax = plt.subplots(4,4, figsize=(30,30))\n",
    "\n",
    "for i in range(4):\n",
    "  for j in range(4):\n",
    "        ax[i,j].pie(data[cat_features[4*i + j]].value_counts(), labels = data[cat_features[4*i + j]].unique())\n",
    "\n",
    "print(data[target_col].value_counts())\n",
    "plt.show()\n",
    "\n",
    "data.hist(column=target_col)\n",
    "print(data[target_col].value_counts()/len(data)) # Классы несбалансированны"
   ]
  },
  {
   "cell_type": "markdown",
   "metadata": {
    "id": "zg60u3QDEEZH"
   },
   "source": [
    "(Дополнительно) Если вы нашли какие-то ошибки в данных или выбросы, то можете их убрать. Тут можно поэксперементировать с обработкой данных как угодно, но не за баллы."
   ]
  },
  {
   "cell_type": "markdown",
   "metadata": {
    "id": "DviiJd8REEZK"
   },
   "source": [
    "## Применение линейных моделей (3 балла)\n",
    "\n",
    "1) Обработайте данные для того, чтобы к ним можно было применить LogisticRegression. Т.е. отнормируйте числовые признаки, а категориальные закодируйте с помощью one-hot-encoding'а. \n",
    "\n",
    "2) С помощью кроссвалидации или разделения на train/valid выборку протестируйте разные значения гиперпараметра C и выберите лучший (можно тестировать С=100, 10, 1, 0.1, 0.01, 0.001) по метрике ROC-AUC. \n",
    "\n",
    "Если вы разделяете на train/valid, то используйте LogisticRegressionCV. Он сам при вызове .fit() подберет параметр С. (не забудьте передать scroing='roc_auc', чтобы при кроссвалидации сравнивались значения этой метрики, и refit=True, чтобы при потом модель обучилась на всем датасете с лучшим параметром C). \n",
    "\n",
    "\n",
    "(более сложный вариант) Если вы будете использовать кроссвалидацию, то преобразования данных и LogisticRegression нужно соединить в один Pipeline с помощью make_pipeline, как это делалось во втором семинаре. Потом pipeline надо передать в GridSearchCV. Для one-hot-encoding'a можно испльзовать комбинацию LabelEncoder + OneHotEncoder (сначала превращаем строчки в числа, а потом числа првращаем в one-hot вектора.)"
   ]
  },
  {
   "cell_type": "code",
   "execution_count": 8,
   "metadata": {
    "id": "XOMubWyjCMt-"
   },
   "outputs": [],
   "source": [
    "X = data[feature_cols]\n",
    "y = data[target_col]"
   ]
  },
  {
   "cell_type": "code",
   "execution_count": 10,
   "metadata": {
    "colab": {
     "base_uri": "https://localhost:8080/"
    },
    "id": "P2Yv3uYtEEZO",
    "outputId": "aadc80a1-1960-4f15-db16-b8b6a31b14d8"
   },
   "outputs": [
    {
     "name": "stdout",
     "output_type": "stream",
     "text": [
      "Fitting 5 folds for each of 1 candidates, totalling 5 fits\n"
     ]
    },
    {
     "name": "stderr",
     "output_type": "stream",
     "text": [
      "C:\\ProgramData\\Anaconda3\\lib\\site-packages\\sklearn\\linear_model\\_sag.py:328: ConvergenceWarning: The max_iter was reached which means the coef_ did not converge\n",
      "  warnings.warn(\"The max_iter was reached which means \"\n"
     ]
    },
    {
     "data": {
      "text/plain": [
       "GridSearchCV(cv=5,\n",
       "             estimator=Pipeline(steps=[('columntransformer',\n",
       "                                        ColumnTransformer(transformers=[('num_feature',\n",
       "                                                                         StandardScaler(),\n",
       "                                                                         ['ClientPeriod',\n",
       "                                                                          'MonthlySpending',\n",
       "                                                                          'TotalSpent']),\n",
       "                                                                        ('oh_cat_feature',\n",
       "                                                                         OneHotEncoder(),\n",
       "                                                                         ['Sex',\n",
       "                                                                          'IsSeniorCitizen',\n",
       "                                                                          'HasPartner',\n",
       "                                                                          'HasChild',\n",
       "                                                                          'HasPhoneService',\n",
       "                                                                          'HasMultiplePhoneNumbers',\n",
       "                                                                          'HasInternetService',\n",
       "                                                                          'HasOnlineSecurityService',\n",
       "                                                                          'HasOnlineBackup',\n",
       "                                                                          'HasDeviceProtection',\n",
       "                                                                          'HasTechSupportAccess',\n",
       "                                                                          'HasOnlineTV',\n",
       "                                                                          'HasMovieSubscription',\n",
       "                                                                          'HasContractPhone',\n",
       "                                                                          'IsBillingPaperless',\n",
       "                                                                          'PaymentMethod'])])),\n",
       "                                       ('logisticregression',\n",
       "                                        LogisticRegression())]),\n",
       "             n_jobs=-1,\n",
       "             param_grid={'logisticregression__C': [100],\n",
       "                         'logisticregression__max_iter': [100],\n",
       "                         'logisticregression__solver': ['saga']},\n",
       "             scoring='roc_auc', verbose=10)"
      ]
     },
     "execution_count": 10,
     "metadata": {},
     "output_type": "execute_result"
    }
   ],
   "source": [
    "col_transformer = ColumnTransformer(transformers=[('num_feature', StandardScaler(), num_features),\n",
    "                                    ('oh_cat_feature', OneHotEncoder(), cat_features)])\n",
    "pipeline = make_pipeline(col_transformer, \n",
    "                    LogisticRegression())\n",
    "params = {\n",
    "    'logisticregression__max_iter': [100],\n",
    "    'logisticregression__C': [100], \n",
    "    'logisticregression__solver': ['saga']\n",
    "}\n",
    "\n",
    "lin_model = GridSearchCV(estimator = pipeline,\n",
    "                        param_grid = params,\n",
    "                        cv=5,\n",
    "                        scoring='roc_auc',\n",
    "                        n_jobs=-1,\n",
    "                        verbose=10)\n",
    "\n",
    "lin_model.fit(X, y)"
   ]
  },
  {
   "cell_type": "code",
   "execution_count": 11,
   "metadata": {
    "colab": {
     "base_uri": "https://localhost:8080/"
    },
    "id": "xSLp5Z4u-mDL",
    "outputId": "b62bfcf6-01da-441a-e70f-8952695440b2"
   },
   "outputs": [
    {
     "name": "stdout",
     "output_type": "stream",
     "text": [
      "0.8488741632732957\n",
      "{'logisticregression__C': 100, 'logisticregression__max_iter': 100, 'logisticregression__solver': 'saga'}\n"
     ]
    }
   ],
   "source": [
    "y_predict = lin_model.predict_proba(X)[:, 1]\n",
    "\n",
    "res = roc_auc_score(y, y_predict)\n",
    "print(res)\n",
    "print(lin_model.best_params_)"
   ]
  },
  {
   "cell_type": "markdown",
   "metadata": {
    "id": "uVahy6JKEEZQ"
   },
   "source": [
    "Выпишите какое лучшее качество и с какими параметрами вам удалось получить"
   ]
  },
  {
   "cell_type": "markdown",
   "metadata": {
    "id": "36729TOQEEZR"
   },
   "source": []
  },
  {
   "cell_type": "markdown",
   "metadata": {
    "id": "BlTeVy7fEEZR"
   },
   "source": [
    "## Применение градиентного бустинга (2 балла)\n",
    "\n",
    "Если вы хотите получить баллы за точный ответ, то стоит попробовать градиентный бустинг. Часто градиентный бустинг с дефолтными параметрами даст вам 80% результата за 0% усилий.\n",
    "\n",
    "Мы будем использовать catboost, поэтому нам не надо кодировать категориальные признаки. catboost сделает это сам (в .fit() надо передать cat_features=cat_cols). А численные признаки нормировать для моделей, основанных на деревьях не нужно.\n",
    "\n",
    "1) Разделите выборку на train/valid. Протестируйте catboost cо стандартными параметрами.\n",
    "\n",
    "2) Протестируйте разные занчения параметроа количества деревьев и learning_rate'а и выберите лучшую по метрике ROC-AUC комбинацию. \n",
    "\n",
    "(Дополнительно) Есть некоторые сложности с тем, чтобы использовать CatBoostClassifier вместе с GridSearchCV, поэтому мы не просим использовать кроссвалидацию. Но можете попробовать)"
   ]
  },
  {
   "cell_type": "code",
   "execution_count": 36,
   "metadata": {
    "colab": {
     "base_uri": "https://localhost:8080/"
    },
    "id": "sKMetFnuYU5l",
    "outputId": "584db581-6fca-4120-9de7-8712cd09a971"
   },
   "outputs": [
    {
     "name": "stdout",
     "output_type": "stream",
     "text": [
      "Collecting catboost\n",
      "  Downloading catboost-1.0.5-cp37-none-manylinux1_x86_64.whl (76.6 MB)\n",
      "\u001b[K     |████████████████████████████████| 76.6 MB 1.4 MB/s \n",
      "\u001b[?25hRequirement already satisfied: pandas>=0.24.0 in /usr/local/lib/python3.7/dist-packages (from catboost) (1.3.5)\n",
      "Requirement already satisfied: six in /usr/local/lib/python3.7/dist-packages (from catboost) (1.15.0)\n",
      "Requirement already satisfied: numpy>=1.16.0 in /usr/local/lib/python3.7/dist-packages (from catboost) (1.21.5)\n",
      "Requirement already satisfied: plotly in /usr/local/lib/python3.7/dist-packages (from catboost) (5.5.0)\n",
      "Requirement already satisfied: matplotlib in /usr/local/lib/python3.7/dist-packages (from catboost) (3.2.2)\n",
      "Requirement already satisfied: graphviz in /usr/local/lib/python3.7/dist-packages (from catboost) (0.10.1)\n",
      "Requirement already satisfied: scipy in /usr/local/lib/python3.7/dist-packages (from catboost) (1.4.1)\n",
      "Requirement already satisfied: python-dateutil>=2.7.3 in /usr/local/lib/python3.7/dist-packages (from pandas>=0.24.0->catboost) (2.8.2)\n",
      "Requirement already satisfied: pytz>=2017.3 in /usr/local/lib/python3.7/dist-packages (from pandas>=0.24.0->catboost) (2018.9)\n",
      "Requirement already satisfied: cycler>=0.10 in /usr/local/lib/python3.7/dist-packages (from matplotlib->catboost) (0.11.0)\n",
      "Requirement already satisfied: kiwisolver>=1.0.1 in /usr/local/lib/python3.7/dist-packages (from matplotlib->catboost) (1.4.0)\n",
      "Requirement already satisfied: pyparsing!=2.0.4,!=2.1.2,!=2.1.6,>=2.0.1 in /usr/local/lib/python3.7/dist-packages (from matplotlib->catboost) (3.0.7)\n",
      "Requirement already satisfied: typing-extensions in /usr/local/lib/python3.7/dist-packages (from kiwisolver>=1.0.1->matplotlib->catboost) (3.10.0.2)\n",
      "Requirement already satisfied: tenacity>=6.2.0 in /usr/local/lib/python3.7/dist-packages (from plotly->catboost) (8.0.1)\n",
      "Installing collected packages: catboost\n",
      "Successfully installed catboost-1.0.5\n"
     ]
    }
   ],
   "source": [
    "!pip install catboost"
   ]
  },
  {
   "cell_type": "code",
   "execution_count": 12,
   "metadata": {
    "id": "Fioxxlp-EEZS"
   },
   "outputs": [],
   "source": [
    "import catboost\n",
    "from catboost.core import CatBoostClassifier"
   ]
  },
  {
   "cell_type": "code",
   "execution_count": 13,
   "metadata": {
    "colab": {
     "base_uri": "https://localhost:8080/"
    },
    "id": "8C9B-HgzYcVq",
    "outputId": "543e6a9f-a729-485c-c4b4-83136b25fc87"
   },
   "outputs": [
    {
     "name": "stdout",
     "output_type": "stream",
     "text": [
      "0:\tlearn: 0.6671494\ttotal: 87.6ms\tremaining: 34.9s\n",
      "1:\tlearn: 0.6418686\ttotal: 113ms\tremaining: 22.5s\n",
      "2:\tlearn: 0.6209461\ttotal: 138ms\tremaining: 18.2s\n",
      "3:\tlearn: 0.6010792\ttotal: 161ms\tremaining: 16s\n",
      "4:\tlearn: 0.5852815\ttotal: 183ms\tremaining: 14.5s\n",
      "5:\tlearn: 0.5692784\ttotal: 210ms\tremaining: 13.8s\n",
      "6:\tlearn: 0.5554412\ttotal: 233ms\tremaining: 13.1s\n",
      "7:\tlearn: 0.5435135\ttotal: 253ms\tremaining: 12.4s\n",
      "8:\tlearn: 0.5317826\ttotal: 279ms\tremaining: 12.1s\n",
      "9:\tlearn: 0.5213595\ttotal: 308ms\tremaining: 12s\n",
      "10:\tlearn: 0.5113411\ttotal: 330ms\tremaining: 11.7s\n",
      "11:\tlearn: 0.5041517\ttotal: 348ms\tremaining: 11.2s\n",
      "12:\tlearn: 0.4969307\ttotal: 370ms\tremaining: 11s\n",
      "13:\tlearn: 0.4900497\ttotal: 390ms\tremaining: 10.8s\n",
      "14:\tlearn: 0.4840484\ttotal: 413ms\tremaining: 10.6s\n",
      "15:\tlearn: 0.4789160\ttotal: 433ms\tremaining: 10.4s\n",
      "16:\tlearn: 0.4734193\ttotal: 455ms\tremaining: 10.2s\n",
      "17:\tlearn: 0.4682439\ttotal: 479ms\tremaining: 10.2s\n",
      "18:\tlearn: 0.4642582\ttotal: 496ms\tremaining: 9.94s\n",
      "19:\tlearn: 0.4600218\ttotal: 521ms\tremaining: 9.89s\n",
      "20:\tlearn: 0.4563283\ttotal: 544ms\tremaining: 9.81s\n",
      "21:\tlearn: 0.4525777\ttotal: 568ms\tremaining: 9.75s\n",
      "22:\tlearn: 0.4495129\ttotal: 588ms\tremaining: 9.64s\n",
      "23:\tlearn: 0.4463193\ttotal: 609ms\tremaining: 9.55s\n",
      "24:\tlearn: 0.4433104\ttotal: 632ms\tremaining: 9.48s\n",
      "25:\tlearn: 0.4406778\ttotal: 655ms\tremaining: 9.43s\n",
      "26:\tlearn: 0.4382633\ttotal: 676ms\tremaining: 9.34s\n",
      "27:\tlearn: 0.4357810\ttotal: 699ms\tremaining: 9.29s\n",
      "28:\tlearn: 0.4337376\ttotal: 723ms\tremaining: 9.25s\n",
      "29:\tlearn: 0.4326176\ttotal: 738ms\tremaining: 9.1s\n",
      "30:\tlearn: 0.4311892\ttotal: 750ms\tremaining: 8.93s\n",
      "31:\tlearn: 0.4293101\ttotal: 772ms\tremaining: 8.88s\n",
      "32:\tlearn: 0.4278510\ttotal: 791ms\tremaining: 8.8s\n",
      "33:\tlearn: 0.4262700\ttotal: 813ms\tremaining: 8.75s\n",
      "34:\tlearn: 0.4250738\ttotal: 834ms\tremaining: 8.69s\n",
      "35:\tlearn: 0.4234562\ttotal: 858ms\tremaining: 8.68s\n",
      "36:\tlearn: 0.4222443\ttotal: 879ms\tremaining: 8.63s\n",
      "37:\tlearn: 0.4209999\ttotal: 901ms\tremaining: 8.59s\n",
      "38:\tlearn: 0.4195874\ttotal: 926ms\tremaining: 8.57s\n",
      "39:\tlearn: 0.4190317\ttotal: 936ms\tremaining: 8.43s\n",
      "40:\tlearn: 0.4182122\ttotal: 954ms\tremaining: 8.35s\n",
      "41:\tlearn: 0.4171270\ttotal: 977ms\tremaining: 8.32s\n",
      "42:\tlearn: 0.4157175\ttotal: 998ms\tremaining: 8.29s\n",
      "43:\tlearn: 0.4144414\ttotal: 1.02s\tremaining: 8.26s\n",
      "44:\tlearn: 0.4135924\ttotal: 1.04s\tremaining: 8.21s\n",
      "45:\tlearn: 0.4128940\ttotal: 1.06s\tremaining: 8.16s\n",
      "46:\tlearn: 0.4119708\ttotal: 1.08s\tremaining: 8.14s\n",
      "47:\tlearn: 0.4113228\ttotal: 1.11s\tremaining: 8.12s\n",
      "48:\tlearn: 0.4106362\ttotal: 1.13s\tremaining: 8.07s\n",
      "49:\tlearn: 0.4096939\ttotal: 1.15s\tremaining: 8.04s\n",
      "50:\tlearn: 0.4090049\ttotal: 1.17s\tremaining: 8.02s\n",
      "51:\tlearn: 0.4083943\ttotal: 1.19s\tremaining: 7.98s\n",
      "52:\tlearn: 0.4077679\ttotal: 1.22s\tremaining: 7.97s\n",
      "53:\tlearn: 0.4071710\ttotal: 1.24s\tremaining: 7.94s\n",
      "54:\tlearn: 0.4070646\ttotal: 1.25s\tremaining: 7.82s\n",
      "55:\tlearn: 0.4064234\ttotal: 1.27s\tremaining: 7.8s\n",
      "56:\tlearn: 0.4060180\ttotal: 1.29s\tremaining: 7.77s\n",
      "57:\tlearn: 0.4053606\ttotal: 1.31s\tremaining: 7.75s\n",
      "58:\tlearn: 0.4047941\ttotal: 1.34s\tremaining: 7.72s\n",
      "59:\tlearn: 0.4042598\ttotal: 1.36s\tremaining: 7.69s\n",
      "60:\tlearn: 0.4038586\ttotal: 1.38s\tremaining: 7.65s\n",
      "61:\tlearn: 0.4032191\ttotal: 1.4s\tremaining: 7.63s\n",
      "62:\tlearn: 0.4027506\ttotal: 1.42s\tremaining: 7.61s\n",
      "63:\tlearn: 0.4026084\ttotal: 1.43s\tremaining: 7.53s\n",
      "64:\tlearn: 0.4020371\ttotal: 1.46s\tremaining: 7.51s\n",
      "65:\tlearn: 0.4016070\ttotal: 1.48s\tremaining: 7.48s\n",
      "66:\tlearn: 0.4010708\ttotal: 1.5s\tremaining: 7.45s\n",
      "67:\tlearn: 0.4003341\ttotal: 1.52s\tremaining: 7.44s\n",
      "68:\tlearn: 0.3999299\ttotal: 1.54s\tremaining: 7.42s\n",
      "69:\tlearn: 0.3995920\ttotal: 1.57s\tremaining: 7.4s\n",
      "70:\tlearn: 0.3991100\ttotal: 1.59s\tremaining: 7.38s\n",
      "71:\tlearn: 0.3987474\ttotal: 1.61s\tremaining: 7.36s\n",
      "72:\tlearn: 0.3986008\ttotal: 1.64s\tremaining: 7.33s\n",
      "73:\tlearn: 0.3985078\ttotal: 1.64s\tremaining: 7.25s\n",
      "74:\tlearn: 0.3981334\ttotal: 1.67s\tremaining: 7.22s\n",
      "75:\tlearn: 0.3976431\ttotal: 1.69s\tremaining: 7.2s\n",
      "76:\tlearn: 0.3974354\ttotal: 1.71s\tremaining: 7.18s\n",
      "77:\tlearn: 0.3971767\ttotal: 1.74s\tremaining: 7.16s\n",
      "78:\tlearn: 0.3971560\ttotal: 1.74s\tremaining: 7.08s\n",
      "79:\tlearn: 0.3971186\ttotal: 1.76s\tremaining: 7.03s\n",
      "80:\tlearn: 0.3969345\ttotal: 1.77s\tremaining: 6.99s\n",
      "81:\tlearn: 0.3961625\ttotal: 1.8s\tremaining: 6.97s\n",
      "82:\tlearn: 0.3959271\ttotal: 1.82s\tremaining: 6.95s\n",
      "83:\tlearn: 0.3958881\ttotal: 1.84s\tremaining: 6.92s\n",
      "84:\tlearn: 0.3955561\ttotal: 1.86s\tremaining: 6.9s\n",
      "85:\tlearn: 0.3954818\ttotal: 1.87s\tremaining: 6.84s\n",
      "86:\tlearn: 0.3952662\ttotal: 1.89s\tremaining: 6.82s\n",
      "87:\tlearn: 0.3949677\ttotal: 1.92s\tremaining: 6.81s\n",
      "88:\tlearn: 0.3946886\ttotal: 1.94s\tremaining: 6.79s\n",
      "89:\tlearn: 0.3946478\ttotal: 1.96s\tremaining: 6.75s\n",
      "90:\tlearn: 0.3942186\ttotal: 1.98s\tremaining: 6.73s\n",
      "91:\tlearn: 0.3940109\ttotal: 2s\tremaining: 6.71s\n",
      "92:\tlearn: 0.3937976\ttotal: 2.02s\tremaining: 6.68s\n",
      "93:\tlearn: 0.3934574\ttotal: 2.04s\tremaining: 6.66s\n",
      "94:\tlearn: 0.3931928\ttotal: 2.06s\tremaining: 6.63s\n",
      "95:\tlearn: 0.3930389\ttotal: 2.09s\tremaining: 6.61s\n",
      "96:\tlearn: 0.3929302\ttotal: 2.11s\tremaining: 6.58s\n",
      "97:\tlearn: 0.3929018\ttotal: 2.11s\tremaining: 6.52s\n",
      "98:\tlearn: 0.3927822\ttotal: 2.13s\tremaining: 6.49s\n",
      "99:\tlearn: 0.3921741\ttotal: 2.16s\tremaining: 6.47s\n",
      "100:\tlearn: 0.3918320\ttotal: 2.18s\tremaining: 6.46s\n",
      "101:\tlearn: 0.3915946\ttotal: 2.2s\tremaining: 6.44s\n",
      "102:\tlearn: 0.3914623\ttotal: 2.22s\tremaining: 6.41s\n",
      "103:\tlearn: 0.3911552\ttotal: 2.24s\tremaining: 6.38s\n",
      "104:\tlearn: 0.3909999\ttotal: 2.26s\tremaining: 6.35s\n",
      "105:\tlearn: 0.3908451\ttotal: 2.28s\tremaining: 6.33s\n",
      "106:\tlearn: 0.3906362\ttotal: 2.31s\tremaining: 6.32s\n",
      "107:\tlearn: 0.3902576\ttotal: 2.33s\tremaining: 6.3s\n",
      "108:\tlearn: 0.3900848\ttotal: 2.35s\tremaining: 6.28s\n",
      "109:\tlearn: 0.3898945\ttotal: 2.37s\tremaining: 6.26s\n",
      "110:\tlearn: 0.3895977\ttotal: 2.4s\tremaining: 6.25s\n",
      "111:\tlearn: 0.3892613\ttotal: 2.42s\tremaining: 6.22s\n",
      "112:\tlearn: 0.3890980\ttotal: 2.44s\tremaining: 6.2s\n",
      "113:\tlearn: 0.3890980\ttotal: 2.45s\tremaining: 6.14s\n",
      "114:\tlearn: 0.3889116\ttotal: 2.47s\tremaining: 6.12s\n",
      "115:\tlearn: 0.3888368\ttotal: 2.49s\tremaining: 6.09s\n",
      "116:\tlearn: 0.3886445\ttotal: 2.51s\tremaining: 6.07s\n",
      "117:\tlearn: 0.3883896\ttotal: 2.54s\tremaining: 6.06s\n",
      "118:\tlearn: 0.3882226\ttotal: 2.56s\tremaining: 6.04s\n",
      "119:\tlearn: 0.3880812\ttotal: 2.58s\tremaining: 6.02s\n",
      "120:\tlearn: 0.3878757\ttotal: 2.6s\tremaining: 6s\n",
      "121:\tlearn: 0.3877764\ttotal: 2.62s\tremaining: 5.97s\n",
      "122:\tlearn: 0.3877725\ttotal: 2.63s\tremaining: 5.92s\n",
      "123:\tlearn: 0.3876292\ttotal: 2.65s\tremaining: 5.9s\n",
      "124:\tlearn: 0.3873357\ttotal: 2.67s\tremaining: 5.88s\n",
      "125:\tlearn: 0.3873279\ttotal: 2.69s\tremaining: 5.84s\n",
      "126:\tlearn: 0.3872068\ttotal: 2.71s\tremaining: 5.82s\n",
      "127:\tlearn: 0.3869559\ttotal: 2.73s\tremaining: 5.8s\n",
      "128:\tlearn: 0.3869123\ttotal: 2.75s\tremaining: 5.77s\n",
      "129:\tlearn: 0.3869114\ttotal: 2.76s\tremaining: 5.72s\n",
      "130:\tlearn: 0.3868571\ttotal: 2.78s\tremaining: 5.7s\n",
      "131:\tlearn: 0.3867940\ttotal: 2.79s\tremaining: 5.67s\n",
      "132:\tlearn: 0.3867051\ttotal: 2.81s\tremaining: 5.65s\n",
      "133:\tlearn: 0.3866084\ttotal: 2.83s\tremaining: 5.63s\n",
      "134:\tlearn: 0.3865461\ttotal: 2.86s\tremaining: 5.61s\n",
      "135:\tlearn: 0.3863148\ttotal: 2.88s\tremaining: 5.59s\n",
      "136:\tlearn: 0.3862210\ttotal: 2.9s\tremaining: 5.57s\n",
      "137:\tlearn: 0.3860182\ttotal: 2.93s\tremaining: 5.56s\n",
      "138:\tlearn: 0.3858845\ttotal: 2.94s\tremaining: 5.52s\n",
      "139:\tlearn: 0.3857157\ttotal: 2.96s\tremaining: 5.51s\n",
      "140:\tlearn: 0.3855306\ttotal: 2.99s\tremaining: 5.49s\n",
      "141:\tlearn: 0.3854885\ttotal: 3s\tremaining: 5.45s\n",
      "142:\tlearn: 0.3850550\ttotal: 3.02s\tremaining: 5.42s\n",
      "143:\tlearn: 0.3848481\ttotal: 3.04s\tremaining: 5.41s\n",
      "144:\tlearn: 0.3848100\ttotal: 3.05s\tremaining: 5.36s\n",
      "145:\tlearn: 0.3846226\ttotal: 3.07s\tremaining: 5.34s\n",
      "146:\tlearn: 0.3844308\ttotal: 3.1s\tremaining: 5.33s\n",
      "147:\tlearn: 0.3844185\ttotal: 3.11s\tremaining: 5.29s\n",
      "148:\tlearn: 0.3841840\ttotal: 3.13s\tremaining: 5.27s\n",
      "149:\tlearn: 0.3840245\ttotal: 3.15s\tremaining: 5.26s\n",
      "150:\tlearn: 0.3840133\ttotal: 3.17s\tremaining: 5.23s\n",
      "151:\tlearn: 0.3837433\ttotal: 3.19s\tremaining: 5.21s\n",
      "152:\tlearn: 0.3837096\ttotal: 3.21s\tremaining: 5.18s\n",
      "153:\tlearn: 0.3836582\ttotal: 3.23s\tremaining: 5.16s\n",
      "154:\tlearn: 0.3832239\ttotal: 3.25s\tremaining: 5.14s\n",
      "155:\tlearn: 0.3831063\ttotal: 3.27s\tremaining: 5.12s\n",
      "156:\tlearn: 0.3830254\ttotal: 3.29s\tremaining: 5.1s\n",
      "157:\tlearn: 0.3828619\ttotal: 3.32s\tremaining: 5.08s\n",
      "158:\tlearn: 0.3824858\ttotal: 3.34s\tremaining: 5.06s\n",
      "159:\tlearn: 0.3820526\ttotal: 3.36s\tremaining: 5.04s\n",
      "160:\tlearn: 0.3816613\ttotal: 3.39s\tremaining: 5.03s\n",
      "161:\tlearn: 0.3814612\ttotal: 3.41s\tremaining: 5.02s\n",
      "162:\tlearn: 0.3813138\ttotal: 3.44s\tremaining: 5s\n",
      "163:\tlearn: 0.3811599\ttotal: 3.46s\tremaining: 4.98s\n",
      "164:\tlearn: 0.3808756\ttotal: 3.48s\tremaining: 4.96s\n",
      "165:\tlearn: 0.3808045\ttotal: 3.5s\tremaining: 4.93s\n",
      "166:\tlearn: 0.3807614\ttotal: 3.52s\tremaining: 4.91s\n",
      "167:\tlearn: 0.3807099\ttotal: 3.54s\tremaining: 4.88s\n",
      "168:\tlearn: 0.3806246\ttotal: 3.56s\tremaining: 4.87s\n"
     ]
    },
    {
     "name": "stdout",
     "output_type": "stream",
     "text": [
      "169:\tlearn: 0.3804379\ttotal: 3.58s\tremaining: 4.85s\n",
      "170:\tlearn: 0.3803759\ttotal: 3.6s\tremaining: 4.83s\n",
      "171:\tlearn: 0.3802648\ttotal: 3.63s\tremaining: 4.81s\n",
      "172:\tlearn: 0.3802648\ttotal: 3.63s\tremaining: 4.76s\n",
      "173:\tlearn: 0.3800848\ttotal: 3.65s\tremaining: 4.74s\n",
      "174:\tlearn: 0.3799023\ttotal: 3.67s\tremaining: 4.72s\n",
      "175:\tlearn: 0.3797954\ttotal: 3.69s\tremaining: 4.7s\n",
      "176:\tlearn: 0.3797708\ttotal: 3.71s\tremaining: 4.67s\n",
      "177:\tlearn: 0.3796510\ttotal: 3.73s\tremaining: 4.65s\n",
      "178:\tlearn: 0.3795044\ttotal: 3.75s\tremaining: 4.63s\n",
      "179:\tlearn: 0.3794569\ttotal: 3.77s\tremaining: 4.61s\n",
      "180:\tlearn: 0.3794568\ttotal: 3.78s\tremaining: 4.57s\n",
      "181:\tlearn: 0.3793862\ttotal: 3.8s\tremaining: 4.55s\n",
      "182:\tlearn: 0.3791924\ttotal: 3.82s\tremaining: 4.53s\n",
      "183:\tlearn: 0.3789592\ttotal: 3.84s\tremaining: 4.51s\n",
      "184:\tlearn: 0.3788006\ttotal: 3.87s\tremaining: 4.49s\n",
      "185:\tlearn: 0.3786184\ttotal: 3.89s\tremaining: 4.47s\n",
      "186:\tlearn: 0.3784590\ttotal: 3.91s\tremaining: 4.45s\n",
      "187:\tlearn: 0.3784584\ttotal: 3.92s\tremaining: 4.42s\n",
      "188:\tlearn: 0.3783649\ttotal: 3.94s\tremaining: 4.4s\n",
      "189:\tlearn: 0.3782109\ttotal: 3.96s\tremaining: 4.38s\n",
      "190:\tlearn: 0.3780774\ttotal: 3.98s\tremaining: 4.36s\n",
      "191:\tlearn: 0.3777054\ttotal: 4.01s\tremaining: 4.34s\n",
      "192:\tlearn: 0.3777053\ttotal: 4.01s\tremaining: 4.3s\n",
      "193:\tlearn: 0.3773030\ttotal: 4.04s\tremaining: 4.29s\n",
      "194:\tlearn: 0.3771475\ttotal: 4.06s\tremaining: 4.27s\n",
      "195:\tlearn: 0.3770323\ttotal: 4.08s\tremaining: 4.25s\n",
      "196:\tlearn: 0.3766941\ttotal: 4.11s\tremaining: 4.23s\n",
      "197:\tlearn: 0.3765361\ttotal: 4.13s\tremaining: 4.22s\n",
      "198:\tlearn: 0.3763947\ttotal: 4.16s\tremaining: 4.2s\n",
      "199:\tlearn: 0.3761698\ttotal: 4.18s\tremaining: 4.18s\n",
      "200:\tlearn: 0.3760933\ttotal: 4.2s\tremaining: 4.16s\n",
      "201:\tlearn: 0.3758200\ttotal: 4.23s\tremaining: 4.14s\n",
      "202:\tlearn: 0.3756776\ttotal: 4.25s\tremaining: 4.12s\n",
      "203:\tlearn: 0.3756406\ttotal: 4.27s\tremaining: 4.1s\n",
      "204:\tlearn: 0.3755957\ttotal: 4.28s\tremaining: 4.07s\n",
      "205:\tlearn: 0.3753241\ttotal: 4.3s\tremaining: 4.05s\n",
      "206:\tlearn: 0.3751185\ttotal: 4.33s\tremaining: 4.03s\n",
      "207:\tlearn: 0.3749377\ttotal: 4.35s\tremaining: 4.01s\n",
      "208:\tlearn: 0.3748816\ttotal: 4.37s\tremaining: 3.99s\n",
      "209:\tlearn: 0.3747582\ttotal: 4.39s\tremaining: 3.97s\n",
      "210:\tlearn: 0.3745880\ttotal: 4.42s\tremaining: 3.96s\n",
      "211:\tlearn: 0.3744257\ttotal: 4.44s\tremaining: 3.94s\n",
      "212:\tlearn: 0.3742233\ttotal: 4.46s\tremaining: 3.92s\n",
      "213:\tlearn: 0.3742068\ttotal: 4.47s\tremaining: 3.89s\n",
      "214:\tlearn: 0.3740254\ttotal: 4.5s\tremaining: 3.87s\n",
      "215:\tlearn: 0.3738859\ttotal: 4.52s\tremaining: 3.85s\n",
      "216:\tlearn: 0.3736402\ttotal: 4.54s\tremaining: 3.83s\n",
      "217:\tlearn: 0.3735479\ttotal: 4.56s\tremaining: 3.81s\n",
      "218:\tlearn: 0.3733959\ttotal: 4.58s\tremaining: 3.79s\n",
      "219:\tlearn: 0.3732901\ttotal: 4.6s\tremaining: 3.77s\n",
      "220:\tlearn: 0.3730550\ttotal: 4.63s\tremaining: 3.75s\n",
      "221:\tlearn: 0.3729173\ttotal: 4.65s\tremaining: 3.73s\n",
      "222:\tlearn: 0.3728159\ttotal: 4.67s\tremaining: 3.71s\n",
      "223:\tlearn: 0.3725694\ttotal: 4.7s\tremaining: 3.69s\n",
      "224:\tlearn: 0.3724955\ttotal: 4.71s\tremaining: 3.67s\n",
      "225:\tlearn: 0.3724638\ttotal: 4.73s\tremaining: 3.65s\n",
      "226:\tlearn: 0.3722576\ttotal: 4.76s\tremaining: 3.63s\n",
      "227:\tlearn: 0.3719924\ttotal: 4.78s\tremaining: 3.6s\n",
      "228:\tlearn: 0.3718160\ttotal: 4.8s\tremaining: 3.59s\n",
      "229:\tlearn: 0.3714122\ttotal: 4.83s\tremaining: 3.57s\n",
      "230:\tlearn: 0.3709640\ttotal: 4.85s\tremaining: 3.55s\n",
      "231:\tlearn: 0.3708134\ttotal: 4.88s\tremaining: 3.53s\n",
      "232:\tlearn: 0.3705860\ttotal: 4.9s\tremaining: 3.51s\n",
      "233:\tlearn: 0.3701181\ttotal: 4.92s\tremaining: 3.49s\n",
      "234:\tlearn: 0.3699015\ttotal: 4.95s\tremaining: 3.47s\n",
      "235:\tlearn: 0.3698310\ttotal: 4.97s\tremaining: 3.45s\n",
      "236:\tlearn: 0.3697096\ttotal: 4.99s\tremaining: 3.43s\n",
      "237:\tlearn: 0.3696132\ttotal: 5.02s\tremaining: 3.42s\n",
      "238:\tlearn: 0.3693631\ttotal: 5.04s\tremaining: 3.4s\n",
      "239:\tlearn: 0.3692795\ttotal: 5.06s\tremaining: 3.37s\n",
      "240:\tlearn: 0.3691526\ttotal: 5.08s\tremaining: 3.35s\n",
      "241:\tlearn: 0.3689167\ttotal: 5.11s\tremaining: 3.33s\n",
      "242:\tlearn: 0.3687664\ttotal: 5.13s\tremaining: 3.32s\n",
      "243:\tlearn: 0.3686708\ttotal: 5.16s\tremaining: 3.3s\n",
      "244:\tlearn: 0.3685169\ttotal: 5.18s\tremaining: 3.27s\n",
      "245:\tlearn: 0.3681790\ttotal: 5.2s\tremaining: 3.26s\n",
      "246:\tlearn: 0.3680273\ttotal: 5.22s\tremaining: 3.24s\n",
      "247:\tlearn: 0.3677931\ttotal: 5.25s\tremaining: 3.22s\n",
      "248:\tlearn: 0.3676290\ttotal: 5.28s\tremaining: 3.2s\n",
      "249:\tlearn: 0.3672980\ttotal: 5.3s\tremaining: 3.18s\n",
      "250:\tlearn: 0.3669768\ttotal: 5.32s\tremaining: 3.16s\n",
      "251:\tlearn: 0.3668034\ttotal: 5.34s\tremaining: 3.14s\n",
      "252:\tlearn: 0.3665263\ttotal: 5.37s\tremaining: 3.12s\n",
      "253:\tlearn: 0.3664756\ttotal: 5.39s\tremaining: 3.1s\n",
      "254:\tlearn: 0.3661675\ttotal: 5.42s\tremaining: 3.08s\n",
      "255:\tlearn: 0.3659781\ttotal: 5.44s\tremaining: 3.06s\n",
      "256:\tlearn: 0.3657971\ttotal: 5.46s\tremaining: 3.04s\n",
      "257:\tlearn: 0.3656278\ttotal: 5.49s\tremaining: 3.02s\n",
      "258:\tlearn: 0.3651718\ttotal: 5.51s\tremaining: 3s\n",
      "259:\tlearn: 0.3650863\ttotal: 5.53s\tremaining: 2.98s\n",
      "260:\tlearn: 0.3648909\ttotal: 5.55s\tremaining: 2.96s\n",
      "261:\tlearn: 0.3645879\ttotal: 5.58s\tremaining: 2.94s\n",
      "262:\tlearn: 0.3645053\ttotal: 5.6s\tremaining: 2.92s\n",
      "263:\tlearn: 0.3644199\ttotal: 5.63s\tremaining: 2.9s\n",
      "264:\tlearn: 0.3641869\ttotal: 5.65s\tremaining: 2.88s\n",
      "265:\tlearn: 0.3641257\ttotal: 5.67s\tremaining: 2.86s\n",
      "266:\tlearn: 0.3638140\ttotal: 5.7s\tremaining: 2.84s\n",
      "267:\tlearn: 0.3637340\ttotal: 5.72s\tremaining: 2.82s\n",
      "268:\tlearn: 0.3634899\ttotal: 5.74s\tremaining: 2.8s\n",
      "269:\tlearn: 0.3633230\ttotal: 5.77s\tremaining: 2.78s\n",
      "270:\tlearn: 0.3630356\ttotal: 5.81s\tremaining: 2.77s\n",
      "271:\tlearn: 0.3628723\ttotal: 5.85s\tremaining: 2.75s\n",
      "272:\tlearn: 0.3627364\ttotal: 5.88s\tremaining: 2.73s\n",
      "273:\tlearn: 0.3625056\ttotal: 5.9s\tremaining: 2.71s\n",
      "274:\tlearn: 0.3623744\ttotal: 5.93s\tremaining: 2.7s\n",
      "275:\tlearn: 0.3622723\ttotal: 5.96s\tremaining: 2.68s\n",
      "276:\tlearn: 0.3622350\ttotal: 5.98s\tremaining: 2.66s\n",
      "277:\tlearn: 0.3620507\ttotal: 6.01s\tremaining: 2.64s\n",
      "278:\tlearn: 0.3618936\ttotal: 6.03s\tremaining: 2.62s\n",
      "279:\tlearn: 0.3617029\ttotal: 6.06s\tremaining: 2.6s\n",
      "280:\tlearn: 0.3615934\ttotal: 6.08s\tremaining: 2.58s\n",
      "281:\tlearn: 0.3613453\ttotal: 6.11s\tremaining: 2.56s\n",
      "282:\tlearn: 0.3611563\ttotal: 6.13s\tremaining: 2.53s\n",
      "283:\tlearn: 0.3610141\ttotal: 6.16s\tremaining: 2.51s\n",
      "284:\tlearn: 0.3607687\ttotal: 6.18s\tremaining: 2.5s\n",
      "285:\tlearn: 0.3606600\ttotal: 6.21s\tremaining: 2.47s\n",
      "286:\tlearn: 0.3606096\ttotal: 6.23s\tremaining: 2.45s\n",
      "287:\tlearn: 0.3605364\ttotal: 6.26s\tremaining: 2.43s\n",
      "288:\tlearn: 0.3603532\ttotal: 6.28s\tremaining: 2.41s\n",
      "289:\tlearn: 0.3602868\ttotal: 6.31s\tremaining: 2.39s\n",
      "290:\tlearn: 0.3602067\ttotal: 6.33s\tremaining: 2.37s\n",
      "291:\tlearn: 0.3600630\ttotal: 6.36s\tremaining: 2.35s\n",
      "292:\tlearn: 0.3599771\ttotal: 6.38s\tremaining: 2.33s\n",
      "293:\tlearn: 0.3598446\ttotal: 6.4s\tremaining: 2.31s\n",
      "294:\tlearn: 0.3595350\ttotal: 6.43s\tremaining: 2.29s\n",
      "295:\tlearn: 0.3593826\ttotal: 6.45s\tremaining: 2.27s\n",
      "296:\tlearn: 0.3593402\ttotal: 6.48s\tremaining: 2.25s\n",
      "297:\tlearn: 0.3590977\ttotal: 6.5s\tremaining: 2.22s\n",
      "298:\tlearn: 0.3588791\ttotal: 6.52s\tremaining: 2.2s\n",
      "299:\tlearn: 0.3587094\ttotal: 6.55s\tremaining: 2.18s\n",
      "300:\tlearn: 0.3586602\ttotal: 6.58s\tremaining: 2.16s\n",
      "301:\tlearn: 0.3586182\ttotal: 6.6s\tremaining: 2.14s\n",
      "302:\tlearn: 0.3583575\ttotal: 6.62s\tremaining: 2.12s\n",
      "303:\tlearn: 0.3580784\ttotal: 6.65s\tremaining: 2.1s\n",
      "304:\tlearn: 0.3579661\ttotal: 6.67s\tremaining: 2.08s\n",
      "305:\tlearn: 0.3577458\ttotal: 6.7s\tremaining: 2.06s\n",
      "306:\tlearn: 0.3574105\ttotal: 6.73s\tremaining: 2.04s\n",
      "307:\tlearn: 0.3572772\ttotal: 6.75s\tremaining: 2.02s\n",
      "308:\tlearn: 0.3570375\ttotal: 6.78s\tremaining: 2s\n",
      "309:\tlearn: 0.3570053\ttotal: 6.83s\tremaining: 1.98s\n",
      "310:\tlearn: 0.3568982\ttotal: 6.85s\tremaining: 1.96s\n",
      "311:\tlearn: 0.3568232\ttotal: 6.87s\tremaining: 1.94s\n",
      "312:\tlearn: 0.3566754\ttotal: 6.9s\tremaining: 1.92s\n",
      "313:\tlearn: 0.3564441\ttotal: 6.92s\tremaining: 1.9s\n",
      "314:\tlearn: 0.3563700\ttotal: 6.95s\tremaining: 1.88s\n",
      "315:\tlearn: 0.3561635\ttotal: 6.98s\tremaining: 1.85s\n",
      "316:\tlearn: 0.3559997\ttotal: 7s\tremaining: 1.83s\n",
      "317:\tlearn: 0.3559443\ttotal: 7.03s\tremaining: 1.81s\n",
      "318:\tlearn: 0.3557547\ttotal: 7.05s\tremaining: 1.79s\n",
      "319:\tlearn: 0.3555925\ttotal: 7.08s\tremaining: 1.77s\n",
      "320:\tlearn: 0.3554868\ttotal: 7.11s\tremaining: 1.75s\n",
      "321:\tlearn: 0.3554182\ttotal: 7.13s\tremaining: 1.73s\n",
      "322:\tlearn: 0.3551891\ttotal: 7.16s\tremaining: 1.71s\n",
      "323:\tlearn: 0.3550281\ttotal: 7.18s\tremaining: 1.69s\n",
      "324:\tlearn: 0.3548194\ttotal: 7.21s\tremaining: 1.66s\n",
      "325:\tlearn: 0.3546894\ttotal: 7.24s\tremaining: 1.64s\n",
      "326:\tlearn: 0.3546354\ttotal: 7.26s\tremaining: 1.62s\n",
      "327:\tlearn: 0.3545217\ttotal: 7.29s\tremaining: 1.6s\n",
      "328:\tlearn: 0.3543846\ttotal: 7.31s\tremaining: 1.58s\n",
      "329:\tlearn: 0.3539609\ttotal: 7.33s\tremaining: 1.55s\n",
      "330:\tlearn: 0.3538063\ttotal: 7.35s\tremaining: 1.53s\n",
      "331:\tlearn: 0.3537009\ttotal: 7.38s\tremaining: 1.51s\n",
      "332:\tlearn: 0.3535466\ttotal: 7.4s\tremaining: 1.49s\n",
      "333:\tlearn: 0.3533153\ttotal: 7.42s\tremaining: 1.47s\n"
     ]
    },
    {
     "name": "stdout",
     "output_type": "stream",
     "text": [
      "334:\tlearn: 0.3531939\ttotal: 7.45s\tremaining: 1.45s\n",
      "335:\tlearn: 0.3530251\ttotal: 7.47s\tremaining: 1.42s\n",
      "336:\tlearn: 0.3529195\ttotal: 7.5s\tremaining: 1.4s\n",
      "337:\tlearn: 0.3526870\ttotal: 7.52s\tremaining: 1.38s\n",
      "338:\tlearn: 0.3523990\ttotal: 7.54s\tremaining: 1.36s\n",
      "339:\tlearn: 0.3522105\ttotal: 7.57s\tremaining: 1.33s\n",
      "340:\tlearn: 0.3520845\ttotal: 7.59s\tremaining: 1.31s\n",
      "341:\tlearn: 0.3518788\ttotal: 7.62s\tremaining: 1.29s\n",
      "342:\tlearn: 0.3517630\ttotal: 7.64s\tremaining: 1.27s\n",
      "343:\tlearn: 0.3516038\ttotal: 7.67s\tremaining: 1.25s\n",
      "344:\tlearn: 0.3514645\ttotal: 7.69s\tremaining: 1.23s\n",
      "345:\tlearn: 0.3512720\ttotal: 7.72s\tremaining: 1.2s\n",
      "346:\tlearn: 0.3511371\ttotal: 7.74s\tremaining: 1.18s\n",
      "347:\tlearn: 0.3510402\ttotal: 7.77s\tremaining: 1.16s\n",
      "348:\tlearn: 0.3508168\ttotal: 7.79s\tremaining: 1.14s\n",
      "349:\tlearn: 0.3506181\ttotal: 7.82s\tremaining: 1.12s\n",
      "350:\tlearn: 0.3502512\ttotal: 7.84s\tremaining: 1.09s\n",
      "351:\tlearn: 0.3501613\ttotal: 7.86s\tremaining: 1.07s\n",
      "352:\tlearn: 0.3499212\ttotal: 7.89s\tremaining: 1.05s\n",
      "353:\tlearn: 0.3497504\ttotal: 7.92s\tremaining: 1.03s\n",
      "354:\tlearn: 0.3496508\ttotal: 7.95s\tremaining: 1.01s\n",
      "355:\tlearn: 0.3496020\ttotal: 7.98s\tremaining: 986ms\n",
      "356:\tlearn: 0.3495351\ttotal: 8.01s\tremaining: 965ms\n",
      "357:\tlearn: 0.3494492\ttotal: 8.04s\tremaining: 944ms\n",
      "358:\tlearn: 0.3489399\ttotal: 8.09s\tremaining: 923ms\n",
      "359:\tlearn: 0.3488931\ttotal: 8.12s\tremaining: 902ms\n",
      "360:\tlearn: 0.3488294\ttotal: 8.15s\tremaining: 880ms\n",
      "361:\tlearn: 0.3488008\ttotal: 8.17s\tremaining: 858ms\n",
      "362:\tlearn: 0.3487793\ttotal: 8.2s\tremaining: 836ms\n",
      "363:\tlearn: 0.3485668\ttotal: 8.22s\tremaining: 813ms\n",
      "364:\tlearn: 0.3484697\ttotal: 8.25s\tremaining: 791ms\n",
      "365:\tlearn: 0.3483991\ttotal: 8.27s\tremaining: 768ms\n",
      "366:\tlearn: 0.3481865\ttotal: 8.3s\tremaining: 746ms\n",
      "367:\tlearn: 0.3481449\ttotal: 8.32s\tremaining: 724ms\n",
      "368:\tlearn: 0.3478995\ttotal: 8.35s\tremaining: 702ms\n",
      "369:\tlearn: 0.3478356\ttotal: 8.38s\tremaining: 679ms\n",
      "370:\tlearn: 0.3476255\ttotal: 8.4s\tremaining: 657ms\n",
      "371:\tlearn: 0.3475560\ttotal: 8.42s\tremaining: 634ms\n",
      "372:\tlearn: 0.3472708\ttotal: 8.45s\tremaining: 611ms\n",
      "373:\tlearn: 0.3471766\ttotal: 8.47s\tremaining: 589ms\n",
      "374:\tlearn: 0.3469257\ttotal: 8.49s\tremaining: 566ms\n",
      "375:\tlearn: 0.3465429\ttotal: 8.52s\tremaining: 544ms\n",
      "376:\tlearn: 0.3463290\ttotal: 8.54s\tremaining: 521ms\n",
      "377:\tlearn: 0.3461197\ttotal: 8.57s\tremaining: 499ms\n",
      "378:\tlearn: 0.3458568\ttotal: 8.6s\tremaining: 476ms\n",
      "379:\tlearn: 0.3454407\ttotal: 8.62s\tremaining: 454ms\n",
      "380:\tlearn: 0.3453411\ttotal: 8.64s\tremaining: 431ms\n",
      "381:\tlearn: 0.3452102\ttotal: 8.67s\tremaining: 409ms\n",
      "382:\tlearn: 0.3451705\ttotal: 8.7s\tremaining: 386ms\n",
      "383:\tlearn: 0.3450138\ttotal: 8.73s\tremaining: 364ms\n",
      "384:\tlearn: 0.3448874\ttotal: 8.76s\tremaining: 341ms\n",
      "385:\tlearn: 0.3448422\ttotal: 8.78s\tremaining: 318ms\n",
      "386:\tlearn: 0.3446455\ttotal: 8.8s\tremaining: 296ms\n",
      "387:\tlearn: 0.3444507\ttotal: 8.83s\tremaining: 273ms\n",
      "388:\tlearn: 0.3442525\ttotal: 8.85s\tremaining: 250ms\n",
      "389:\tlearn: 0.3440788\ttotal: 8.88s\tremaining: 228ms\n",
      "390:\tlearn: 0.3440225\ttotal: 8.9s\tremaining: 205ms\n",
      "391:\tlearn: 0.3439350\ttotal: 8.93s\tremaining: 182ms\n",
      "392:\tlearn: 0.3436888\ttotal: 8.95s\tremaining: 159ms\n",
      "393:\tlearn: 0.3435686\ttotal: 8.98s\tremaining: 137ms\n",
      "394:\tlearn: 0.3435201\ttotal: 9.01s\tremaining: 114ms\n",
      "395:\tlearn: 0.3433843\ttotal: 9.03s\tremaining: 91.2ms\n",
      "396:\tlearn: 0.3432725\ttotal: 9.06s\tremaining: 68.5ms\n",
      "397:\tlearn: 0.3431890\ttotal: 9.09s\tremaining: 45.7ms\n",
      "398:\tlearn: 0.3430778\ttotal: 9.11s\tremaining: 22.8ms\n",
      "399:\tlearn: 0.3428541\ttotal: 9.14s\tremaining: 0us\n"
     ]
    },
    {
     "data": {
      "text/plain": [
       "GridSearchCV(cv=5,\n",
       "             estimator=<catboost.core.CatBoostClassifier object at 0x000000000D1C7160>,\n",
       "             n_jobs=-1,\n",
       "             param_grid={'learning_rate': [0.04], 'n_estimators': [400]},\n",
       "             scoring='roc_auc')"
      ]
     },
     "execution_count": 13,
     "metadata": {},
     "output_type": "execute_result"
    }
   ],
   "source": [
    "boosting_model = CatBoostClassifier(cat_features=cat_features)\n",
    "\n",
    "# params = {'learning_rate' : [0.01, 0.02, 0.03, 0.04],\n",
    "#           'n_estimators' : [50, 100, 150, 200, 250, 300, 350, 400]\n",
    "#           }\n",
    "\n",
    "params = {'learning_rate' : [0.04],\n",
    "          'n_estimators' : [400]\n",
    "          }\n",
    "\n",
    "CV_boosting_model = GridSearchCV(estimator=boosting_model,\n",
    "                                 param_grid=params,\n",
    "                                 cv=5,\n",
    "                                 scoring='roc_auc',\n",
    "                                 n_jobs=-1\n",
    "                                 )\n",
    "\n",
    "CV_boosting_model.fit(X, y)\n",
    "\n"
   ]
  },
  {
   "cell_type": "code",
   "execution_count": 21,
   "metadata": {
    "colab": {
     "base_uri": "https://localhost:8080/"
    },
    "id": "NzhUupIyadLZ",
    "outputId": "02e384a0-4923-4c5b-a87e-2be56bee4041"
   },
   "outputs": [
    {
     "name": "stdout",
     "output_type": "stream",
     "text": [
      "0.88552516556586\n",
      "None\n"
     ]
    }
   ],
   "source": [
    "y_predicted = CV_boosting_model.predict_proba(X)[:, 1]\n",
    "\n",
    "print(roc_auc_score(y, y_predicted))\n",
    "print(boosting_model.tree_count_)"
   ]
  },
  {
   "cell_type": "markdown",
   "metadata": {
    "id": "rf4Kjt96EEZU"
   },
   "source": [
    "Выпишите какое лучшее качество и с какими параметрами вам удалось получить"
   ]
  },
  {
   "cell_type": "markdown",
   "metadata": {
    "id": "d2d9GolXEEZV"
   },
   "source": []
  },
  {
   "cell_type": "markdown",
   "metadata": {
    "id": "dDMXbvNZEEZV"
   },
   "source": [
    "# Предсказания"
   ]
  },
  {
   "cell_type": "code",
   "execution_count": 22,
   "metadata": {
    "id": "G_P4wFNaEEZW"
   },
   "outputs": [],
   "source": [
    "best_model = CV_boosting_model"
   ]
  },
  {
   "cell_type": "code",
   "execution_count": 23,
   "metadata": {
    "colab": {
     "base_uri": "https://localhost:8080/",
     "height": 224
    },
    "id": "FfSufx0CEEZZ",
    "outputId": "165db22c-f7d2-4508-fad0-95dbdb1780d9"
   },
   "outputs": [
    {
     "name": "stdout",
     "output_type": "stream",
     "text": [
      "True\n"
     ]
    },
    {
     "data": {
      "text/html": [
       "<div>\n",
       "<style scoped>\n",
       "    .dataframe tbody tr th:only-of-type {\n",
       "        vertical-align: middle;\n",
       "    }\n",
       "\n",
       "    .dataframe tbody tr th {\n",
       "        vertical-align: top;\n",
       "    }\n",
       "\n",
       "    .dataframe thead th {\n",
       "        text-align: right;\n",
       "    }\n",
       "</style>\n",
       "<table border=\"1\" class=\"dataframe\">\n",
       "  <thead>\n",
       "    <tr style=\"text-align: right;\">\n",
       "      <th></th>\n",
       "      <th>Unnamed: 0</th>\n",
       "      <th>Unnamed: 0.1</th>\n",
       "      <th>Unnamed: 0.1.1</th>\n",
       "      <th>Id</th>\n",
       "      <th>Churn</th>\n",
       "    </tr>\n",
       "  </thead>\n",
       "  <tbody>\n",
       "    <tr>\n",
       "      <th>0</th>\n",
       "      <td>0</td>\n",
       "      <td>0</td>\n",
       "      <td>0</td>\n",
       "      <td>0</td>\n",
       "      <td>0.041096</td>\n",
       "    </tr>\n",
       "    <tr>\n",
       "      <th>1</th>\n",
       "      <td>1</td>\n",
       "      <td>1</td>\n",
       "      <td>1</td>\n",
       "      <td>1</td>\n",
       "      <td>0.740627</td>\n",
       "    </tr>\n",
       "    <tr>\n",
       "      <th>2</th>\n",
       "      <td>2</td>\n",
       "      <td>2</td>\n",
       "      <td>2</td>\n",
       "      <td>2</td>\n",
       "      <td>0.662797</td>\n",
       "    </tr>\n",
       "    <tr>\n",
       "      <th>3</th>\n",
       "      <td>3</td>\n",
       "      <td>3</td>\n",
       "      <td>3</td>\n",
       "      <td>3</td>\n",
       "      <td>0.012374</td>\n",
       "    </tr>\n",
       "    <tr>\n",
       "      <th>4</th>\n",
       "      <td>4</td>\n",
       "      <td>4</td>\n",
       "      <td>4</td>\n",
       "      <td>4</td>\n",
       "      <td>0.003663</td>\n",
       "    </tr>\n",
       "  </tbody>\n",
       "</table>\n",
       "</div>"
      ],
      "text/plain": [
       "   Unnamed: 0  Unnamed: 0.1  Unnamed: 0.1.1  Id     Churn\n",
       "0           0             0               0   0  0.041096\n",
       "1           1             1               1   1  0.740627\n",
       "2           2             2               2   2  0.662797\n",
       "3           3             3               3   3  0.012374\n",
       "4           4             4               4   4  0.003663"
      ]
     },
     "execution_count": 23,
     "metadata": {},
     "output_type": "execute_result"
    }
   ],
   "source": [
    "X_test = pd.read_csv('./test.csv')\n",
    "X_test = preprocessing(X_test)\n",
    "submission = pd.read_csv('./submission.csv')\n",
    "\n",
    "submission['Churn'] = best_model.predict_proba(X_test)[:, 1]\n",
    "submission.to_csv('./my_submission.csv', index=False)\n",
    "submission.head()"
   ]
  },
  {
   "cell_type": "markdown",
   "metadata": {
    "id": "mkxjbGkVEEZc"
   },
   "source": [
    "# Kaggle (5 баллов)\n",
    "\n",
    "Как выставить баллы:\n",
    "\n",
    "1) 1 >= roc auc > 0.84 это 5 баллов\n",
    "\n",
    "2) 0.84 >= roc auc > 0.7 это 3 балла\n",
    "\n",
    "3) 0.7 >= roc auc > 0.6 это 1 балл\n",
    "\n",
    "4) 0.6 >= roc auc это 0 баллов\n",
    "\n",
    "\n",
    "Для выполнения задания необходимо выполнить следующие шаги.\n",
    "* Зарегистрироваться на платформе [kaggle.com](kaggle.com). Процесс выставления оценок будет проходить при подведении итогового рейтинга. Пожалуйста, укажите во вкладке Team -> Team name свои имя и фамилию в формате Имя_Фамилия (важно, чтобы имя и фамилия совпадали с данными на Stepik).\n",
    "* Обучить модель, получить файл с ответами в формате .csv и сдать его в конкурс. Пробуйте и экспериментируйте. Обратите внимание, что вы можете выполнять до 20 попыток сдачи на kaggle в день.\n",
    "* После окончания соревнования отправить в итоговый ноутбук с решением на степик. \n",
    "* После дедлайна проверьте посылки других участников по критериям. Для этого надо зайти на степик, скачать их ноутбук и проверить скор в соревновании."
   ]
  }
 ],
 "metadata": {
  "colab": {
   "collapsed_sections": [],
   "name": "Homework kaggle",
   "provenance": []
  },
  "kernelspec": {
   "display_name": "Python 3",
   "language": "python",
   "name": "python3"
  },
  "language_info": {
   "codemirror_mode": {
    "name": "ipython",
    "version": 3
   },
   "file_extension": ".py",
   "mimetype": "text/x-python",
   "name": "python",
   "nbconvert_exporter": "python",
   "pygments_lexer": "ipython3",
   "version": "3.8.8"
  }
 },
 "nbformat": 4,
 "nbformat_minor": 1
}
